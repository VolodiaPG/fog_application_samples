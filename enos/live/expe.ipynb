{
 "cells": [
  {
   "cell_type": "markdown",
   "metadata": {
    "pycharm": {
     "name": "#%% md\n"
    }
   },
   "source": [
    "# Experiment"
   ]
  },
  {
   "cell_type": "markdown",
   "metadata": {
    "pycharm": {
     "name": "#%% md\n"
    }
   },
   "source": [
    "## Prerequisites\n",
    "\n",
    "Extract the data to `./metrics`"
   ]
  },
  {
   "cell_type": "markdown",
   "metadata": {
    "pycharm": {
     "name": "#%% md\n"
    }
   },
   "source": [
    "## Preparations\n",
    "\n",
    "Import necessary libraries\n",
    "\n",
    "Idées de mesures:\n",
    "\n",
    "- distribution des fonctions\n",
    "- politique basique edge first ou quoi\n",
    "- temps de deploiement vs nombre de noeuds dans le Fog\n",
    "- temps de deploiement vs nombre de fonctions\n",
    "- la mémoire et le cpu au niveau du noeud fog"
   ]
  },
  {
   "cell_type": "code",
   "execution_count": 22,
   "metadata": {
    "pycharm": {
     "name": "#%%\n"
    },
    "vscode": {
     "languageId": "r"
    }
   },
   "outputs": [
    {
     "name": "stderr",
     "output_type": "stream",
     "text": [
      "Installing packages into ‘/home/volodia/R/x86_64-pc-linux-gnu-library/4.2’\n",
      "(as ‘lib’ is unspecified)\n",
      "\n",
      "also installing the dependencies ‘gargle’, ‘curl’, ‘png’, ‘googledrive’, ‘googlesheets4’, ‘httr’, ‘rvest’, ‘xml2’\n",
      "\n",
      "\n",
      "Warning message in install.packages(c(\"reticulate\", \"tidyverse\", \"igraph\", \"r2r\", :\n",
      "“installation of package ‘png’ had non-zero exit status”\n",
      "Warning message in install.packages(c(\"reticulate\", \"tidyverse\", \"igraph\", \"r2r\", :\n",
      "“installation of package ‘xml2’ had non-zero exit status”\n",
      "Warning message in install.packages(c(\"reticulate\", \"tidyverse\", \"igraph\", \"r2r\", :\n",
      "“installation of package ‘igraph’ had non-zero exit status”\n",
      "Warning message in install.packages(c(\"reticulate\", \"tidyverse\", \"igraph\", \"r2r\", :\n",
      "“installation of package ‘reticulate’ had non-zero exit status”\n",
      "Warning message in install.packages(c(\"reticulate\", \"tidyverse\", \"igraph\", \"r2r\", :\n",
      "“installation of package ‘rvest’ had non-zero exit status”\n",
      "Warning message in install.packages(c(\"reticulate\", \"tidyverse\", \"igraph\", \"r2r\", :\n",
      "“installation of package ‘tidyverse’ had non-zero exit status”\n"
     ]
    }
   ],
   "source": [
    "# install.packages('IRkernel') # Requires the tk package\n",
    "# IRkernel::installspec()  # to register the kernel in the current R installation\n",
    "\n",
    "install.packages(c('reticulate', 'tidyverse', 'igraph', 'r2r', 'formattable', 'stringr', 'viridis', 'zoo'))"
   ]
  },
  {
   "cell_type": "code",
   "execution_count": 23,
   "metadata": {
    "pycharm": {
     "name": "#%%\n"
    },
    "vscode": {
     "languageId": "r"
    }
   },
   "outputs": [
    {
     "ename": "ERROR",
     "evalue": "Error in library(reticulate): there is no package called ‘reticulate’\n",
     "output_type": "error",
     "traceback": [
      "Error in library(reticulate): there is no package called ‘reticulate’\nTraceback:\n",
      "1. library(reticulate)"
     ]
    }
   ],
   "source": [
    "# To call python from R\n",
    "library(reticulate)\n",
    "library(tidyverse)\n",
    "library(igraph)\n",
    "library(r2r)\n",
    "library(formattable)\n",
    "library(stringr)\n",
    "library(viridis)\n",
    "library(zoo) # moving averages    "
   ]
  },
  {
   "cell_type": "markdown",
   "metadata": {
    "pycharm": {
     "name": "#%% md\n"
    }
   },
   "source": [
    "Load the the Python `integration.py` script to use its variable in R"
   ]
  },
  {
   "cell_type": "code",
   "execution_count": null,
   "metadata": {
    "pycharm": {
     "name": "#%%\n"
    },
    "vscode": {
     "languageId": "r"
    }
   },
   "outputs": [],
   "source": [
    "use_virtualenv('.venv/', required = TRUE)\n",
    "import_from_path(\"monitoring\", path = \".\")\n",
    "import_from_path(\"k3s\", path = \".\")\n",
    "\n",
    "# Always throws an error because it is a CLI tool; it is not made to be loaded in R\n",
    "try(source_python('integration.py')) "
   ]
  },
  {
   "cell_type": "markdown",
   "metadata": {
    "pycharm": {
     "name": "#%% md\n"
    }
   },
   "source": [
    "Load the graph network as an adjancency matrix"
   ]
  },
  {
   "cell_type": "code",
   "execution_count": null,
   "metadata": {
    "pycharm": {
     "name": "#%%\n"
    },
    "vscode": {
     "languageId": "r"
    }
   },
   "outputs": [],
   "source": [
    "raw <- py$ADJACENCY\n",
    "\n",
    "adjancy_transform <- function(x) {\n",
    "  ret = matrix(0, nrow = length(x), ncol = length(x))\n",
    "  rownames(ret) <- c(sort(names(x)))\n",
    "  colnames(ret) <- c(sort(names(x)))\n",
    "  for (ii in seq_along(x)) {\n",
    "    for (jj in seq_along(x[[ii]])) {\n",
    "      ret[names(x)[[ii]], x[[ii]][[jj]][[1]]] <- strtoi(x[[ii]][[jj]][[2]])\n",
    "    }\n",
    "\n",
    "  }\n",
    "  return(ret)\n",
    "}\n",
    "\n",
    "graph_matrix <- adjancy_transform(raw)\n",
    "net <- graph_from_adjacency_matrix(as.matrix(graph_matrix), weighted = TRUE)\n",
    "plot(net, layout=layout_as_tree)\n",
    "\n",
    "# ceb <- cluster_edge_betweenness(g)\n",
    "#\n",
    "# dendPlot(ceb, mode=\"hclust\")\n",
    "# plot(ceb, g)\n"
   ]
  },
  {
   "cell_type": "markdown",
   "metadata": {
    "pycharm": {
     "name": "#%% md\n"
    }
   },
   "source": [
    "## Data preprocessing"
   ]
  },
  {
   "cell_type": "code",
   "execution_count": null,
   "metadata": {
    "pycharm": {
     "name": "#%%\n"
    },
    "vscode": {
     "languageId": "r"
    }
   },
   "outputs": [],
   "source": [
    "names_raw <- read.csv2(file = 'metrics/names.csv', header = TRUE, sep = '\\t')\n",
    "names <- hashmap()\n",
    "names[names_raw$instance] <- names_raw$name\n",
    "\n",
    "missing <- data.frame(instance = names_raw$name, n = 0)"
   ]
  },
  {
   "cell_type": "markdown",
   "metadata": {
    "pycharm": {
     "name": "#%% md\n"
    }
   },
   "source": [
    "Load the names of the node and their correspondance in their IP on the virtual network"
   ]
  },
  {
   "cell_type": "code",
   "execution_count": null,
   "metadata": {
    "pycharm": {
     "name": "#%%\n"
    },
    "vscode": {
     "languageId": "r"
    }
   },
   "outputs": [],
   "source": [
    "prepare <- function(x) {\n",
    "  return(\n",
    "    x %>%\n",
    "      mutate(instance = names[instance]) %>%\n",
    "      mutate(instance = as.character(instance)) %>%\n",
    "      mutate(timestamp_raw = as.numeric(as.character(timestamp))) %>%\n",
    "      mutate(timestamp = as.POSIXct(timestamp_raw, origin = \"1970-01-01\")) %>%\n",
    "      mutate(value = as.numeric(as.character(value))) %>%\n",
    "      merge(missing, all = TRUE) %>%\n",
    "      arrange(instance)\n",
    "  )\n",
    "}"
   ]
  },
  {
   "cell_type": "markdown",
   "metadata": {
    "pycharm": {
     "name": "#%% md\n"
    }
   },
   "source": [
    "## Data processing\n",
    "\n",
    "Check what nodes we have values for (usually the ones who have submitted bids and etc.):\n",
    "- Green is ok\n",
    "- Red is a node that was not present in the data"
   ]
  },
  {
   "cell_type": "code",
   "execution_count": null,
   "metadata": {
    "collapsed": false,
    "jupyter": {
     "outputs_hidden": false
    },
    "pycharm": {
     "name": "#%%\n"
    },
    "vscode": {
     "languageId": "r"
    }
   },
   "outputs": [],
   "source": [
    "mem <- read.csv2(file = paste(METRICS_PATH, \"fog_node_memory_available.csv\", sep = \"/\"), header = TRUE, sep = \"\\t\") %>%\n",
    "  prepare() %>%\n",
    "  distinct(instance, value, .keep_all = TRUE) %>%\n",
    "  select(c(instance, value)) %>%\n",
    "  mutate(dyn = formattable::percent(value / max(value, na.rm = TRUE))) %>%\n",
    "  mutate(value = as.numeric(as.character(value)))\n",
    "\n",
    "cpu <- read.csv2(file = paste(METRICS_PATH, \"fog_node_cpu_used.csv\", sep = \"/\"), header = TRUE, sep = \"\\t\") %>%\n",
    "  prepare() %>%\n",
    "  select(c(instance, value)) %>%\n",
    "  distinct(instance, value, .keep_all = TRUE) %>%\n",
    "  group_by(instance) %>%\n",
    "  mutate(value = as.numeric(as.character(value)))"
   ]
  },
  {
   "cell_type": "code",
   "execution_count": null,
   "metadata": {
    "collapsed": false,
    "jupyter": {
     "outputs_hidden": false
    },
    "pycharm": {
     "name": "#%%\n"
    },
    "vscode": {
     "languageId": "r"
    }
   },
   "outputs": [],
   "source": [
    "PercentageColourConnected <- function(x) {\n",
    "  colorRampPalette(c(\"red\", \"green\"))(2)[ifelse(is.na(x), 1, 2)]\n",
    "}\n",
    "net_connected <- graph_from_adjacency_matrix(as.matrix(graph_matrix), weighted = TRUE)\n",
    "V(net_connected)$color <- PercentageColourConnected(mem$value)\n",
    "plot(net_connected, layout = layout_as_tree, edge.label = E(net_connected)$weight)"
   ]
  },
  {
   "cell_type": "markdown",
   "metadata": {
    "pycharm": {
     "name": "#%% md\n"
    }
   },
   "source": [
    "Describe what nodes we have:\n",
    "- size is the number of CPUs\n",
    "- color is the RAM (purple is the max in the network)"
   ]
  },
  {
   "cell_type": "code",
   "execution_count": null,
   "metadata": {
    "collapsed": false,
    "jupyter": {
     "outputs_hidden": false
    },
    "pycharm": {
     "name": "#%%\n"
    },
    "vscode": {
     "languageId": "r"
    }
   },
   "outputs": [],
   "source": [
    "PercentageColour <- function(x){colorRampPalette(c('white','purple'))(101)[round(ifelse(is.na(x), 0, x)*100)+1]}\n",
    "net_prez <- graph_from_adjacency_matrix(as.matrix(graph_matrix), weighted = TRUE)\n",
    "V(net_prez)$size <- ifelse(is.na(cpu$value), 0, cpu$value * 8)\n",
    "V(net_prez)$color <- PercentageColour(mem$dyn)\n",
    "plot(net_prez, layout = layout_as_tree, edge.label = E(net_prez)$weight)"
   ]
  },
  {
   "cell_type": "code",
   "execution_count": null,
   "metadata": {
    "vscode": {
     "languageId": "r"
    }
   },
   "outputs": [],
   "source": [
    "bids_raw <- read.csv2(file = paste(METRICS_PATH, \"fog_node_bids.csv\", sep = \"/\"), header = TRUE, sep = \"\\t\") %>%\n",
    "  prepare()\n",
    "\n",
    "head(bids_raw)"
   ]
  },
  {
   "cell_type": "code",
   "execution_count": null,
   "metadata": {
    "collapsed": false,
    "jupyter": {
     "outputs_hidden": false
    },
    "pycharm": {
     "name": "#%%\n"
    },
    "vscode": {
     "languageId": "r"
    }
   },
   "outputs": [],
   "source": [
    "bids_won_raw <- bids_raw %>%\n",
    "  select(c(instance, function_name, value))\n",
    "\n",
    "bids_won_all_zero <- data.frame(instance = names_raw$name, n = 0)\n",
    "bids_won <- bids_won_raw %>%\n",
    "  group_by(function_name) %>%\n",
    "  slice(which.min(value)) %>%\n",
    "  group_by(instance) %>%\n",
    "  summarise(n = n())\n",
    "\n",
    "bids_won\n",
    "\n",
    "# Add missing participants and put them at 0\n",
    "bids_won <- bids_won %>%\n",
    "  merge(bids_won_all_zero, all = TRUE) %>%\n",
    "  group_by(instance) %>%\n",
    "  summarise(across(everything(), sum)) %>%\n",
    "  arrange()\n",
    "\n",
    "net_won <- graph_from_adjacency_matrix(as.matrix(graph_matrix), weighted = TRUE)\n",
    "V(net_won)$size <- bids_won$n * 2\n",
    "plot(net_won, layout = layout_as_tree)"
   ]
  },
  {
   "cell_type": "markdown",
   "metadata": {
    "pycharm": {
     "name": "#%% md\n"
    }
   },
   "source": [
    "Plot the free memory"
   ]
  },
  {
   "cell_type": "code",
   "execution_count": null,
   "metadata": {
    "collapsed": false,
    "jupyter": {
     "outputs_hidden": false
    },
    "pycharm": {
     "name": "#%%\n"
    },
    "vscode": {
     "languageId": "r"
    }
   },
   "outputs": [],
   "source": [
    "mem_used <- read.csv2(file = paste(METRICS_PATH, \"fog_node_memory_usage.csv\", sep = \"/\"), header = TRUE, sep = \"\\t\") %>% prepare()\n",
    "mem_avail <- read.csv2(file = paste(METRICS_PATH, \"fog_node_memory_allocatable.csv\", sep = \"/\"), header = TRUE, sep = \"\\t\") %>% prepare()\n",
    "\n",
    "mem_free <- mem_used %>%\n",
    "  inner_join(mem_avail, by = c(\"instance\", \"timestamp\")) %>%\n",
    "mutate(free = (value.y - value.x) / 1e09) %>%\n",
    "  group_by(instance) %>%\n",
    "  mutate(free_percent = formattable::percent(free / max(free, na.rm = TRUE))) %>%\n",
    "  select(instance, timestamp, free, free_percent)\n",
    "\n",
    "mem_free %>%\n",
    "  ggplot(aes(x = timestamp, y = free_percent, color = instance)) +\n",
    "  geom_step() +\n",
    "  # geom_point() +\n",
    "labs(x = \"Time\", y = \"Free memory (%)\", title = \"Free memory in fog_nodes over time\", subtitle = \"True metrics as seen by k3s on the node\") +\n",
    "  scale_color_viridis(discrete = TRUE, option = \"D\") +\n",
    "  scale_fill_viridis(discrete = TRUE) "
   ]
  },
  {
   "cell_type": "markdown",
   "metadata": {
    "pycharm": {
     "name": "#%% md\n"
    }
   },
   "source": [
    "Latency of the nodes from their rolling average\n",
    "\n",
    "> It is actually the double of the set latency because first the TCP connection is established and then the data flows. So those are actually: src -> dest and then src -> dest, so counting twice as long as the actual network latency."
   ]
  },
  {
   "cell_type": "code",
   "execution_count": null,
   "metadata": {},
   "outputs": [],
   "source": [
    "mem_used <- read.csv2(file = paste(METRICS_PATH, \"fog_node_memory_used.csv\", sep = \"/\"), header = TRUE, sep = \"\\t\") %>% prepare()\n",
    "mem_avail <- read.csv2(file = paste(METRICS_PATH, \"fog_node_memory_available.csv\", sep = \"/\"), header = TRUE, sep = \"\\t\") %>% prepare()\n",
    "\n",
    "mem_free <- mem_used %>%\n",
    "  inner_join(mem_avail, by = c(\"instance\", \"timestamp\")) %>%\n",
    "mutate(free = (value.y - value.x) / 1e09) %>%\n",
    "  group_by(instance) %>%\n",
    "  mutate(free_percent = formattable::percent(free / max(free, na.rm = TRUE))) %>%\n",
    "  select(instance, timestamp, free, free_percent)\n",
    "\n",
    "mem_free %>%\n",
    "  ggplot(aes(x = timestamp, y = free_percent, color = instance)) +\n",
    "  geom_step() +\n",
    "  # geom_point() +\n",
    "  labs(x = \"Time\", y = \"Free memory (%)\", title = \"Free memory in fog_nodes over time\", subtitle = \"As seen by the inside of the fog node software\")"
   ]
  },
  {
   "cell_type": "code",
   "execution_count": null,
   "metadata": {
    "collapsed": false,
    "jupyter": {
     "outputs_hidden": false
    },
    "pycharm": {
     "name": "#%%\n"
    },
    "vscode": {
     "languageId": "r"
    }
   },
   "outputs": [],
   "source": [
    "latency <- read.csv2(file = paste(METRICS_PATH, \"fog_node_neighbors_latency_rolling_avg.csv\", sep = \"/\"), header = TRUE, sep = \"\\t\") %>%\n",
    "  prepare() %>%\n",
    "  mutate(instance_to = as.character(names[instance_to]))\n",
    "\n",
    "latency %>%\n",
    "  group_by(instance, instance_to) %>%\n",
    "  summarise(mean_ms = round(mean(value * 1000), 0))\n",
    "\n",
    "latency %>%\n",
    "  ggplot(aes(x = timestamp, y = value, color = instance_to)) +\n",
    "geom_smooth() +\n",
    "  labs(x = \"Time\", y = \"Latency (s)\", title = \"Evolution of perceived latency from a node to its neighbors over time\", subtitle = \"Each row is a “from”\") +\n",
    "  facet_grid(rows = vars(instance))+\n",
    "  scale_color_viridis(discrete = TRUE, option = \"D\") +\n",
    "  scale_fill_viridis(discrete = TRUE) \n",
    "\n",
    "latency %>% group_by(instance, instance_to) %>% mutate(max = max(value)) %>% select(instance, instance_to, max) %>% \n",
    "  ggplot(aes(x = instance, y = max, fill = instance_to)) +\n",
    "geom_col(position=\"dodge\") +\n",
    "  labs(x = \"Source\", y = \"Latency (s)\", title = \"Max latency from a node to its neighbors\") +\n",
    "  # facet_grid(rows = vars(instance_to))+\n",
    "  scale_color_viridis(discrete = TRUE, option = \"D\") +\n",
    "  scale_fill_viridis(discrete = TRUE) "
   ]
  },
  {
   "cell_type": "code",
   "execution_count": null,
   "metadata": {
    "collapsed": false,
    "jupyter": {
     "outputs_hidden": false
    },
    "pycharm": {
     "name": "#%%\n"
    },
    "vscode": {
     "languageId": "r"
    }
   },
   "outputs": [],
   "source": [
    "iot_request_duration <- read.csv2(file = paste(METRICS_PATH, \"iot_emulation_http_request_duration_seconds_print_bucket.csv\", sep = \"\"), header = TRUE, sep = \"\\t\") %>%\n",
    "  prepare() %>%\n",
    "  select(instance, tag, value, le, n)\n",
    "\n",
    "head(iot_request_duration)"
   ]
  },
  {
   "cell_type": "code",
   "execution_count": null,
   "metadata": {
    "collapsed": false,
    "jupyter": {
     "outputs_hidden": false
    },
    "pycharm": {
     "name": "#%%\n"
    },
    "vscode": {
     "languageId": "r"
    }
   },
   "outputs": [],
   "source": [
    "bids_won_function <- bids_raw %>%\n",
    "  group_by(function_name) %>%\n",
    "  slice(which.min(value)) %>%\n",
    "  mutate(winner = instance)\n",
    "\n",
    "head(bids_won_function)\n",
    "\n",
    "bids_function <- bids_raw %>%\n",
    "  select(c(instance, function_name, value)) %>%\n",
    "  distinct() %>%\n",
    "  mutate(latency = stringr::str_match(function_name, \"(.+)-(.+)-([0-9]+)-([0-9]+)-([0-9]+)\") %>% .[, 4]) %>%\n",
    "  inner_join(bids_won_function, by = c(\"function_name\"))\n",
    "\n",
    "head(bids_function)\n",
    "\n",
    "bids_function %>%\n",
    "  ggplot(aes(x = latency, y = value.x, group = function_name, color = winner, label = instance.x)) +\n",
    "  geom_boxplot() +\n",
    "  # geom_point() +\n",
    "  # geom_text(hjust = 0, vjust = 0) +\n",
    "  labs(x = \"Functions\", y = \"Bids (currency)\", title = \"Bids made for each functions submitted\", subtitle = \"Color matches the winner's\")+\n",
    "  scale_color_viridis(discrete = TRUE, option = \"D\") +\n",
    "  scale_fill_viridis(discrete = TRUE) "
   ]
  },
  {
   "cell_type": "code",
   "execution_count": null,
   "metadata": {
    "collapsed": false,
    "jupyter": {
     "outputs_hidden": false
    },
    "pycharm": {
     "name": "#%%\n"
    },
    "vscode": {
     "languageId": "r"
    }
   },
   "outputs": [],
   "source": [
    "bids_function %>%\n",
    "  ggplot(aes(x = latency, y = value.x, group = function_name, color = winner, label = instance.x)) +\n",
    "  geom_boxplot() +\n",
    "  # geom_point() +\n",
    "  # geom_text(hjust = 0, vjust = 0) +\n",
    "  labs(x = \"Functions\", y = \"Bids (currency)\", title = \"Bids made for each functions submitted\", subtitle = \"Color matches the winner's\")+\n",
    "  scale_color_viridis(discrete = TRUE, option = \"D\") +\n",
    "  scale_fill_viridis(discrete = TRUE) "
   ]
  },
  {
   "cell_type": "code",
   "execution_count": null,
   "metadata": {
    "vscode": {
     "languageId": "r"
    }
   },
   "outputs": [],
   "source": [
    "winner_gains <- bids_won_function %>%\n",
    "  select(c(winner, function_name, value)) %>%\n",
    "  distinct()\n",
    "head(winner_gains)\n",
    "\n",
    "winner_gains %>%\n",
    "  ggplot(aes(x = winner, y = value, fill = winner)) +\n",
    "  geom_col() +\n",
    "  labs(x = \"Functions\", y = \"nodes\", title = \"Monetary gains\")+\n",
    "  scale_color_viridis(discrete = TRUE, option = \"D\") +\n",
    "  scale_fill_viridis(discrete = TRUE) "
   ]
  },
  {
   "cell_type": "code",
   "execution_count": null,
   "metadata": {
    "vscode": {
     "languageId": "r"
    }
   },
   "outputs": [],
   "source": [
    "head(bids_function)\n",
    "\n",
    "bids_function %>%\n",
    "  select(winner, function_name) %>%\n",
    "  distinct() %>%\n",
    "  ggplot(aes(x = winner, fill = winner)) +\n",
    "  geom_bar() +\n",
    "  labs(x = \"Nodes\", y = \"Number of won bids\", title = \"Number of bids won\")+\n",
    "  scale_color_viridis(discrete = TRUE, option = \"D\") +\n",
    "  scale_fill_viridis(discrete = TRUE) "
   ]
  },
  {
   "cell_type": "code",
   "execution_count": null,
   "metadata": {
    "collapsed": false,
    "jupyter": {
     "outputs_hidden": false
    },
    "pycharm": {
     "name": "#%%\n"
    },
    "vscode": {
     "languageId": "r"
    }
   },
   "outputs": [],
   "source": [
    "toto <- read.csv2(file = \"metrics/iot_emulation_http_request_duration_seconds_print_sum.csv\", header = TRUE, sep = \"\\t\") %>%\n",
    "  prepare()\n",
    "\n",
    "titi <- read.csv2(file = \"metrics/iot_emulation_http_request_duration_seconds_print_count.csv\", header = TRUE, sep = \"\\t\") %>%\n",
    "  prepare()\n",
    "\n",
    "\n",
    "latencies <- toto %>%\n",
    "  mutate(latency = stringr::str_match(tag, \"(.+)-(.+)-([0-9]+)-([0-9]+)-([0-9]+)\") %>% .[, 4]) %>%\n",
    "  select(latency) %>%\n",
    "  distinct() %>%\n",
    "  filter(!is.na(latency))\n",
    "# %>%\n",
    "# filter(latency == 100)\n",
    "\n",
    "tutu <- toto %>%\n",
    "  inner_join(titi, by = c(\"instance\", \"job\", \"timestamp\", \"timestamp_raw\", \"tag\"), ) %>%\n",
    "  # filter(tag==\"echo-001-100-10-10\") %>%\n",
    "# group_by(timestamp_raw) %>%\n",
    "  # mutate(avg = (value.x / (max(timestamp_raw, na.rm = TRUE) - min(timestamp_raw, na.rm = TRUE))) / (value.y / (max(timestamp_raw, na.rm = TRUE) - min(timestamp_raw, na.rm = TRUE)))) %>%\n",
    "  group_by(tag) %>%\n",
    "  # mutate(avg = value.x / value.y) %>%\n",
    "  # mutate(avg_5last = zoo::rollmean(value.x / value.y, k = 5, fill = NA)) %>%\n",
    "  mutate(new_x = value.x - dplyr::lag(x = value.x, n = 1, \n",
    "                                            order_by = timestamp)) %>% \n",
    "  mutate(new_y = value.y - dplyr::lag(x = value.y, n = 1, \n",
    "                                              order_by = timestamp)) %>% \n",
    "  mutate(new_avg = new_x / new_y) %>% \n",
    "  # select(timestamp, avg, tag) %>%\n",
    "  # filter(!is.na(avg)) %>%\n",
    "  mutate(function_name = tag) %>%\n",
    "  mutate(latency = stringr::str_match(function_name, \"(.+)-(.+)-([0-9]+)-([0-9]+)-([0-9]+)\") %>% .[, 4]) %>%\n",
    "  mutate(index = stringr::str_match(function_name, \"(.+)-(.+)-([0-9]+)-([0-9]+)-([0-9]+)\") %>% .[, 3]) %>%\n",
    "  inner_join(bids_function %>% select(function_name, winner), by=c(\"function_name\"))\n",
    "  # select(timestamp, avg, tag, winner)\n",
    "\n",
    "tata <- tutu %>%\n",
    "  group_by(winner, timestamp, latency) %>%\n",
    "  summarise(avg = mean(new_avg, na.rm = TRUE))\n",
    "\n",
    "for (selected_latency in latencies$latency)\n",
    "{\n",
    "  print(selected_latency)\n",
    " \n",
    "  \n",
    "print(\n",
    "  tutu %>% filter(latency == selected_latency) %>%\n",
    "  select(function_name) %>%\n",
    "  distinct()\n",
    ")\n",
    "\n",
    "\n",
    "print(\n",
    "  tutu %>% filter(latency == selected_latency) %>% group_by(tag) %>% mutate(count = max(value.y)) %>% select(index, winner, count, latency) %>% distinct() %>%\n",
    "  ggplot(aes(x = index, y = count, group = index, color = winner, label = latency)) +\n",
    "geom_col() +\n",
    "  labs(x = \"Function id\", y = \"Number of echo requests\", title = \"Number of requests made to each functions (back in forth=2×latency)\", subtitle = paste(\"Color matches the winner's —\",selected_latency,\"ms latency\"))+\n",
    "scale_color_viridis(discrete = TRUE, option = \"D\") +\n",
    "  scale_fill_viridis(discrete = TRUE) \n",
    ")\n",
    "\n",
    "print(\n",
    "  tutu %>% filter(latency == selected_latency) %>%\n",
    "  ggplot(aes(x = winner, y = new_avg, group = winner, color = winner, label = latency)) +\n",
    "  geom_violin() +\n",
    "labs(x = \"time\", y = \"Avg lat. (s)\", title = \"Latencies of echo for each functions (back in forth=2×latency).\", subtitle = paste(\"Color matches the winner's —\",selected_latency,\"ms latency\")) +\n",
    "  scale_color_viridis(discrete = TRUE, option = \"D\") +\n",
    "  scale_fill_viridis(discrete = TRUE)\n",
    ")\n",
    "\n",
    "print(\n",
    "  tutu %>% filter(latency == selected_latency) %>%\n",
    "    group_by(function_name) %>%\n",
    "  ggplot(aes(x = timestamp, y = new_avg, group = index, color = winner, label = latency)) +\n",
    "  geom_smooth() +\n",
    "labs(x = \"time\", y = \"Avg lat. (s)\", title = \"Latencies of echo for each functions (back in forth=2×latency).\", subtitle = paste(\"Color matches the winner's —\",selected_latency,\"ms latency\")) +\n",
    "  scale_color_viridis(discrete = TRUE, option = \"D\") +\n",
    "  scale_fill_viridis(discrete = TRUE) \n",
    ")\n",
    "\n",
    "print(\n",
    "  tata %>% filter(latency == selected_latency) %>%\n",
    "    group_by(winner) %>%\n",
    "  ggplot(aes(x = timestamp, y = avg, group = winner, color = winner, label = latency)) +\n",
    "  geom_point(size=0.25) +\n",
    "    geom_smooth(alpha=0.25) +\n",
    "labs(x = \"time\", y = \"Avg lat. (s)\", title = \"Latencies of echo for each functions (back in forth=2×latency).\", subtitle = paste(\"Color matches the winner's —\",selected_latency,\"ms latency\")) +\n",
    "  scale_color_viridis(discrete = TRUE, option = \"D\") +\n",
    "  scale_fill_viridis(discrete = TRUE) \n",
    ")\n",
    "}\n",
    "print(\n",
    "  tata %>%\n",
    "    group_by(winner) %>%\n",
    "  ggplot(aes(x = timestamp, y = avg, group = winner, color = winner, label = latency)) +\n",
    "  geom_point(size=0.25) +\n",
    "    geom_smooth(alpha=0.25) +\n",
    "labs(x = \"time\", y = \"Avg lat. (s)\", title = \"ALL Latencies of echo for each functions (back in forth=2×latency).\", subtitle = paste(\"Color matches the winner's —\",selected_latency,\"ms latency\")) +\n",
    "  scale_color_viridis(discrete = TRUE, option = \"D\") +\n",
    "  scale_fill_viridis(discrete = TRUE) \n",
    ")"
   ]
  }
 ],
 "metadata": {
  "kernelspec": {
   "display_name": "R",
   "language": "R",
   "name": "ir"
  },
  "language_info": {
   "codemirror_mode": "r",
   "file_extension": ".r",
   "mimetype": "text/x-r-source",
   "name": "R",
   "pygments_lexer": "r",
   "version": "4.2.2"
  }
 },
 "nbformat": 4,
 "nbformat_minor": 4
}
