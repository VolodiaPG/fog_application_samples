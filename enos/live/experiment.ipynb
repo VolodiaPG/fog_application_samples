{
 "cells": [
  {
   "cell_type": "markdown",
   "id": "b047ebf3",
   "metadata": {},
   "source": [
    "# Experiment\n",
    "\n",
    "## Perequisites\n",
    "\n",
    "Extract the data to `./metrics`\n",
    "\n",
    "## Preparations\n",
    "\n",
    "Import necessary libraries\n",
    "\n",
    "Idées de mesures:\n",
    "\n",
    "- distribution des fonctions\n",
    "- politique basique edge first ou quoi\n",
    "- temps de deploiement vs nombre de noeuds dans le Fog vs taille du réseau\n",
    "- temps de deploiement vs nombre de fonctions vs taille du réseau\n",
    "- la mémoire et le cpu au niveau du noeud fog\n",
    "\n",
    "graohes des localités : courbe qui montre combien de fonctions se répartissent sur l'edge et sur le cloud\n",
    "faire varier le nombre de noeuds\n",
    "\n",
    "Changer le nombre de fonctions que l'on déploi = saturation (x nbre de fonction)\n",
    "Regarder l'évolution des temps de réponses / des violations de temps de deadline\n",
    "\n",
    "Regarder si on satisfait les deadlines et si c'est scalable\n",
    "\n",
    "Comparer en terme de prix = pas relevant\n",
    "Définir une fonction d'utilité au niveau des enchères, par rapport au temps d'exécution\n",
    "\n",
    "\n"
   ]
  },
  {
   "cell_type": "code",
   "execution_count": 127,
   "id": "0805590a",
   "metadata": {
    "tags": [],
    "vscode": {
     "languageId": "r"
    }
   },
   "outputs": [
    {
     "data": {
      "text/html": [
       "2"
      ],
      "text/latex": [
       "2"
      ],
      "text/markdown": [
       "2"
      ],
      "text/plain": [
       "[1] 2"
      ]
     },
     "metadata": {},
     "output_type": "display_data"
    },
    {
     "data": {
      "text/html": [
       "2"
      ],
      "text/latex": [
       "2"
      ],
      "text/markdown": [
       "2"
      ],
      "text/plain": [
       "[1] 2"
      ]
     },
     "metadata": {},
     "output_type": "display_data"
    },
    {
     "data": {
      "text/html": [
       "2"
      ],
      "text/latex": [
       "2"
      ],
      "text/markdown": [
       "2"
      ],
      "text/plain": [
       "[1] 2"
      ]
     },
     "metadata": {},
     "output_type": "display_data"
    }
   ],
   "source": [
    "METRICS_PATH <- \"metrics-arks\"\n",
    "METRICS_ARKS <- c(\n",
    "    # # \"metrics_auction_valuation_rates_high_on_cloud1_2023-04-20-07-54.tar.xz\",\n",
    "    # # \"metrics_edge_first_v2_valuation_rates_high_on_cloud1_2023-04-20-07-53.tar.xz\",\n",
    "    # # \"metrics_edge_first_valuation_rates_high_on_cloud1_2023-04-20-07-53.tar.xz\",\n",
    "    # # \"metrics_edge_ward_v3_valuation_rates_high_on_cloud1_2023-04-20-07-52.tar.xz\",\n",
    "    # # \"metrics_edge_ward_valuation_rates_high_on_cloud1_2023-04-20-07-55.tar.xz\",\n",
    "    # # #\n",
    "    # # \"metrics_auction_valuation_rates_high_on_cloud2_2023-04-20-08-52.tar.xz\",\n",
    "    # # \"metrics_edge_first_valuation_rates_high_on_cloud2_2023-04-20-07-54.tar.xz\",\n",
    "    # # \"metrics_edge_ward_v3_valuation_rates_high_on_cloud2_2023-04-20-07-53.tar.xz\",\n",
    "    # # \"metrics_edge_ward_valuation_rates_high_on_cloud2_2023-04-20-08-49.tar.xz\",\n",
    "    # #\n",
    "    # \"metrics_auction_valuation_rates_high_on_cloud_bigger_2023-04-20-12-14.tar.xz\",\n",
    "    # \"metrics_edge_first_v2_valuation_rates_high_on_cloud_bigger_2023-04-20-12-14.tar.xz\",\n",
    "    # \"metrics_edge_first_valuation_rates_high_on_cloud_bigger_2023-04-20-12-14.tar.xz\",\n",
    "    # \"metrics_edge_ward_v3_valuation_rates_high_on_cloud_bigger_2023-04-20-12-14.tar.xz\",\n",
    "    # \"metrics_edge_ward_valuation_rates_high_on_cloud_bigger_2023-04-20-12-14.tar.xz\",\n",
    "    # #\n",
    "    # \"metrics_edge_first_v2_valuation_rates_high_on_cloud_bigger2_2023-04-20-12-26.tar.xz\",\n",
    "    # \"metrics_edge_first_valuation_rates_high_on_cloud_bigger2_2023-04-20-12-25.tar.xz\",\n",
    "    # \"metrics_edge_ward_v3_valuation_rates_high_on_cloud_bigger2_2023-04-20-12-26.tar.xz\",\n",
    "    # \"metrics_edge_ward_valuation_rates_high_on_cloud_bigger2_2023-04-20-13-13.tar.xz\",\n",
    "    # #\n",
    "    # \"metrics_auction_valuation_rates_high_on_cloud_biggerbis_2023-04-20-15-24.tar.xz\",\n",
    "    # \"metrics_edge_first_v2_valuation_rates_high_on_cloud_biggerbis_2023-04-20-15-23.tar.xz\",\n",
    "    # \"metrics_edge_first_valuation_rates_high_on_cloud_biggerbis_2023-04-20-15-25.tar.xz\",\n",
    "    # \"metrics_edge_ward_v3_valuation_rates_high_on_cloud_biggerbis_2023-04-20-15-24.tar.xz\",\n",
    "    # \"metrics_edge_ward_valuation_rates_high_on_cloud_biggerbis_2023-04-20-15-24.tar.xz\",\n",
    "    # #\n",
    "    # \"metrics_auction_valuation_rates_high_on_cloud_biggerbis2_2023-04-20-15-25.tar.xz\",\n",
    "    # \"metrics_edge_first_v2_valuation_rates_high_on_cloud_biggerbis2_2023-04-20-16-21.tar.xz\",\n",
    "    # \"metrics_edge_first_valuation_rates_high_on_cloud_biggerbis2_2023-04-20-16-10.tar.xz\",\n",
    "    # \"metrics_edge_ward_v3_valuation_rates_high_on_cloud_biggerbis2_2023-04-20-15-25.tar.xz\",\n",
    "    # \"metrics_edge_ward_valuation_rates_high_on_cloud_biggerbis2_2023-04-20-16-22.tar.xz\",\n",
    "    # #\n",
    "    # \"metrics_auction_valuation_rates_high_on_cloud_fri_2023-04-21-07-54.tar.xz\",\n",
    "    # \"metrics_auction_valuation_rates_high_on_cloud_fri2_2023-04-21-10-45.tar.xz\",\n",
    "    # \"metrics_auction_valuation_rates_high_on_cloud_fri3_2023-04-21-07-54.tar.xz\",\n",
    "    # \"metrics_auction_valuation_rates_high_on_cloud_fri4_2023-04-21-08-51.tar.xz\",\n",
    "    # \"metrics_auction_valuation_rates_high_on_cloud_fri5_2023-04-21-09-50.tar.xz\",\n",
    "    # \"metrics_auction_valuation_rates_high_on_cloud_fri6_2023-04-21-10-47.tar.xz\",\n",
    "    # \"metrics_edge_first_v2_valuation_rates_high_on_cloud_fri_2023-04-21-07-53.tar.xz\",\n",
    "    # \"metrics_edge_first_v2_valuation_rates_high_on_cloud_fri3_2023-04-21-08-50.tar.xz\",\n",
    "    # \"metrics_edge_first_v2_valuation_rates_high_on_cloud_fri4_2023-04-21-08-54.tar.xz\",\n",
    "    # \"metrics_edge_first_v2_valuation_rates_high_on_cloud_fri5_2023-04-21-08-56.tar.xz\",\n",
    "    # \"metrics_edge_first_v2_valuation_rates_high_on_cloud_fri6_2023-04-21-10-47.tar.xz\",\n",
    "    # \"metrics_edge_first_valuation_rates_high_on_cloud_fri_2023-04-21-07-53.tar.xz\",\n",
    "    # \"metrics_edge_first_valuation_rates_high_on_cloud_fri2_2023-04-21-09-52.tar.xz\",\n",
    "    # \"metrics_edge_first_valuation_rates_high_on_cloud_fri3_2023-04-21-07-54.tar.xz\",\n",
    "    # \"metrics_edge_first_valuation_rates_high_on_cloud_fri4_2023-04-21-08-54.tar.xz\",\n",
    "    # \"metrics_edge_first_valuation_rates_high_on_cloud_fri5_2023-04-21-09-48.tar.xz\",\n",
    "    # \"metrics_edge_first_valuation_rates_high_on_cloud_fri6_2023-04-21-10-52.tar.xz\",\n",
    "    # \"metrics_edge_ward_v3_valuation_rates_high_on_cloud_fri_2023-04-21-07-52.tar.xz\",\n",
    "    # \"metrics_edge_ward_v3_valuation_rates_high_on_cloud_fri2_2023-04-21-09-54.tar.xz\",\n",
    "    # \"metrics_edge_ward_v3_valuation_rates_high_on_cloud_fri3_2023-04-21-08-50.tar.xz\",\n",
    "    # \"metrics_edge_ward_v3_valuation_rates_high_on_cloud_fri4_2023-04-21-08-52.tar.xz\",\n",
    "    # \"metrics_edge_ward_v3_valuation_rates_high_on_cloud_fri5_2023-04-21-09-49.tar.xz\",\n",
    "    # \"metrics_edge_ward_v3_valuation_rates_high_on_cloud_fri6_2023-04-21-10-50.tar.xz\",\n",
    "    # \"metrics_edge_ward_valuation_rates_high_on_cloud_fri_2023-04-21-07-53.tar.xz\",\n",
    "    # \"metrics_edge_ward_valuation_rates_high_on_cloud_fri2_2023-04-21-09-55.tar.xz\",\n",
    "    # \"metrics_edge_ward_valuation_rates_high_on_cloud_fri3_2023-04-21-07-52.tar.xz\",\n",
    "    # \"metrics_edge_ward_valuation_rates_high_on_cloud_fri4_2023-04-21-08-53.tar.xz\",\n",
    "    # \"metrics_edge_ward_valuation_rates_high_on_cloud_fri5_2023-04-21-09-50.tar.xz\",\n",
    "    # \"metrics_edge_ward_valuation_rates_high_on_cloud_fri6_2023-04-21-10-46.tar.xz\",\n",
    "    # # bugged?\n",
    "    # # \"metrics_auction_valuation_rates_high_on_cloud_fri7_2023-04-21-13-22.tar.xz\",\n",
    "    # # \"metrics_edge_first_v2_valuation_rates_high_on_cloud_fri7_2023-04-21-13-22.tar.xz\",\n",
    "    # # \"metrics_edge_first_v2_valuation_rates_high_on_cloud_fri8_2023-04-21-13-22.tar.xz\",\n",
    "    # # \"metrics_edge_first_valuation_rates_high_on_cloud_fri7_2023-04-21-13-22.tar.xz\",\n",
    "    # # \"metrics_edge_first_valuation_rates_high_on_cloud_fri8_2023-04-21-13-24.tar.xz\",\n",
    "    # # \"metrics_edge_ward_v3_valuation_rates_high_on_cloud_fri7_2023-04-21-13-19.tar.xz\",\n",
    "    # # \"metrics_edge_ward_v3_valuation_rates_high_on_cloud_fri8_2023-04-21-13-23.tar.xz\",\n",
    "    # # \"metrics_edge_ward_valuation_rates_high_on_cloud_fri7_2023-04-21-13-20.tar.xz\",\n",
    "    # #\n",
    "    # \"metrics_auction_valuation_rates_high_on_cloud_fri11_2023-04-21-14-31.tar.xz\",\n",
    "    # \"metrics_auction_valuation_rates_high_on_cloud_fri12_2023-04-21-15-24.tar.xz\",\n",
    "    # \"metrics_auction_valuation_rates_high_on_cloud_fri13_2023-04-21-15-30.tar.xz\",\n",
    "    # \"metrics_edge_first_v2_valuation_rates_high_on_cloud_fri11_2023-04-21-14-28.tar.xz\",\n",
    "    # \"metrics_edge_first_v2_valuation_rates_high_on_cloud_fri12_2023-04-21-14-35.tar.xz\",\n",
    "    # \"metrics_edge_first_v2_valuation_rates_high_on_cloud_fri13_2023-04-21-15-32.tar.xz\",\n",
    "    # \"metrics_edge_first_valuation_rates_high_on_cloud_fri11_2023-04-21-14-32.tar.xz\",\n",
    "    # \"metrics_edge_first_valuation_rates_high_on_cloud_fri12_2023-04-21-15-26.tar.xz\",\n",
    "    # \"metrics_edge_first_valuation_rates_high_on_cloud_fri13_2023-04-21-15-32.tar.xz\",\n",
    "    # \"metrics_edge_ward_v3_valuation_rates_high_on_cloud_fri11_2023-04-21-14-31.tar.xz\",\n",
    "    # \"metrics_edge_ward_v3_valuation_rates_high_on_cloud_fri12_2023-04-21-14-34.tar.xz\",\n",
    "    # \"metrics_edge_ward_v3_valuation_rates_high_on_cloud_fri13_2023-04-21-15-32.tar.xz\",\n",
    "    # \"metrics_edge_ward_valuation_rates_high_on_cloud_fri11_2023-04-21-14-26.tar.xz\",\n",
    "    # \"metrics_edge_ward_valuation_rates_high_on_cloud_fri12_2023-04-21-14-32.tar.xz\",\n",
    "    # \"metrics_edge_ward_valuation_rates_high_on_cloud_fri13_2023-04-21-15-28.tar.xz\"\n",
    "\n",
    "    \"metrics_valuation_rates_test5_1_2023-05-10-07-06.tar.xz\",\n",
    "    \"metrics_valuation_rates_test5_1_2023-05-10-07-17.tar.xz\"\n",
    ") # looks at \"./*\"\n",
    "\n",
    "METRICS_GROUP <- c(\n",
    "    # # \"auction\",\n",
    "    # # \"edge_furthest\",\n",
    "    # # \"edge_first\",\n",
    "    # # \"edge_ward_furthest\",\n",
    "    # # \"edge_ward\",\n",
    "    # # #\n",
    "    # # \"auction\",\n",
    "    # # # \"edge_furthest\",\n",
    "    # # \"edge_first\",\n",
    "    # # \"edge_ward_furthest\",\n",
    "    # # \"edge_ward\",\n",
    "    # #\n",
    "    # \"auction\",\n",
    "    # \"edge_furthest\",\n",
    "    # \"edge_first\",\n",
    "    # \"edge_ward_furthest\",\n",
    "    # \"edge_ward\",\n",
    "    # #\n",
    "    # \"edge_furthest\",\n",
    "    # \"edge_first\",\n",
    "    # \"edge_ward_furthest\",\n",
    "    # \"edge_ward\",\n",
    "    # #\n",
    "    # \"auction\",\n",
    "    # \"edge_furthest\",\n",
    "    # \"edge_first\",\n",
    "    # \"edge_ward_furthest\",\n",
    "    # \"edge_ward\",\n",
    "    # #\n",
    "    # \"auction\",\n",
    "    # \"edge_furthest\",\n",
    "    # \"edge_first\",\n",
    "    # \"edge_ward_furthest\",\n",
    "    # \"edge_ward\",\n",
    "    # #\n",
    "    # \"auction\",\n",
    "    # \"auction\",\n",
    "    # \"auction\",\n",
    "    # \"auction\",\n",
    "    # \"auction\",\n",
    "    # \"auction\",\n",
    "    # \"edge_furthest\",\n",
    "    # \"edge_furthest\",\n",
    "    # \"edge_furthest\",\n",
    "    # \"edge_furthest\",\n",
    "    # \"edge_furthest\",\n",
    "    # \"edge_first\",\n",
    "    # \"edge_first\",\n",
    "    # \"edge_first\",\n",
    "    # \"edge_first\",\n",
    "    # \"edge_first\",\n",
    "    # \"edge_first\",\n",
    "    # \"edge_ward_furthest\",\n",
    "    # \"edge_ward_furthest\",\n",
    "    # \"edge_ward_furthest\",\n",
    "    # \"edge_ward_furthest\",\n",
    "    # \"edge_ward_furthest\",\n",
    "    # \"edge_ward_furthest\",\n",
    "    # \"edge_ward\",\n",
    "    # \"edge_ward\",\n",
    "    # \"edge_ward\",\n",
    "    # \"edge_ward\",\n",
    "    # \"edge_ward\",\n",
    "    # \"edge_ward\",\n",
    "    # #\n",
    "    # # \"auction\",\n",
    "    # # \"edge_furthest\",\n",
    "    # # \"edge_furthest\",\n",
    "    # # \"edge_first\",\n",
    "    # # \"edge_first\",\n",
    "    # # \"edge_ward_furthest\",\n",
    "    # # \"edge_ward_furthest\",\n",
    "    # # \"edge_ward\",\n",
    "    # #\n",
    "    # \"auction\",\n",
    "    # \"auction\",\n",
    "    # \"auction\",\n",
    "    # \"edge_furthest\",\n",
    "    # \"edge_furthest\",\n",
    "    # \"edge_furthest\",\n",
    "    # \"edge_first\",\n",
    "    # \"edge_first\",\n",
    "    # \"edge_first\",\n",
    "    # \"edge_ward_furthest\",\n",
    "    # \"edge_ward_furthest\",\n",
    "    # \"edge_ward_furthest\",\n",
    "    # \"edge_ward\",\n",
    "    # \"edge_ward\",\n",
    "    # \"edge_ward\"\n",
    "    \"auction\",\n",
    "    \"edge_first\"\n",
    "\n",
    ")\n",
    "\n",
    "METRICS_GROUP_GROUP <- c(\n",
    "#     # \"high_prices_on_cloud\",\n",
    "#     # \"high_prices_on_cloud\",\n",
    "#     # \"high_prices_on_cloud\",\n",
    "#     # \"high_prices_on_cloud\",\n",
    "#     # \"high_prices_on_cloud\",\n",
    "#     # #\n",
    "#     # \"high_prices_on_cloud\",\n",
    "#     # \"high_prices_on_cloud\",\n",
    "#     # \"high_prices_on_cloud\",\n",
    "#     # \"high_prices_on_cloud\",\n",
    "#     #\n",
    "#     \"high_prices_on_cloud\",\n",
    "#     \"high_prices_on_cloud\",\n",
    "#     \"high_prices_on_cloud\",\n",
    "#     \"high_prices_on_cloud\",\n",
    "#     \"high_prices_on_cloud\",\n",
    "#     #\n",
    "#     \"high_prices_on_cloud\",\n",
    "#     \"high_prices_on_cloud\",\n",
    "#     \"high_prices_on_cloud\",\n",
    "#     \"high_prices_on_cloud\",\n",
    "   \n",
    "#    #\n",
    "#     \"high_prices_on_cloud\",\n",
    "#     \"high_prices_on_cloud\",\n",
    "#     \"high_prices_on_cloud\",\n",
    "#     \"high_prices_on_cloud\",\n",
    "#     \"high_prices_on_cloud\",\n",
    "#    #\n",
    "#     \"high_prices_on_cloud\",\n",
    "#     \"high_prices_on_cloud\",\n",
    "#     \"high_prices_on_cloud\",\n",
    "#     \"high_prices_on_cloud\",\n",
    "#     \"high_prices_on_cloud\",\n",
    "#     #\n",
    "#     \"high_prices_on_cloud\",\n",
    "#     \"high_prices_on_cloud\",\n",
    "#     \"high_prices_on_cloud\",\n",
    "#     \"high_prices_on_cloud\",\n",
    "#     \"high_prices_on_cloud\",\n",
    "#     \"high_prices_on_cloud\",\n",
    "#     \"high_prices_on_cloud\",\n",
    "#     \"high_prices_on_cloud\",\n",
    "#     \"high_prices_on_cloud\",\n",
    "#     \"high_prices_on_cloud\",\n",
    "#     \"high_prices_on_cloud\",\n",
    "#     \"high_prices_on_cloud\",\n",
    "#     \"high_prices_on_cloud\",\n",
    "#     \"high_prices_on_cloud\",\n",
    "#     \"high_prices_on_cloud\",\n",
    "#     \"high_prices_on_cloud\",\n",
    "#     \"high_prices_on_cloud\",\n",
    "#     \"high_prices_on_cloud\",\n",
    "#     \"high_prices_on_cloud\",\n",
    "#     \"high_prices_on_cloud\",\n",
    "#     \"high_prices_on_cloud\",\n",
    "#     \"high_prices_on_cloud\",\n",
    "#     \"high_prices_on_cloud\",\n",
    "#     \"high_prices_on_cloud\",\n",
    "#     \"high_prices_on_cloud\",\n",
    "#     \"high_prices_on_cloud\",\n",
    "#     \"high_prices_on_cloud\",\n",
    "#     \"high_prices_on_cloud\",\n",
    "#     \"high_prices_on_cloud\",\n",
    "#     #\n",
    "#     # \"high_prices_on_cloud\",\n",
    "#     # \"high_prices_on_cloud\",\n",
    "#     # \"high_prices_on_cloud\",\n",
    "#     # \"high_prices_on_cloud\",\n",
    "#     # \"high_prices_on_cloud\",\n",
    "#     # \"high_prices_on_cloud\",\n",
    "#     # \"high_prices_on_cloud\",\n",
    "#     # \"high_prices_on_cloud\",\n",
    "#     #\n",
    "#     \"high_prices_on_cloud\",\n",
    "#     \"high_prices_on_cloud\",\n",
    "#     \"high_prices_on_cloud\",\n",
    "#     \"high_prices_on_cloud\",\n",
    "#     \"high_prices_on_cloud\",\n",
    "#     \"high_prices_on_cloud\",\n",
    "#     \"high_prices_on_cloud\",\n",
    "#     \"high_prices_on_cloud\",\n",
    "#     \"high_prices_on_cloud\",\n",
    "#     \"high_prices_on_cloud\",\n",
    "#     \"high_prices_on_cloud\",\n",
    "#     \"high_prices_on_cloud\",\n",
    "#     \"high_prices_on_cloud\",\n",
    "#     \"high_prices_on_cloud\",\n",
    "#     \"high_prices_on_cloud\"\n",
    "\"v\",\n",
    "\"v\"\n",
    "    \n",
    ")\n",
    "length(METRICS_ARKS)\n",
    "length(METRICS_GROUP)\n",
    "length(METRICS_GROUP_GROUP)\n",
    "stopifnot(length(METRICS_ARKS) == length(METRICS_GROUP))\n",
    "stopifnot(length(METRICS_ARKS) == length(METRICS_GROUP_GROUP))"
   ]
  },
  {
   "cell_type": "code",
   "execution_count": 128,
   "id": "ec73b25d",
   "metadata": {
    "tags": [],
    "vscode": {
     "languageId": "r"
    }
   },
   "outputs": [],
   "source": [
    "# packages_to_have <- c('cowplot', 'reticulate', 'tidyverse', 'igraph', 'r2r', 'formattable', 'stringr', 'viridis', 'geomtextpath')\n",
    "\n",
    "# dir.create(Sys.getenv(\"R_LIBS_USER\"), recursive = TRUE)  # create personal library\n",
    "# .libPaths(Sys.getenv(\"R_LIBS_USER\"))  # add to the path\n",
    "\n",
    "# packages = installed.packages()\n",
    "# packages = packages[, \"Package\"]\n",
    "\n",
    "# if (FALSE %in% (packages_to_have %in% packages)){\n",
    "#     install.packages(packages_to_have)\n",
    "# }\n",
    "\n",
    "# To call python from R\n",
    "library(archive)\n",
    "library(dplyr)\n",
    "library(reticulate)\n",
    "library(tidyverse)\n",
    "library(igraph)\n",
    "library(r2r)\n",
    "library(formattable)\n",
    "library(stringr)\n",
    "library(viridis)\n",
    "library(geomtextpath)\n",
    "library(cowplot)\n",
    "library(data.table)\n",
    "library(scales)\n",
    "library(vroom)\n",
    "library(zoo)\n",
    "library(ggdist)\n",
    "library(gghighlight)\n",
    "library(ggrepel)\n",
    "library(ggbreak)\n",
    "library(grid)\n",
    "library(lemon)\n",
    "library(ggprism)\n",
    "library(ggh4x)\n",
    "theme_set(theme_prism())\n"
   ]
  },
  {
   "cell_type": "code",
   "execution_count": 129,
   "id": "617d5c3f-728f-48e1-b561-75835440e5e5",
   "metadata": {
    "vscode": {
     "languageId": "r"
    }
   },
   "outputs": [],
   "source": [
    "correct_names <- function(x){\n",
    "    return(\n",
    "        x %>%\n",
    "            mutate(metric_group_rich = case_when(\n",
    "                metric_group == \"auction\" ~ \"\\\\textit{Auction (ours)}\",\n",
    "                metric_group == \"edge_ward\" ~ \"Edge ward\",\n",
    "                metric_group == \"edge_ward_furthest\" ~ \"Edge ward furthest\",\n",
    "                metric_group == \"edge_first\" ~ \"Edge first\",\n",
    "                metric_group == \"edge_furthest\" ~ \"Edge furthest\",\n",
    "          )) %>%\n",
    "        mutate(metric_group = factor(metric_group, levels = c(\"edge_ward\", \"edge_ward_furthest\", \"edge_first\", \"edge_furthest\", \"auction\"), ordered = TRUE)) %>%\n",
    "        # mutate(metric_group_rich = factor(metric_group_rich, levels = unique(metric_group), ordered = TRUE)) %>%\n",
    "        rename(`Placement method` = metric_group_rich)\n",
    "        # mutate(`Placement method` = factor(`Placement method`, levels = factor(unique(metric_group), ordered = TRUE), ordered = TRUE)) \n",
    "    )\n",
    "}"
   ]
  },
  {
   "cell_type": "markdown",
   "id": "0b1fa9fb",
   "metadata": {},
   "source": [
    "Then, the dependencies"
   ]
  },
  {
   "cell_type": "markdown",
   "id": "83cd0763",
   "metadata": {},
   "source": [
    "Load the the Python `integration.py` script to use its variable in R"
   ]
  },
  {
   "cell_type": "code",
   "execution_count": 130,
   "id": "ddee45e8",
   "metadata": {
    "tags": [],
    "vscode": {
     "languageId": "r"
    }
   },
   "outputs": [],
   "source": [
    "# use_virtualenv('.venv/', required = TRUE)\n",
    "# Always throws an error because it is a CLI tool; it is not made to be loaded in R\n",
    "try(source_python(\"definitions.py\"))\n"
   ]
  },
  {
   "cell_type": "markdown",
   "id": "60d128c8",
   "metadata": {},
   "source": [
    "The graph of the network"
   ]
  },
  {
   "cell_type": "code",
   "execution_count": 131,
   "id": "f97ff3a1",
   "metadata": {
    "tags": [],
    "vscode": {
     "languageId": "r"
    }
   },
   "outputs": [],
   "source": [
    "raw <- py$ADJACENCY\n",
    "\n",
    "adjancy_transform <- function(x) {\n",
    "  ret <- matrix(0, nrow = length(x), ncol = length(x))\n",
    "  rownames(ret) <- c(sort(names(x)))\n",
    "  colnames(ret) <- c(sort(names(x)))\n",
    "  for (ii in seq_along(x)) {\n",
    "    for (jj in seq_along(x[[ii]])) {\n",
    "      ret[names(x)[[ii]], x[[ii]][[jj]][[1]]] <- strtoi(x[[ii]][[jj]][[2]])\n",
    "    }\n",
    "  }\n",
    "  return(ret)\n",
    "}\n",
    "\n",
    "graph_matrix <- adjancy_transform(raw)\n"
   ]
  },
  {
   "cell_type": "code",
   "execution_count": 132,
   "id": "5e7305e3",
   "metadata": {
    "vscode": {
     "languageId": "r"
    }
   },
   "outputs": [],
   "source": [
    "# stack(py$LEVELS)\n",
    "# node_levels <- stack(py$LEVELS) %>%\n",
    "# node_levels <- stack(data.frame(unlist(py$LEVELS))) %>%\n",
    "#     mutate(name = ind, level = values) %>%\n",
    "#     select(-c(ind)) %>%\n",
    "#     mutate(level = case_when(\n",
    "#         level == 0 ~ \"Cloud\",\n",
    "#         level == max(level) - 1 ~ \"Edge+1\",\n",
    "#         level == max(level) ~ \"Edge\",\n",
    "#         TRUE ~ paste(\"Cloud\", as.character(level), sep = \"+\")\n",
    "#     )) %>%\n",
    "#     # add_row(values = 0, name=\"marketplace\", level=\"Cloud\") %>%\n",
    "#     mutate(level2 = factor(as.character(level), levels = levels(factor(values, ordered = TRUE)), ordered = TRUE))\n",
    "#     # mutate(level2 = factor(as.character(level), levels = levels(as.numeric(values)), ordered = TRUE)) %>%\n",
    "#     # mutate(level = factor(level, levels=level[order(unique(values))])) %>%\n",
    "#     {.}\n",
    "py_levels <- data.frame(values = unlist(py$LEVELS))\n",
    "\n",
    "node_levels <- py_levels %>%\n",
    "  mutate(name = rownames(py_levels),\n",
    "         level = case_when(\n",
    "           values == 0 ~ \"Cloud\",\n",
    "           values == max(values) - 1 ~ \"Edge+1\",\n",
    "           values == max(values) ~ \"Edge\",\n",
    "           TRUE ~ paste(\"Cloud\", as.character(values), sep = \"+\")\n",
    "         )) %>%\n",
    "  # add_row(values = 0, name = \"marketplace\", level = \"Cloud\") %>%\n",
    "  mutate(level = factor(level, levels = unique(level), ordered = TRUE))"
   ]
  },
  {
   "cell_type": "markdown",
   "id": "e5700caf",
   "metadata": {},
   "source": [
    "Load the names of the node and their correspondance in their IP on the virtual network"
   ]
  },
  {
   "cell_type": "code",
   "execution_count": 133,
   "id": "950f6a37-e439-47f6-b9a4-125e15feff5b",
   "metadata": {
    "tags": [],
    "vscode": {
     "languageId": "r"
    }
   },
   "outputs": [],
   "source": [
    "load_csv <- function(filename) {\n",
    "    all_data <- purrr::map_df(METRICS_ARKS, ~ mutate(vroom(archive_read(paste(METRICS_PATH, .x, sep = \"/\"), file = filename), col_names = TRUE, delim = \"\\t\", .name_repair=\"unique\") %>% distinct(),\n",
    "        folder = tools::file_path_sans_ext(tools::file_path_sans_ext(.x)),\n",
    "        metric_group = METRICS_GROUP[which(METRICS_ARKS == .x)],\n",
    "        metric_group_group = METRICS_GROUP_GROUP[which(METRICS_ARKS == .x)]\n",
    "    ))\n",
    "    # print(head(all_data))\n",
    "    return(all_data)\n",
    "}\n"
   ]
  },
  {
   "cell_type": "code",
   "execution_count": 134,
   "id": "b8a18c6b-8380-4b44-bd63-3f81f1d6bb03",
   "metadata": {
    "tags": [],
    "vscode": {
     "languageId": "r"
    }
   },
   "outputs": [
    {
     "name": "stderr",
     "output_type": "stream",
     "text": [
      "\u001b[1mRows: \u001b[22m\u001b[34m6\u001b[39m \u001b[1mColumns: \u001b[22m\u001b[34m2\u001b[39m\n",
      "\u001b[36m──\u001b[39m \u001b[1mColumn specification\u001b[22m \u001b[36m────────────────────────────────────────────────────────────────────────────────────────────────────────────────────────────────────────────────\u001b[39m\n",
      "\u001b[1mDelimiter:\u001b[22m \"\\t\"\n",
      "\u001b[31mchr\u001b[39m (2): instance, name\n",
      "\n",
      "\u001b[36mℹ\u001b[39m Use `spec()` to retrieve the full column specification for this data.\n",
      "\u001b[36mℹ\u001b[39m Specify the column types or set `show_col_types = FALSE` to quiet this message.\n",
      "\u001b[1mRows: \u001b[22m\u001b[34m6\u001b[39m \u001b[1mColumns: \u001b[22m\u001b[34m2\u001b[39m\n",
      "\u001b[36m──\u001b[39m \u001b[1mColumn specification\u001b[22m \u001b[36m────────────────────────────────────────────────────────────────────────────────────────────────────────────────────────────────────────────────\u001b[39m\n",
      "\u001b[1mDelimiter:\u001b[22m \"\\t\"\n",
      "\u001b[31mchr\u001b[39m (2): instance, name\n",
      "\n",
      "\u001b[36mℹ\u001b[39m Use `spec()` to retrieve the full column specification for this data.\n",
      "\u001b[36mℹ\u001b[39m Specify the column types or set `show_col_types = FALSE` to quiet this message.\n"
     ]
    }
   ],
   "source": [
    "names_raw <- load_csv(\"names.csv\")\n",
    "missing <- data.frame(instance = names_raw$name, n = 0)\n",
    "\n",
    "# names_raw"
   ]
  },
  {
   "cell_type": "code",
   "execution_count": 135,
   "id": "66ced2ce",
   "metadata": {
    "vscode": {
     "languageId": "r"
    }
   },
   "outputs": [],
   "source": [
    "fig <- function(width, heigth) {\n",
    "  options(repr.plot.width = width, repr.plot.height = heigth)\n",
    "}\n",
    "\n",
    "fig(20, 20)\n",
    "\n",
    "adjust_timestamps <- function(x) {\n",
    "  return(\n",
    "    x %>%\n",
    "      group_by(folder) %>%\n",
    "      mutate(timestamp = timestamp - min(timestamp)) %>%\n",
    "      ungroup()\n",
    "  )\n",
    "}\n",
    "\n",
    "prepare <- function(x) {\n",
    "  return(\n",
    "    x %>%\n",
    "      inner_join(names_raw %>% mutate(instance_name = name) %>% select(-name), c(\"instance\", \"folder\", \"metric_group\", \"metric_group_group\")) %>%\n",
    "      mutate(instance = instance_name) %>%\n",
    "      select(-instance_name) %>%\n",
    "      mutate(timestamp = as.POSIXct(as.numeric(as.character(timestamp)), origin = \"1970-01-01\")) %>%\n",
    "      mutate(value = as.numeric(value)) %>%\n",
    "      adjust_timestamps() %>%\n",
    "      # merge(missing, all = TRUE) %>%\n",
    "      # arrange(instance) %>%\n",
    "      {\n",
    "        .\n",
    "      }\n",
    "  )\n",
    "}\n",
    "\n",
    "extract_function_name_info <- function(x) {\n",
    "  # The first element is the input string\n",
    "  info <- stringr::str_match(x$function_name, \"(.+)-([0-9]+)-([0-9]+)-([0-9]+)-([0-9]+)-([a-z]+)-([a-z]+)-([0-9]+)-([0-9]+)\")\n",
    "  return(\n",
    "    x %>%\n",
    "      ungroup() %>%\n",
    "      mutate(docker_fn_name = info %>% .[, 2]) %>%\n",
    "      mutate(function_index = info %>% .[, 3]) %>%\n",
    "      mutate(latency = info %>% .[, 4]) %>%\n",
    "      mutate(cpu = info %>% .[, 5]) %>%\n",
    "      mutate(mem = info %>% .[, 6]) %>%\n",
    "      mutate(load_type = info %>% .[, 7]) %>%\n",
    "      mutate(latency_type = info %>% .[, 8]) %>%\n",
    "      mutate(nb_fn_low_interval_low_latency = info %>% .[, 9]) %>%\n",
    "      mutate(nb_fn_high_interval_low_latency = info %>% .[, 10]) %>%\n",
    "      mutate(latency_type = case_when(\n",
    "        latency_type == \"low\" ~ \"Low latency\",\n",
    "        latency_type == \"high\" ~ \"High latency\"\n",
    "      )) %>%\n",
    "      mutate(load_type = case_when(\n",
    "        load_type == \"low\" ~ \"High load\",\n",
    "        load_type == \"high\" ~ \"Low load\"\n",
    "      ))\n",
    "  )\n",
    "}\n"
   ]
  },
  {
   "cell_type": "markdown",
   "id": "2656d78e",
   "metadata": {},
   "source": [
    "## Data processing\n",
    "\n",
    "Check what nodes we have values for (usually the ones who have submitted bids and etc.):\n",
    "- Green is ok\n",
    "- Red is a node that was not present in the data"
   ]
  },
  {
   "cell_type": "code",
   "execution_count": 136,
   "id": "78473708",
   "metadata": {
    "vscode": {
     "languageId": "r"
    }
   },
   "outputs": [
    {
     "data": {
      "text/plain": [
       "NULL"
      ]
     },
     "metadata": {},
     "output_type": "display_data"
    },
    {
     "data": {
      "image/png": "[encoded data removed]",
      "text/plain": [
       "Plot with title “”"
      ]
     },
     "metadata": {
      "image/png": {
       "height": 300,
       "width": 900
      }
     },
     "output_type": "display_data"
    }
   ],
   "source": [
    "net_connected <- graph_from_adjacency_matrix(as.matrix(graph_matrix), weighted = TRUE)\n",
    "colors <- heat.colors(length(unique(node_levels$level)))\n",
    "colors <- c('#FF0000', '#FF0000', '#FFAA00', '#FFFF00', '#FFFF00')\n",
    "node_level_map <- setNames(node_levels$level, node_levels$name)\n",
    "color_map <- setNames(colors, unique(node_levels$level))\n",
    "node_names <- merge(data.frame(name = V(net_connected)$name, stringsAsFactors = FALSE), node_levels, by.x = \"name\", by.y = \"name\")\n",
    "node_names$name <- paste(node_names$name, paste(\"(\", node_names$level, \")\", sep = \"\"), sep = \"\\n\")\n",
    "\n",
    "V(net_connected)$color <- color_map[node_level_map[V(net_connected)$name]]\n",
    "# V(net_connected)$name <- node_names$name\n",
    "V(net_connected)$name <- \"\"\n",
    "fig(15, 5)\n",
    "coords = layout_as_tree(net_connected)\n",
    "# spacingfactor <- 40\n",
    "# coords[, 1] <- coords[, 1] * spacingfactor\n",
    "# coords[, 2] <- coords[, 2] * spacingfactor\n",
    "node_graph <- plot(net_connected, layout = coords,asp=0.22, margin=-0, edge.label = E(net_connected)$weight, edge.width = 1, vertex.size = 5,vertex.size2 = 3, vertex.label.cex = 1, vertex.dist = 20, edge.arrow.size = 0.5, edge.label.cex = 0.8, edge.label.dist = 1.5)\n",
    "node_graph\n",
    "fig(10, 10)\n"
   ]
  },
  {
   "cell_type": "markdown",
   "id": "8ccf8b2c-e803-4cf7-9abc-a615c60792d4",
   "metadata": {},
   "source": [
    "## Distribution of the functions in the network"
   ]
  },
  {
   "cell_type": "markdown",
   "id": "7912ba99",
   "metadata": {},
   "source": [
    "Latency of the nodes from their rolling average\n",
    "\n",
    "> It is actually the double of the set latency because first the TCP connection is established and then the data flows. So those are actually: src -> dest and then src -> dest, so counting twice as long as the actual network latency."
   ]
  },
  {
   "cell_type": "code",
   "execution_count": 183,
   "id": "032fe8b0",
   "metadata": {
    "vscode": {
     "languageId": "r"
    }
   },
   "outputs": [
    {
     "name": "stderr",
     "output_type": "stream",
     "text": [
      "\u001b[1mRows: \u001b[22m\u001b[34m816\u001b[39m \u001b[1mColumns: \u001b[22m\u001b[34m6\u001b[39m\n",
      "\u001b[36m──\u001b[39m \u001b[1mColumn specification\u001b[22m \u001b[36m────────────────────────────────────────────────────────────────────────────────────────────────────────────────────────────────────────────────────────────────────────────────────────\u001b[39m\n",
      "\u001b[1mDelimiter:\u001b[22m \"\\t\"\n",
      "\u001b[31mchr\u001b[39m (4): name, instance, instance_to, job\n",
      "\u001b[32mdbl\u001b[39m (2): timestamp, value\n",
      "\n",
      "\u001b[36mℹ\u001b[39m Use `spec()` to retrieve the full column specification for this data.\n",
      "\u001b[36mℹ\u001b[39m Specify the column types or set `show_col_types = FALSE` to quiet this message.\n",
      "\u001b[1mRows: \u001b[22m\u001b[34m714\u001b[39m \u001b[1mColumns: \u001b[22m\u001b[34m6\u001b[39m\n",
      "\u001b[36m──\u001b[39m \u001b[1mColumn specification\u001b[22m \u001b[36m────────────────────────────────────────────────────────────────────────────────────────────────────────────────────────────────────────────────────────────────────────────────────────\u001b[39m\n",
      "\u001b[1mDelimiter:\u001b[22m \"\\t\"\n",
      "\u001b[31mchr\u001b[39m (4): name, instance, instance_to, job\n",
      "\u001b[32mdbl\u001b[39m (2): timestamp, value\n",
      "\n",
      "\u001b[36mℹ\u001b[39m Use `spec()` to retrieve the full column specification for this data.\n",
      "\u001b[36mℹ\u001b[39m Specify the column types or set `show_col_types = FALSE` to quiet this message.\n"
     ]
    },
    {
     "data": {
      "text/html": [
       "0"
      ],
      "text/latex": [
       "0"
      ],
      "text/markdown": [
       "0"
      ],
      "text/plain": [
       "[1] 0"
      ]
     },
     "metadata": {},
     "output_type": "display_data"
    }
   ],
   "source": [
    "latency <- load_csv(\"fog_node_neighbors_latency_rolling_avg.csv\") %>%\n",
    "  prepare() %>%\n",
    "  inner_join(names_raw %>% mutate(instance_to = instance) %>% mutate(destination_name = name) %>% select(-c(instance, name)), c(\"instance_to\", \"folder\", \"metric_group\")) \n",
    "graph_matrix[\"st-greg\", \"st-greg\"]\n",
    "\n",
    "latency_goals <- latency %>%\n",
    "  ungroup() %>% \n",
    "  select(destination_name, instance) %>% \n",
    "  distinct() %>% \n",
    "  rowwise() %>%\n",
    "  mutate(goal = max(graph_matrix[instance, destination_name], graph_matrix[destination_name, instance]))\n",
    "  # mutate(goal = graph_matrix[destination_name, instance])\n",
    "\n",
    "latency <- latency %>% \n",
    "  select(destination_name, value, instance, timestamp, folder, metric_group) %>%\n",
    "  inner_join(latency_goals, by = c(\"instance\", \"destination_name\")) %>%\n",
    "  mutate(value = 1000*value) %>%\n",
    "  mutate(diff = value - goal)\n",
    "# latency_goals\n",
    "# head(latency_goals %>% filter(destination_name == \"st-greg\"))\n",
    "# head(latency %>% filter(destination_name == \"st-greg\"))"
   ]
  },
  {
   "cell_type": "code",
   "execution_count": 184,
   "id": "079bc10e",
   "metadata": {
    "vscode": {
     "languageId": "r"
    }
   },
   "outputs": [
    {
     "name": "stderr",
     "output_type": "stream",
     "text": [
      "\u001b[1m\u001b[22m`summarise()` has grouped output by 'instance', 'destination_name', 'folder', 'metric_group'. You can override using the `.groups` argument.\n"
     ]
    },
    {
     "data": {
      "image/png": "[encoded data removed]",
      "text/plain": [
       "plot without title"
      ]
     },
     "metadata": {
      "image/png": {
       "height": 300,
       "width": 600
      }
     },
     "output_type": "display_data"
    }
   ],
   "source": [
    "latency_data <- latency %>%\n",
    "  # group_by(instance, folder, metric_group) %>%\n",
    "  # arrange(timestamp, .by_group = TRUE) %>%\n",
    "  # summarise(auc = sum(diff(timestamp) * rollmean(value, 2))) %>%\n",
    "  group_by(instance, destination_name, folder, metric_group) %>%\n",
    "  summarise(\n",
    "    quantile = scales::percent(c(0.01, 0.25, 0.5, 0.75, 0.95, 0.99)),\n",
    "    diff = quantile(diff, c(0.01, 0.25, 0.5, 0.75, 0.95, 0.99))\n",
    "  ) %>%\n",
    "  # pivot_longer(cols = -c(\"instance\", \"instance_to\", \"folder\"), names_to = c(\"quantile\")) %>%\n",
    "  {\n",
    "    .\n",
    "  }\n",
    "\n",
    "# head(latency)\n",
    "fig(10, 5)\n",
    "\n",
    "latency %>%\n",
    "ggplot(\n",
    "    aes(\n",
    "      x = factor(str_replace(interaction(instance, destination_name), \"\\\\.\", \" -> \"), ordered = TRUE),\n",
    "      y = diff,\n",
    "    )\n",
    "  ) +\n",
    "  geom_line() +\n",
    "  facet_grid(rows = vars(folder), scale = \"free\") +\n",
    "\n",
    "\n",
    "latency_data %>%\n",
    "  ggplot(\n",
    "    aes(\n",
    "      y = factor(str_replace(interaction(instance, destination_name), \"\\\\.\", \" -> \"), ordered = TRUE),\n",
    "      x = quantile,\n",
    "      fill = diff,\n",
    "    )\n",
    "  ) +\n",
    "  geom_raster() +\n",
    "  # geom_text(aes(label=round(diff)), color = \"white\", alpha=.7, size = 3) +\n",
    "  scale_fill_viridis_c(option = \"inferno\") + # trans = 'pseudo_log',\n",
    "  # scale_fill_gradient2(low = \"black\", high = \"white\") +\n",
    "  facet_grid(rows = vars(folder), scale = \"free\") +\n",
    "  labs(\n",
    "    x = \"Quantiles\",\n",
    "    y = \"Links (node <U+2192> destination)\",\n",
    "    title = \"Observed latencies\",\n",
    "    subtitle = \"Perceived by the node\",\n",
    "    fill = \"Latency (ms)\",\n",
    "  )\n"
   ]
  },
  {
   "cell_type": "markdown",
   "id": "8ba02dec-a9b9-4a0f-9b4a-ef3f18ae82f5",
   "metadata": {},
   "source": [
    "## Bids"
   ]
  },
  {
   "cell_type": "code",
   "execution_count": 139,
   "id": "db39fec8",
   "metadata": {
    "vscode": {
     "languageId": "r"
    }
   },
   "outputs": [
    {
     "name": "stderr",
     "output_type": "stream",
     "text": [
      "\u001b[1mRows: \u001b[22m\u001b[34m808\u001b[39m \u001b[1mColumns: \u001b[22m\u001b[34m7\u001b[39m\n",
      "\u001b[36m──\u001b[39m \u001b[1mColumn specification\u001b[22m \u001b[36m────────────────────────────────────────────────────────────────────────────────────────────────────────────────────────────────────────────────\u001b[39m\n",
      "\u001b[1mDelimiter:\u001b[22m \"\\t\"\n",
      "\u001b[31mchr\u001b[39m (5): name, function_name, instance, job, sla_id\n",
      "\u001b[32mdbl\u001b[39m (2): timestamp, value\n",
      "\n",
      "\u001b[36mℹ\u001b[39m Use `spec()` to retrieve the full column specification for this data.\n",
      "\u001b[36mℹ\u001b[39m Specify the column types or set `show_col_types = FALSE` to quiet this message.\n",
      "\u001b[1mRows: \u001b[22m\u001b[34m1232\u001b[39m \u001b[1mColumns: \u001b[22m\u001b[34m7\u001b[39m\n",
      "\u001b[36m──\u001b[39m \u001b[1mColumn specification\u001b[22m \u001b[36m────────────────────────────────────────────────────────────────────────────────────────────────────────────────────────────────────────────────\u001b[39m\n",
      "\u001b[1mDelimiter:\u001b[22m \"\\t\"\n",
      "\u001b[31mchr\u001b[39m (5): name, function_name, instance, job, sla_id\n",
      "\u001b[32mdbl\u001b[39m (2): timestamp, value\n",
      "\n",
      "\u001b[36mℹ\u001b[39m Use `spec()` to retrieve the full column specification for this data.\n",
      "\u001b[36mℹ\u001b[39m Specify the column types or set `show_col_types = FALSE` to quiet this message.\n",
      "\u001b[1m\u001b[22m`summarise()` has grouped output by 'instance', 'folder', 'metric_group', 'metric_group_group', 'load_type', 'latency_type'. You can override using the `.groups`\n",
      "argument.\n",
      "\u001b[1mRows: \u001b[22m\u001b[34m2904\u001b[39m \u001b[1mColumns: \u001b[22m\u001b[34m7\u001b[39m\n",
      "\u001b[36m──\u001b[39m \u001b[1mColumn specification\u001b[22m \u001b[36m────────────────────────────────────────────────────────────────────────────────────────────────────────────────────────────────────────────────\u001b[39m\n",
      "\u001b[1mDelimiter:\u001b[22m \"\\t\"\n",
      "\u001b[31mchr\u001b[39m (5): name, function_name, instance, job, sla_id\n",
      "\u001b[32mdbl\u001b[39m (2): timestamp, value\n",
      "\n",
      "\u001b[36mℹ\u001b[39m Use `spec()` to retrieve the full column specification for this data.\n",
      "\u001b[36mℹ\u001b[39m Specify the column types or set `show_col_types = FALSE` to quiet this message.\n",
      "\u001b[1mRows: \u001b[22m\u001b[34m2300\u001b[39m \u001b[1mColumns: \u001b[22m\u001b[34m7\u001b[39m\n",
      "\u001b[36m──\u001b[39m \u001b[1mColumn specification\u001b[22m \u001b[36m────────────────────────────────────────────────────────────────────────────────────────────────────────────────────────────────────────────────\u001b[39m\n",
      "\u001b[1mDelimiter:\u001b[22m \"\\t\"\n",
      "\u001b[31mchr\u001b[39m (5): name, function_name, instance, job, sla_id\n",
      "\u001b[32mdbl\u001b[39m (2): timestamp, value\n",
      "\n",
      "\u001b[36mℹ\u001b[39m Use `spec()` to retrieve the full column specification for this data.\n",
      "\u001b[36mℹ\u001b[39m Specify the column types or set `show_col_types = FALSE` to quiet this message.\n",
      "\u001b[1m\u001b[22m`summarise()` has grouped output by 'instance', 'folder', 'metric_group', 'metric_group_group', 'load_type', 'latency_type'. You can override using the `.groups`\n",
      "argument.\n"
     ]
    }
   ],
   "source": [
    "functions <- load_csv(\"market_refused_functions.csv\") %>%\n",
    "    prepare() %>%\n",
    "    extract_function_name_info() %>%\n",
    "    select(instance, sla_id, folder, metric_group, metric_group_group, load_type, latency_type) %>%\n",
    "    distinct() %>%\n",
    "    mutate(status = \"provisioned\") %>%\n",
    "    group_by(instance, folder, metric_group, metric_group_group, load_type, latency_type, status) %>%\n",
    "    summarise(n = n())\n",
    "\n",
    "# head(functions)\n",
    "\n",
    "functions <- load_csv(\"market_provisioned_functions.csv\") %>%\n",
    "    prepare() %>%\n",
    "    extract_function_name_info() %>%\n",
    "    select(instance, sla_id, folder, metric_group, metric_group_group, load_type, latency_type) %>%\n",
    "    distinct() %>%\n",
    "    mutate(status = \"refused\") %>%\n",
    "    group_by(instance, folder, metric_group, metric_group_group, load_type, latency_type, status) %>%\n",
    "    summarise(n = n()) %>%\n",
    "    full_join(functions, by = c(\"instance\", \"folder\", \"metric_group\", \"metric_group_group\", \"load_type\", \"latency_type\", \"status\", \"n\")) %>%\n",
    "    {\n",
    "        .\n",
    "    }\n",
    "\n",
    "# functions\n"
   ]
  },
  {
   "cell_type": "code",
   "execution_count": 140,
   "id": "b6fdcd71",
   "metadata": {
    "vscode": {
     "languageId": "r"
    }
   },
   "outputs": [
    {
     "name": "stderr",
     "output_type": "stream",
     "text": [
      "\u001b[1m\u001b[22m`summarise()` has grouped output by 'folder', 'instance', 'metric_group', 'metric_group_group', 'load_type'. You can override using the `.groups` argument.\n",
      "\u001b[1m\u001b[22m`summarise()` has grouped output by 'folder', 'status', 'metric_group', 'metric_group_group', 'load_type'. You can override using the `.groups` argument.\n",
      "Warning message:\n",
      "“Tried to calculate with group_by(), but the calculation failed.\n",
      "Falling back to ungrouped filter operation...”\n",
      "Warning message:\n",
      "“Computation failed in `stat_dotsinterval()`:\n",
      "il faut au moins 2 points pour choisir automatiquement la largeur de fenêtre”\n",
      "Warning message:\n",
      "“Computation failed in `stat_dotsinterval()`:\n",
      "il faut au moins 2 points pour choisir automatiquement la largeur de fenêtre”\n"
     ]
    },
    {
     "data": {
      "image/png": "[encoded data removed]",
      "text/plain": [
       "plot without title"
      ]
     },
     "metadata": {
      "image/png": {
       "height": 420,
       "width": 720
      }
     },
     "output_type": "display_data"
    }
   ],
   "source": [
    "total <- functions %>%\n",
    "    group_by(folder, instance, metric_group, metric_group_group, load_type, latency_type) %>%\n",
    "    summarise(total = sum(n))\n",
    "functions_total <- functions %>%\n",
    "    inner_join(total, by = c(\"instance\", \"folder\", \"metric_group\", \"metric_group_group\", \"load_type\", \"latency_type\")) %>%\n",
    "    # inner_join(node_levels %>% mutate(instance = name) %>% select(-name), by = c(\"instance\")) %>%\n",
    "    group_by(folder, status, metric_group, metric_group_group, load_type, latency_type) %>%\n",
    "    summarise(total = sum(total), n = sum(n)) %>%\n",
    "    mutate(ratio = n / total) %>%\n",
    "    {\n",
    "        .\n",
    "    }\n",
    "\n",
    "fig(20, 5)\n",
    "# functions_total %>%\n",
    "#     filter(status == \"provisioned\") %>%\n",
    "#     ggplot(aes(\n",
    "#         x = factor(str_replace(interaction(load_type, latency_type), \"\\\\.\", \", \")),\n",
    "#         y = ratio,\n",
    "#         # fill = factor(str_replace(interaction(load_type, latency_type), \"\\\\.\", \", \")),\n",
    "#         color = metric_group,\n",
    "#     )) +\n",
    "#     # geom_col(position = (preserve = \"single\")) +\n",
    "#     # geom_col() +\n",
    "#     geom_boxplot(position = position_dodge2()) +\n",
    "#     scale_y_continuous(label = scales::percent) +\n",
    "#     # geom_boxplot() +\n",
    "#     facet_grid(cols = vars(metric_group_group)) +\n",
    "#     labs(x = \"Deployments\", y = \"functions\", title = \"Deployed functions\", fill = \"State of the functions\") +\n",
    "#     scale_color_viridis(discrete = TRUE, option = \"D\") +\n",
    "#     scale_fill_viridis(discrete = TRUE) +\n",
    "#     theme(\n",
    "#         axis.text.x = element_text(angle = 45)\n",
    "#     )\n",
    "fig(12, 7)\n",
    "\n",
    "functions_total %>%\n",
    "    filter(status == \"provisioned\") %>%\n",
    "    correct_names() %>%\n",
    "    ggplot(\n",
    "        aes(\n",
    "            y = `Placement method`,\n",
    "            x = ratio,\n",
    "            # color = factor(str_replace(interaction(load_type, latency_type), \"\\\\.\", \", \")),\n",
    "            # shape = factor(str_replace(interaction(load_type, latency_type), \"\\\\.\", \", \"))\n",
    "            color = latency_type,\n",
    "            shape = latency_type,\n",
    "        )\n",
    "    ) +\n",
    "    stat_dotsinterval(position = \"dodge\", point_interval = mode_hdci, point_alpha = 0.1) +\n",
    "    gghighlight(metric_group == \"auction\", unhighlighted_params = list(point_alpha = 0.9, colour = NULL, fill = NULL, alpha = 0.3), label_params = list(linewidth = 10), calculate_per_facet = TRUE) +\n",
    "    # facet_grid(cols = vars(average_type), scales = \"free\") +\n",
    "    labs(\n",
    "        x = \"Deployment time (ms)\",\n",
    "        y = \"Placement algorithm\",\n",
    "        title = \"Deployment time of placement models\",\n",
    "        subtitle = \"Each point is an experiment run\",\n",
    "        color = \"Function type\",\n",
    "        shape = \"Function type\",\n",
    "    ) +\n",
    "    theme(\n",
    "        legend.position = \"bottom\",\n",
    "        legend.direction = \"vertical\",\n",
    "    )\n"
   ]
  },
  {
   "cell_type": "code",
   "execution_count": 141,
   "id": "fe17bb10",
   "metadata": {
    "vscode": {
     "languageId": "r"
    }
   },
   "outputs": [
    {
     "name": "stderr",
     "output_type": "stream",
     "text": [
      "\u001b[1mRows: \u001b[22m\u001b[34m10290\u001b[39m \u001b[1mColumns: \u001b[22m\u001b[34m8\u001b[39m\n",
      "\u001b[36m──\u001b[39m \u001b[1mColumn specification\u001b[22m \u001b[36m────────────────────────────────────────────────────────────────────────────────────────────────────────────────────────────────────────────────\u001b[39m\n",
      "\u001b[1mDelimiter:\u001b[22m \"\\t\"\n",
      "\u001b[31mchr\u001b[39m (6): name, bid_id, function_name, instance, job, sla_id\n",
      "\u001b[32mdbl\u001b[39m (2): timestamp, value\n",
      "\n",
      "\u001b[36mℹ\u001b[39m Use `spec()` to retrieve the full column specification for this data.\n",
      "\u001b[36mℹ\u001b[39m Specify the column types or set `show_col_types = FALSE` to quiet this message.\n",
      "\u001b[1mRows: \u001b[22m\u001b[34m2450\u001b[39m \u001b[1mColumns: \u001b[22m\u001b[34m8\u001b[39m\n",
      "\u001b[36m──\u001b[39m \u001b[1mColumn specification\u001b[22m \u001b[36m────────────────────────────────────────────────────────────────────────────────────────────────────────────────────────────────────────────────\u001b[39m\n",
      "\u001b[1mDelimiter:\u001b[22m \"\\t\"\n",
      "\u001b[31mchr\u001b[39m (6): name, bid_id, function_name, instance, job, sla_id\n",
      "\u001b[32mdbl\u001b[39m (2): timestamp, value\n",
      "\n",
      "\u001b[36mℹ\u001b[39m Use `spec()` to retrieve the full column specification for this data.\n",
      "\u001b[36mℹ\u001b[39m Specify the column types or set `show_col_types = FALSE` to quiet this message.\n"
     ]
    }
   ],
   "source": [
    "bids_raw <- load_csv(\"fog_node_bids.csv\") %>% prepare()"
   ]
  },
  {
   "cell_type": "code",
   "execution_count": 142,
   "id": "fa32b516",
   "metadata": {
    "lines_to_next_cell": 0,
    "vscode": {
     "languageId": "r"
    }
   },
   "outputs": [
    {
     "name": "stderr",
     "output_type": "stream",
     "text": [
      "\u001b[1m\u001b[22m`summarise()` has grouped output by 'sla_id', 'folder', 'metric_group', 'metric_group_group', 'latency_type'. You can override using the `.groups` argument.\n",
      "\u001b[1m\u001b[22m`summarise()` has grouped output by 'folder', 'metric_group', 'metric_group_group'. You can override using the `.groups` argument.\n",
      "\u001b[1m\u001b[22m`summarise()` has grouped output by 'folder', 'metric_group', 'metric_group_group'. You can override using the `.groups` argument.\n",
      "Warning message:\n",
      "“Tried to calculate with group_by(), but the calculation failed.\n",
      "Falling back to ungrouped filter operation...”\n",
      "Warning message:\n",
      "“Computation failed in `stat_dotsinterval()`:\n",
      "il faut au moins 2 points pour choisir automatiquement la largeur de fenêtre”\n",
      "Warning message:\n",
      "“Computation failed in `stat_dotsinterval()`:\n",
      "il faut au moins 2 points pour choisir automatiquement la largeur de fenêtre”\n"
     ]
    },
    {
     "data": {
      "image/png": "[encoded data removed]",
      "text/plain": [
       "plot without title"
      ]
     },
     "metadata": {
      "image/png": {
       "height": 420,
       "width": 720
      }
     },
     "output_type": "display_data"
    }
   ],
   "source": [
    "bids_function <- bids_raw %>%\n",
    "  # inner_join(node_levels %>% mutate(instance = name) %>% select(-name), by = c(\"instance\")) %>%\n",
    "  select(instance, folder, metric_group, metric_group_group, function_name, sla_id, bid_id) %>%\n",
    "  ungroup() %>%\n",
    "  distinct() %>%\n",
    "  extract_function_name_info() %>%\n",
    "  group_by(sla_id, folder, metric_group, metric_group_group, latency_type, load_type) %>%\n",
    "  summarise(n = n()) %>%\n",
    "  {\n",
    "    .\n",
    "  }\n",
    "\n",
    "\n",
    "top_1_percent <- bids_function %>%\n",
    "  group_by(folder, metric_group, metric_group_group, latency_type) %>%\n",
    "  arrange(desc(n), .by_group = T) %>%\n",
    "  mutate(rank = row_number()) %>%\n",
    "  filter(rank <= ceiling(n() * 0.05)) %>%\n",
    "  group_by(folder, metric_group, metric_group_group, latency_type) %>%\n",
    "  summarize(n_1_percent = mean(n))\n",
    "\n",
    "bids_function <- bids_function %>%\n",
    "  group_by(folder, metric_group, metric_group_group, latency_type) %>%\n",
    "  summarize(n = mean(n)) %>%\n",
    "  inner_join(top_1_percent, by = c(\"folder\", \"metric_group\", \"latency_type\")) %>%\n",
    "  gather(key = \"n_type\", value = \"n\", n, n_1_percent) %>%\n",
    "  mutate(n_type = case_when(\n",
    "    n_type == \"n\" ~ \"all\",\n",
    "    n_type == \"n_1_percent\" ~ \"worst 5% (highest)\",\n",
    "  )) %>%\n",
    "  {\n",
    "    .\n",
    "  }\n",
    "\n",
    "\n",
    "# bids_function\n",
    "# fig(12, 5)\n",
    "# bids_function_graph <- bids_function %>%\n",
    "#   mutate(latency_load = factor(str_replace(interaction(load_type, latency_type), \"\\\\.\", \", \"))) %>%\n",
    "#   ggplot(\n",
    "#     aes(\n",
    "#       x = metric_group,\n",
    "#       y = n,\n",
    "#       fill = latency_load,\n",
    "#       group = interaction(latency_load, metric_group),\n",
    "#     )\n",
    "#   ) +\n",
    "#   labs(\n",
    "#     title = \"Number of bids (total) made by each placement models\",\n",
    "#     x = \"placement models\",\n",
    "#     y = \"Number of bids\"\n",
    "#   ) +\n",
    "#   geom_boxplot(alpha = 0.3, position = position_dodge2()) +\n",
    "#   # geom_violin(width = 0.85) +\n",
    "#   # geom_boxplot(\n",
    "#   #   position = position_dodge(width = 0.85),\n",
    "#   #   width = 0.1,\n",
    "#   #   color = \"white\"\n",
    "#   #   # fill=transp,\n",
    "#   #   # alpha = 0.2\n",
    "#   # ) +\n",
    "#   scale_color_viridis(discrete = TRUE, option = \"E\") +\n",
    "#   scale_fill_viridis(discrete = TRUE) +\n",
    "#   theme(\n",
    "#     # legend.position = \"top\",\n",
    "#     # axis.title.x = element_blank(),\n",
    "#     axis.text.x = element_text(angle = 45)\n",
    "#   )\n",
    "# bids_function_graph\n",
    "\n",
    "bids_function_plot <- bids_function %>%\n",
    "  correct_names() %>%\n",
    "  ggplot(\n",
    "    aes(\n",
    "      y = `Placement method`,\n",
    "      x = n,\n",
    "      color = latency_type,\n",
    "      shape = latency_type\n",
    "      # dotsize = 0.6,\n",
    "      # bindwidth=0.5,\n",
    "      # # group = average_type,\n",
    "      # linewidth=0,\n",
    "    )\n",
    "  ) +\n",
    "  # geom_dotsinterval(position = \"dodge\", bindwidth = 0.6, dotsize = 0.6, scale = 0.8, point_interval = mode_hdci) +\n",
    "  stat_dotsinterval(position = \"dodge\", point_interval = mode_hdci, point_alpha = 0.1) +\n",
    "  # gghighlight(metric_group == \"auction\", unhighlighted_params = list(point_alpha = 0.9, scale = 0.8, bindwidth = 0.6, dotsize = 0.6, colour = NULL, fill = NULL, alpha = 0.3), label_params = list(linewidth = 10), calculate_per_facet = TRUE) +\n",
    "  gghighlight(metric_group == \"auction\", unhighlighted_params = list(point_alpha = 0.9, colour = NULL, fill = NULL, alpha = 0.3), label_params = list(linewidth = 10), calculate_per_facet = TRUE) +\n",
    "  facet_grid(cols = vars(n_type), scales = \"free\") +\n",
    "  labs(\n",
    "    x = \"Number of bids emitted\",\n",
    "    y = \"Placement algorithm\",\n",
    "    title = \"Number of bids made\",\n",
    "    subtitle = \"Each point is an experiment run\",\n",
    "    color = \"Function type\",\n",
    "    shape = \"Function type\",\n",
    "  ) +\n",
    "  theme(\n",
    "    legend.position = \"bottom\",\n",
    "    legend.direction = \"vertical\",\n",
    "  )\n",
    "bids_function_plot\n"
   ]
  },
  {
   "cell_type": "code",
   "execution_count": 143,
   "id": "424b6bd8",
   "metadata": {
    "vscode": {
     "languageId": "r"
    }
   },
   "outputs": [
    {
     "name": "stderr",
     "output_type": "stream",
     "text": [
      "\u001b[1mRows: \u001b[22m\u001b[34m3630\u001b[39m \u001b[1mColumns: \u001b[22m\u001b[34m8\u001b[39m\n",
      "\u001b[36m──\u001b[39m \u001b[1mColumn specification\u001b[22m \u001b[36m────────────────────────────────────────────────────────────────────────────────────────────────────────────────────────────────────────────────\u001b[39m\n",
      "\u001b[1mDelimiter:\u001b[22m \"\\t\"\n",
      "\u001b[31mchr\u001b[39m (6): name, bid_id, function_name, instance, job, sla_id\n",
      "\u001b[32mdbl\u001b[39m (2): timestamp, value\n",
      "\n",
      "\u001b[36mℹ\u001b[39m Use `spec()` to retrieve the full column specification for this data.\n",
      "\u001b[36mℹ\u001b[39m Specify the column types or set `show_col_types = FALSE` to quiet this message.\n",
      "\u001b[1mRows: \u001b[22m\u001b[34m2875\u001b[39m \u001b[1mColumns: \u001b[22m\u001b[34m8\u001b[39m\n",
      "\u001b[36m──\u001b[39m \u001b[1mColumn specification\u001b[22m \u001b[36m────────────────────────────────────────────────────────────────────────────────────────────────────────────────────────────────────────────────\u001b[39m\n",
      "\u001b[1mDelimiter:\u001b[22m \"\\t\"\n",
      "\u001b[31mchr\u001b[39m (6): name, bid_id, function_name, instance, job, sla_id\n",
      "\u001b[32mdbl\u001b[39m (2): timestamp, value\n",
      "\n",
      "\u001b[36mℹ\u001b[39m Use `spec()` to retrieve the full column specification for this data.\n",
      "\u001b[36mℹ\u001b[39m Specify the column types or set `show_col_types = FALSE` to quiet this message.\n"
     ]
    }
   ],
   "source": [
    "provisioned_sla <- load_csv(\"market_function_deployment_time.csv\") %>%\n",
    "  prepare() %>%\n",
    "  select(bid_id, sla_id, folder, metric_group, metric_group_group) %>%\n",
    "  distinct() %>%\n",
    "  {.}\n",
    "# provisioned_sla"
   ]
  },
  {
   "cell_type": "code",
   "execution_count": 144,
   "id": "fc3e236a",
   "metadata": {
    "vscode": {
     "languageId": "r"
    }
   },
   "outputs": [],
   "source": [
    "# provisioned_sla\n",
    "\n",
    "bids_won_function <- bids_raw %>%\n",
    "  select(sla_id, bid_id, instance,  function_name, folder, metric_group, metric_group_group, value) %>%\n",
    "  distinct() %>%\n",
    "  inner_join(provisioned_sla, by = c(\"bid_id\", \"sla_id\", \"folder\", \"metric_group\", \"metric_group_group\")) %>%\n",
    "  # group_by(sla_id, instance, function_name, folder, metric_group, metric_group_group) %>%\n",
    "  # arrange(desc(value), .by_group = TRUE) %>%\n",
    "  # mutate(second_price = lag(value)) %>%\n",
    "  # mutate(second_price = ifelse(is.na(second_price), value, second_price)) %>%\n",
    "  # slice(which.min(value)) %>%\n",
    "  mutate(winner = instance) %>%\n",
    "  mutate(cost = value) %>%\n",
    "  select(sla_id, function_name, folder, metric_group, metric_group_group, winner, cost) %>%\n",
    "  {.}\n",
    "# bids_won_function\n",
    "# bids_won_function %>% group_by(sla_id, function_name, folder, metric_group, metric_group_group) %>% filter(n() > 1)\n",
    "# head(bids_won_function %>% filter(sla_id==\"466f56bb-9fa5-443d-9862-86d8c13a01bf\"))"
   ]
  },
  {
   "cell_type": "code",
   "execution_count": 145,
   "id": "576cb103",
   "metadata": {
    "vscode": {
     "languageId": "r"
    }
   },
   "outputs": [
    {
     "name": "stderr",
     "output_type": "stream",
     "text": [
      "\u001b[1m\u001b[22mNew names:\n",
      "\u001b[36m•\u001b[39m `name` -> `name...1`\n",
      "\u001b[36m•\u001b[39m `name` -> `name...4`\n",
      "\u001b[1mRows: \u001b[22m\u001b[34m450\u001b[39m \u001b[1mColumns: \u001b[22m\u001b[34m6\u001b[39m\n",
      "\u001b[36m──\u001b[39m \u001b[1mColumn specification\u001b[22m \u001b[36m────────────────────────────────────────────────────────────────────────────────────────────────────────────────────────────────────────────────\u001b[39m\n",
      "\u001b[1mDelimiter:\u001b[22m \"\\t\"\n",
      "\u001b[31mchr\u001b[39m (4): name...1, instance, job, name...4\n",
      "\u001b[32mdbl\u001b[39m (2): timestamp, value\n",
      "\n",
      "\u001b[36mℹ\u001b[39m Use `spec()` to retrieve the full column specification for this data.\n",
      "\u001b[36mℹ\u001b[39m Specify the column types or set `show_col_types = FALSE` to quiet this message.\n",
      "\u001b[1m\u001b[22mNew names:\n",
      "\u001b[36m•\u001b[39m `name` -> `name...1`\n",
      "\u001b[36m•\u001b[39m `name` -> `name...4`\n",
      "\u001b[1mRows: \u001b[22m\u001b[34m225\u001b[39m \u001b[1mColumns: \u001b[22m\u001b[34m6\u001b[39m\n",
      "\u001b[36m──\u001b[39m \u001b[1mColumn specification\u001b[22m \u001b[36m────────────────────────────────────────────────────────────────────────────────────────────────────────────────────────────────────────────────\u001b[39m\n",
      "\u001b[1mDelimiter:\u001b[22m \"\\t\"\n",
      "\u001b[31mchr\u001b[39m (4): name...1, instance, job, name...4\n",
      "\u001b[32mdbl\u001b[39m (2): timestamp, value\n",
      "\n",
      "\u001b[36mℹ\u001b[39m Use `spec()` to retrieve the full column specification for this data.\n",
      "\u001b[36mℹ\u001b[39m Specify the column types or set `show_col_types = FALSE` to quiet this message.\n",
      "\u001b[1m\u001b[22mNew names:\n",
      "\u001b[36m•\u001b[39m `name` -> `name...1`\n",
      "\u001b[36m•\u001b[39m `name` -> `name...4`\n",
      "\u001b[1mRows: \u001b[22m\u001b[34m450\u001b[39m \u001b[1mColumns: \u001b[22m\u001b[34m6\u001b[39m\n",
      "\u001b[36m──\u001b[39m \u001b[1mColumn specification\u001b[22m \u001b[36m────────────────────────────────────────────────────────────────────────────────────────────────────────────────────────────────────────────────\u001b[39m\n",
      "\u001b[1mDelimiter:\u001b[22m \"\\t\"\n",
      "\u001b[31mchr\u001b[39m (4): name...1, instance, job, name...4\n",
      "\u001b[32mdbl\u001b[39m (2): timestamp, value\n",
      "\n",
      "\u001b[36mℹ\u001b[39m Use `spec()` to retrieve the full column specification for this data.\n",
      "\u001b[36mℹ\u001b[39m Specify the column types or set `show_col_types = FALSE` to quiet this message.\n",
      "\u001b[1m\u001b[22mNew names:\n",
      "\u001b[36m•\u001b[39m `name` -> `name...1`\n",
      "\u001b[36m•\u001b[39m `name` -> `name...4`\n",
      "\u001b[1mRows: \u001b[22m\u001b[34m225\u001b[39m \u001b[1mColumns: \u001b[22m\u001b[34m6\u001b[39m\n",
      "\u001b[36m──\u001b[39m \u001b[1mColumn specification\u001b[22m \u001b[36m────────────────────────────────────────────────────────────────────────────────────────────────────────────────────────────────────────────────\u001b[39m\n",
      "\u001b[1mDelimiter:\u001b[22m \"\\t\"\n",
      "\u001b[31mchr\u001b[39m (4): name...1, instance, job, name...4\n",
      "\u001b[32mdbl\u001b[39m (2): timestamp, value\n",
      "\n",
      "\u001b[36mℹ\u001b[39m Use `spec()` to retrieve the full column specification for this data.\n",
      "\u001b[36mℹ\u001b[39m Specify the column types or set `show_col_types = FALSE` to quiet this message.\n"
     ]
    }
   ],
   "source": [
    "cpu_used <- load_csv(\"fog_node_cpu_used.csv\") %>% prepare()\n",
    "cpu_avail <- load_csv(\"fog_node_cpu_available.csv\") %>% prepare()"
   ]
  },
  {
   "cell_type": "code",
   "execution_count": 146,
   "id": "686ecb4b",
   "metadata": {
    "vscode": {
     "languageId": "r"
    }
   },
   "outputs": [
    {
     "name": "stderr",
     "output_type": "stream",
     "text": [
      "\u001b[1m\u001b[22m`summarise()` has grouped output by 'instance'. You can override using the `.groups` argument.\n"
     ]
    }
   ],
   "source": [
    "max_timestamp_cpu <- cpu_used %>%\n",
    "    select(timestamp, instance, folder) %>%\n",
    "    group_by(instance, folder) %>%\n",
    "    summarise(max = max(timestamp))"
   ]
  },
  {
   "cell_type": "code",
   "execution_count": 147,
   "id": "04d4af0f",
   "metadata": {
    "vscode": {
     "languageId": "r"
    }
   },
   "outputs": [
    {
     "name": "stderr",
     "output_type": "stream",
     "text": [
      "\u001b[1m\u001b[22m`summarise()` has grouped output by 'instance', 'folder', 'metric_group'. You can override using the `.groups` argument.\n"
     ]
    }
   ],
   "source": [
    "auc_usage <- cpu_used %>%\n",
    "    inner_join(cpu_avail, by = c(\"instance\", \"timestamp\", \"folder\", \"metric_group\", \"metric_group_group\")) %>%\n",
    "    mutate(usage = value.x / value.y) %>%\n",
    "    # mutate(usage = value.y) %>%\n",
    "    select(instance, timestamp, usage, folder, metric_group, metric_group_group)\n",
    "\n",
    "# auc_usage %>% filter(usage > 1)\n",
    "\n",
    "# auc_usage %>%\n",
    "# filter(usage > 1) %>%\n",
    "#     # filter(instance == \"cesson-in\", metric_group == \"auction\") %>%\n",
    "#     inner_join(node_levels %>% mutate(instance = name) %>% select(-name), by = c(\"instance\")) %>%\n",
    "#     ggplot(aes(\n",
    "#         x = timestamp,\n",
    "#         y = usage,\n",
    "#         color = interaction(folder, instance),\n",
    "#         alpha = 0.3\n",
    "#     )) +\n",
    "#     facet_grid(cols = vars(metric_group_group), rows = vars(level), scales = \"free\") +\n",
    "#     geom_step() +\n",
    "#     geom_point() +\n",
    "#     labs(\n",
    "#         x = \"Placement models\",\n",
    "#         y = \"Value of bids\",\n",
    "#         title = \"Value of bids won by function type\",\n",
    "#         fill = \"Function type\"\n",
    "#     ) +\n",
    "#     theme(\n",
    "#         axis.text.x = element_text(angle = 45),\n",
    "#         legend.position = \"none\"\n",
    "#     )\n",
    "auc_usage <- auc_usage %>%\n",
    "    drop_na() %>%\n",
    "    distinct() %>%\n",
    "    group_by(instance, folder, metric_group, metric_group_group) %>%\n",
    "    arrange(timestamp, .by_group = TRUE) %>%\n",
    "    summarise(usage = sum(diff(timestamp) * rollmean(usage, 2))) %>%\n",
    "    inner_join(max_timestamp_cpu, by = c(\"instance\", \"folder\")) %>%\n",
    "    mutate(usage_ratio = usage / as.numeric(max)) %>% # * 100%\n",
    "    {\n",
    "        .\n",
    "    }\n",
    "\n",
    "folders <- auc_usage %>%\n",
    "  ungroup() %>%\n",
    "    select(folder, metric_group, metric_group_group) %>%\n",
    "    distinct()\n",
    "\n",
    "missing_data <- expand.grid(\n",
    "    instance = node_levels$name,\n",
    "    folder = folders$folder\n",
    ") %>%\n",
    "    # inner_join(node_levels %>% mutate(winner = name) %>% select(-name), by = c(\"winner\")) %>%\n",
    "    inner_join(folders, by = c(\"folder\")) \n",
    "\n",
    "auc_usage <- auc_usage %>%\n",
    "    ungroup() %>%\n",
    "    full_join(missing_data, by = c(\"instance\", \"folder\", \"metric_group\", \"metric_group_group\")) %>%\n",
    "    ungroup() %>%\n",
    "    {.}\n",
    "\n",
    "auc_usage$usage_ratio[is.na(auc_usage$usage_ratio)] <- 0\n"
   ]
  },
  {
   "cell_type": "code",
   "execution_count": 148,
   "id": "276b2d4a",
   "metadata": {
    "vscode": {
     "languageId": "r"
    }
   },
   "outputs": [
    {
     "name": "stderr",
     "output_type": "stream",
     "text": [
      "\u001b[1m\u001b[22m`summarise()` has grouped output by 'folder', 'metric_group', 'metric_group_group'. You can override using the `.groups` argument.\n"
     ]
    }
   ],
   "source": [
    "# transform_ratio <- bids_raw %>%\n",
    "#     select(sla_id, bid_id, function_name, folder, metric_group, metric_group_group) %>%\n",
    "#     distinct() %>%\n",
    "#     group_by(sla_id, function_name, folder, metric_group, metric_group_group) %>%\n",
    "#     summarise(nb_bids = n())\n",
    "\n",
    "# transform_ratio <- sla_turnover_processed %>%\n",
    "#     select(sla_id, n, function_name, folder, metric_group, metric_group_group) %>%\n",
    "#     distinct() %>%\n",
    "#     mutate(nb_sla = n) %>%\n",
    "#     select(-n) %>%\n",
    "#     inner_join(transform_ratio, by = c(\"sla_id\", \"function_name\", \"folder\", \"metric_group\", \"metric_group_group\"))\n",
    "\n",
    "total_gains <- bids_won_function %>%\n",
    "    group_by(folder, metric_group, metric_group_group, winner) %>%\n",
    "    summarise(earnings = sum(cost)) %>%\n",
    "    {\n",
    "        .\n",
    "    }\n",
    "# bids_won_function %>% group_by_all() %>% filter(n() > 1) %>% ungroup()\n",
    "    \n"
   ]
  },
  {
   "cell_type": "code",
   "execution_count": 149,
   "id": "8e647054",
   "metadata": {
    "vscode": {
     "languageId": "r"
    }
   },
   "outputs": [
    {
     "name": "stderr",
     "output_type": "stream",
     "text": [
      "\u001b[1m\u001b[22m`summarise()` has grouped output by 'folder', 'metric_group', 'metric_group_group', 'winner', 'latency_type'. You can override using the `.groups` argument.\n",
      "\u001b[1m\u001b[22m`summarise()` has grouped output by 'folder', 'metric_group', 'metric_group_group', 'latency_type', 'load_type'. You can override using the `.groups` argument.\n"
     ]
    },
    {
     "data": {
      "text/html": [
       "<table class=\"dataframe\">\n",
       "<caption>A grouped_df: 0 x 8</caption>\n",
       "<thead>\n",
       "\t<tr><th scope=col>folder</th><th scope=col>metric_group</th><th scope=col>metric_group_group</th><th scope=col>latency_type</th><th scope=col>load_type</th><th scope=col>level</th><th scope=col>function_cost</th><th scope=col>nb_functions</th></tr>\n",
       "\t<tr><th scope=col>&lt;chr&gt;</th><th scope=col>&lt;chr&gt;</th><th scope=col>&lt;chr&gt;</th><th scope=col>&lt;chr&gt;</th><th scope=col>&lt;chr&gt;</th><th scope=col>&lt;ord&gt;</th><th scope=col>&lt;dbl&gt;</th><th scope=col>&lt;int&gt;</th></tr>\n",
       "</thead>\n",
       "<tbody>\n",
       "</tbody>\n",
       "</table>\n"
      ],
      "text/latex": [
       "A grouped\\_df: 0 x 8\n",
       "\\begin{tabular}{llllllll}\n",
       " folder & metric\\_group & metric\\_group\\_group & latency\\_type & load\\_type & level & function\\_cost & nb\\_functions\\\\\n",
       " <chr> & <chr> & <chr> & <chr> & <chr> & <ord> & <dbl> & <int>\\\\\n",
       "\\hline\n",
       "\\end{tabular}\n"
      ],
      "text/markdown": [
       "\n",
       "A grouped_df: 0 x 8\n",
       "\n",
       "| folder &lt;chr&gt; | metric_group &lt;chr&gt; | metric_group_group &lt;chr&gt; | latency_type &lt;chr&gt; | load_type &lt;chr&gt; | level &lt;ord&gt; | function_cost &lt;dbl&gt; | nb_functions &lt;int&gt; |\n",
       "|---|---|---|---|---|---|---|---|\n",
       "\n"
      ],
      "text/plain": [
       "     folder metric_group metric_group_group latency_type load_type level\n",
       "     function_cost nb_functions"
      ]
     },
     "metadata": {},
     "output_type": "display_data"
    },
    {
     "name": "stderr",
     "output_type": "stream",
     "text": [
      "Warning message:\n",
      "“Tried to calculate with group_by(), but the calculation failed.\n",
      "Falling back to ungrouped filter operation...”\n",
      "Warning message:\n",
      "“Using shapes for an ordinal variable is not advised”\n",
      "Warning message:\n",
      "“Computation failed in `stat_dotsinterval()`:\n",
      "il faut au moins 2 points pour choisir automatiquement la largeur de fenêtre”\n",
      "Warning message:\n",
      "“Computation failed in `stat_dotsinterval()`:\n",
      "il faut au moins 2 points pour choisir automatiquement la largeur de fenêtre”\n",
      "Warning message:\n",
      "“Computation failed in `stat_dotsinterval()`:\n",
      "il faut au moins 2 points pour choisir automatiquement la largeur de fenêtre”\n",
      "Warning message:\n",
      "“Computation failed in `stat_dotsinterval()`:\n",
      "il faut au moins 2 points pour choisir automatiquement la largeur de fenêtre”\n",
      "Warning message:\n",
      "“Computation failed in `stat_dotsinterval()`:\n",
      "il faut au moins 2 points pour choisir automatiquement la largeur de fenêtre”\n",
      "Warning message:\n",
      "“Computation failed in `stat_dotsinterval()`:\n",
      "il faut au moins 2 points pour choisir automatiquement la largeur de fenêtre”\n",
      "Warning message:\n",
      "“Computation failed in `stat_dotsinterval()`:\n",
      "il faut au moins 2 points pour choisir automatiquement la largeur de fenêtre”\n",
      "Warning message:\n",
      "“Computation failed in `stat_dotsinterval()`:\n",
      "il faut au moins 2 points pour choisir automatiquement la largeur de fenêtre”\n"
     ]
    },
    {
     "data": {
      "image/png": "[encoded data removed]",
      "text/plain": [
       "plot without title"
      ]
     },
     "metadata": {
      "image/png": {
       "height": 420,
       "width": 720
      }
     },
     "output_type": "display_data"
    }
   ],
   "source": [
    "fig(12, 7)\n",
    "value_of_bids <- bids_won_function %>%\n",
    "    extract_function_name_info() %>%\n",
    "    group_by(folder, metric_group, metric_group_group, winner, latency_type, load_type) %>%\n",
    "    summarise(function_cost = mean(cost), nb_functions = n()) %>%\n",
    "    inner_join(node_levels %>% mutate(winner = name) %>% select(-name), by = c(\"winner\")) %>%\n",
    "    group_by(folder, metric_group, metric_group_group, latency_type, load_type, level) %>%\n",
    "    summarise(function_cost = mean(function_cost), nb_functions = sum(nb_functions)) %>%\n",
    "    {.}\n",
    "\n",
    "value_of_bids %>% filter(metric_group == \"auction\" & latency_type == \"High latency\" & load_type == \"High load\" & level ==\"Edge\")\n",
    "\n",
    "value_of_bids %>%\n",
    "    correct_names() %>%\n",
    "    ggplot(aes(\n",
    "        x = function_cost,\n",
    "        y = `Placement method`,\n",
    "        color = level,\n",
    "        shape = level\n",
    "    )) +\n",
    "    stat_dotsinterval(position = \"dodge\", point_interval = mode_hdci, point_alpha = 0.1) +\n",
    "    gghighlight(metric_group == \"auction\", unhighlighted_params = list(point_alpha = 0.9, colour = NULL, fill = NULL, alpha = 0.3), label_params = list(linewidth = 10), calculate_per_facet = TRUE) +\n",
    "    facet_grid(cols = vars(interaction(load_type, latency_type))) +\n",
    "    #   labs(\n",
    "    #     x = \"Deployment time (ms)\",\n",
    "    #     y = \"Placement algorithm\",\n",
    "    #     title = \"Deployment time of placement models\",\n",
    "    #     subtitle = \"Each point is an experiment run\",\n",
    "    #     color = \"Function type\",\n",
    "    #     shape = \"Function type\",\n",
    "    #   ) +\n",
    "    theme(\n",
    "        legend.position = \"bottom\",\n",
    "        legend.direction = \"vertical\",\n",
    "    )\n"
   ]
  },
  {
   "cell_type": "code",
   "execution_count": 150,
   "id": "d7000422",
   "metadata": {
    "vscode": {
     "languageId": "r"
    }
   },
   "outputs": [
    {
     "name": "stderr",
     "output_type": "stream",
     "text": [
      "\u001b[1m\u001b[22m`summarise()` has grouped output by 'folder', 'metric_group'. You can override using the `.groups` argument.\n"
     ]
    }
   ],
   "source": [
    "grand_total_gains <- bids_won_function %>%\n",
    "    group_by(folder, metric_group, metric_group_group) %>%\n",
    "    summarise(grand_total = sum(cost))"
   ]
  },
  {
   "cell_type": "code",
   "execution_count": 151,
   "id": "fbd20dc1",
   "metadata": {
    "vscode": {
     "languageId": "r"
    }
   },
   "outputs": [
    {
     "name": "stderr",
     "output_type": "stream",
     "text": [
      "\u001b[1m\u001b[22m`summarise()` has grouped output by 'folder', 'metric_group', 'metric_group_group'. You can override using the `.groups` argument.\n",
      "\u001b[1m\u001b[22m`summarise()` has grouped output by 'metric_group', 'level'. You can override using the `.groups` argument.\n",
      "Warning message:\n",
      "“Ignoring unknown parameters: slab_linewidth”\n",
      "Warning message:\n",
      "“Tried to calculate with group_by(), but the calculation failed.\n",
      "Falling back to ungrouped filter operation...”\n",
      "Warning message:\n",
      "“Using shapes for an ordinal variable is not advised”\n"
     ]
    },
    {
     "data": {
      "image/png": "[encoded data removed]",
      "text/plain": [
       "plot without title"
      ]
     },
     "metadata": {
      "image/png": {
       "height": 240,
       "width": 720
      }
     },
     "output_type": "display_data"
    }
   ],
   "source": [
    "transform_ratio_graph <- auc_usage %>%\n",
    "    mutate(winner = instance) %>%\n",
    "    ungroup() %>%\n",
    "    select(-instance) %>%\n",
    "    inner_join(grand_total_gains, by = c(\"folder\", \"metric_group\", \"metric_group_group\")) %>%\n",
    "    inner_join(total_gains, by = c(\"folder\", \"metric_group\", \"metric_group_group\", \"winner\")) %>%\n",
    "    mutate(gains_ratio = earnings / grand_total) %>%\n",
    "    inner_join(node_levels %>% mutate(winner = name) %>% select(-name), by = c(\"winner\")) %>%\n",
    "    {\n",
    "        .\n",
    "    }\n",
    "\n",
    "\n",
    "folders <- transform_ratio_graph %>%\n",
    "    select(folder, metric_group, metric_group_group) %>%\n",
    "    distinct()\n",
    "missing_data <- expand.grid(\n",
    "    winner = node_levels$name,\n",
    "    folder = folders$folder\n",
    ") %>%\n",
    "    inner_join(node_levels %>% mutate(winner = name) %>% select(-name), by = c(\"winner\")) %>%\n",
    "    inner_join(folders, by = c(\"folder\"))\n",
    "\n",
    "transform_ratio_graph <- transform_ratio_graph %>%\n",
    "    full_join(missing_data, by = c(\"winner\", \"level\", \"folder\", \"metric_group\", \"metric_group_group\")) %>%\n",
    "    ungroup() %>%\n",
    "    {\n",
    "        .\n",
    "    }\n",
    "transform_ratio_graph$gains_ratio[is.na(transform_ratio_graph$gains_ratio)] <- 0\n",
    "\n",
    "top_1_percent <- transform_ratio_graph %>%\n",
    "    group_by(folder, metric_group, metric_group_group, level) %>%\n",
    "    arrange(desc(gains_ratio), .by_group = TRUE) %>%\n",
    "    mutate(rank = row_number()) %>%\n",
    "    filter(rank <= ceiling(n() * 0.05)) %>%\n",
    "    group_by(folder, metric_group, metric_group_group, level) %>%\n",
    "    summarize(gains_ratio_1_percent = mean(gains_ratio))\n",
    "\n",
    "transform_ratio_graph <- transform_ratio_graph %>%\n",
    "    group_by(metric_group, level, folder) %>%\n",
    "    summarise(gains_ratio = mean(gains_ratio)) %>%\n",
    "    inner_join(top_1_percent, by = c(\"folder\", \"metric_group\", \"level\")) %>%\n",
    "    gather(key = \"gains_ratio_type\", value = \"gains_ratio\", gains_ratio, gains_ratio_1_percent) %>%\n",
    "    mutate(gains_ratio_type = case_when(\n",
    "        gains_ratio_type == \"gains_ratio\" ~ \"all\",\n",
    "        gains_ratio_type == \"gains_ratio_1_percent\" ~ \"5% highest\",\n",
    "    ))\n",
    "\n",
    "\n",
    "transform_ratio_graph_plot_earnings <- transform_ratio_graph %>%\n",
    "    filter(gains_ratio_type == \"all\") %>%\n",
    "    correct_names() %>%\n",
    "    ggplot(aes(\n",
    "        x = gains_ratio,\n",
    "        y = `Placement method`,\n",
    "        color = metric_group,\n",
    "        fill = metric_group,\n",
    "        shape = metric_group\n",
    "    )) +\n",
    "    stat_dotsinterval(position = \"dodge\", binwidth = 0.0015, scale = 0.95, size = 7, slab_linewidth = 0) +\n",
    "    gghighlight(metric_group == \"auction\", unhighlighted_params = list(slab_alpha = 0.3, point_alpha = 0.3, colour = NULL, fill = NULL, alpha = 0.3), label_params = list(linewidth = 10), calculate_per_facet = TRUE) +\n",
    "    scale_x_continuous(label = scales::percent) +\n",
    "    facet_grid2(cols = vars(level), rows = vars(gains_ratio_type), axes = \"all\", remove_labels = \"y\") +\n",
    "    labs(\n",
    "        y = \"Placement algorithm\",\n",
    "        x = \"% of the total earnings\",\n",
    "        title = \"Ratio of earnings per fog node averaged in layers\",\n",
    "        subtitle = \"\\\\textit{Each point is an experiment run}\",\n",
    "        fill = \"Function type\",\n",
    "        color = \"Function type\",\n",
    "        shape = \"Function type\"\n",
    "    ) +\n",
    "    theme(\n",
    "        legend.position = \"none\",\n",
    "        strip.text.y = element_blank()\n",
    "    ) +\n",
    "    coord_capped_cart(bottom = \"both\") +\n",
    "    scale_y_discrete(guide = guide_prism_bracket(width = 0.15))\n",
    "fig(12, 4)\n",
    "transform_ratio_graph_plot_earnings\n"
   ]
  },
  {
   "cell_type": "code",
   "execution_count": 152,
   "id": "891bd299",
   "metadata": {
    "vscode": {
     "languageId": "r"
    }
   },
   "outputs": [],
   "source": [
    "# grand_total_gains <- bids_won_function %>%\n",
    "#     group_by(folder, metric_group, metric_group_group) %>%\n",
    "#     summarise(grand_total = sum(cost))\n",
    "\n",
    "# Each point is an experiment run\",\n",
    "#         fill = \"Function type\",\n",
    "#         color = \"Function type\",\n",
    "#         shape = \"Function type\"\n",
    "#     ) +\n",
    "#     theme(\n",
    "#         legend.position = \"none\",\n",
    "#         strip.text.y = element_blank()\n",
    "#     ) +\n",
    "#     coord_capped_cart(bottom = \"both\") +\n",
    "#     scale_y_discrete(guide = guide_prism_bracket(width = 0.15))\n",
    "# fig(12, 4)\n",
    "# transform_ratio_graph_plot_earnings\n"
   ]
  },
  {
   "cell_type": "code",
   "execution_count": 153,
   "id": "c39ccf71",
   "metadata": {
    "vscode": {
     "languageId": "r"
    }
   },
   "outputs": [
    {
     "name": "stderr",
     "output_type": "stream",
     "text": [
      "\u001b[1m\u001b[22m`summarise()` has grouped output by 'folder'. You can override using the `.groups` argument.\n"
     ]
    },
    {
     "data": {
      "text/html": [
       "<table class=\"dataframe\">\n",
       "<caption>A rowwise_df: 1 x 7</caption>\n",
       "<thead>\n",
       "\t<tr><th scope=col>x_category</th><th scope=col>min</th><th scope=col>max</th><th scope=col>med</th><th scope=col>size</th><th scope=col>max_size</th><th scope=col>scale</th></tr>\n",
       "\t<tr><th scope=col>&lt;fct&gt;</th><th scope=col>&lt;dbl&gt;</th><th scope=col>&lt;dbl&gt;</th><th scope=col>&lt;dbl&gt;</th><th scope=col>&lt;dbl&gt;</th><th scope=col>&lt;dbl&gt;</th><th scope=col>&lt;list&gt;</th></tr>\n",
       "</thead>\n",
       "<tbody>\n",
       "\t<tr><td>b1</td><td>7028.31</td><td>11300.51</td><td>9164.41</td><td>3212.18</td><td>4272.2</td><td>&lt;environment: 0xcb208b8&gt;</td></tr>\n",
       "</tbody>\n",
       "</table>\n"
      ],
      "text/latex": [
       "A rowwise\\_df: 1 x 7\n",
       "\\begin{tabular}{lllllll}\n",
       " x\\_category & min & max & med & size & max\\_size & scale\\\\\n",
       " <fct> & <dbl> & <dbl> & <dbl> & <dbl> & <dbl> & <list>\\\\\n",
       "\\hline\n",
       "\t b1 & 7028.31 & 11300.51 & 9164.41 & 3212.18 & 4272.2 & <environment: 0xcb208b8>\\\\\n",
       "\\end{tabular}\n"
      ],
      "text/markdown": [
       "\n",
       "A rowwise_df: 1 x 7\n",
       "\n",
       "| x_category &lt;fct&gt; | min &lt;dbl&gt; | max &lt;dbl&gt; | med &lt;dbl&gt; | size &lt;dbl&gt; | max_size &lt;dbl&gt; | scale &lt;list&gt; |\n",
       "|---|---|---|---|---|---|---|\n",
       "| b1 | 7028.31 | 11300.51 | 9164.41 | 3212.18 | 4272.2 | &lt;environment: 0xcb208b8&gt; |\n",
       "\n"
      ],
      "text/plain": [
       "  x_category min     max      med     size    max_size scale                   \n",
       "1 b1         7028.31 11300.51 9164.41 3212.18 4272.2   <environment: 0xcb208b8>"
      ]
     },
     "metadata": {},
     "output_type": "display_data"
    },
    {
     "name": "stderr",
     "output_type": "stream",
     "text": [
      "Warning message:\n",
      "“Ignoring unknown parameters: slab_linewidth”\n",
      "Warning message:\n",
      "“Using shapes for an ordinal variable is not advised”\n"
     ]
    },
    {
     "data": {
      "image/png": "[encoded data removed]",
      "text/plain": [
       "plot without title"
      ]
     },
     "metadata": {
      "image/png": {
       "height": 240,
       "width": 540
      }
     },
     "output_type": "display_data"
    }
   ],
   "source": [
    "# transform_ratio_graph <- auc_usage %>%\n",
    "#     mutate(winner = instance) %>%\n",
    "#     ungroup() %>%\n",
    "#     select(-instance) %>%\n",
    "#     inner_join(grand_total_gains, by = c(\"folder\", \"metric_group\", \"metric_group_group\")) %>%\n",
    "#     inner_join(total_gains, by = c(\"folder\", \"metric_group\", \"metric_group_group\", \"winner\")) %>%\n",
    "#     # mutate(gains_ratio = earnings / grand_total) %>%\n",
    "#     inner_join(node_levels %>% mutate(winner = name) %>% select(-name), by = c(\"winner\")) %>%\n",
    "#     {\n",
    "#         .\n",
    "#     }\n",
    "\n",
    "# folders <- transform_ratio_graph %>%\n",
    "#     select(folder, metric_group, metric_group_group) %>%\n",
    "#     distinct()\n",
    "# missing_data <- expand.grid(\n",
    "#     winner = node_levels$name,\n",
    "#     folder = folders$folder\n",
    "# ) %>%\n",
    "#     inner_join(node_levels %>% mutate(winner = name) %>% select(-name), by = c(\"winner\")) %>%\n",
    "#     inner_join(folders, by = c(\"folder\"))\n",
    "\n",
    "# transform_ratio_graph <- transform_ratio_graph %>%\n",
    "#     full_join(missing_data, by = c(\"winner\", \"level\", \"folder\", \"metric_group\", \"metric_group_group\")) %>%\n",
    "#     ungroup() %>%\n",
    "#     {\n",
    "#         .\n",
    "#     }\n",
    "# # transform_ratio_graph$gains_ratio[is.na(transform_ratio_graph$gains_ratio)] <- 0\n",
    "# transform_ratio_graph$earnings[is.na(transform_ratio_graph$earnings)] <- 0\n",
    "\n",
    "# top_1_percent <- transform_ratio_graph %>%\n",
    "#     group_by(folder, metric_group, metric_group_group) %>%\n",
    "#     arrange(desc(earnings), .by_group = TRUE) %>%\n",
    "#     mutate(rank = row_number()) %>%\n",
    "#     filter(rank <= ceiling(n() * 0.05)) %>%\n",
    "#     group_by(folder, metric_group, metric_group_group) %>%\n",
    "#     summarize(earnings_1_percent = mean(earnings), earnings_sum_1_percent = sum(earnings))\n",
    "\n",
    "# transform_ratio_graph <- transform_ratio_graph %>%\n",
    "#     group_by(metric_group, folder) %>%\n",
    "#     summarise(earnings_avg = mean(earnings), earnings_sum = sum(earnings)) %>%\n",
    "#     inner_join(top_1_percent, by = c(\"folder\", \"metric_group\")) %>%\n",
    "#     gather(key = \"earnings_type\", value = \"earnings\", earnings_avg, earnings_1_percent, earnings_sum, earnings_sum_1_percent) %>%\n",
    "#     mutate(earnings_type = case_when(\n",
    "#         earnings_type == \"earnings_avg\" ~ \"all avg\",\n",
    "#         earnings_type == \"earnings_1_percent\" ~ \"5% highest avg\",\n",
    "#         earnings_type == \"earnings_sum\" ~ \"all sum\",\n",
    "#         earnings_type == \"earnings_sum_1_percent\" ~ \"5% highest sum\",\n",
    "#     ))\n",
    "\n",
    "\n",
    "# # transform_ratio_graph_plot_earnings <- transform_ratio_graph %>%\n",
    "# #     filter(earnings_type == \"all sum\") %>%\n",
    "# #     correct_names() %>%\n",
    "# #     ggplot(aes(\n",
    "# #         x = earnings,\n",
    "# #         y = `Placement method`,\n",
    "# #         color = metric_group,\n",
    "# #         fill = metric_group,\n",
    "# #         shape = metric_group\n",
    "# #     )) +\n",
    "# #     stat_dotsinterval(position = \"dodge\", binwidth = 0.0015, scale = 0.95, size = 7, slab_linewidth = 0) +\n",
    "# #     gghighlight(metric_group == \"auction\", unhighlighted_params = list(slab_alpha = 0.3, point_alpha = 0.3, colour = NULL, fill = NULL, alpha = 0.3), label_params = list(linewidth = 10), calculate_per_facet = TRUE) +\n",
    "# #     # scale_x_continuous(label = scales::percent) +\n",
    "# #     facet_grid2(rows = vars(earnings_type), axes = \"all\", remove_labels = \"y\", scales=\"free_x\") +\n",
    "# #     labs(\n",
    "# #         y = \"Placement algorithm\",\n",
    "# #         x = \"% of the total earnings\",\n",
    "# #         title = \"Ratio of earnings per fog node averaged in layers\",\n",
    "# #         fill = \"Function type\",\n",
    "# #         color = \"Function type\",\n",
    "# #         shape = \"Function type\"\n",
    "# #     ) +\n",
    "# #     theme(\n",
    "# #         legend.position = \"none\",\n",
    "# #     ) +\n",
    "# #     coord_capped_cart(bottom = \"both\") +\n",
    "# #     scale_y_discrete(guide = guide_prism_bracket(width = 0.15))\n",
    "# # fig(12, 7)\n",
    "# # transform_ratio_graph_plot_earnings\n",
    "grand_total_gains_local <- grand_total_gains %>%\n",
    "  group_by(folder, metric_group) %>%\n",
    "  summarise(earnings = sum(grand_total))\n",
    "categorize_x <- function(x) {\n",
    "  if (x <= 130000) {\n",
    "    return(\"b1\")\n",
    "  } else {\n",
    "    return(\"b2\")\n",
    "  }\n",
    "}\n",
    "\n",
    "grand_total_gains_local$x_category <- as.factor(sapply(grand_total_gains_local$earnings, categorize_x))\n",
    "\n",
    "maxmin <- grand_total_gains_local %>%\n",
    "  group_by(x_category) %>%\n",
    "  summarise(min = min(earnings), max = max(earnings), med = median(earnings)) %>%\n",
    "  mutate(min = -1 * round(-1 * min, 2), max = round(max, 2)) %>%\n",
    "  mutate(size = max - min)\n",
    "\n",
    "maxmin <- maxmin %>%\n",
    "  full_join(maxmin %>% ungroup() %>% summarise(max_size = max(size)), by = character()) %>% # cross join\n",
    "  mutate(max_size = round(max_size * 1.33, 2), med = round(med, 2)) %>%\n",
    "  mutate(min = -1 * round(-1 * (med - max_size / 2), 2), max = round(med + max_size / 2, 2)) %>%\n",
    "  rowwise() %>%\n",
    "  mutate(scale = c(scale_x_continuous(limits = c(min, max), breaks = seq(min, max, max_size / 2))))\n",
    "\n",
    "maxmin\n",
    "\n",
    "transform_ratio_graph_plot_sum_earnings <- grand_total_gains_local %>%\n",
    "  correct_names() %>%\n",
    "  ggplot(aes(\n",
    "    x = earnings,\n",
    "    y = `Placement method`,\n",
    "    color = metric_group,\n",
    "    fill = metric_group,\n",
    "    shape = metric_group\n",
    "  )) +\n",
    "  stat_dotsinterval(position = \"dodge\", binwidth = unit(2, \"mm\"), scale = 0.95, size = 7, slab_linewidth = 0) +\n",
    "  gghighlight(metric_group == \"auction\", unhighlighted_params = list(slab_alpha = 0.3, point_alpha = 0.3, colour = NULL, fill = NULL, alpha = 0.3), label_params = list(linewidth = 10), calculate_per_facet = TRUE) +\n",
    "  # scale_x_continuous(label = scales::percent) +\n",
    "  # facet_grid2(rows = vars(earnings_type), axes = \"all\", remove_labels = \"y\", scales=\"free_x\") +\n",
    "  labs(\n",
    "    y = \"Placement algorithm\",\n",
    "    x = \"Earnings\",\n",
    "    title = \"Total earnings per placement method\",\n",
    "    subtitle = \"\\\\textit{Each point is an experiment run}\",\n",
    "    fill = \"Function type\",\n",
    "    color = \"Function type\",\n",
    "    shape = \"Function type\"\n",
    "  ) +\n",
    "  theme(\n",
    "    legend.position = \"none\",\n",
    "    strip.text.x = element_blank()\n",
    "\n",
    "  ) +\n",
    "  # facet_grid2(cols = vars(x_category), scales = \"free_x\") +\n",
    "  # facetted_pos_scales(\n",
    "  #   x = list(\n",
    "  #     maxmin$scale[[1]],\n",
    "  #     maxmin$scale[[2]]\n",
    "  #   )\n",
    "  # ) +\n",
    "  # coord_cartesian(clip = \"off\") +\n",
    "  # guides(x = guide_axis_truncated(trunc_lower = c(maxmin$min[[2]], maxmin$min[[1]]), trunc_upper = c(maxmin$max[[2]], maxmin$max[[1]]))) +\n",
    "  # annotate(\"text\", x = c(0, maxmin$max[[1]]), y = 0, label = \"/ /\", size = 10, vjust = 0.5) +\n",
    "  scale_y_discrete(guide = guide_prism_bracket(width = 0.1)) +\n",
    "  coord_capped_cart(bottom='both')\n",
    "\n",
    "  # guides(x = guide_axis_truncated(trunc_lower = maxmin$min, trunc_upper = maxmin$max))\n",
    "\n",
    "\n",
    "\n",
    "fig(9, 4)\n",
    "transform_ratio_graph_plot_sum_earnings\n"
   ]
  },
  {
   "cell_type": "code",
   "execution_count": 156,
   "id": "4ddefab8",
   "metadata": {
    "vscode": {
     "languageId": "r"
    }
   },
   "outputs": [
    {
     "name": "stderr",
     "output_type": "stream",
     "text": [
      "\u001b[1m\u001b[22m`summarise()` has grouped output by 'metric_group'. You can override using the `.groups` argument.\n",
      "Warning message:\n",
      "“Ignoring unknown parameters: slab_linewidth”\n",
      "Warning message:\n",
      "“Using shapes for an ordinal variable is not advised”\n"
     ]
    },
    {
     "data": {
      "image/png": "[encoded data removed]",
      "text/plain": [
       "plot without title"
      ]
     },
     "metadata": {
      "image/png": {
       "height": 240,
       "width": 540
      }
     },
     "output_type": "display_data"
    }
   ],
   "source": [
    "# Define a function to calculate Jain's Faisrness Index\n",
    "jains_index <- function(allocations) {\n",
    "  num_users <- length(allocations)\n",
    "  sum_allocations <- sum(allocations)\n",
    "  sum_square_allocations <- sum(allocations^2)\n",
    "\n",
    "  index <- (sum_allocations^2) / (num_users * sum_square_allocations)\n",
    "  return(index)\n",
    "}\n",
    "\n",
    "transform_ratio_graph <- auc_usage %>%\n",
    "  mutate(winner = instance) %>%\n",
    "  ungroup() %>%\n",
    "  select(-instance) %>%\n",
    "  inner_join(grand_total_gains, by = c(\"folder\", \"metric_group\", \"metric_group_group\")) %>%\n",
    "  inner_join(total_gains, by = c(\"folder\", \"metric_group\", \"metric_group_group\", \"winner\")) %>%\n",
    "  mutate(gains_ratio = earnings / grand_total) %>%\n",
    "  {\n",
    "    .\n",
    "  }\n",
    "\n",
    "\n",
    "folders <- transform_ratio_graph %>%\n",
    "  select(folder, metric_group, metric_group_group) %>%\n",
    "  distinct()\n",
    "missing_data <- expand.grid(\n",
    "  winner = node_levels$name,\n",
    "  folder = folders$folder\n",
    ") %>%\n",
    "  inner_join(node_levels %>% mutate(winner = name) %>% select(-name), by = c(\"winner\")) %>%\n",
    "  inner_join(folders, by = c(\"folder\"))\n",
    "\n",
    "transform_ratio_graph <- transform_ratio_graph %>%\n",
    "  full_join(missing_data, by = c(\"winner\", \"folder\", \"metric_group\", \"metric_group_group\")) %>%\n",
    "  ungroup() %>%\n",
    "  {\n",
    "    .\n",
    "  }\n",
    "transform_ratio_graph$gains_ratio[is.na(transform_ratio_graph$gains_ratio)] <- 0\n",
    "\n",
    "# Calculate Jain's Fairness Index for each group using dplyr\n",
    "transform_ratio_graph <- transform_ratio_graph %>%\n",
    "  group_by(metric_group, folder) %>%\n",
    "  summarise(jains_index = jains_index(gains_ratio), n = n())\n",
    "\n",
    "# top_1_percent <- transform_ratio_graph %>%\n",
    "#   group_by(folder, metric_group, metric_group_group, level) %>%\n",
    "#   arrange(desc(gains_ratio), .by_group = TRUE) %>%\n",
    "#   mutate(rank = row_number()) %>%\n",
    "#   filter(rank <= ceiling(n() * 0.05)) %>%\n",
    "#   group_by(folder, metric_group, metric_group_group, level) %>%\n",
    "#   summarize(gains_ratio_1_percent = mean(gains_ratio))\n",
    "\n",
    "# transform_ratio_graph <- transform_ratio_graph %>%\n",
    "#   # group_by(metric_group, level, folder) %>%\n",
    "#   # summarise(gains_ratio = mean(gains_ratio)) %>%\n",
    "#   # inner_join(top_1_percent, by = c(\"folder\", \"metric_group\", \"level\")) %>%\n",
    "#   gather(key = \"gains_ratio_type\", value = \"gains_ratio\", gains_ratio, gains_ratio_1_percent) %>%\n",
    "#   mutate(gains_ratio_type = case_when(\n",
    "#     gains_ratio_type == \"gains_ratio\" ~ \"all\",\n",
    "#     gains_ratio_type == \"gains_ratio_1_percent\" ~ \"5% highest\",\n",
    "#   ))\n",
    "\n",
    "# transform_ratio_graph\n",
    "categorize_x <- function(x) {\n",
    "  if (x <= 0.56) {\n",
    "    return(\"b1\")\n",
    "  } else {\n",
    "    return(\"b2\")\n",
    "  }\n",
    "}\n",
    "\n",
    "transform_ratio_graph$x_category <- as.factor(sapply(transform_ratio_graph$jains_index, categorize_x))\n",
    "\n",
    "maxmin <- transform_ratio_graph %>%\n",
    "  group_by(x_category) %>%\n",
    "  summarise(min = min(jains_index), max = max(jains_index), med = median(jains_index)) %>%\n",
    "  mutate(min = -1 * round(-1 * min, 2), max = round(max, 2)) %>%\n",
    "  mutate(size = max - min)\n",
    "\n",
    "maxmin <- maxmin %>%\n",
    "  full_join(maxmin %>% ungroup() %>% summarise(max_size = max(size)), by = character()) %>%\n",
    "  mutate(max_size = round(max_size * 1.33, 2), med = round(med, 2)) %>%\n",
    "  mutate(min = -1 * round(-1 * (med - max_size / 2), 2), max = round(med + max_size / 2, 2)) %>%\n",
    "  rowwise() %>%\n",
    "  mutate(scale = c(scale_x_continuous(limits = c(min, max), breaks = seq(min, max, max_size / 2), label = scales::percent)))\n",
    "# mutate(scale = c(scale_x_continuous(limits = c(0, 1), breaks = seq(0, 1, 0.10), label = scales::percent)))\n",
    "\n",
    "# transform_ratio_graph\n",
    "fig(12, 6)\n",
    "transform_ratio_graph_plot_jain <- transform_ratio_graph %>%\n",
    "  correct_names() %>%\n",
    "  ggplot(aes(\n",
    "    x = jains_index,\n",
    "    y = `Placement method`,\n",
    "    color = metric_group,\n",
    "    fill = metric_group,\n",
    "    shape = metric_group\n",
    "  )) +\n",
    "  stat_dotsinterval(position = \"dodge\", binwidth = unit(2, \"mm\"), scale = 0.95, size = 7, slab_linewidth = 0) +\n",
    "  gghighlight(metric_group == \"auction\", unhighlighted_params = list(slab_alpha = 0.3, point_alpha = 0.3, colour = NULL, fill = NULL, alpha = 0.3), label_params = list(linewidth = 10), calculate_per_facet = TRUE) +\n",
    "  labs(\n",
    "    y = \"Placement algorithm\",\n",
    "    x = \"Jain's index in %\",\n",
    "    title = \"Jain's index of earning ratios per fog node\",\n",
    "    subtitle = \"\\\\textit{Each point is an experiment run}\",\n",
    "    fill = \"Function type\",\n",
    "    color = \"Function type\",\n",
    "    shape = \"Function type\"\n",
    "  ) +\n",
    "  theme(\n",
    "    legend.position = \"none\",\n",
    "    strip.text.x = element_blank()\n",
    "  ) +\n",
    "  facet_grid2(cols = vars(x_category), scales = \"free_x\") +\n",
    "  # facetted_pos_scales(\n",
    "  #   x = list(\n",
    "  #     maxmin$scale[[1]],\n",
    "  #     maxmin$scale[[2]]\n",
    "  #   )\n",
    "  # ) +\n",
    "  coord_cartesian(clip = \"off\") +\n",
    "  guides(x = guide_axis_truncated(trunc_lower = maxmin$min, trunc_upper = maxmin$max)) +\n",
    "  annotate(\"text\", x = maxmin$max[[1]] + 0.003, y = 0, label = \"/ /\", size = 10, vjust = 0.5) +\n",
    "  scale_y_discrete(guide = guide_prism_bracket(width = 0.1))\n",
    "\n",
    "fig(9, 4)\n",
    "transform_ratio_graph_plot_jain\n",
    "# theme(\n",
    "#   legend.position = \"none\",\n",
    "#   # axis.line.x = element_blank()\n",
    "#   plot.margin = margin(l = 0),\n",
    "#   axis.line.y = element_blank()\n",
    "# )\n"
   ]
  },
  {
   "cell_type": "markdown",
   "id": "fb6e1ecb-0df6-4cee-9b54-42db8135ae9a",
   "metadata": {},
   "source": [
    "## Latencies and SLAs"
   ]
  },
  {
   "cell_type": "code",
   "execution_count": 157,
   "id": "b20b57ce-7421-4b11-b461-7d776d7bd6c3",
   "metadata": {
    "tags": [],
    "vscode": {
     "languageId": "r"
    }
   },
   "outputs": [
    {
     "name": "stderr",
     "output_type": "stream",
     "text": [
      "\u001b[1mRows: \u001b[22m\u001b[34m15120\u001b[39m \u001b[1mColumns: \u001b[22m\u001b[34m9\u001b[39m\n",
      "\u001b[36m──\u001b[39m \u001b[1mColumn specification\u001b[22m \u001b[36m────────────────────────────────────────────────────────────────────────────────────────────────────────────────────────────────────────────────\u001b[39m\n",
      "\u001b[1mDelimiter:\u001b[22m \"\\t\"\n",
      "\u001b[31mchr\u001b[39m (5): name, instance, job, sla_id, tag\n",
      "\u001b[32mdbl\u001b[39m (4): le, period, timestamp, value\n",
      "\n",
      "\u001b[36mℹ\u001b[39m Use `spec()` to retrieve the full column specification for this data.\n",
      "\u001b[36mℹ\u001b[39m Specify the column types or set `show_col_types = FALSE` to quiet this message.\n",
      "\u001b[1mRows: \u001b[22m\u001b[34m8484\u001b[39m \u001b[1mColumns: \u001b[22m\u001b[34m9\u001b[39m\n",
      "\u001b[36m──\u001b[39m \u001b[1mColumn specification\u001b[22m \u001b[36m────────────────────────────────────────────────────────────────────────────────────────────────────────────────────────────────────────────────\u001b[39m\n",
      "\u001b[1mDelimiter:\u001b[22m \"\\t\"\n",
      "\u001b[31mchr\u001b[39m (5): name, instance, job, sla_id, tag\n",
      "\u001b[32mdbl\u001b[39m (4): le, period, timestamp, value\n",
      "\n",
      "\u001b[36mℹ\u001b[39m Use `spec()` to retrieve the full column specification for this data.\n",
      "\u001b[36mℹ\u001b[39m Specify the column types or set `show_col_types = FALSE` to quiet this message.\n"
     ]
    }
   ],
   "source": [
    "# echo_sum <-\n",
    "#   load_csv(\"echo_function_http_request_to_processing_echo_duration_seconds_print_sum.csv\") %>%\n",
    "#   prepare()\n",
    "\n",
    "# echo_count <-\n",
    "#   load_csv(\"echo_function_http_request_to_processing_echo_duration_seconds_print_count.csv\") %>%\n",
    "#   prepare()\n",
    "\n",
    "echo_bucket_raw <-\n",
    "  load_csv(\"echo_function_http_request_to_processing_echo_duration_seconds_print_bucket.csv\") %>%\n",
    "  prepare() %>%\n",
    "  mutate(function_name = tag)\n",
    "\n",
    "latencies <- echo_bucket_raw %>%\n",
    "  select(function_name, folder, metric_group_group) %>%\n",
    "  distinct() %>%\n",
    "  extract_function_name_info() %>%\n",
    "  select(latency, folder, metric_group_group)\n"
   ]
  },
  {
   "cell_type": "code",
   "execution_count": 158,
   "id": "d1c1abea-cc79-460b-b15f-edb50b61cda4",
   "metadata": {
    "vscode": {
     "languageId": "r"
    }
   },
   "outputs": [
    {
     "name": "stderr",
     "output_type": "stream",
     "text": [
      "\u001b[1mRows: \u001b[22m\u001b[34m1240\u001b[39m \u001b[1mColumns: \u001b[22m\u001b[34m7\u001b[39m\n",
      "\u001b[36m──\u001b[39m \u001b[1mColumn specification\u001b[22m \u001b[36m────────────────────────────────────────────────────────────────────────────────────────────────────────────────────────────────────────────────\u001b[39m\n",
      "\u001b[1mDelimiter:\u001b[22m \"\\t\"\n",
      "\u001b[31mchr\u001b[39m (4): name, instance, job, tag\n",
      "\u001b[32mdbl\u001b[39m (3): period, timestamp, value\n",
      "\n",
      "\u001b[36mℹ\u001b[39m Use `spec()` to retrieve the full column specification for this data.\n",
      "\u001b[36mℹ\u001b[39m Specify the column types or set `show_col_types = FALSE` to quiet this message.\n",
      "\u001b[1mRows: \u001b[22m\u001b[34m924\u001b[39m \u001b[1mColumns: \u001b[22m\u001b[34m7\u001b[39m\n",
      "\u001b[36m──\u001b[39m \u001b[1mColumn specification\u001b[22m \u001b[36m────────────────────────────────────────────────────────────────────────────────────────────────────────────────────────────────────────────────\u001b[39m\n",
      "\u001b[1mDelimiter:\u001b[22m \"\\t\"\n",
      "\u001b[31mchr\u001b[39m (4): name, instance, job, tag\n",
      "\u001b[32mdbl\u001b[39m (3): period, timestamp, value\n",
      "\n",
      "\u001b[36mℹ\u001b[39m Use `spec()` to retrieve the full column specification for this data.\n",
      "\u001b[36mℹ\u001b[39m Specify the column types or set `show_col_types = FALSE` to quiet this message.\n",
      "Warning message in min.default(structure(numeric(0), tzone = \"\", class = c(\"POSIXct\", :\n",
      "“aucun argument trouvé pour min ; Inf est renvoyé”\n",
      "Warning message:\n",
      "“Unknown or uninitialised column: `function_name`.”\n"
     ]
    }
   ],
   "source": [
    "errors <- tryCatch(\n",
    "    {\n",
    "        load_csv(\"iot_emulation_http_request_to_processing_echo_fails.csv\") %>%\n",
    "            prepare() %>%\n",
    "            extract_function_name_info() %>%\n",
    "            distinct()\n",
    "    },\n",
    "    error = function(cond) {\n",
    "        columns <- c(\"instance\", \"job\", \"timestamp\", \"tag\", \"period\", \"folder\", \"metric_group\", \"latency\", \"value\")\n",
    "        df <- data.frame(instance = character(0), job = character(0), period = numeric(0), folder = character(0), metric_group = character(0), latency = character(0), value = numeric(0))\n",
    "        return(df)\n",
    "    }\n",
    ")\n"
   ]
  },
  {
   "cell_type": "code",
   "execution_count": 159,
   "id": "d1f11155-c73e-4481-ab99-a052da91f6fb",
   "metadata": {
    "tags": [],
    "vscode": {
     "languageId": "r"
    }
   },
   "outputs": [],
   "source": [
    "echo_bucket <- echo_bucket_raw %>%\n",
    "    mutate(value_bucket = value) %>%\n",
    "    select(-value) %>%\n",
    "    mutate(le = ifelse(le == \"Inf\", Inf, as.numeric(le))) %>%\n",
    "    extract_function_name_info() %>%\n",
    "    mutate(latency = as.numeric(latency) / 1000) %>%\n",
    "    mutate(load = 1000 / as.numeric(period)) %>%\n",
    "    {\n",
    "        .\n",
    "    }\n"
   ]
  },
  {
   "cell_type": "code",
   "execution_count": 160,
   "id": "3976bde1-d69b-4228-8ace-a5733e51f1bb",
   "metadata": {
    "tags": [],
    "vscode": {
     "languageId": "r"
    }
   },
   "outputs": [],
   "source": [
    "average_sum <- echo_bucket %>%\n",
    "    select(load, sla_id, function_name, folder, le, value_bucket, latency, timestamp, metric_group, metric_group_group, latency_type, load_type, nb_fn_low_interval_low_latency, nb_fn_high_interval_low_latency) %>%\n",
    "    inner_join(bids_won_function %>% select(sla_id, function_name, metric_group, metric_group_group, folder, winner), by = c(\"sla_id\", \"function_name\", \"folder\", \"metric_group_group\", \"metric_group\")) %>%\n",
    "    arrange(desc(timestamp), .by_group = TRUE) %>%\n",
    "    group_by(function_name, sla_id, winner, load, folder, le, latency, metric_group, metric_group_group, latency_type, load_type, nb_fn_low_interval_low_latency, nb_fn_high_interval_low_latency) %>%\n",
    "    filter(row_number() == n()) %>% # Last measure\n",
    "    # select(-timestamp) %>%\n",
    "    arrange(desc(le), .by_group = TRUE) %>%\n",
    "    {\n",
    "        .\n",
    "    }\n",
    "\n",
    "# head(average_sum)\n",
    "\n",
    "under_sla <- average_sum %>%\n",
    "    mutate(target_offset = round(le - latency, 3)) %>%\n",
    "    filter(target_offset %in% c(-0.003, -0.002, -0.001, 0, 0.003, 0.002, 0.001)) %>%\n",
    "    group_by(timestamp, sla_id, function_name, winner, load, folder, latency, target_offset, metric_group, metric_group_group, latency_type, load_type, nb_fn_low_interval_low_latency, nb_fn_high_interval_low_latency) %>%\n",
    "    select(-le) %>%\n",
    "    {\n",
    "        .\n",
    "    }\n",
    "\n",
    "# under_sla\n",
    "\n",
    "sla_stats <- average_sum %>%\n",
    "    filter(le == Inf) %>%\n",
    "    group_by(timestamp, sla_id, function_name, winner, load, folder, latency, metric_group, metric_group_group, latency_type, load_type, nb_fn_low_interval_low_latency, nb_fn_high_interval_low_latency) %>%\n",
    "    mutate(total = value_bucket) %>%\n",
    "    select(-c(value_bucket, le)) %>%\n",
    "    inner_join(under_sla, by = c(\"sla_id\", \"timestamp\", \"function_name\", \"winner\", \"load\", \"folder\", \"metric_group_group\", \"latency\", \"metric_group\", \"latency_type\", \"load_type\", \"nb_fn_low_interval_low_latency\", \"nb_fn_high_interval_low_latency\")) %>%\n",
    "    mutate(above = total - value_bucket) %>%\n",
    "    {\n",
    "        .\n",
    "    }\n",
    "\n",
    "# sla_stats\n"
   ]
  },
  {
   "cell_type": "code",
   "execution_count": 161,
   "id": "c5900acc",
   "metadata": {
    "vscode": {
     "languageId": "r"
    }
   },
   "outputs": [],
   "source": [
    "apdex_data <- sla_stats %>%\n",
    "    filter(target_offset == 0) %>%\n",
    "    mutate(satisfied_count = value_bucket) %>%\n",
    "    select(-c(target_offset, above, value_bucket)) %>%\n",
    "    inner_join(sla_stats %>% filter(target_offset == 0.003) %>% mutate(value_tolerated =value_bucket) %>% select(-c(value_bucket, target_offset, above)), by = c(\"sla_id\", \"function_name\", \"load\", \"latency\", \"load_type\", \"latency_type\", \"folder\", \"metric_group\", \"metric_group_group\", \"nb_fn_low_interval_low_latency\", \"nb_fn_high_interval_low_latency\", \"timestamp\", \"winner\", \"total\")) %>%\n",
    "    group_by(sla_id, folder, metric_group, metric_group_group) %>%\n",
    "    distinct() %>%\n",
    "    mutate(tolerating_count = value_tolerated - satisfied_count) %>%\n",
    "    mutate(apdex = (satisfied_count + 0.5 * tolerating_count) / total) %>%\n",
    "    mutate(apdex_inv = 1 - apdex) %>%\n",
    "    inner_join(node_levels %>% mutate(winner = name) %>% select(-name), by = c(\"winner\")) %>%\n",
    "    {\n",
    "        .\n",
    "    }\n",
    "    # apdex_data %>% filter(sla_id == \"00171506-f0f4-4a64-952b-7a5d1902b2bf\")"
   ]
  },
  {
   "cell_type": "code",
   "execution_count": 162,
   "id": "c9b2b031",
   "metadata": {
    "vscode": {
     "languageId": "r"
    }
   },
   "outputs": [
    {
     "name": "stderr",
     "output_type": "stream",
     "text": [
      "\u001b[1m\u001b[22m`summarise()` has grouped output by 'folder', 'metric_group', 'metric_group_group'. You can override using the `.groups` argument.\n",
      "\u001b[1m\u001b[22m`summarise()` has grouped output by 'folder', 'metric_group'. You can override using the `.groups` argument.\n",
      "\u001b[1m\u001b[22m`summarise()` has grouped output by 'folder', 'metric_group'. You can override using the `.groups` argument.\n",
      "\u001b[1m\u001b[22m`summarise()` has grouped output by 'folder', 'metric_group'. You can override using the `.groups` argument.\n"
     ]
    }
   ],
   "source": [
    "total_low_latency <- functions_total %>%\n",
    "  filter(status == \"provisioned\") %>%\n",
    "  filter(latency_type == \"Low latency\") %>%\n",
    "  group_by(folder, metric_group, metric_group_group, latency_type) %>%\n",
    "  summarise(total = sum(total))\n",
    "\n",
    "total <- functions_total %>%\n",
    "  filter(status == \"provisioned\") %>%\n",
    "  group_by(folder, metric_group, metric_group_group) %>%\n",
    "  summarise(total = sum(total))\n",
    "\n",
    "total_low_latency <- total_low_latency %>%\n",
    "  group_by(folder, metric_group, metric_group_group) %>%\n",
    "  inner_join(total, by = c(\"folder\", \"metric_group\", \"metric_group_group\")) %>%\n",
    "  mutate(ratio_low_latency_functions = total.x / total.y) %>%\n",
    "  select(folder, metric_group, metric_group_group, ratio_low_latency_functions)\n",
    "\n",
    "\n",
    "ratio_low_latency <- functions_total %>%\n",
    "  filter(latency_type == \"Low latency\") %>%\n",
    "  filter(status == \"provisioned\") %>%\n",
    "  group_by(folder, metric_group, metric_group_group) %>%\n",
    "  summarise(n = sum(n)) %>%\n",
    "  inner_join(total, by = c(\"metric_group\", \"folder\", \"metric_group_group\")) %>%\n",
    "  mutate(ratio_low_latency = n / total)\n",
    "\n",
    "ratio_total <- functions_total %>%\n",
    "  filter(status == \"provisioned\") %>%\n",
    "  group_by(folder, metric_group, metric_group_group) %>%\n",
    "  summarise(n = sum(n)) %>%\n",
    "  inner_join(total, by = c(\"metric_group\", \"folder\", \"metric_group_group\")) %>%\n",
    "  mutate(ratio_total = n / total)"
   ]
  },
  {
   "cell_type": "code",
   "execution_count": 163,
   "id": "51f402e5",
   "metadata": {
    "vscode": {
     "languageId": "r"
    }
   },
   "outputs": [],
   "source": [
    "apdex_data_line <- apdex_data %>%\n",
    "  inner_join(total_low_latency, by = c(\"folder\", \"metric_group\", \"metric_group_group\")) %>%\n",
    "  mutate(satisfied = 1 - satisfied_count / total) %>%\n",
    "  ungroup()\n",
    "  \n",
    "#   apdex_data_line_point <- apdex_data_line %>% filter(metric_group == \"auction\")\n",
    "# # apdex_data_line\n",
    "# point_ninetynine_percent <- ecdf(apdex_data_line_point$apdex)(0.99)\n",
    "# point_ninetynine_percent <- data.frame(x = 0.99, y=point_ninetynine_percent)\n",
    "# point_ninety_percent <- ecdf(apdex_data_line_point$apdex)(0.95)\n",
    "# point_ninety_percent <- data.frame(x = 0.95, y=point_ninety_percent)\n",
    "\n",
    "# fig(10, 7)\n",
    "# # tikz(file = \"ecdf_apdex\", width=11.692, height=8.267)\n",
    "# apdex_data_line %>%\n",
    "# # filter(metric_group %in% c(\"auction\", \"edge_furthest\")) %>%\n",
    "#   ggplot(\n",
    "#     aes(\n",
    "#       x = apdex,\n",
    "#       # y = value,\n",
    "#       colour = metric_group,\n",
    "#       # line_type= metric_group\n",
    "#       # group = folder\n",
    "#     )\n",
    "#   ) +\n",
    "#   geom_point(data = point_ninetynine_percent, aes(x, y, label=y),  color=\"darkorange1\", size = 3) +\n",
    "#   geom_point(data = point_ninety_percent, aes(x, y, label=y),  color=\"red\", size = 3) +\n",
    "\n",
    "#   # stat_ecdf(aes(x = satisfied, alpha=0.3)) +\n",
    "#   stat_ecdf() +\n",
    "#   # geom_density() +\n",
    "#   # geom_line(\n",
    "#   # #   # aes(y=1-..y..),\n",
    "#   # #   stat=\"ecdf\"\n",
    "#   #   ) +\n",
    "#   gghighlight(metric_group == \"auction\",  unhighlighted_params = list(colour = NULL, alpha = 0.3),  label_params = list(linewidth = 10)) +\n",
    "#   # stat_ecdf(aes(x = apdex_inv, group = folder), alpha = 0.3, linetype=\"dashed\") +\n",
    "#   scale_x_continuous(label = scales::percent) +\n",
    "#     # scale_x_continuous(trans=c(\"reverse\", \"log10\")) + #limits = c(0.0, 1), breaks = seq(0.0, 1, 0.01), expand = c(0, 0)) +\n",
    "#   scale_y_continuous(label = scales::percent) +\n",
    "#   # scale_x_continuous(trans = \"log10\", label = scales::percent) +\n",
    "#   # scale_y_continuous(trans = \"log10\", label = scales::percent) +\n",
    "#   # facet_grid(rows = varslatency_type) +\n",
    "#   # facet_grid(rows = vars(level), cols = vars(latency_type)) +\n",
    "#   # facet_grid(rows = vars(ratio_low_latency_functions), cols = vars(metric_group_group), scales = \"free\") +\n",
    "#   # facet_grid(rows = vars(ratio_low_latency_functions), cols = vars(metric_group_group), scales = \"free\") +\n",
    "#   geom_textvline(aes(xintercept = 0.95, label = \"95%\"), lty = 1, colour = \"red\") +\n",
    "#   geom_textvline(aes(xintercept = 0.99, label = \"99%\"), lty = 2, colour = \"darkorange1\") +\n",
    "#   coord_cartesian(xlim = c(0.95, 1), ylim = c(0, 1)) +\n",
    "#   geom_text(data = point_ninetynine_percent, aes(x, y, label = paste0(round(y*100, 1), \"%\")),\n",
    "#           hjust = 1.2, vjust = -0.8, size = 5, color = \"darkorange1\") +\n",
    "#   geom_text(data = point_ninety_percent, aes(x, y, label = paste0(round(y*100, 1), \"%\")),\n",
    "#           hjust = -0.5, vjust = -0.8, size = 5, color = \"red\") +\n",
    "#   labs(\n",
    "#     x = \"apdex in %\",\n",
    "#     y = \"% of functions\",\n",
    "#     title = \"Empirical Cumulative Distribution Function of Apdex score\",\n",
    "#     color = \"Placement model\"\n",
    "#   )\n"
   ]
  },
  {
   "cell_type": "code",
   "execution_count": 164,
   "id": "4cc75220",
   "metadata": {
    "vscode": {
     "languageId": "r"
    }
   },
   "outputs": [
    {
     "name": "stderr",
     "output_type": "stream",
     "text": [
      "\u001b[1m\u001b[22m`summarise()` has grouped output by 'metric_group', 'folder'. You can override using the `.groups` argument.\n",
      "\u001b[1m\u001b[22m`summarise()` has grouped output by 'metric_group', 'folder', 'metric_group_group', 'ratio_low_latency'. You can override using the `.groups` argument.\n",
      "\u001b[1m\u001b[22m`summarise()` has grouped output by 'metric_group', 'folder', 'metric_group_group', 'ratio_low_latency'. You can override using the `.groups` argument.\n",
      "\u001b[1m\u001b[22m`summarise()` has grouped output by 'metric_group', 'folder'. You can override using the `.groups` argument.\n",
      "Warning message:\n",
      "“attributes are not identical across measure variables;\n",
      "they will be dropped”\n",
      "Warning message:\n",
      "“attributes are not identical across measure variables;\n",
      "they will be dropped”\n",
      "Warning message:\n",
      "“Ignoring unknown parameters: slab_linewidth”\n",
      "Warning message:\n",
      "“Tried to calculate with group_by(), but the calculation failed.\n",
      "Falling back to ungrouped filter operation...”\n",
      "Coordinate system already present. Adding new coordinate system, which will replace the existing one.\n",
      "\n"
     ]
    },
    {
     "data": {
      "image/png": "[encoded data removed]",
      "text/plain": [
       "plot without title"
      ]
     },
     "metadata": {
      "image/png": {
       "height": 480,
       "width": 960
      }
     },
     "output_type": "display_data"
    }
   ],
   "source": [
    "auc_usage_here <- auc_usage %>%\n",
    "  group_by(metric_group, folder, metric_group_group) %>%\n",
    "  summarise(usage = mean(usage_ratio))\n",
    "\n",
    "apdex_plot <- apdex_data_line %>%\n",
    "  inner_join(ratio_low_latency, by = c(\"metric_group\", \"metric_group_group\", \"folder\")) %>%\n",
    "  group_by(metric_group, folder, metric_group_group, ratio_low_latency, ratio_low_latency_functions) %>%\n",
    "  summarise(apdex = mean(apdex)) %>%\n",
    "  inner_join(auc_usage_here, by = c(\"metric_group\", \"metric_group_group\", \"folder\")) %>%\n",
    "  {\n",
    "    .\n",
    "  }\n",
    "\n",
    "apdex_plot_1_percent <- apdex_data_line %>%\n",
    "  inner_join(ratio_low_latency, by = c(\"metric_group\", \"metric_group_group\", \"folder\")) %>%\n",
    "  group_by(metric_group, folder, metric_group_group, ratio_low_latency, ratio_low_latency_functions) %>%\n",
    "  arrange(apdex, .by_group = T) %>%\n",
    "  mutate(rank = row_number()) %>%\n",
    "  filter(rank <= ceiling(n() * 0.05)) %>%\n",
    "  summarise(apdex = mean(apdex)) %>%\n",
    "  inner_join(auc_usage %>%\n",
    "    group_by(metric_group, folder, metric_group_group) %>%\n",
    "    arrange(usage, .by_group = T) %>%\n",
    "    mutate(rank = row_number()) %>%\n",
    "    filter(rank <= ceiling(n() * 0.05)) %>%\n",
    "    summarise(usage = mean(usage_ratio)), by = c(\"metric_group\", \"metric_group_group\", \"folder\"))\n",
    "finish_touch <- function(x) {\n",
    "  return(x %>%\n",
    "    mutate(diff = ratio_low_latency / ratio_low_latency_functions) %>%\n",
    "    mutate(total_score = 1 / 3 * (diff + apdex + usage)) %>%\n",
    "    group_by(metric_group, folder) %>%\n",
    "    select(total_score, usage, diff, apdex, metric_group, folder) %>%\n",
    "    gather(key = \"score_type\", value = \"score\", apdex, diff, usage) %>%\n",
    "    mutate(score_type_rich = case_when(\n",
    "      score_type == \"apdex\" ~ \"$apdexScore$\",\n",
    "      score_type == \"diff\" ~ \"Ratio of aimed low latency functions deployed\",\n",
    "      score_type == \"usage\" ~ \"Ratio of total CPU reservation space used\",\n",
    "      score_type == \"total_score\" ~ \"Average of all scores\"\n",
    "    )) %>%\n",
    "    {\n",
    "      .\n",
    "    })\n",
    "}\n",
    "\n",
    "apdex_plot <- finish_touch(apdex_plot) %>%\n",
    "  mutate(data_focus = \"all\") %>%\n",
    "  full_join(finish_touch(apdex_plot_1_percent) %>% filter(score_type != \"diff\") %>% mutate(data_focus = \"worst 5%\"), by = c(\"folder\", \"metric_group\", \"data_focus\", \"score_type\", \"score\", \"score_type_rich\"))\n",
    "\n",
    "\n",
    "fig(16, 8)\n",
    "apdex_plot <- apdex_plot %>%\n",
    "  correct_names() %>%\n",
    "  ggplot(\n",
    "    aes(\n",
    "      y = `Placement method`,\n",
    "      x = score,\n",
    "      color = score_type_rich,\n",
    "      shape = score_type_rich,\n",
    "      fill = score_type_rich,\n",
    "    )\n",
    "  ) +\n",
    "  # stat_dotsinterval(dotsize = 0.6, position = \"dodge\") +\n",
    "  # gghighlight(metric_group == \"auction\", unhighlighted_params = list(dotsize = 0.6, colour = NULL, fill = NULL, alpha = 0.3), label_params = list(linewidth = 10)) +\n",
    "  # stat_dotsinterval(quantiles=100,position = \"dodge\", bindwidth = 1.6, dotsize = 1.6, scale = 0.9) +\n",
    "  # gghighlight(metric_group == \"auction\", unhighlighted_params = list(point_alpha = 0.9, scale = 0.9, bindwidth = 1.6, dotsize = 1.6, colour = NULL, fill = NULL, alpha = 0.3), label_params = list(linewidth = 10), calculate_per_facet = TRUE) +\n",
    "  stat_dotsinterval(slab_alpha =0.6, position = \"dodge\", binwidth = unit(2, \"mm\"), scale = 0.95, size = 10, slab_linewidth = 0) +\n",
    "  gghighlight(metric_group == \"auction\", unhighlighted_params = list(slab_alpha = 0.3, point_alpha = 0.3, colour = NULL, fill = NULL, alpha = 0.3), label_params = list(linewidth = 10), calculate_per_facet = TRUE) +\n",
    "  facet_grid2(cols = vars(data_focus), scales = \"free_x\", axes = \"all\", remove_labels = \"y\") +\n",
    "  scale_x_continuous(label = scales::percent) +\n",
    "  coord_cartesian(clip=\"off\") +\n",
    "  labs(\n",
    "    x = \"Score in %\",\n",
    "    y = \"Placement algorithm\",\n",
    "    title = \"Scores of placement models\",\n",
    "    subtitle = \"\\\\textit{Each point is an experiment run}\",\n",
    "    color = \"Score type\",\n",
    "    fill = \"Score type\",\n",
    "    shape = \"Score type\"\n",
    "  ) +\n",
    "  theme(\n",
    "    legend.position = \"bottom\",\n",
    "    # panel.border=element_blank(), axis.line=element_line()\n",
    "    # legend.direction = \"vertical\",\n",
    "  ) +\n",
    "  coord_capped_cart(bottom='both')+\n",
    "  # capped_horizontal(capped = c(\"both\", \"left\", \"right\", \"none\")) +\n",
    "  # scale_x_continuous(guide = capped_horizontal(capped = c(\"both\", \"left\", \"right\", \"none\"))) +\n",
    "  scale_y_discrete(guide = guide_prism_bracket(width = 0.15))\n",
    "\n",
    "apdex_plot\n"
   ]
  },
  {
   "cell_type": "code",
   "execution_count": 165,
   "id": "231fb623",
   "metadata": {
    "vscode": {
     "languageId": "r"
    }
   },
   "outputs": [
    {
     "name": "stderr",
     "output_type": "stream",
     "text": [
      "\u001b[1m\u001b[22m`summarise()` has grouped output by 'folder'. You can override using the `.groups` argument.\n"
     ]
    },
    {
     "data": {
      "text/html": [
       "<table class=\"dataframe\">\n",
       "<caption>A grouped_df: 0 x 3</caption>\n",
       "<thead>\n",
       "\t<tr><th scope=col>folder</th><th scope=col>period</th><th scope=col>failed</th></tr>\n",
       "\t<tr><th scope=col>&lt;chr&gt;</th><th scope=col>&lt;dbl&gt;</th><th scope=col>&lt;dbl&gt;</th></tr>\n",
       "</thead>\n",
       "<tbody>\n",
       "</tbody>\n",
       "</table>\n"
      ],
      "text/latex": [
       "A grouped\\_df: 0 x 3\n",
       "\\begin{tabular}{lll}\n",
       " folder & period & failed\\\\\n",
       " <chr> & <dbl> & <dbl>\\\\\n",
       "\\hline\n",
       "\\end{tabular}\n"
      ],
      "text/markdown": [
       "\n",
       "A grouped_df: 0 x 3\n",
       "\n",
       "| folder &lt;chr&gt; | period &lt;dbl&gt; | failed &lt;dbl&gt; |\n",
       "|---|---|---|\n",
       "\n"
      ],
      "text/plain": [
       "     folder period failed"
      ]
     },
     "metadata": {},
     "output_type": "display_data"
    },
    {
     "data": {
      "image/png": "[encoded data removed]",
      "text/plain": [
       "plot without title"
      ]
     },
     "metadata": {
      "image/png": {
       "height": 300,
       "width": 300
      }
     },
     "output_type": "display_data"
    }
   ],
   "source": [
    "fails <- errors %>%\n",
    "  group_by(folder, period) %>%\n",
    "  summarise(failed = sum(value))\n",
    "\n",
    "fails <- fails %>%\n",
    "  # mutate(load = 1000 / period) %>%\n",
    "  # inner_join(evol_sla_data, c(\"folder\", \"load\")) %>%\n",
    "  # mutate(dropped = failed / (above + respected + failed)) %>%\n",
    "  {\n",
    "    .\n",
    "  }\n",
    "\n",
    "fails\n",
    "\n",
    "# fails <- evol_sla_data %>%\n",
    "#     group_by(folder, target_offset) %>%\n",
    "#     select(folder, target_offset) %>%\n",
    "#     left_join(fails, by = c(\"folder\")) %>%\n",
    "#     {.}\n",
    "# fails$dropped <- coalesce(fails$dropped, 0)\n",
    "\n",
    "\n",
    "fails <- fails %>%\n",
    "  ggplot(\n",
    "    aes(\n",
    "      x = folder,\n",
    "      y = failed,\n",
    "      # color = latency_type,\n",
    "    )\n",
    "  ) +\n",
    "  # geom_line() +\n",
    "  geom_point() +\n",
    "  # geom_rug(sides=\"l\") +\n",
    "  # scale_y_reverse(label=scales::percent) +\n",
    "  # scale_y_reverse()+\n",
    "  # scale_x_discrete(position = \"top\") +\n",
    "  # labs(\n",
    "  #   x = \"Load (req/s)\",\n",
    "  #   y = \"Errors\",\n",
    "  #   # title = \"Ratio of errors for send window vs load.\",\n",
    "  #   color = \"Placment model\"\n",
    "  # ) +\n",
    "  theme(\n",
    "    axis.title.x = element_blank()\n",
    "  ) +\n",
    "  scale_color_viridis(discrete = TRUE, option = \"D\") +\n",
    "  scale_fill_viridis(discrete = TRUE)\n",
    "\n",
    "fig(5, 5)\n",
    "fails\n",
    "# cowplot::plot_grid(evol_sla, fails, ncol = 1, rel_heights = c(1, 0.75))\n"
   ]
  },
  {
   "cell_type": "code",
   "execution_count": null,
   "id": "52a0ba27",
   "metadata": {
    "vscode": {
     "languageId": "r"
    }
   },
   "outputs": [],
   "source": []
  },
  {
   "cell_type": "code",
   "execution_count": 166,
   "id": "c9fb2462-97d8-4106-8ee6-5ec8262d16d8",
   "metadata": {
    "vscode": {
     "languageId": "r"
    }
   },
   "outputs": [
    {
     "name": "stderr",
     "output_type": "stream",
     "text": [
      "\u001b[1mRows: \u001b[22m\u001b[34m3630\u001b[39m \u001b[1mColumns: \u001b[22m\u001b[34m8\u001b[39m\n",
      "\u001b[36m──\u001b[39m \u001b[1mColumn specification\u001b[22m \u001b[36m────────────────────────────────────────────────────────────────────────────────────────────────────────────────────────────────────────────────\u001b[39m\n",
      "\u001b[1mDelimiter:\u001b[22m \"\\t\"\n",
      "\u001b[31mchr\u001b[39m (6): name, bid_id, function_name, instance, job, sla_id\n",
      "\u001b[32mdbl\u001b[39m (2): timestamp, value\n",
      "\n",
      "\u001b[36mℹ\u001b[39m Use `spec()` to retrieve the full column specification for this data.\n",
      "\u001b[36mℹ\u001b[39m Specify the column types or set `show_col_types = FALSE` to quiet this message.\n",
      "\u001b[1mRows: \u001b[22m\u001b[34m2875\u001b[39m \u001b[1mColumns: \u001b[22m\u001b[34m8\u001b[39m\n",
      "\u001b[36m──\u001b[39m \u001b[1mColumn specification\u001b[22m \u001b[36m────────────────────────────────────────────────────────────────────────────────────────────────────────────────────────────────────────────────\u001b[39m\n",
      "\u001b[1mDelimiter:\u001b[22m \"\\t\"\n",
      "\u001b[31mchr\u001b[39m (6): name, bid_id, function_name, instance, job, sla_id\n",
      "\u001b[32mdbl\u001b[39m (2): timestamp, value\n",
      "\n",
      "\u001b[36mℹ\u001b[39m Use `spec()` to retrieve the full column specification for this data.\n",
      "\u001b[36mℹ\u001b[39m Specify the column types or set `show_col_types = FALSE` to quiet this message.\n"
     ]
    }
   ],
   "source": [
    "deployment_times_raw <-\n",
    "  load_csv(\"market_function_deployment_time.csv\") %>%\n",
    "  prepare() %>%\n",
    "  extract_function_name_info()\n",
    "\n",
    "# head(deployment_times_raw)\n"
   ]
  },
  {
   "cell_type": "code",
   "execution_count": 167,
   "id": "203167d7-7d25-4040-a954-d815de3811dc",
   "metadata": {
    "tags": [],
    "vscode": {
     "languageId": "r"
    }
   },
   "outputs": [
    {
     "name": "stderr",
     "output_type": "stream",
     "text": [
      "\u001b[1m\u001b[22m`summarise()` has grouped output by 'load_type', 'latency_type', 'bid_id', 'function_name', 'metric_group'. You can override using the `.groups` argument.\n",
      "Warning message:\n",
      "“Tried to calculate with group_by(), but the calculation failed.\n",
      "Falling back to ungrouped filter operation...”\n"
     ]
    }
   ],
   "source": [
    "deployment_times <- deployment_times_raw %>%\n",
    "  select(load_type, bid_id, latency_type, function_name, metric_group, value, metric_group_group) %>%\n",
    "  distinct() %>%\n",
    "  drop_na() %>%\n",
    "  group_by(load_type, latency_type, bid_id, function_name, metric_group, metric_group_group) %>%\n",
    "  summarize(min_time = min(value), avg_time = mean(value), max_time = max(value)) %>%\n",
    "  {\n",
    "    .\n",
    "  }\n",
    "\n",
    "# head(deployment_times)\n",
    "fig(10, 10)\n",
    "toto <- deployment_times %>%\n",
    "  ggplot(\n",
    "    aes(\n",
    "      x = avg_time * 1000,\n",
    "      # y = value,\n",
    "      color = metric_group,\n",
    "    )\n",
    "  ) +\n",
    "  stat_ecdf() +\n",
    "  gghighlight(metric_group == \"auction\",  unhighlighted_params = list(colour = NULL, alpha = 0.3),  label_params = list(linewidth = 10)) +\n",
    "  scale_x_continuous(trans = \"log10\") +\n",
    "  # facet_grid(rows = varslatency_type) +\n",
    "  # facet_grid(rows = vars(latency_type), cols = vars(load_type), scales = \"free\") +\n",
    "  labs(\n",
    "    x = \"Deployment time (ms)\",\n",
    "    y = \"Cumulation\",\n",
    "    title = \"ECDF of time to deploy functions\",\n",
    "    color = \"Placement model\"\n",
    "  ) \n",
    "  # scale_color_viridis(discrete = TRUE, option = \"D\") +\n",
    "  # scale_fill_viridis(discrete = TRUE)\n"
   ]
  },
  {
   "cell_type": "code",
   "execution_count": 168,
   "id": "3688fefb",
   "metadata": {
    "vscode": {
     "languageId": "r"
    }
   },
   "outputs": [
    {
     "name": "stderr",
     "output_type": "stream",
     "text": [
      "\u001b[1m\u001b[22m`summarise()` has grouped output by 'folder', 'metric_group', 'metric_group_group'. You can override using the `.groups` argument.\n",
      "\u001b[1m\u001b[22m`summarise()` has grouped output by 'folder', 'metric_group', 'metric_group_group'. You can override using the `.groups` argument.\n",
      "Warning message:\n",
      "“Ignoring unknown parameters: slab_linewidth”\n",
      "Warning message:\n",
      "“Tried to calculate with group_by(), but the calculation failed.\n",
      "Falling back to ungrouped filter operation...”\n"
     ]
    },
    {
     "data": {
      "image/png": "[encoded data removed]",
      "text/plain": [
       "plot without title"
      ]
     },
     "metadata": {
      "image/png": {
       "height": 360,
       "width": 720
      }
     },
     "output_type": "display_data"
    }
   ],
   "source": [
    "deployment_times <- deployment_times_raw %>%\n",
    "  ungroup() %>%\n",
    "  select(latency_type, sla_id, folder, metric_group, value, metric_group_group) %>%\n",
    "  distinct() %>%\n",
    "  drop_na()\n",
    "\n",
    "top_1_percent <- deployment_times %>%\n",
    "  group_by(folder, metric_group, metric_group_group, latency_type) %>%\n",
    "  arrange(desc(value), .by_group = T) %>%\n",
    "  mutate(rank = row_number()) %>%\n",
    "  filter(rank <= ceiling(n() * 0.05)) %>%\n",
    "  group_by(folder, metric_group, metric_group_group, latency_type) %>%\n",
    "  summarize(avg_time_1_percent = mean(value))\n",
    "\n",
    "\n",
    "deployment_times <- deployment_times %>%\n",
    "  group_by(folder, metric_group, metric_group_group, latency_type) %>%\n",
    "  summarize(avg_time = mean(value)) %>%\n",
    "  inner_join(top_1_percent, by = c(\"folder\", \"metric_group\", \"metric_group_group\", \"latency_type\")) %>%\n",
    "  gather(key = \"average_type\", value = \"average\", avg_time, avg_time_1_percent) %>%\n",
    "  mutate(average_type = case_when(\n",
    "    average_type == \"avg_time\" ~ \"all\",\n",
    "    average_type == \"avg_time_1_percent\" ~ \"worst 5% (highest)\",\n",
    "  )) %>%\n",
    "  {\n",
    "    .\n",
    "  }\n",
    "\n",
    "deployment_times <- deployment_times %>%\n",
    "  inner_join(total_low_latency, by = c(\"metric_group\", \"metric_group_group\", \"folder\")) %>%\n",
    "  mutate(ratio_low_latency_functions = paste0(round(ratio_low_latency_functions * 100, 0), \"%\"))\n",
    "\n",
    "\n",
    "fig(12, 7)\n",
    "deployment_times_all <- deployment_times %>%\n",
    "  # filter(average_type == \"all\") %>%\n",
    "  correct_names() %>%\n",
    "  ggplot(\n",
    "    aes(\n",
    "      y = `Placement method`,\n",
    "      x = average * 1000,\n",
    "      color = latency_type,\n",
    "      shape = latency_type,\n",
    "      fill = latency_type,\n",
    "      # group = `Placement method`\n",
    "      # dotsize = 0.6,\n",
    "      # bindwidth=0.5,\n",
    "      # # group = average_type,\n",
    "      # linewidth=0,\n",
    "    )\n",
    "  ) +\n",
    "  stat_dotsinterval(slab_alpha =0.6, position = \"dodge\", binwidth = unit(2, \"mm\"), scale = 0.95, size = 10, slab_linewidth = 0) +\n",
    "  gghighlight(metric_group == \"auction\", unhighlighted_params = list(slab_alpha = 0.3, point_alpha = 0.3, colour = NULL, fill = NULL, alpha = 0.3), label_params = list(linewidth = 10), calculate_per_facet = TRUE) +\n",
    "  facet_grid2(cols = vars(average_type), scales = \"free\", axes = \"all\", remove_labels = \"y\") +\n",
    "  labs(\n",
    "    x = \"Deployment time ($ms$)\",\n",
    "    y = \"Placement algorithm\",\n",
    "    title = \"Deployment time of placement models\",\n",
    "    subtitle = \"\\\\textit{Each point is an experiment run}\",\n",
    "    color = \"Function type\",\n",
    "    shape = \"Function type\",\n",
    "    fill = \"Function type\",\n",
    "  ) +\n",
    "  theme(\n",
    "    legend.position = \"bottom\",\n",
    "    # legend.direction = \"vertical\",\n",
    "  )+\n",
    "  coord_capped_cart(bottom='both')+\n",
    "  scale_y_discrete(guide = guide_prism_bracket(width = 0.15))\n",
    "  fig(12, 6)\n",
    "deployment_times_all\n"
   ]
  },
  {
   "cell_type": "code",
   "execution_count": 172,
   "id": "82e987f4-bc66-4f0e-94d4-4f96356bbde8",
   "metadata": {
    "tags": [],
    "vscode": {
     "languageId": "r"
    }
   },
   "outputs": [],
   "source": [
    "# nb_experiences_per_categories <- total_low_latency %>%\n",
    "#     ungroup()  %>% \n",
    "#     select(folder, metric_group, ratio_low_latency_functions) %>% \n",
    "#     group_by(metric_group, ratio_low_latency_functions) %>% \n",
    "#     distinct() %>% \n",
    "#     count() %>%\n",
    "#     mutate(ratio_low_latency_functions = paste0(round(ratio_low_latency_functions * 100, 0), \"%\")) %>%\n",
    "#     pivot_wider(names_from = ratio_low_latency_functions, values_from = n) %>%\n",
    "#     rowwise() %>%\n",
    "#     mutate(total = sum(c_across(c(`25%`, `50%`, `75%`)))) %>%\n",
    "#     ungroup() %>%\n",
    "#     correct_names() %>%\n",
    "#     select(-metric_group) %>%\n",
    "#     select(`Placement method`, \"25%\", \"50%\", \"75%\", \"total\")\n",
    "\n",
    "# nb_experiences_per_categories\n"
   ]
  },
  {
   "cell_type": "code",
   "execution_count": 173,
   "id": "7aeb7ddd-10c4-495d-b2f1-9963ca2fdf77",
   "metadata": {
    "tags": [],
    "vscode": {
     "languageId": "r"
    }
   },
   "outputs": [],
   "source": [
    "escape_latex_special_chars <- function(text) {\n",
    "  # Define special characters to escape\n",
    "  special_chars <- c(\"%\", \"&\", \"#\", \"_\", \"\\\\$\", \"\\\\{\", \"\\\\}\", \"\\\\^\", \"\\\\~\")\n",
    "  \n",
    "  # Escape each special character with a backslash\n",
    "  for (char in special_chars) {\n",
    "    text <- gsub(char, paste0(\"\\\\\", substring(char, nchar(char), nchar(char))), text, fixed = TRUE)\n",
    "  }\n",
    "  \n",
    "  return(text)\n",
    "}\n",
    "\n",
    "\n",
    "tibble_to_latex_tabular <- function(data, file) {\n",
    "  cat(\"\\\\begin{tabular}{\", paste0(rep(\"c\", ncol(data)), collapse = \" \"), \"}\\n\", file = file)\n",
    "  cat(\"\\\\hline\\n\", file = file, append = TRUE)\n",
    "  \n",
    "  # Print column names with escaped special characters\n",
    "  cat(paste0(escape_latex_special_chars(colnames(data)), collapse = \" & \"), \" \\\\\\\\\\n\", file = file, append = TRUE)\n",
    "  cat(\"\\\\hline\\n\", file = file, append = TRUE)\n",
    "  \n",
    "  # Print rows with escaped special characters\n",
    "  for (i in 1:nrow(data)) {\n",
    "    cat(paste0(escape_latex_special_chars(as.character(data[i, ])), collapse = \" & \"), \" \\\\\\\\\\n\", file = file, append = TRUE)\n",
    "  }\n",
    "  \n",
    "  cat(\"\\\\hline\\n\", file = file, append = TRUE)\n",
    "  cat(\"\\\\end{tabular}\", file = file, append = TRUE)\n",
    "}\n"
   ]
  },
  {
   "cell_type": "code",
   "execution_count": 179,
   "id": "1ce437c5-d292-4f29-a192-498d8c4dc94d",
   "metadata": {
    "tags": [],
    "vscode": {
     "languageId": "r"
    }
   },
   "outputs": [],
   "source": [
    "if (length(find.package('tikzDevice', quiet=TRUE))){\n",
    "    library(tikzDevice)\n",
    "    options(tikzDefaultEngine = \"xetex\")\n",
    "    options(\n",
    "    tikzSanitizeCharacters = c('%'),\n",
    "    tikzReplacementCharacters = c('\\\\%'))\n",
    "\n",
    "    tikzDevice::tikz(\"./nodes.tex\", width=15, height=5, standAlone=FALSE, sanitize = TRUE) #, standAlone = TRUE)\n",
    "    plot(net_connected, layout = coords,asp=0.22, margin=-0, edge.label = E(net_connected)$weight, edge.width = 1, vertex.size = 5, vertex.label.cex = 1, vertex.dist = 20, edge.arrow.size = 0.5, edge.label.cex = 0.8, edge.label.dist = 1.5)\n",
    "    dev.off()\n",
    "\n",
    "    tikzDevice::tikz(\"./deploymenttimes.tex\", width=12, height=6, standAlone=FALSE, sanitize = TRUE) #, standAlone = TRUE)\n",
    "    print(deployment_times_all)\n",
    "    dev.off()\n",
    "\n",
    "    tikzDevice::tikz(\"./apdex.tex\", width=12, height=6, standAlone=FALSE, sanitize = TRUE) #, standAlone = TRUE)\n",
    "    print(apdex_plot)\n",
    "    dev.off()\n",
    "\n",
    "    tikzDevice::tikz(\"./nb_bids.tex\", width=12, height=6, standAlone=FALSE, sanitize = TRUE) #, standAlone = TRUE)\n",
    "    print(bids_function_plot)\n",
    "    dev.off()\n",
    "\n",
    "    tikzDevice::tikz(\"./earnings.tex\", width=12, height=4, standAlone=FALSE, sanitize = TRUE) #, standAlone = TRUE)\n",
    "    print(transform_ratio_graph_plot_earnings)\n",
    "    dev.off()\n",
    "\n",
    "    tikzDevice::tikz(\"./jain.tex\", width=9, height=4, standAlone=FALSE, sanitize = TRUE) #, standAlone = TRUE)\n",
    "    print(transform_ratio_graph_plot_jain)\n",
    "    dev.off()\n",
    "\n",
    "    tikzDevice::tikz(\"./sum_earnings.tex\", width=9, height=4, standAlone=FALSE, sanitize = TRUE) #, standAlone = TRUE)\n",
    "    print(transform_ratio_graph_plot_sum_earnings)\n",
    "    dev.off()\n",
    "\n",
    "    output_file <- \"nb_experiences_per_categories.tex\"\n",
    "    tibble_to_latex_tabular(nb_experiences_per_categories, output_file)\n",
    "}"
   ]
  }
 ],
 "metadata": {
  "jupytext": {
   "cell_metadata_filter": "-all",
   "main_language": "R",
   "notebook_metadata_filter": "-all"
  },
  "kernelspec": {
   "display_name": "faas_fog",
   "language": "r",
   "name": "faas_fog"
  },
  "language_info": {
   "codemirror_mode": "r",
   "file_extension": ".r",
   "mimetype": "text/x-r-source",
   "name": "R",
   "pygments_lexer": "r",
   "version": "4.2.3"
  }
 },
 "nbformat": 4,
 "nbformat_minor": 5
}
