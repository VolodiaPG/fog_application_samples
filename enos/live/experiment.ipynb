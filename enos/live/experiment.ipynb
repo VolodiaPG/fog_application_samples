{
 "cells": [
  {
   "cell_type": "raw",
   "id": "cd8addfd",
   "metadata": {},
   "source": [
    "---\n",
    "title: \"R Notebook\"\n",
    "output:\n",
    "  html_document:\n",
    "    df_print: paged\n",
    "  html_notebook: default\n",
    "  pdf_document: default\n",
    "---"
   ]
  },
  {
   "cell_type": "markdown",
   "id": "b047ebf3",
   "metadata": {},
   "source": [
    "# Experiment\n",
    "\n",
    "## Perequisites\n",
    "\n",
    "Extract the data to `./metrics`\n",
    "\n",
    "## Preparations\n",
    "\n",
    "Import necessary libraries\n",
    "\n",
    "Idées de mesures:\n",
    "\n",
    "- distribution des fonctions\n",
    "- politique basique edge first ou quoi\n",
    "- temps de deploiement vs nombre de noeuds dans le Fog vs taille du réseau\n",
    "- temps de deploiement vs nombre de fonctions vs taille du réseau\n",
    "- la mémoire et le cpu au niveau du noeud fog\n",
    "\n",
    "graohes des localités : courbe qui montre combien de fonctions se répartissent sur l'edge et sur le cloud\n",
    "faire varier le nombre de noeuds\n",
    "\n",
    "Changer le nombre de fonctions que l'on déploi = saturation (x nbre de fonction)\n",
    "Regarder l'évolution des temps de réponses / des violations de temps de deadline\n",
    "\n",
    "Regarder si on satisfait les deadlines et si c'est scalable\n",
    "\n",
    "Comparer en terme de prix = pas relevant\n",
    "Définir une fonction d'utilité au niveau des enchères, par rapport au temps d'exécution\n",
    "\n",
    "\n"
   ]
  },
  {
   "cell_type": "code",
   "execution_count": 1,
   "id": "0805590a",
   "metadata": {},
   "outputs": [],
   "source": [
    "METRICS_PATH <- \"./metrics/\""
   ]
  },
  {
   "cell_type": "code",
   "execution_count": 6,
   "id": "ec73b25d",
   "metadata": {},
   "outputs": [
    {
     "name": "stderr",
     "output_type": "stream",
     "text": [
      "Installing packages into ‘/home/vscode/R/x86_64-pc-linux-gnu-library/4.2’\n",
      "(as ‘lib’ is unspecified)\n",
      "\n",
      "also installing the dependencies ‘colorspace’, ‘sys’, ‘bit’, ‘ps’, ‘farver’, ‘labeling’, ‘munsell’, ‘RColorBrewer’, ‘rematch’, ‘askpass’, ‘bit64’, ‘prettyunits’, ‘processx’, ‘sass’, ‘cachem’, ‘memoise’, ‘rprojroot’, ‘backports’, ‘generics’, ‘assertthat’, ‘blob’, ‘DBI’, ‘R6’, ‘tidyselect’, ‘data.table’, ‘gtable’, ‘isoband’, ‘scales’, ‘gargle’, ‘cellranger’, ‘curl’, ‘ids’, ‘rematch2’, ‘cpp11’, ‘mime’, ‘openssl’, ‘timechange’, ‘clipr’, ‘vroom’, ‘tzdb’, ‘progress’, ‘callr’, ‘fs’, ‘selectr’, ‘yaml’, ‘highr’, ‘xfun’, ‘bslib’, ‘jquerylib’, ‘tinytex’, ‘Rcpp’, ‘RcppTOML’, ‘here’, ‘png’, ‘rappdirs’, ‘withr’, ‘broom’, ‘dbplyr’, ‘dplyr’, ‘dtplyr’, ‘forcats’, ‘ggplot2’, ‘googledrive’, ‘googlesheets4’, ‘haven’, ‘hms’, ‘httr’, ‘lubridate’, ‘magrittr’, ‘modelr’, ‘purrr’, ‘readr’, ‘readxl’, ‘reprex’, ‘rstudioapi’, ‘rvest’, ‘tibble’, ‘tidyr’, ‘xml2’, ‘pkgconfig’, ‘htmlwidgets’, ‘knitr’, ‘rmarkdown’, ‘stringi’, ‘viridisLite’, ‘gridExtra’\n",
      "\n",
      "\n",
      "Warning message in install.packages(c(\"reticulate\", \"tidyverse\", \"igraph\", \"r2r\", :\n",
      "“installation of package ‘igraph’ had non-zero exit status”\n"
     ]
    }
   ],
   "source": [
    "dir.create(Sys.getenv(\"R_LIBS_USER\"), recursive = TRUE)  # create personal library\n",
    ".libPaths(Sys.getenv(\"R_LIBS_USER\"))  # add to the path\n",
    "\n",
    "install.packages(c('reticulate', 'tidyverse', 'igraph', 'r2r', 'formattable', 'stringr', 'viridis', 'zoo'))"
   ]
  },
  {
   "cell_type": "markdown",
   "id": "0b1fa9fb",
   "metadata": {},
   "source": [
    "Then, the dependencies"
   ]
  },
  {
   "cell_type": "code",
   "execution_count": 5,
   "id": "3baa3b3d",
   "metadata": {},
   "outputs": [
    {
     "ename": "ERROR",
     "evalue": "Error in library(reticulate): there is no package called ‘reticulate’\n",
     "output_type": "error",
     "traceback": [
      "Error in library(reticulate): there is no package called ‘reticulate’\nTraceback:\n",
      "1. library(reticulate)"
     ]
    }
   ],
   "source": [
    "# To call python from R\n",
    "library(reticulate)\n",
    "library(tidyverse)\n",
    "library(igraph)\n",
    "library(r2r)\n",
    "library(formattable)\n",
    "library(stringr)\n",
    "library(viridis)\n",
    "library(zoo) # moving averages        "
   ]
  },
  {
   "cell_type": "markdown",
   "id": "83cd0763",
   "metadata": {},
   "source": [
    "Load the the Python `integration.py` script to use its variable in R"
   ]
  },
  {
   "cell_type": "code",
   "execution_count": null,
   "id": "ddee45e8",
   "metadata": {},
   "outputs": [],
   "source": [
    "#use_virtualenv('.venv/', required = TRUE)\n",
    "# Always throws an error because it is a CLI tool; it is not made to be loaded in R\n",
    "try(source_python(\"definitions.py\"))"
   ]
  },
  {
   "cell_type": "markdown",
   "id": "60d128c8",
   "metadata": {},
   "source": [
    "Load the graph network as an adjancency matrix"
   ]
  },
  {
   "cell_type": "code",
   "execution_count": null,
   "id": "f97ff3a1",
   "metadata": {},
   "outputs": [],
   "source": [
    "raw <- py$ADJACENCY\n",
    "\n",
    "adjancy_transform <- function(x) {\n",
    "  ret <- matrix(0, nrow = length(x), ncol = length(x))\n",
    "  rownames(ret) <- c(sort(names(x)))\n",
    "  colnames(ret) <- c(sort(names(x)))\n",
    "  for (ii in seq_along(x)) {\n",
    "    for (jj in seq_along(x[[ii]])) {\n",
    "      ret[names(x)[[ii]], x[[ii]][[jj]][[1]]] <- strtoi(x[[ii]][[jj]][[2]])\n",
    "    }\n",
    "  }\n",
    "  return(ret)\n",
    "}\n",
    "\n",
    "graph_matrix <- adjancy_transform(raw)\n",
    "net <- graph_from_adjacency_matrix(as.matrix(graph_matrix), weighted = TRUE)\n",
    "plot(net, layout = layout_as_tree)\n",
    "\n",
    "# ceb <- cluster_edge_betweenness(g)\n",
    "#\n",
    "# dendPlot(ceb, mode=\"hclust\")\n",
    "# plot(ceb, g)"
   ]
  },
  {
   "cell_type": "markdown",
   "id": "95ed5707",
   "metadata": {},
   "source": [
    "## Data preprocessing"
   ]
  },
  {
   "cell_type": "code",
   "execution_count": null,
   "id": "ce2900a2",
   "metadata": {},
   "outputs": [],
   "source": [
    "names_raw <- read.csv2(file = paste(METRICS_PATH, \"names.csv\", sep = \"/\"), header = TRUE, sep = \"\\t\")\n",
    "names <- hashmap()\n",
    "names[names_raw$instance] <- names_raw$name\n",
    "\n",
    "missing <- data.frame(instance = names_raw$name, n = 0)"
   ]
  },
  {
   "cell_type": "markdown",
   "id": "e5700caf",
   "metadata": {},
   "source": [
    "Load the names of the node and their correspondance in their IP on the virtual network"
   ]
  },
  {
   "cell_type": "code",
   "execution_count": null,
   "id": "66ced2ce",
   "metadata": {},
   "outputs": [],
   "source": [
    "prepare <- function(x) {\n",
    "  return(\n",
    "    x %>%\n",
    "      mutate(instance = names[instance]) %>%\n",
    "      mutate(instance = as.character(instance)) %>%\n",
    "      mutate(timestamp_raw = as.numeric(as.character(timestamp))) %>%\n",
    "      mutate(timestamp = as.POSIXct(timestamp_raw, origin = \"1970-01-01\")) %>%\n",
    "      mutate(value = as.numeric(as.character(value))) %>%\n",
    "      merge(missing, all = TRUE) %>%\n",
    "      arrange(instance)\n",
    "  )\n",
    "}"
   ]
  },
  {
   "cell_type": "markdown",
   "id": "2656d78e",
   "metadata": {},
   "source": [
    "## Data processing\n",
    "\n",
    "Check what nodes we have values for (usually the ones who have submitted bids and etc.):\n",
    "- Green is ok\n",
    "- Red is a node that was not present in the data"
   ]
  },
  {
   "cell_type": "code",
   "execution_count": null,
   "id": "74404612",
   "metadata": {},
   "outputs": [],
   "source": [
    "mem <- read.csv2(file = paste(METRICS_PATH, \"fog_node_memory_available.csv\", sep = \"/\"), header = TRUE, sep = \"\\t\") %>%\n",
    "  prepare() %>%\n",
    "  distinct(instance, value, .keep_all = TRUE) %>%\n",
    "  select(c(instance, value)) %>%\n",
    "  mutate(dyn = formattable::percent(value / max(value, na.rm = TRUE))) %>%\n",
    "  mutate(value = as.numeric(as.character(value)))\n",
    "\n",
    "cpu <- read.csv2(file = paste(METRICS_PATH, \"fog_node_cpu_used.csv\", sep = \"/\"), header = TRUE, sep = \"\\t\") %>%\n",
    "  prepare() %>%\n",
    "  select(c(instance, value)) %>%\n",
    "  distinct(instance, value, .keep_all = TRUE) %>%\n",
    "  group_by(instance) %>%\n",
    "  mutate(value = as.numeric(as.character(value)))"
   ]
  },
  {
   "cell_type": "code",
   "execution_count": null,
   "id": "78473708",
   "metadata": {},
   "outputs": [],
   "source": [
    "PercentageColourConnected <- function(x) {\n",
    "  colorRampPalette(c(\"red\", \"green\"))(2)[ifelse(is.na(x), 1, 2)]\n",
    "}\n",
    "net_connected <- graph_from_adjacency_matrix(as.matrix(graph_matrix), weighted = TRUE)\n",
    "V(net_connected)$color <- PercentageColourConnected(mem$value)\n",
    "plot(net_connected, layout = layout_as_tree, edge.label = E(net_connected)$weight)"
   ]
  },
  {
   "cell_type": "code",
   "execution_count": null,
   "id": "78e54e0f",
   "metadata": {},
   "outputs": [],
   "source": [
    "bids_raw <- read.csv2(file = paste(METRICS_PATH, \"fog_node_bids.csv\", sep = \"/\"), header = TRUE, sep = \"\\t\") %>%\n",
    "  prepare()\n",
    "\n",
    "head(bids_raw)"
   ]
  },
  {
   "cell_type": "code",
   "execution_count": null,
   "id": "3f951f4a",
   "metadata": {
    "lines_to_next_cell": 0
   },
   "outputs": [],
   "source": [
    "bids_won_raw <- bids_raw %>%\n",
    "  select(c(instance, function_name, value))\n",
    "\n",
    "bids_won_all_zero <- data.frame(instance = names_raw$name, n = 0)\n",
    "bids_won <- bids_won_raw %>%\n",
    "  group_by(function_name) %>%\n",
    "  slice(which.min(value)) %>%\n",
    "  group_by(instance) %>%\n",
    "  summarise(n = n())\n",
    "\n",
    "bids_won\n",
    "\n",
    "# Add missing participants and put them at 0\n",
    "bids_won <- bids_won %>%\n",
    "  merge(bids_won_all_zero, all = TRUE) %>%\n",
    "  group_by(instance) %>%\n",
    "  summarise(across(everything(), sum)) %>%\n",
    "  arrange()\n",
    "\n",
    "net_won <- graph_from_adjacency_matrix(as.matrix(graph_matrix), weighted = TRUE)\n",
    "V(net_won)$size <- bids_won$n * 2\n",
    "plot(net_won, layout = layout_as_tree)"
   ]
  },
  {
   "cell_type": "markdown",
   "id": "7e080aa1",
   "metadata": {
    "lines_to_next_cell": 0
   },
   "source": [
    "Plot the free cpu"
   ]
  },
  {
   "cell_type": "code",
   "execution_count": null,
   "id": "71514411",
   "metadata": {},
   "outputs": [],
   "source": [
    "cpu_used <- read.csv2(file = paste(METRICS_PATH, \"fog_node_cpu_used.csv\", sep = \"/\"), header = TRUE, sep = \"\\t\") %>% prepare()\n",
    "cpu_avail <- read.csv2(file = paste(METRICS_PATH, \"fog_node_cpu_available.csv\", sep = \"/\"), header = TRUE, sep = \"\\t\") %>% prepare()\n",
    "\n",
    "cpu_free <- cpu_used %>%\n",
    "  inner_join(cpu_avail, by = c(\"instance\", \"timestamp\")) %>%\n",
    "  mutate(free = (value.y - value.x) / 1e09) %>%\n",
    "  group_by(instance) %>%\n",
    "  mutate(free_percent = formattable::percent(free / max(free, na.rm = TRUE))) %>%\n",
    "  select(instance, timestamp, free, free_percent)\n",
    "\n",
    "cpu_free %>%\n",
    "ggplot(aes(x = timestamp, y = free_percent, color = instance)) +\n",
    "  geom_step() +\n",
    "  # geom_point() +\n",
    "  labs(x = \"Time\", y = \"Free CPU (%)\", title = \"Free cpu in fog_nodes over time\", subtitle = \"True metrics as seen by k3s on the node\") +\n",
    "  scale_color_viridis(discrete = TRUE, option = \"D\") +\n",
    "  scale_fill_viridis(discrete = TRUE) "
   ]
  },
  {
   "cell_type": "markdown",
   "id": "075915b2",
   "metadata": {},
   "source": [
    "Plot the free memory"
   ]
  },
  {
   "cell_type": "code",
   "execution_count": null,
   "id": "16e903d3",
   "metadata": {
    "lines_to_next_cell": 0
   },
   "outputs": [],
   "source": [
    "mem_used <- read.csv2(file = paste(METRICS_PATH, \"fog_node_memory_used.csv\", sep = \"/\"), header = TRUE, sep = \"\\t\") %>% prepare()\n",
    "mem_avail <- read.csv2(file = paste(METRICS_PATH, \"fog_node_memory_available.csv\", sep = \"/\"), header = TRUE, sep = \"\\t\") %>% prepare()\n",
    "\n",
    "mem_free <- mem_used %>%\n",
    "  inner_join(mem_avail, by = c(\"instance\", \"timestamp\")) %>%\n",
    "mutate(free = (value.y - value.x) / 1e09) %>%\n",
    "  group_by(instance) %>%\n",
    "  mutate(free_percent = formattable::percent(free / max(free, na.rm = TRUE))) %>%\n",
    "  select(instance, timestamp, free, free_percent)\n",
    "\n",
    "mem_free %>%\n",
    "  ggplot(aes(x = timestamp, y = free_percent, color = instance)) +\n",
    "  geom_step() +\n",
    "  # geom_point() +\n",
    "labs(x = \"Time\", y = \"Free memory (%)\", title = \"Free memory in fog_nodes over time\", subtitle = \"True metrics as seen by k3s on the node\") +\n",
    "  scale_color_viridis(discrete = TRUE, option = \"D\") +\n",
    "  scale_fill_viridis(discrete = TRUE) "
   ]
  },
  {
   "cell_type": "code",
   "execution_count": null,
   "id": "2099a50f",
   "metadata": {},
   "outputs": [],
   "source": [
    "mem_used <- read.csv2(file = paste(METRICS_PATH, \"fog_node_memory_used.csv\", sep = \"/\"), header = TRUE, sep = \"\\t\") %>% prepare()\n",
    "mem_avail <- read.csv2(file = paste(METRICS_PATH, \"fog_node_memory_available.csv\", sep = \"/\"), header = TRUE, sep = \"\\t\") %>% prepare()\n",
    "\n",
    "mem_free <- mem_used %>%\n",
    "  inner_join(mem_avail, by = c(\"instance\", \"timestamp\")) %>%\n",
    "mutate(free = (value.y - value.x) / 1e09) %>%\n",
    "  group_by(instance) %>%\n",
    "  mutate(free_percent = formattable::percent(free / max(free, na.rm = TRUE))) %>%\n",
    "  select(instance, timestamp, free, free_percent)\n",
    "\n",
    "mem_free %>%\n",
    "  ggplot(aes(x = timestamp, y = free, color = instance)) +\n",
    "  geom_step() +\n",
    "  # geom_point() +\n",
    "  labs(x = \"Time\", y = \"Free memory (%)\", title = \"Free memory in fog_nodes over time\", subtitle = \"As seen by the inside of the fog node software\")"
   ]
  },
  {
   "cell_type": "markdown",
   "id": "7912ba99",
   "metadata": {},
   "source": [
    "Latency of the nodes from their rolling average\n",
    "\n",
    "> It is actually the double of the set latency because first the TCP connection is established and then the data flows. So those are actually: src -> dest and then src -> dest, so counting twice as long as the actual network latency."
   ]
  },
  {
   "cell_type": "code",
   "execution_count": null,
   "id": "032fe8b0",
   "metadata": {},
   "outputs": [],
   "source": [
    "latency <- read.csv2(file = paste(METRICS_PATH, \"fog_node_neighbors_latency_rolling_avg.csv\", sep = \"/\"), header = TRUE, sep = \"\\t\") %>%\n",
    "  prepare() %>%\n",
    "  mutate(instance_to = as.character(names[instance_to]))\n",
    "\n",
    "latency %>%\n",
    "  group_by(instance, instance_to) %>%\n",
    "  summarise(mean_ms = round(mean(value * 1000), 0))\n",
    "\n",
    "latency %>%\n",
    "  ggplot(aes(x = timestamp, y = value, color = instance_to)) +\n",
    "geom_smooth() +\n",
    "  labs(x = \"Time\", y = \"Latency (s)\", title = \"Evolution of perceived latency from a node to its neighbors over time\", subtitle = \"Each row is a “from”\") +\n",
    "  facet_grid(rows = vars(instance))+\n",
    "  scale_color_viridis(discrete = TRUE, option = \"D\") +\n",
    "  scale_fill_viridis(discrete = TRUE) \n",
    "\n",
    "latency %>%\n",
    "  ggplot(aes(x = timestamp, y = value, color = instance_to)) +\n",
    "geom_point() +\n",
    "  labs(x = \"Time\", y = \"Latency (s)\", title = \"Evolution of perceived latency from a node to its neighbors over time\", subtitle = \"Each row is a “from”\") +\n",
    "  scale_color_viridis(discrete = TRUE, option = \"D\") +\n",
    "  scale_fill_viridis(discrete = TRUE) \n",
    "\n",
    "latency %>% group_by(instance, instance_to) %>% mutate(max = max(value)) %>% select(instance, instance_to, max) %>% \n",
    "  ggplot(aes(x = instance, y = max, fill = instance_to)) +\n",
    "geom_col(position=\"dodge\") +\n",
    "  labs(x = \"Source\", y = \"Latency (s)\", title = \"Max latency from a node to its neighbors\") +\n",
    "  # facet_grid(rows = vars(instance_to))+\n",
    "  scale_color_viridis(discrete = TRUE, option = \"D\") +\n",
    "  scale_fill_viridis(discrete = TRUE) "
   ]
  },
  {
   "cell_type": "code",
   "execution_count": null,
   "id": "3f5c60cf",
   "metadata": {},
   "outputs": [],
   "source": [
    "iot_request_duration <- read.csv2(file = paste(METRICS_PATH, \"iot_emulation_http_request_duration_seconds_print_bucket.csv\", sep = \"\"), header = TRUE, sep = \"\\t\") %>%\n",
    "  prepare() %>%\n",
    "  select(instance, tag, value, le, n)\n",
    "\n",
    "head(iot_request_duration)"
   ]
  },
  {
   "cell_type": "code",
   "execution_count": null,
   "id": "fa32b516",
   "metadata": {
    "lines_to_next_cell": 0
   },
   "outputs": [],
   "source": [
    "bids_won_function <- bids_raw %>%\n",
    "  group_by(function_name) %>%\n",
    "  slice(which.min(value)) %>%\n",
    "  mutate(winner = instance)\n",
    "\n",
    "head(bids_won_function)\n",
    "\n",
    "bids_function <- bids_raw %>%\n",
    "  select(c(instance, function_name, value)) %>%\n",
    "  distinct() %>%\n",
    "  mutate(latency = stringr::str_match(function_name, \"(.+)-(.+)-([0-9]+)-([0-9]+)-([0-9]+)\") %>% .[, 4]) %>%\n",
    "  inner_join(bids_won_function, by = c(\"function_name\"))\n",
    "\n",
    "head(bids_function)\n",
    "\n",
    "bids_function %>%\n",
    "  ggplot(aes(x = latency, y = value.x, group = function_name, color = winner, label = instance.x)) +\n",
    "  geom_boxplot() +\n",
    "  # geom_point() +\n",
    "  # geom_text(hjust = 0, vjust = 0) +\n",
    "  labs(x = \"Functions\", y = \"Bids (currency)\", title = \"Bids made for each functions submitted\", subtitle = \"Color matches the winner's\")+\n",
    "  scale_color_viridis(discrete = TRUE, option = \"D\") +\n",
    "  scale_fill_viridis(discrete = TRUE) "
   ]
  },
  {
   "cell_type": "code",
   "execution_count": null,
   "id": "dc335858",
   "metadata": {},
   "outputs": [],
   "source": [
    "bids_function %>%\n",
    "  ggplot(aes(x = latency, y = value.x, group = function_name, color = winner, label = instance.x)) +\n",
    "  geom_boxplot() +\n",
    "  # geom_point() +\n",
    "  # geom_text(hjust = 0, vjust = 0) +\n",
    "  labs(x = \"Functions\", y = \"Bids (currency)\", title = \"Bids made for each functions submitted\", subtitle = \"Color matches the winner's\")+\n",
    "  scale_color_viridis(discrete = TRUE, option = \"D\") +\n",
    "  scale_fill_viridis(discrete = TRUE) "
   ]
  },
  {
   "cell_type": "code",
   "execution_count": null,
   "id": "41de5b63",
   "metadata": {},
   "outputs": [],
   "source": [
    "winner_gains <- bids_won_function %>%\n",
    "  select(c(winner, function_name, value)) %>%\n",
    "  distinct()\n",
    "head(winner_gains)\n",
    "\n",
    "winner_gains %>%\n",
    "  ggplot(aes(x = winner, y = value, fill = winner)) +\n",
    "  geom_col() +\n",
    "  labs(x = \"Functions\", y = \"nodes\", title = \"Monetary gains\")+\n",
    "  scale_color_viridis(discrete = TRUE, option = \"D\") +\n",
    "  scale_fill_viridis(discrete = TRUE) "
   ]
  },
  {
   "cell_type": "code",
   "execution_count": null,
   "id": "652531d6",
   "metadata": {
    "lines_to_next_cell": 2
   },
   "outputs": [],
   "source": [
    "head(bids_function)\n",
    "\n",
    "bids_function %>%\n",
    "  select(winner, function_name) %>%\n",
    "  distinct() %>%\n",
    "  ggplot(aes(x = winner, fill = winner)) +\n",
    "  geom_bar() +\n",
    "  labs(x = \"Nodes\", y = \"Number of won bids\", title = \"Number of bids won\")+\n",
    "  scale_color_viridis(discrete = TRUE, option = \"D\") +\n",
    "  scale_fill_viridis(discrete = TRUE) "
   ]
  },
  {
   "cell_type": "code",
   "execution_count": null,
   "id": "c03fbf5c",
   "metadata": {},
   "outputs": [],
   "source": [
    "toto <-\n",
    "  read.csv2(file = \"metrics/iot_emulation_http_request_to_processing_echo_duration_seconds_print_sum.csv\", header = TRUE, sep = \"\\t\") %>%\n",
    "  prepare()\n",
    "\n",
    "titi <-\n",
    "  read.csv2(file = \"metrics/iot_emulation_http_request_to_processing_echo_duration_seconds_print_count.csv\", header = TRUE, sep = \"\\t\") %>%\n",
    "  prepare()\n",
    "\n",
    "\n",
    "latencies <- toto %>%\n",
    "  mutate(latency = stringr::str_match(tag, \"(.+)-(.+)-([0-9]+)-([0-9]+)-([0-9]+)\") %>% .[, 4]) %>%\n",
    "  select(latency) %>%\n",
    "  distinct() %>%\n",
    "  filter(!is.na(latency))\n",
    "\n",
    "tutu <- toto %>%\n",
    "  inner_join(titi,\n",
    "             by = c(\"instance\", \"job\", \"timestamp\", \"timestamp_raw\", \"tag\"),\n",
    "  ) %>%\n",
    "  group_by(tag) %>%\n",
    "  mutate(new_x = value.x - dplyr::lag(x = value.x, n = 1,\n",
    "                                      order_by = timestamp)) %>%\n",
    "  mutate(new_y = value.y - dplyr::lag(x = value.y, n = 1,\n",
    "                   \n",
    "                   order_by = timestamp)) %>%\n",
    "  mutate(new_avg = new_x / new_y) %>%\n",
    "  mutate(function_name = tag) %>%\n",
    "  mutate(latency = stringr::str_match(function_name, \"(.+)-(.+)-([0-9]+)-([0-9]+)-([0-9]+)\") %>% .[, 4]) %>%\n",
    "  mutate(index = stringr::str_match(function_name, \"(.+)-(.+)-([0-9]+)-([0-9]+)-([0-9]+)\") %>% .[, 3]) %>%\n",
    "  inner_join(bids_function %>% select(function_name, winner),\n",
    "             by = c(\"function_name\"))\n",
    "\n",
    "tata <- tutu %>%\n",
    "  group_by(winner, timestamp, latency) %>%\n",
    "  summarise(avg = mean(new_avg, na.rm = TRUE))\n",
    "\n",
    "for (selected_latency in latencies$latency)\n",
    "{\n",
    "  print(selected_latency)\n",
    "  \n",
    "  \n",
    "  print(\n",
    "    tutu %>% filter(latency == selected_latency) %>%\n",
    "      select(function_name) %>%\n",
    "      distinct()\n",
    "  )\n",
    "  \n",
    "  \n",
    "  # print(\n",
    "  #   tutu %>% filter(latency == selected_latency) %>% \n",
    "  #     group_by(tag) %>%\n",
    "  #     mutate(count = max(value.y)) %>%\n",
    "  #     select(index, winner, count, latency) %>%\n",
    "  #     distinct() %>%\n",
    "  #     ggplot(\n",
    "  #       aes(\n",
    "  #         x = index,\n",
    "  #         y = count,\n",
    "  #         group = index,\n",
    "  #         color = winner,\n",
    "  #         label = latency\n",
    "  #       )\n",
    "  #     ) +\n",
    "  #     geom_col() +\n",
    "  #     labs(\n",
    "  #       x = \"Function id\",\n",
    "  #       y = \"Number of echo requests\",\n",
    "  #       title = \"Number of requests made to each functions (back in forth=2×latency)\",\n",
    "  #       subtitle = paste(\"Color matches the winner's —\", selected_latency, \"ms latency\")\n",
    "  #     ) +\n",
    "  #     scale_color_viridis(discrete = TRUE, option = \"D\") +\n",
    "  #     scale_fill_viridis(discrete = TRUE)\n",
    "  # )\n",
    "  \n",
    "  # print(\n",
    "  #   tutu %>% \n",
    "  #     filter(latency == selected_latency) %>%\n",
    "  #     ggplot(\n",
    "  #       aes(\n",
    "  #         x = winner,\n",
    "  #         y = new_avg,\n",
    "  #         group = winner,\n",
    "  #         color = winner,\n",
    "  #         label = latency\n",
    "  #       )\n",
    "  #     ) +\n",
    "  #     geom_violin() +\n",
    "  #     labs(\n",
    "  #       x = \"time\",\n",
    "  #       y = \"Avg lat. (s)\",\n",
    "  #       title = \"Latencies of echo for each functions (back in forth=2×latency).\",\n",
    "  #       subtitle = paste(\"Color matches the winner's —\", selected_latency, \"ms latency\")\n",
    "  #     ) +\n",
    "  #     scale_color_viridis(discrete = TRUE, option = \"D\") +\n",
    "  #     scale_fill_viridis(discrete = TRUE)\n",
    "  # )\n",
    "  \n",
    "  print(\n",
    "    tutu %>%\n",
    "      filter(latency == selected_latency) %>%\n",
    "      group_by(function_name) %>%\n",
    "      ggplot(\n",
    "        aes(\n",
    "          x = timestamp,\n",
    "          y = new_avg,\n",
    "          group = index,\n",
    "          color = function_name,\n",
    "          label = latency\n",
    "        )\n",
    "      ) +\n",
    "      geom_point() +\n",
    "      labs(\n",
    "        x = \"time\",\n",
    "        y = \"Avg lat. (s)\",\n",
    "        title = \"Latencies of echo for each functions (back in forth=2×latency).\",\n",
    "        subtitle = paste(\"Color matches the winner's —\", selected_latency, \"ms latency\")\n",
    "      ) +\n",
    "      scale_color_viridis(discrete = TRUE, option = \"D\") +\n",
    "      scale_fill_viridis(discrete = TRUE)\n",
    "  )\n",
    "  \n",
    "  # print(\n",
    "  #   tata %>%\n",
    "  #     filter(latency == selected_latency) %>%\n",
    "  #     group_by(winner) %>%\n",
    "  #     ggplot(\n",
    "  #       aes(\n",
    "  #         x = timestamp,\n",
    "  #         y = avg,\n",
    "  #         group = winner,\n",
    "  #         color = winner,\n",
    "  #         label = latency\n",
    "  #       )\n",
    "  #     ) +\n",
    "  #     geom_point() +\n",
    "  #     labs(\n",
    "  #       x = \"time\",\n",
    "  #       y = \"Avg lat. (s)\",\n",
    "  #       title = \"Latencies of echo for each functions (back in forth=2×latency).\",\n",
    "  #       subtitle = paste(\"Color matches the winner's —\", selected_latency, \"ms latency\")\n",
    "  #     ) +\n",
    "  #     scale_color_viridis(discrete = TRUE, option = \"D\") +\n",
    "  #     scale_fill_viridis(discrete = TRUE)\n",
    "  # )\n",
    "}\n",
    "print(\n",
    "  tata %>%\n",
    "    group_by(winner) %>%\n",
    "    ggplot(\n",
    "      aes(\n",
    "        x = timestamp,\n",
    "        y = avg,\n",
    "        group = winner,\n",
    "        color = winner,\n",
    "        # label = latency\n",
    "      )\n",
    "    ) +\n",
    "    geom_point() +\n",
    "    labs(\n",
    "      x = \"time\",\n",
    "      y = \"Avg lat. (s)\",\n",
    "      title = \"ALL Latencies of echo for each functions (back in forth=2×latency).\",\n",
    "      subtitle = paste(\"Color matches the winner's —\", selected_latency, \"ms latency\")\n",
    "    ) +\n",
    "    scale_color_viridis(discrete = TRUE, option = \"D\") +\n",
    "    scale_fill_viridis(discrete = TRUE)\n",
    ")"
   ]
  }
 ],
 "metadata": {
  "jupytext": {
   "cell_metadata_filter": "-all",
   "main_language": "R",
   "notebook_metadata_filter": "-all"
  },
  "kernelspec": {
   "display_name": "R",
   "language": "R",
   "name": "ir"
  },
  "language_info": {
   "codemirror_mode": "r",
   "file_extension": ".r",
   "mimetype": "text/x-r-source",
   "name": "R",
   "pygments_lexer": "r",
   "version": "4.2.2"
  }
 },
 "nbformat": 4,
 "nbformat_minor": 5
}
