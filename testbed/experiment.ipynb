{
    "cells": [
        {
            "cell_type": "code",
            "execution_count": 66,
            "id": "ec73b25d",
            "metadata": {
                "tags": [],
                "vscode": {
                    "languageId": "r"
                }
            },
            "outputs": [],
            "source": [
                "# packages_to_have <- c('cowplot', 'reticulate', 'tidyverse', 'igraph', 'r2r', 'formattable', 'stringr', 'viridis', 'geomtextpath')\n",
                "\n",
                "# dir.create(Sys.getenv(\"R_LIBS_USER\"), recursive = TRUE)  # create personal library\n",
                "# .libPaths(Sys.getenv(\"R_LIBS_USER\"))  # add to the path\n",
                "\n",
                "# packages = installed.packages()\n",
                "# packages = packages[, \"Package\"]\n",
                "\n",
                "# if (FALSE %in% (packages_to_have %in% packages)){\n",
                "#     install.packages(packages_to_have)\n",
                "# }\n",
                "Sys.setenv(VROOM_TEMP_PATH = './vroom')\n",
                "system(\"mkdir -p ./vroom\")\n",
                "system(\"rm ./vroom/*\")\n",
                "\n",
                "# To call python from R\n",
                "library(IRdisplay)\n",
                "library(car)\n",
                "\n",
                "library(archive)\n",
                "library(dplyr)\n",
                "library(reticulate)\n",
                "library(tidyverse)\n",
                "library(igraph)\n",
                "library(r2r)\n",
                "library(formattable)\n",
                "library(stringr)\n",
                "library(viridis)\n",
                "library(geomtextpath)\n",
                "library(cowplot)\n",
                "library(scales)\n",
                "library(vroom)\n",
                "library(zoo)\n",
                "library(ggdist)\n",
                "library(gghighlight)\n",
                "library(ggrepel)\n",
                "library(ggbreak)\n",
                "library(grid)\n",
                "library(lemon)\n",
                "library(ggprism)\n",
                "library(ggh4x)\n",
                "library(ggExtra)\n",
                "library(tibbletime)\n",
                "library(snakecase)\n",
                "library(foreach)\n",
                "library(doParallel)\n",
                "library(ggside)\n",
                "library(ggbeeswarm)\n",
                "library(multidplyr)\n",
                "library(ggpubr)\n",
                "library(Hmisc)\n",
                "library(rstatix)\n",
                "library(multcompView)\n",
                "# library(gifski)\n",
                "library(gganimate)\n",
                "\n",
                "library(intergraph)\n",
                "library(network)\n",
                "library(ggnetwork)\n",
                "\n",
                "library(purrr)\n",
                "library(future.apply)\n",
                "future::plan(\"multicore\", workers = 20L)\n",
                "\n",
                "theme_set(theme_prism())\n"
            ]
        },
        {
            "cell_type": "code",
            "execution_count": 67,
            "id": "a838dc8f",
            "metadata": {
                "vscode": {
                    "languageId": "r"
                }
            },
            "outputs": [],
            "source": [
                "fig <- function(width, heigth) {\n",
                "  options(repr.plot.width = width, repr.plot.height = heigth)\n",
                "}\n",
                "\n",
                "center_reduction <- function(data, colvar) {\n",
                "    colvar <- rlang::sym(colvar)\n",
                "    data %>%\n",
                "        inner_join(data %>% summarise(mean = mean(!!colvar), sd = sd(!!colvar))) %>%\n",
                "        mutate(!!colvar := (!!colvar - mean)/sd) %>%\n",
                "        select(-c(\"sd\", \"mean\"))\n",
                "}"
            ]
        },
        {
            "cell_type": "code",
            "execution_count": 68,
            "id": "45180b8b",
            "metadata": {
                "vscode": {
                    "languageId": "r"
                }
            },
            "outputs": [],
            "source": [
                "# All this is implemented (plus bugfixes!) in the ggnewscale package:\n",
                "# https://github.com/eliocamp/ggnewscale\n",
                "# If you have any issues, I prefer it if you send them as issues here:\n",
                "# https://github.com/eliocamp/ggnewscale/issues\n",
                "\n",
                "#' Allows to add another scale\n",
                "#'\n",
                "#' @param new_aes character with the aesthetic for which new scales will be\n",
                "#' created\n",
                "#'\n",
                "new_scale <- function(new_aes) {\n",
                "  structure(ggplot2::standardise_aes_names(new_aes), class = \"new_aes\")\n",
                "}\n",
                "\n",
                "#' Convenient functions\n",
                "new_scale_fill <- function() {\n",
                "  new_scale(\"fill\")\n",
                "}\n",
                "\n",
                "new_scale_color <- function() {\n",
                "  new_scale(\"colour\")\n",
                "}\n",
                "\n",
                "new_scale_colour <- function() {\n",
                "  new_scale(\"colour\")\n",
                "}\n",
                "\n",
                "new_scale_alpha <- function() {\n",
                "  new_scale(\"alpha\")\n",
                "}\n",
                "\n",
                "new_scale_y <- function() {\n",
                "  new_scale(\"y\")\n",
                "}\n",
                "\n",
                "#' Special behaviour of the \"+\" for adding a `new_aes` object\n",
                "#' It changes the name of the aesthethic for the previous layers, appending\n",
                "#' \"_new\" to them.\n",
                "ggplot_add.new_aes <- function(object, plot, object_name) {\n",
                "  plot$layers <- lapply(plot$layers, bump_aes, new_aes = object)\n",
                "  plot$scales$scales <- lapply(plot$scales$scales, bump_aes, new_aes = object)\n",
                "  plot$labels <- bump_aes(plot$labels, new_aes = object)\n",
                "  plot\n",
                "}\n",
                "\n",
                "\n",
                "bump_aes <- function(layer, new_aes) {\n",
                "  UseMethod(\"bump_aes\")\n",
                "}\n",
                "\n",
                "bump_aes.Scale <- function(layer, new_aes) {\n",
                "  old_aes <- layer$aesthetics[remove_new(layer$aesthetics) %in% new_aes]\n",
                "  new_aes <- paste0(old_aes, \"_new\")\n",
                "\n",
                "  layer$aesthetics[layer$aesthetics %in% old_aes] <- new_aes\n",
                "\n",
                "  if (is.character(layer$guide)) {\n",
                "    layer$guide <- match.fun(paste(\"guide_\", layer$guide, sep = \"\"))()\n",
                "  }\n",
                "  layer$guide$available_aes[layer$guide$available_aes %in% old_aes] <- new_aes\n",
                "  layer\n",
                "}\n",
                "\n",
                "bump_aes.Layer <- function(layer, new_aes) {\n",
                "  original_aes <- new_aes\n",
                "\n",
                "  old_aes <- names(layer$mapping)[remove_new(names(layer$mapping)) %in% new_aes]\n",
                "  new_aes <- paste0(old_aes, \"_new\")\n",
                "\n",
                "  old_geom <- layer$geom\n",
                "\n",
                "  old_setup <- old_geom$handle_na\n",
                "  new_setup <- function(self, data, params) {\n",
                "    colnames(data)[colnames(data) %in% new_aes] <- original_aes\n",
                "    old_setup(data, params)\n",
                "  }\n",
                "\n",
                "  new_geom <- ggplot2::ggproto(paste0(\"New\", class(old_geom)[1]), old_geom,\n",
                "    handle_na = new_setup\n",
                "  )\n",
                "\n",
                "  new_geom$default_aes <- change_name(new_geom$default_aes, old_aes, new_aes)\n",
                "  new_geom$non_missing_aes <- change_name(new_geom$non_missing_aes, old_aes, new_aes)\n",
                "  new_geom$required_aes <- change_name(new_geom$required_aes, old_aes, new_aes)\n",
                "  new_geom$optional_aes <- change_name(new_geom$optional_aes, old_aes, new_aes)\n",
                "\n",
                "  layer$geom <- new_geom\n",
                "\n",
                "  old_stat <- layer$stat\n",
                "\n",
                "  old_setup2 <- old_stat$handle_na\n",
                "  new_setup <- function(self, data, params) {\n",
                "    colnames(data)[colnames(data) %in% new_aes] <- original_aes\n",
                "    old_setup2(data, params)\n",
                "  }\n",
                "\n",
                "  new_stat <- ggplot2::ggproto(paste0(\"New\", class(old_stat)[1]), old_stat,\n",
                "    handle_na = new_setup\n",
                "  )\n",
                "\n",
                "  new_stat$default_aes <- change_name(new_stat$default_aes, old_aes, new_aes)\n",
                "  new_stat$non_missing_aes <- change_name(new_stat$non_missing_aes, old_aes, new_aes)\n",
                "  new_stat$required_aes <- change_name(new_stat$required_aes, old_aes, new_aes)\n",
                "  new_stat$optional_aes <- change_name(new_stat$optional_aes, old_aes, new_aes)\n",
                "\n",
                "  layer$stat <- new_stat\n",
                "\n",
                "  layer$mapping <- change_name(layer$mapping, old_aes, new_aes)\n",
                "  layer\n",
                "}\n",
                "\n",
                "bump_aes.list <- function(layer, new_aes) {\n",
                "  old_aes <- names(layer)[remove_new(names(layer)) %in% new_aes]\n",
                "  new_aes <- paste0(old_aes, \"_new\")\n",
                "\n",
                "  names(layer)[names(layer) %in% old_aes] <- new_aes\n",
                "  layer\n",
                "}\n",
                "\n",
                "change_name <- function(list, old, new) {\n",
                "  UseMethod(\"change_name\")\n",
                "}\n",
                "\n",
                "change_name.character <- function(list, old, new) {\n",
                "  list[list %in% old] <- new\n",
                "  list\n",
                "}\n",
                "\n",
                "change_name.default <- function(list, old, new) {\n",
                "  nam <- names(list)\n",
                "  nam[nam %in% old] <- new\n",
                "  names(list) <- nam\n",
                "  list\n",
                "}\n",
                "\n",
                "change_name.NULL <- function(list, old, new) {\n",
                "  NULL\n",
                "}\n",
                "\n",
                "remove_new <- function(aes) {\n",
                "  stringi::stri_replace_all(aes, \"\", regex = \"(_new)*\")\n",
                "}\n"
            ]
        },
        {
            "attachments": {},
            "cell_type": "markdown",
            "id": "b047ebf3",
            "metadata": {},
            "source": [
                "# Experiment\n",
                "\n",
                "## Perequisites\n",
                "\n",
                "Extract the data to `./metrics`\n",
                "\n",
                "## Preparations\n",
                "\n",
                "Import necessary libraries\n",
                "\n",
                "Idées de mesures:\n",
                "\n",
                "- distribution des fonctions\n",
                "- politique basique edge first ou quoi\n",
                "- temps de deploiement vs nombre de noeuds dans le Fog vs taille du réseau\n",
                "- temps de deploiement vs nombre de fonctions vs taille du réseau\n",
                "- la mémoire et le cpu au niveau du noeud fog\n",
                "\n",
                "graohes des localités : courbe qui montre combien de fonctions se répartissent sur l'edge et sur le cloud\n",
                "faire varier le nombre de noeuds\n",
                "\n",
                "Changer le nombre de fonctions que l'on déploi = saturation (x nbre de fonction)\n",
                "Regarder l'évolution des temps de réponses / des violations de temps de deadline\n",
                "\n",
                "Regarder si on satisfait les deadlines et si c'est scalable\n",
                "\n",
                "Comparer en terme de prix = pas relevant\n",
                "Définir une fonction d'utilité au niveau des enchères, par rapport au temps d'exécution\n",
                "\n",
                "\n"
            ]
        },
        {
            "cell_type": "code",
            "execution_count": 69,
            "id": "0805590a",
            "metadata": {
                "tags": [],
                "vscode": {
                    "languageId": "r"
                }
            },
            "outputs": [
                {
                    "data": {
                        "text/html": [
                            "2"
                        ],
                        "text/latex": [
                            "2"
                        ],
                        "text/markdown": [
                            "2"
                        ],
                        "text/plain": [
                            "[1] 2"
                        ]
                    },
                    "metadata": {},
                    "output_type": "display_data"
                },
                {
                    "data": {
                        "text/html": [
                            "2"
                        ],
                        "text/latex": [
                            "2"
                        ],
                        "text/markdown": [
                            "2"
                        ],
                        "text/plain": [
                            "[1] 2"
                        ]
                    },
                    "metadata": {},
                    "output_type": "display_data"
                },
                {
                    "data": {
                        "text/html": [
                            "2"
                        ],
                        "text/latex": [
                            "2"
                        ],
                        "text/markdown": [
                            "2"
                        ],
                        "text/plain": [
                            "[1] 2"
                        ]
                    },
                    "metadata": {},
                    "output_type": "display_data"
                }
            ],
            "source": [
                "generate_gif <- F\n",
                "reload_big_data <- TRUE\n",
                "parallel_loading_datasets <- 2\n",
                "parallel_loading_datasets_small <- 22\n",
                "\n",
                "GRAPH_ONE_COLUMN_HEIGHT <- 3\n",
                "GRAPH_ONE_COLUMN_WIDTH <- 5\n",
                "GRAPH_HALF_COLUMN_WIDTH <- 2.5\n",
                "GRAPH_TWO_COLUMN_WIDTH <- 12\n",
                "\n",
                "METRICS_PATH <- \"metrics-arks\"\n",
                "METRICS_ARKS <- c(\n",
                "\"metrics_valuation_rates.env_1-auction_valuation_rates_no-telemetry_2024-02-02-16-18.tar.xz\",\n",
                "\"metrics_valuation_rates.env_1-edge_ward_valuation_rates_no-telemetry_2024-02-02-16-18.tar.xz\",\n",
                "#---\n",
                "#---\n",
                "#---\n",
                "\"last element that is here because last element should not have any comma in the end and that sucks hard time.\"\n",
                ")\n",
                "METRICS_ARKS <- METRICS_ARKS[-length(METRICS_ARKS)]\n",
                "\n",
                "METRICS_GROUP <- str_match(METRICS_ARKS, \"metrics_.*-(.*?)_valuation.*\\\\.tar\\\\.xz\")\n",
                "METRICS_GROUP <- METRICS_GROUP[, 2]\n",
                "METRICS_GROUP_GROUP <- as.character(rep(list(\"toto\"), length(METRICS_ARKS)))\n",
                "\n",
                "length(METRICS_ARKS)\n",
                "length(METRICS_GROUP)\n",
                "length(METRICS_GROUP_GROUP)\n",
                "stopifnot(length(METRICS_ARKS) == length(METRICS_GROUP))\n",
                "stopifnot(length(METRICS_ARKS) == length(METRICS_GROUP_GROUP))"
            ]
        },
        {
            "cell_type": "code",
            "execution_count": 70,
            "id": "617d5c3f-728f-48e1-b561-75835440e5e5",
            "metadata": {
                "vscode": {
                    "languageId": "r"
                }
            },
            "outputs": [],
            "source": [
                "correct_names <- function(x) {\n",
                "    return(\n",
                "        x %>%\n",
                "            mutate(metric_group_rich = case_when(\n",
                "                metric_group == \"auction\" ~ \"\\\\footnotesize{\\\\mbox{\\\\rmfamily\\\\bfseries GIRAFF}}\",\n",
                "                metric_group == \"edge_ward\" ~ \"\\\\footnotesize{Edge\\\\dash{}ward}\",\n",
                "                metric_group == \"edge_ward_furthest\" ~ \"\\\\footnotesize{Edge\\\\dash{}ward furthest}\",\n",
                "                metric_group == \"edge_first\" ~ \"\\\\footnotesize{Edge\\\\dash{}first}\",\n",
                "                # metric_group == \"edge_furthest\" ~ \"Edge furthest\",\n",
                "                metric_group == \"edge_first_v2\" ~ \"\\\\footnotesize{Edge\\\\dash{}furthest}\",\n",
                "                TRUE ~ metric_group\n",
                "            )) %>%\n",
                "            mutate(metric_group = factor(metric_group, levels = c(\"edge_ward\", \"edge_ward_furthest\", \"edge_first\", \"edge_first_v2\", \"auction\"), ordered = TRUE)) %>%\n",
                "            # mutate(metric_group_rich = factor(metric_group_rich, levels = unique(metric_group), ordered = TRUE)) %>%\n",
                "            rename(`Placement method` = metric_group_rich)\n",
                "        # mutate(`Placement method` = factor(`Placement method`, levels = factor(unique(metric_group), ordered = TRUE), ordered = TRUE))\n",
                "    )\n",
                "}\n"
            ]
        },
        {
            "attachments": {},
            "cell_type": "markdown",
            "id": "0b1fa9fb",
            "metadata": {},
            "source": [
                "Then, the dependencies"
            ]
        },
        {
            "attachments": {},
            "cell_type": "markdown",
            "id": "83cd0763",
            "metadata": {},
            "source": [
                "Load the the Python `integration.py` script to use its variable in R"
            ]
        },
        {
            "cell_type": "code",
            "execution_count": 71,
            "id": "66ced2ce",
            "metadata": {
                "vscode": {
                    "languageId": "r"
                }
            },
            "outputs": [],
            "source": [
                "fig(20, 20)\n",
                "\n",
                "adjust_timestamps <- function(x, var_name=\"timestamp\") {\n",
                "  # Careful where we put this, as the first measurement may not be the same accross all of the combined values for the same folder\n",
                "\n",
                "  var_sym <- ensym(var_name)\n",
                "\n",
                "  minvalue <- x %>%\n",
                "      group_by(folder) %>%\n",
                "      summarise(minvalue = min({{ var_sym }})) %>%\n",
                "      ungroup()\n",
                "\n",
                "  return(\n",
                "    x %>%\n",
                "      inner_join(minvalue) %>%\n",
                "      mutate({{ var_sym }} := {{ var_sym }} - minvalue) %>%\n",
                "      select(-minvalue)\n",
                "  )\n",
                "}\n",
                "\n",
                "prepare <- function(x) {\n",
                "  return(\n",
                "    x %>%\n",
                "      rename(timestamp = \"_time\") %>%\n",
                "      rename(field = \"_field\") %>%\n",
                "      rename(value_raw = \"_value\") %>%\n",
                "      mutate(value = as.numeric(value_raw)) %>%\n",
                "      # filter (timestamp != \"_time\") %>% # TODO remove this fix, it is here bnecause I forgot to remove the headers each time i concatenated the different influx outputs\n",
                "      {\n",
                "        .\n",
                "      }\n",
                "  )\n",
                "}\n",
                "prepare_convert <- function(x) {\n",
                "  return(\n",
                "    x %>%\n",
                "      mutate(instance = to_snake_case(instance)) %>%\n",
                "      {\n",
                "        .\n",
                "      }\n",
                "  )\n",
                "}\n",
                "\n",
                "extract_function_name_info <- function(x) {\n",
                "  # The first element is the input string\n",
                "  info <- stringr::str_match(x$function_name, \"(.+)-i([0-9]+)-c([0-9]+)-m([0-9]+)-l([0-9]+)-a([0-9]+)-r([0-9]+)-d([0-9]+)\")\n",
                "  return(\n",
                "    x %>%\n",
                "      ungroup() %>%\n",
                "      mutate(docker_fn_name = info %>% .[, 2]) %>%\n",
                "      mutate(function_index = info %>% .[, 3]) %>%\n",
                "      mutate(cpu =  as.numeric(info %>% .[, 4])) %>%\n",
                "      mutate(mem =  as.numeric(info %>% .[, 5])) %>%\n",
                "      mutate(latency = as.numeric(info %>% .[, 6])/ 1000) %>%\n",
                "      mutate(arrival = as.numeric(info %>% .[, 7])/ 1000) %>%\n",
                "      mutate(request_interval = as.numeric(info %>% .[, 8])/ 1000) %>%\n",
                "      mutate(duration = as.numeric(info %>% .[, 9])/ 1000)\n",
                "  )\n",
                "}\n"
            ]
        },
        {
            "cell_type": "code",
            "execution_count": 72,
            "id": "950f6a37-e439-47f6-b9a4-125e15feff5b",
            "metadata": {
                "tags": [],
                "vscode": {
                    "languageId": "r"
                }
            },
            "outputs": [],
            "source": [
                "load_csv <- function(filename) {\n",
                "    all_data <- purrr::map_df(METRICS_ARKS, ~ mutate(vroom(archive_read(paste(METRICS_PATH, .x, sep = \"/\"), file = filename), progress = FALSE, col_types = cols(), col_names = TRUE, delim = \"\\t\", .name_repair = \"unique\") %>% distinct(),\n",
                "        folder = tools::file_path_sans_ext(tools::file_path_sans_ext(.x)),\n",
                "        metric_group = METRICS_GROUP[which(METRICS_ARKS == .x)],\n",
                "        metric_group_group = METRICS_GROUP_GROUP[which(METRICS_ARKS == .x)]\n",
                "    ))\n",
                "    return(all_data)\n",
                "}\n",
                "\n",
                "load_single_csv <- function(arkfile, filename) {\n",
                "    all_data <- vroom(archive_read(paste(METRICS_PATH, arkfile, sep = \"/\"), file = filename), progress = FALSE, col_types = cols(), col_names = TRUE, delim = \"\\t\", .name_repair = \"unique\") %>%\n",
                "        distinct() %>%\n",
                "        mutate(\n",
                "            folder = tools::file_path_sans_ext(tools::file_path_sans_ext(arkfile)),\n",
                "            metric_group = METRICS_GROUP[which(METRICS_ARKS == arkfile)],\n",
                "            metric_group_group = METRICS_GROUP_GROUP[which(METRICS_ARKS == arkfile)]\n",
                "        )\n",
                "    return(all_data)\n",
                "}"
            ]
        },
        {
            "attachments": {},
            "cell_type": "markdown",
            "id": "2656d78e",
            "metadata": {},
            "source": [
                "## Data processing\n",
                "\n",
                "Check what nodes we have values for (usually the ones who have submitted bids and etc.):\n",
                "- Green is ok\n",
                "- Red is a node that was not present in the data"
            ]
        },
        {
            "cell_type": "code",
            "execution_count": 73,
            "id": "032fe8b0",
            "metadata": {
                "vscode": {
                    "languageId": "r"
                }
            },
            "outputs": [
                {
                    "data": {
                        "text/html": [
                            "<style>\n",
                            ".list-inline {list-style: none; margin:0; padding: 0}\n",
                            ".list-inline>li {display: inline-block}\n",
                            ".list-inline>li:not(:last-child)::after {content: \"\\00b7\"; padding: 0 .5ex}\n",
                            "</style>\n",
                            "<ol class=list-inline><li>'instance'</li><li>'instance_address'</li><li>'folder'</li></ol>\n"
                        ],
                        "text/latex": [
                            "\\begin{enumerate*}\n",
                            "\\item 'instance'\n",
                            "\\item 'instance\\_address'\n",
                            "\\item 'folder'\n",
                            "\\end{enumerate*}\n"
                        ],
                        "text/markdown": [
                            "1. 'instance'\n",
                            "2. 'instance_address'\n",
                            "3. 'folder'\n",
                            "\n",
                            "\n"
                        ],
                        "text/plain": [
                            "[1] \"instance\"         \"instance_address\" \"folder\"          "
                        ]
                    },
                    "metadata": {},
                    "output_type": "display_data"
                }
            ],
            "source": [
                "names_raw <- load_csv(\"names.csv\") %>%\n",
                "  rename(instance_address = instance, instance = name) %>%\n",
                "  select(instance, instance_address, folder) %>%\n",
                "  distinct()\n",
                "\n",
                "colnames(names_raw)"
            ]
        },
        {
            "cell_type": "code",
            "execution_count": 74,
            "id": "464fc29a",
            "metadata": {
                "vscode": {
                    "languageId": "r"
                }
            },
            "outputs": [
                {
                    "data": {
                        "text/html": [
                            "<table class=\"dataframe\">\n",
                            "<caption>A matrix: 2 x 6 of type dbl</caption>\n",
                            "<thead>\n",
                            "\t<tr><th></th><th scope=col>used</th><th scope=col>(Mb)</th><th scope=col>gc trigger</th><th scope=col>(Mb)</th><th scope=col>max used</th><th scope=col>(Mb)</th></tr>\n",
                            "</thead>\n",
                            "<tbody>\n",
                            "\t<tr><th scope=row>Ncells</th><td>3134818</td><td>167.5</td><td> 6867465</td><td>366.8</td><td> 6867465</td><td>366.8</td></tr>\n",
                            "\t<tr><th scope=row>Vcells</th><td>6687608</td><td> 51.1</td><td>14786712</td><td>112.9</td><td>14035807</td><td>107.1</td></tr>\n",
                            "</tbody>\n",
                            "</table>\n"
                        ],
                        "text/latex": [
                            "A matrix: 2 x 6 of type dbl\n",
                            "\\begin{tabular}{r|llllll}\n",
                            "  & used & (Mb) & gc trigger & (Mb) & max used & (Mb)\\\\\n",
                            "\\hline\n",
                            "\tNcells & 3134818 & 167.5 &  6867465 & 366.8 &  6867465 & 366.8\\\\\n",
                            "\tVcells & 6687608 &  51.1 & 14786712 & 112.9 & 14035807 & 107.1\\\\\n",
                            "\\end{tabular}\n"
                        ],
                        "text/markdown": [
                            "\n",
                            "A matrix: 2 x 6 of type dbl\n",
                            "\n",
                            "| <!--/--> | used | (Mb) | gc trigger | (Mb) | max used | (Mb) |\n",
                            "|---|---|---|---|---|---|---|\n",
                            "| Ncells | 3134818 | 167.5 |  6867465 | 366.8 |  6867465 | 366.8 |\n",
                            "| Vcells | 6687608 |  51.1 | 14786712 | 112.9 | 14035807 | 107.1 |\n",
                            "\n"
                        ],
                        "text/plain": [
                            "       used    (Mb)  gc trigger (Mb)  max used (Mb) \n",
                            "Ncells 3134818 167.5  6867465   366.8  6867465 366.8\n",
                            "Vcells 6687608  51.1 14786712   112.9 14035807 107.1"
                        ]
                    },
                    "metadata": {},
                    "output_type": "display_data"
                },
                {
                    "data": {
                        "text/html": [
                            "<style>\n",
                            ".list-inline {list-style: none; margin:0; padding: 0}\n",
                            ".list-inline>li {display: inline-block}\n",
                            ".list-inline>li:not(:last-child)::after {content: \"\\00b7\"; padding: 0 .5ex}\n",
                            "</style>\n",
                            "<ol class=list-inline><li>'...1'</li><li>'result'</li><li>'table'</li><li>'_start'</li><li>'_stop'</li><li>'timestamp'</li><li>'value_raw'</li><li>'field'</li><li>'_measurement'</li><li>'instance'</li><li>'instance_address'</li><li>'instance_to'</li><li>'folder'</li><li>'metric_group'</li><li>'metric_group_group'</li><li>'value'</li><li>'destination_name'</li></ol>\n"
                        ],
                        "text/latex": [
                            "\\begin{enumerate*}\n",
                            "\\item '...1'\n",
                            "\\item 'result'\n",
                            "\\item 'table'\n",
                            "\\item '\\_start'\n",
                            "\\item '\\_stop'\n",
                            "\\item 'timestamp'\n",
                            "\\item 'value\\_raw'\n",
                            "\\item 'field'\n",
                            "\\item '\\_measurement'\n",
                            "\\item 'instance'\n",
                            "\\item 'instance\\_address'\n",
                            "\\item 'instance\\_to'\n",
                            "\\item 'folder'\n",
                            "\\item 'metric\\_group'\n",
                            "\\item 'metric\\_group\\_group'\n",
                            "\\item 'value'\n",
                            "\\item 'destination\\_name'\n",
                            "\\end{enumerate*}\n"
                        ],
                        "text/markdown": [
                            "1. '...1'\n",
                            "2. 'result'\n",
                            "3. 'table'\n",
                            "4. '_start'\n",
                            "5. '_stop'\n",
                            "6. 'timestamp'\n",
                            "7. 'value_raw'\n",
                            "8. 'field'\n",
                            "9. '_measurement'\n",
                            "10. 'instance'\n",
                            "11. 'instance_address'\n",
                            "12. 'instance_to'\n",
                            "13. 'folder'\n",
                            "14. 'metric_group'\n",
                            "15. 'metric_group_group'\n",
                            "16. 'value'\n",
                            "17. 'destination_name'\n",
                            "\n",
                            "\n"
                        ],
                        "text/plain": [
                            " [1] \"...1\"               \"result\"             \"table\"             \n",
                            " [4] \"_start\"             \"_stop\"              \"timestamp\"         \n",
                            " [7] \"value_raw\"          \"field\"              \"_measurement\"      \n",
                            "[10] \"instance\"           \"instance_address\"   \"instance_to\"       \n",
                            "[13] \"folder\"             \"metric_group\"       \"metric_group_group\"\n",
                            "[16] \"value\"              \"destination_name\"  "
                        ]
                    },
                    "metadata": {},
                    "output_type": "display_data"
                }
            ],
            "source": [
                "\n",
                "registerDoParallel(cl = parallel_loading_datasets_small, cores = parallel_loading_datasets_small)\n",
                "raw.latency <- bind_rows(foreach (ark = METRICS_ARKS) %dopar% {\n",
                "  load_single_csv(ark, \"neighbor_latency.csv\") %>%\n",
                "    prepare() %>%\n",
                "    prepare_convert() %>%\n",
                "    inner_join(names_raw %>% rename(instance_to = instance_address, destination_name = instance), c(\"instance_to\", \"folder\")) %>%\n",
                "    mutate(destination_name = to_snake_case(destination_name))\n",
                "})\n",
                "\n",
                "gc()\n",
                "\n",
                "colnames(raw.latency)\n",
                "# latency %>% select(instance, destination_name) %>% distinct()\n"
            ]
        },
        {
            "cell_type": "code",
            "execution_count": 75,
            "id": "a0f78bc2",
            "metadata": {
                "vscode": {
                    "languageId": "r"
                }
            },
            "outputs": [
                {
                    "data": {
                        "text/html": [
                            "<style>\n",
                            ".list-inline {list-style: none; margin:0; padding: 0}\n",
                            ".list-inline>li {display: inline-block}\n",
                            ".list-inline>li:not(:last-child)::after {content: \"\\00b7\"; padding: 0 .5ex}\n",
                            "</style>\n",
                            "<ol class=list-inline><li>'name'</li><li>'level_value'</li><li>'folder'</li><li>'metric_group'</li><li>'metric_group_group'</li><li>'level'</li></ol>\n"
                        ],
                        "text/latex": [
                            "\\begin{enumerate*}\n",
                            "\\item 'name'\n",
                            "\\item 'level\\_value'\n",
                            "\\item 'folder'\n",
                            "\\item 'metric\\_group'\n",
                            "\\item 'metric\\_group\\_group'\n",
                            "\\item 'level'\n",
                            "\\end{enumerate*}\n"
                        ],
                        "text/markdown": [
                            "1. 'name'\n",
                            "2. 'level_value'\n",
                            "3. 'folder'\n",
                            "4. 'metric_group'\n",
                            "5. 'metric_group_group'\n",
                            "6. 'level'\n",
                            "\n",
                            "\n"
                        ],
                        "text/plain": [
                            "[1] \"name\"               \"level_value\"        \"folder\"            \n",
                            "[4] \"metric_group\"       \"metric_group_group\" \"level\"             "
                        ]
                    },
                    "metadata": {},
                    "output_type": "display_data"
                }
            ],
            "source": [
                "node_connections <- load_csv(\"network_shape.csv\") %>%\n",
                "  mutate(latency = as.numeric(latency)) %>%\n",
                "  mutate(source = to_snake_case(source), destination = to_snake_case(destination)) \n",
                "\n",
                "node_levels <- load_csv(\"node_levels.csv\") %>% \n",
                "  rename(name = source, level_value = level) %>%\n",
                "  mutate(\n",
                "    name = to_snake_case(name),\n",
                "    level = case_when(\n",
                "      level_value == 0 ~ \"Cloud\",\n",
                "      level_value == max(level_value) - 1 ~ \"Edge+1\",\n",
                "      level_value == max(level_value) ~ \"Edge\",\n",
                "      TRUE ~ paste(\"Cloud\", as.character(level_value), sep = \"+\")\n",
                "    )\n",
                "  ) \n",
                "  # add_row(values = 0, name = \"marketplace\", level = \"Cloud\") %>%\n",
                "  # mutate(level = factor(level, levels = unique(level_value), ordered = TRUE))\n",
                "colnames(node_levels)"
            ]
        },
        {
            "cell_type": "code",
            "execution_count": 76,
            "id": "52f3a95c",
            "metadata": {
                "vscode": {
                    "languageId": "r"
                }
            },
            "outputs": [
                {
                    "name": "stderr",
                    "output_type": "stream",
                    "text": [
                        "\u001b[1m\u001b[22mJoining, by = c(\"instance\", \"destination_name\", \"goal\", \"folder\", \"metric_group\",\n",
                        "\"metric_group_group\")\n",
                        "\u001b[1m\u001b[22mJoining, by = c(\"destination_name\", \"instance\", \"folder\", \"metric_group\", \"metric_group_group\")\n"
                    ]
                }
            ],
            "source": [
                "node_connections_renamed <- node_connections %>% rename(instance = source, destination_name = destination, goal = latency)\n",
                "\n",
                "latency <- raw.latency %>%\n",
                "  select(destination_name, field, value, instance, timestamp, folder, metric_group, metric_group_group) %>%\n",
                "  inner_join(node_connections_renamed %>% full_join(node_connections_renamed %>% mutate(toto=instance, instance = destination_name, destination_name = toto))) %>%\n",
                "  mutate(diff = value - goal)"
            ]
        },
        {
            "attachments": {},
            "cell_type": "markdown",
            "id": "8ccf8b2c-e803-4cf7-9abc-a615c60792d4",
            "metadata": {},
            "source": [
                "## Distribution of the functions in the network"
            ]
        },
        {
            "cell_type": "code",
            "execution_count": 77,
            "id": "db39fec8",
            "metadata": {
                "vscode": {
                    "languageId": "r"
                }
            },
            "outputs": [
                {
                    "name": "stderr",
                    "output_type": "stream",
                    "text": [
                        "\u001b[1m\u001b[22mNew names:\n",
                        "\u001b[36m•\u001b[39m `` -> `...1`\n",
                        "\u001b[1m\u001b[22mNew names:\n",
                        "\u001b[36m•\u001b[39m `` -> `...1`\n",
                        "\u001b[1m\u001b[22m`summarise()` has grouped output by 'instance', 'folder', 'metric_group', 'metric_group_group'. You\n",
                        "can override using the `.groups` argument.\n",
                        "\u001b[1m\u001b[22mJoining, by = c(\"instance\", \"folder\", \"metric_group\", \"metric_group_group\", \"status\", \"n\")\n",
                        "\u001b[1m\u001b[22mJoining, by = c(\"instance\", \"folder\", \"metric_group\", \"metric_group_group\", \"status\", \"n\")\n"
                    ]
                },
                {
                    "data": {
                        "text/html": [
                            "<style>\n",
                            ".list-inline {list-style: none; margin:0; padding: 0}\n",
                            ".list-inline>li {display: inline-block}\n",
                            ".list-inline>li:not(:last-child)::after {content: \"\\00b7\"; padding: 0 .5ex}\n",
                            "</style>\n",
                            "<ol class=list-inline><li>'instance'</li><li>'folder'</li><li>'metric_group'</li><li>'metric_group_group'</li><li>'status'</li><li>'n'</li><li>'load_type'</li><li>'latency_type'</li></ol>\n"
                        ],
                        "text/latex": [
                            "\\begin{enumerate*}\n",
                            "\\item 'instance'\n",
                            "\\item 'folder'\n",
                            "\\item 'metric\\_group'\n",
                            "\\item 'metric\\_group\\_group'\n",
                            "\\item 'status'\n",
                            "\\item 'n'\n",
                            "\\item 'load\\_type'\n",
                            "\\item 'latency\\_type'\n",
                            "\\end{enumerate*}\n"
                        ],
                        "text/markdown": [
                            "1. 'instance'\n",
                            "2. 'folder'\n",
                            "3. 'metric_group'\n",
                            "4. 'metric_group_group'\n",
                            "5. 'status'\n",
                            "6. 'n'\n",
                            "7. 'load_type'\n",
                            "8. 'latency_type'\n",
                            "\n",
                            "\n"
                        ],
                        "text/plain": [
                            "[1] \"instance\"           \"folder\"             \"metric_group\"      \n",
                            "[4] \"metric_group_group\" \"status\"             \"n\"                 \n",
                            "[7] \"load_type\"          \"latency_type\"      "
                        ]
                    },
                    "metadata": {},
                    "output_type": "display_data"
                }
            ],
            "source": [
                "registerDoParallel(cl = parallel_loading_datasets_small, cores = parallel_loading_datasets_small)\n",
                "functions.refused <- foreach (ark = METRICS_ARKS) %dopar% {\n",
                "    tryCatch(\n",
                "        {\n",
                "            df <- load_single_csv(ark, \"refused_function_gauge.csv\")%>%\n",
                "                prepare() %>%\n",
                "                prepare_convert() %>%\n",
                "                extract_function_name_info() %>%\n",
                "                select(instance, sla_id, folder, metric_group, metric_group_group, load_type, latency_type) %>%\n",
                "                # distinct() %>%\n",
                "                mutate(status = \"refused\") %>%\n",
                "                group_by(instance, folder, metric_group, metric_group_group, load_type, latency_type, status) %>%\n",
                "                summarise(n = n())\n",
                "            return(df)\n",
                "        },\n",
                "        error = function(cond){\n",
                "            df <- data.frame(instance = character(0), folder = character(0), metric_group = character(0), metric_group_group = character(0), load_type = character(0), latency_type = character(0), status = character(0), n = numeric(0))\n",
                "            return(df)\n",
                "        }\n",
                "    )\n",
                "}\n",
                "functions.refused <- bind_rows(functions.refused)\n",
                "\n",
                "registerDoParallel(cl = parallel_loading_datasets_small, cores = parallel_loading_datasets_small)\n",
                "functions.failed <- foreach (ark = METRICS_ARKS) %dopar% {\n",
                "    tryCatch(\n",
                "        {\n",
                "            df <- load_single_csv(ark, \"send_fails.csv\")%>%\n",
                "                prepare() %>%\n",
                "                prepare_convert() %>%\n",
                "                rename(function_name = tag) %>%\n",
                "                extract_function_name_info() %>%\n",
                "                select(instance, folder, metric_group, metric_group_group) %>%\n",
                "                # distinct() %>%\n",
                "                mutate(status = \"failed\") %>%\n",
                "                group_by(instance, folder, metric_group, metric_group_group, status) %>%\n",
                "                summarise(n = n())\n",
                "            return(df)\n",
                "        },\n",
                "        error = function(cond){\n",
                "            df <- data.frame(instance = character(0), folder = character(0), metric_group = character(0), metric_group_group = character(0), status = character(0), n = numeric(0))\n",
                "            return(df)\n",
                "        }\n",
                "    )\n",
                "}\n",
                "\n",
                "functions.failed <- bind_rows(functions.failed)\n",
                "\n",
                "functions <- load_csv(\"provisioned_function_gauge.csv\") %>%\n",
                "    prepare() %>%\n",
                "    prepare_convert() %>%\n",
                "    extract_function_name_info() %>%\n",
                "    select(instance, sla_id, folder, metric_group, metric_group_group) %>%\n",
                "    # distinct() %>%\n",
                "    mutate(status = \"provisioned\") %>%\n",
                "    group_by(instance, folder, metric_group, metric_group_group, status) %>%\n",
                "    summarise(n = n()) %>%\n",
                "    full_join(functions.refused) %>%\n",
                "    full_join(functions.failed) %>%\n",
                "    {\n",
                "        .\n",
                "    }\n",
                "\n",
                "\n",
                "colnames(functions)"
            ]
        },
        {
            "cell_type": "code",
            "execution_count": 78,
            "id": "b6fdcd71",
            "metadata": {
                "vscode": {
                    "languageId": "r"
                }
            },
            "outputs": [
                {
                    "name": "stderr",
                    "output_type": "stream",
                    "text": [
                        "\u001b[1m\u001b[22m`summarise()` has grouped output by 'folder', 'instance', 'metric_group', 'metric_group_group',\n",
                        "'load_type'. You can override using the `.groups` argument.\n",
                        "\u001b[1m\u001b[22m`summarise()` has grouped output by 'folder', 'status', 'metric_group', 'metric_group_group',\n",
                        "'load_type'. You can override using the `.groups` argument.\n"
                    ]
                }
            ],
            "source": [
                "total <- functions %>%\n",
                "    group_by(folder, instance, metric_group, metric_group_group, load_type, latency_type) %>%\n",
                "    summarise(total = sum(n))\n",
                "\n",
                "functions_total <- functions %>%\n",
                "    inner_join(total, by = c(\"instance\", \"folder\", \"metric_group\", \"metric_group_group\", \"load_type\", \"latency_type\")) %>%\n",
                "    # inner_join(node_levels %>% mutate(instance = name) %>% select(-name), by = c(\"instance\")) %>%\n",
                "    group_by(folder, status, metric_group, metric_group_group, load_type, latency_type) %>%\n",
                "    summarise(total = sum(total), n = sum(n)) %>%\n",
                "    mutate(ratio = n / total) %>%\n",
                "    {\n",
                "        .\n",
                "    }"
            ]
        },
        {
            "cell_type": "code",
            "execution_count": 79,
            "id": "fe17bb10",
            "metadata": {
                "vscode": {
                    "languageId": "r"
                }
            },
            "outputs": [
                {
                    "name": "stderr",
                    "output_type": "stream",
                    "text": [
                        "\u001b[1m\u001b[22mNew names:\n",
                        "\u001b[36m•\u001b[39m `` -> `...1`\n",
                        "\u001b[1m\u001b[22mNew names:\n",
                        "\u001b[36m•\u001b[39m `` -> `...1`\n"
                    ]
                },
                {
                    "data": {
                        "text/html": [
                            "<table class=\"dataframe\">\n",
                            "<caption>A tibble: 0 x 17</caption>\n",
                            "<thead>\n",
                            "\t<tr><th scope=col>...1</th><th scope=col>result</th><th scope=col>table</th><th scope=col>_start</th><th scope=col>_stop</th><th scope=col>timestamp</th><th scope=col>value_raw</th><th scope=col>field</th><th scope=col>_measurement</th><th scope=col>bid_id</th><th scope=col>function_name</th><th scope=col>instance</th><th scope=col>sla_id</th><th scope=col>folder</th><th scope=col>metric_group</th><th scope=col>metric_group_group</th><th scope=col>value</th></tr>\n",
                            "\t<tr><th scope=col>&lt;lgl&gt;</th><th scope=col>&lt;lgl&gt;</th><th scope=col>&lt;dbl&gt;</th><th scope=col>&lt;dttm&gt;</th><th scope=col>&lt;dttm&gt;</th><th scope=col>&lt;dttm&gt;</th><th scope=col>&lt;dbl&gt;</th><th scope=col>&lt;chr&gt;</th><th scope=col>&lt;chr&gt;</th><th scope=col>&lt;chr&gt;</th><th scope=col>&lt;chr&gt;</th><th scope=col>&lt;chr&gt;</th><th scope=col>&lt;chr&gt;</th><th scope=col>&lt;chr&gt;</th><th scope=col>&lt;chr&gt;</th><th scope=col>&lt;chr&gt;</th><th scope=col>&lt;dbl&gt;</th></tr>\n",
                            "</thead>\n",
                            "<tbody>\n",
                            "</tbody>\n",
                            "</table>\n"
                        ],
                        "text/latex": [
                            "A tibble: 0 x 17\n",
                            "\\begin{tabular}{lllllllllllllllll}\n",
                            " ...1 & result & table & \\_start & \\_stop & timestamp & value\\_raw & field & \\_measurement & bid\\_id & function\\_name & instance & sla\\_id & folder & metric\\_group & metric\\_group\\_group & value\\\\\n",
                            " <lgl> & <lgl> & <dbl> & <dttm> & <dttm> & <dttm> & <dbl> & <chr> & <chr> & <chr> & <chr> & <chr> & <chr> & <chr> & <chr> & <chr> & <dbl>\\\\\n",
                            "\\hline\n",
                            "\\end{tabular}\n"
                        ],
                        "text/markdown": [
                            "\n",
                            "A tibble: 0 x 17\n",
                            "\n",
                            "| ...1 &lt;lgl&gt; | result &lt;lgl&gt; | table &lt;dbl&gt; | _start &lt;dttm&gt; | _stop &lt;dttm&gt; | timestamp &lt;dttm&gt; | value_raw &lt;dbl&gt; | field &lt;chr&gt; | _measurement &lt;chr&gt; | bid_id &lt;chr&gt; | function_name &lt;chr&gt; | instance &lt;chr&gt; | sla_id &lt;chr&gt; | folder &lt;chr&gt; | metric_group &lt;chr&gt; | metric_group_group &lt;chr&gt; | value &lt;dbl&gt; |\n",
                            "|---|---|---|---|---|---|---|---|---|---|---|---|---|---|---|---|---|\n",
                            "\n"
                        ],
                        "text/plain": [
                            "     ...1 result table _start _stop timestamp value_raw field _measurement\n",
                            "     bid_id function_name instance sla_id folder metric_group\n",
                            "     metric_group_group value"
                        ]
                    },
                    "metadata": {},
                    "output_type": "display_data"
                }
            ],
            "source": [
                "bids_raw <- load_csv(\"bid_gauge.csv\") %>% prepare() %>% prepare_convert()\n",
                "# bids_raw %>% filter(value <= 0) %>% select(folder) %>% distinct()\n",
                "\n",
                "bids_raw <- bids_raw %>% mutate(value = ifelse(value < 0 & value >= -0.001, 0, value))\n",
                "bids_raw %>% filter(value < 0)\n",
                "stopifnot(bids_raw %>% filter(value < 0) %>% summarise(n = n()) == 0)\n"
            ]
        },
        {
            "cell_type": "code",
            "execution_count": 80,
            "id": "424b6bd8",
            "metadata": {
                "vscode": {
                    "languageId": "r"
                }
            },
            "outputs": [
                {
                    "name": "stderr",
                    "output_type": "stream",
                    "text": [
                        "\u001b[1m\u001b[22mNew names:\n",
                        "\u001b[36m•\u001b[39m `` -> `...1`\n",
                        "\u001b[1m\u001b[22mNew names:\n",
                        "\u001b[36m•\u001b[39m `` -> `...1`\n"
                    ]
                },
                {
                    "data": {
                        "text/html": [
                            "<style>\n",
                            ".list-inline {list-style: none; margin:0; padding: 0}\n",
                            ".list-inline>li {display: inline-block}\n",
                            ".list-inline>li:not(:last-child)::after {content: \"\\00b7\"; padding: 0 .5ex}\n",
                            "</style>\n",
                            "<ol class=list-inline><li>'bid_id'</li><li>'sla_id'</li><li>'folder'</li><li>'metric_group'</li><li>'metric_group_group'</li></ol>\n"
                        ],
                        "text/latex": [
                            "\\begin{enumerate*}\n",
                            "\\item 'bid\\_id'\n",
                            "\\item 'sla\\_id'\n",
                            "\\item 'folder'\n",
                            "\\item 'metric\\_group'\n",
                            "\\item 'metric\\_group\\_group'\n",
                            "\\end{enumerate*}\n"
                        ],
                        "text/markdown": [
                            "1. 'bid_id'\n",
                            "2. 'sla_id'\n",
                            "3. 'folder'\n",
                            "4. 'metric_group'\n",
                            "5. 'metric_group_group'\n",
                            "\n",
                            "\n"
                        ],
                        "text/plain": [
                            "[1] \"bid_id\"             \"sla_id\"             \"folder\"            \n",
                            "[4] \"metric_group\"       \"metric_group_group\""
                        ]
                    },
                    "metadata": {},
                    "output_type": "display_data"
                }
            ],
            "source": [
                "provisioned_sla <- load_csv(\"function_deployment_duration.csv\") %>%\n",
                "  prepare() %>%\n",
                "  prepare_convert() %>%\n",
                "  select(bid_id, sla_id, folder, metric_group, metric_group_group) %>%\n",
                "  distinct() %>%\n",
                "  {\n",
                "    .\n",
                "  }\n",
                "colnames(provisioned_sla)\n",
                "# slice_sample(provisioned_sla, n=5)\n"
            ]
        },
        {
            "cell_type": "code",
            "execution_count": 81,
            "id": "fc3e236a",
            "metadata": {
                "vscode": {
                    "languageId": "r"
                }
            },
            "outputs": [
                {
                    "data": {
                        "text/html": [
                            "<table class=\"dataframe\">\n",
                            "<caption>A tibble: 5 x 7</caption>\n",
                            "<thead>\n",
                            "\t<tr><th scope=col>sla_id</th><th scope=col>function_name</th><th scope=col>folder</th><th scope=col>metric_group</th><th scope=col>metric_group_group</th><th scope=col>winner</th><th scope=col>cost</th></tr>\n",
                            "\t<tr><th scope=col>&lt;chr&gt;</th><th scope=col>&lt;chr&gt;</th><th scope=col>&lt;chr&gt;</th><th scope=col>&lt;chr&gt;</th><th scope=col>&lt;chr&gt;</th><th scope=col>&lt;chr&gt;</th><th scope=col>&lt;dbl&gt;</th></tr>\n",
                            "</thead>\n",
                            "<tbody>\n",
                            "\t<tr><td>3f126538-09d9-4814-804a-633a507ce8d9</td><td>imagePreProcessing-i1-c100-m256-l147-a482-r1696-d1961801</td><td>metrics_valuation_rates.env_1-auction_valuation_rates_no-telemetry_2024-02-02-16-18  </td><td>auction  </td><td>toto</td><td>1_bigtanager_1   </td><td>0.007793255</td></tr>\n",
                            "\t<tr><td>3cb7fd76-eb89-4757-8eb9-9f80eb80a61a</td><td>imagePreProcessing-i2-c100-m256-l132-a593-r5354-d34386  </td><td>metrics_valuation_rates.env_1-edge_ward_valuation_rates_no-telemetry_2024-02-02-16-18</td><td>edge_ward</td><td>toto</td><td>1_humanenugget_17</td><td>0.009912805</td></tr>\n",
                            "\t<tr><td>fd2b0534-384b-4a17-a772-cf5d6e701ed3</td><td>echo-i0-c50-m100-l105-a524-r6476-d9785                  </td><td>metrics_valuation_rates.env_1-edge_ward_valuation_rates_no-telemetry_2024-02-02-16-18</td><td>edge_ward</td><td>toto</td><td>1_humanenugget_17</td><td>0.004782591</td></tr>\n",
                            "\t<tr><td>1cfb3641-ffd5-43de-a653-0e6f87d3a561</td><td>sentimentAnalysis-i2-c100-m256-l23-a393-r24137-d1076759 </td><td>metrics_valuation_rates.env_1-edge_ward_valuation_rates_no-telemetry_2024-02-02-16-18</td><td>edge_ward</td><td>toto</td><td>2_cheerfulpole_18</td><td>0.033531267</td></tr>\n",
                            "\t<tr><td>c8bf0ee0-5ed9-49c2-9c87-c3669dcf0a71</td><td>classif-i1-c500-m512-l64-a233-r255-d131891              </td><td>metrics_valuation_rates.env_1-edge_ward_valuation_rates_no-telemetry_2024-02-02-16-18</td><td>edge_ward</td><td>toto</td><td>1_bigtanager_1   </td><td>0.026948433</td></tr>\n",
                            "</tbody>\n",
                            "</table>\n"
                        ],
                        "text/latex": [
                            "A tibble: 5 x 7\n",
                            "\\begin{tabular}{lllllll}\n",
                            " sla\\_id & function\\_name & folder & metric\\_group & metric\\_group\\_group & winner & cost\\\\\n",
                            " <chr> & <chr> & <chr> & <chr> & <chr> & <chr> & <dbl>\\\\\n",
                            "\\hline\n",
                            "\t 3f126538-09d9-4814-804a-633a507ce8d9 & imagePreProcessing-i1-c100-m256-l147-a482-r1696-d1961801 & metrics\\_valuation\\_rates.env\\_1-auction\\_valuation\\_rates\\_no-telemetry\\_2024-02-02-16-18   & auction   & toto & 1\\_bigtanager\\_1    & 0.007793255\\\\\n",
                            "\t 3cb7fd76-eb89-4757-8eb9-9f80eb80a61a & imagePreProcessing-i2-c100-m256-l132-a593-r5354-d34386   & metrics\\_valuation\\_rates.env\\_1-edge\\_ward\\_valuation\\_rates\\_no-telemetry\\_2024-02-02-16-18 & edge\\_ward & toto & 1\\_humanenugget\\_17 & 0.009912805\\\\\n",
                            "\t fd2b0534-384b-4a17-a772-cf5d6e701ed3 & echo-i0-c50-m100-l105-a524-r6476-d9785                   & metrics\\_valuation\\_rates.env\\_1-edge\\_ward\\_valuation\\_rates\\_no-telemetry\\_2024-02-02-16-18 & edge\\_ward & toto & 1\\_humanenugget\\_17 & 0.004782591\\\\\n",
                            "\t 1cfb3641-ffd5-43de-a653-0e6f87d3a561 & sentimentAnalysis-i2-c100-m256-l23-a393-r24137-d1076759  & metrics\\_valuation\\_rates.env\\_1-edge\\_ward\\_valuation\\_rates\\_no-telemetry\\_2024-02-02-16-18 & edge\\_ward & toto & 2\\_cheerfulpole\\_18 & 0.033531267\\\\\n",
                            "\t c8bf0ee0-5ed9-49c2-9c87-c3669dcf0a71 & classif-i1-c500-m512-l64-a233-r255-d131891               & metrics\\_valuation\\_rates.env\\_1-edge\\_ward\\_valuation\\_rates\\_no-telemetry\\_2024-02-02-16-18 & edge\\_ward & toto & 1\\_bigtanager\\_1    & 0.026948433\\\\\n",
                            "\\end{tabular}\n"
                        ],
                        "text/markdown": [
                            "\n",
                            "A tibble: 5 x 7\n",
                            "\n",
                            "| sla_id &lt;chr&gt; | function_name &lt;chr&gt; | folder &lt;chr&gt; | metric_group &lt;chr&gt; | metric_group_group &lt;chr&gt; | winner &lt;chr&gt; | cost &lt;dbl&gt; |\n",
                            "|---|---|---|---|---|---|---|\n",
                            "| 3f126538-09d9-4814-804a-633a507ce8d9 | imagePreProcessing-i1-c100-m256-l147-a482-r1696-d1961801 | metrics_valuation_rates.env_1-auction_valuation_rates_no-telemetry_2024-02-02-16-18   | auction   | toto | 1_bigtanager_1    | 0.007793255 |\n",
                            "| 3cb7fd76-eb89-4757-8eb9-9f80eb80a61a | imagePreProcessing-i2-c100-m256-l132-a593-r5354-d34386   | metrics_valuation_rates.env_1-edge_ward_valuation_rates_no-telemetry_2024-02-02-16-18 | edge_ward | toto | 1_humanenugget_17 | 0.009912805 |\n",
                            "| fd2b0534-384b-4a17-a772-cf5d6e701ed3 | echo-i0-c50-m100-l105-a524-r6476-d9785                   | metrics_valuation_rates.env_1-edge_ward_valuation_rates_no-telemetry_2024-02-02-16-18 | edge_ward | toto | 1_humanenugget_17 | 0.004782591 |\n",
                            "| 1cfb3641-ffd5-43de-a653-0e6f87d3a561 | sentimentAnalysis-i2-c100-m256-l23-a393-r24137-d1076759  | metrics_valuation_rates.env_1-edge_ward_valuation_rates_no-telemetry_2024-02-02-16-18 | edge_ward | toto | 2_cheerfulpole_18 | 0.033531267 |\n",
                            "| c8bf0ee0-5ed9-49c2-9c87-c3669dcf0a71 | classif-i1-c500-m512-l64-a233-r255-d131891               | metrics_valuation_rates.env_1-edge_ward_valuation_rates_no-telemetry_2024-02-02-16-18 | edge_ward | toto | 1_bigtanager_1    | 0.026948433 |\n",
                            "\n"
                        ],
                        "text/plain": [
                            "  sla_id                              \n",
                            "1 3f126538-09d9-4814-804a-633a507ce8d9\n",
                            "2 3cb7fd76-eb89-4757-8eb9-9f80eb80a61a\n",
                            "3 fd2b0534-384b-4a17-a772-cf5d6e701ed3\n",
                            "4 1cfb3641-ffd5-43de-a653-0e6f87d3a561\n",
                            "5 c8bf0ee0-5ed9-49c2-9c87-c3669dcf0a71\n",
                            "  function_name                                           \n",
                            "1 imagePreProcessing-i1-c100-m256-l147-a482-r1696-d1961801\n",
                            "2 imagePreProcessing-i2-c100-m256-l132-a593-r5354-d34386  \n",
                            "3 echo-i0-c50-m100-l105-a524-r6476-d9785                  \n",
                            "4 sentimentAnalysis-i2-c100-m256-l23-a393-r24137-d1076759 \n",
                            "5 classif-i1-c500-m512-l64-a233-r255-d131891              \n",
                            "  folder                                                                               \n",
                            "1 metrics_valuation_rates.env_1-auction_valuation_rates_no-telemetry_2024-02-02-16-18  \n",
                            "2 metrics_valuation_rates.env_1-edge_ward_valuation_rates_no-telemetry_2024-02-02-16-18\n",
                            "3 metrics_valuation_rates.env_1-edge_ward_valuation_rates_no-telemetry_2024-02-02-16-18\n",
                            "4 metrics_valuation_rates.env_1-edge_ward_valuation_rates_no-telemetry_2024-02-02-16-18\n",
                            "5 metrics_valuation_rates.env_1-edge_ward_valuation_rates_no-telemetry_2024-02-02-16-18\n",
                            "  metric_group metric_group_group winner            cost       \n",
                            "1 auction      toto               1_bigtanager_1    0.007793255\n",
                            "2 edge_ward    toto               1_humanenugget_17 0.009912805\n",
                            "3 edge_ward    toto               1_humanenugget_17 0.004782591\n",
                            "4 edge_ward    toto               2_cheerfulpole_18 0.033531267\n",
                            "5 edge_ward    toto               1_bigtanager_1    0.026948433"
                        ]
                    },
                    "metadata": {},
                    "output_type": "display_data"
                }
            ],
            "source": [
                "bids_won_function <- bids_raw %>%\n",
                "  select(sla_id, bid_id, instance, function_name, folder, metric_group, metric_group_group, value) %>%\n",
                "  distinct() %>%\n",
                "  inner_join(provisioned_sla, by = c(\"bid_id\", \"sla_id\", \"folder\", \"metric_group\", \"metric_group_group\")) %>%\n",
                "  mutate(winner = instance) %>%\n",
                "  mutate(cost = value) %>%\n",
                "  select(sla_id, function_name, folder, metric_group, metric_group_group, winner, cost) %>%\n",
                "  {\n",
                "    .\n",
                "  }\n",
                "\n",
                "slice_sample(bids_won_function, n=5)"
            ]
        },
        {
            "cell_type": "code",
            "execution_count": 82,
            "id": "576cb103",
            "metadata": {
                "vscode": {
                    "languageId": "r"
                }
            },
            "outputs": [],
            "source": [
                "registerDoParallel(parallel_loading_datasets_small)\n",
                "raw.cpu.observed_from_fog_node <- foreach (ark = METRICS_ARKS) %dopar% {\n",
                "        cpu <- load_single_csv(ark, \"cpu_observed_from_fog_node.csv\") %>%\n",
                "                prepare() %>%\n",
                "                prepare_convert()\n",
                "        cpu %>%\n",
                "                filter(field == \"initial_allocatable\") %>%\n",
                "                rename(initial_allocatable = value) %>%\n",
                "                inner_join(cpu %>% filter(field == \"used\") %>% rename(used = value), by = c(\"timestamp\", \"folder\", \"instance\", \"metric_group\", \"metric_group_group\")) %>%\n",
                "                mutate(usage = used / initial_allocatable) %>%\n",
                "                select(instance, timestamp, usage, folder, metric_group, metric_group_group)\n",
                "}\n",
                "raw.cpu.observed_from_fog_node <- bind_rows(raw.cpu.observed_from_fog_node)\n"
            ]
        },
        {
            "cell_type": "code",
            "execution_count": 83,
            "id": "04d4af0f",
            "metadata": {
                "vscode": {
                    "languageId": "r"
                }
            },
            "outputs": [],
            "source": [
                "get_usage <- function(df_raw) {\n",
                "    max_timestamp <- df_raw %>%\n",
                "        select(timestamp, instance, folder) %>%\n",
                "        group_by(instance, folder) %>%\n",
                "        summarise(total_time = max(timestamp) - min(timestamp))\n",
                "\n",
                "    df <- df_raw %>%\n",
                "        filter(field == \"initial_allocatable\") %>%\n",
                "        rename(initial_allocatable = value) %>%\n",
                "        inner_join(df_raw %>% filter(field == \"used\") %>% rename(used = value), by = c(\"timestamp\", \"folder\", \"instance\", \"metric_group\", \"metric_group_group\")) %>%\n",
                "        mutate(usage = used / initial_allocatable) %>%\n",
                "        select(instance, timestamp, usage, folder, metric_group, metric_group_group)\n",
                "    stopifnot(nrow(df) * 2 == nrow(df_raw))\n",
                "\n",
                "    df <- df %>%\n",
                "        drop_na() %>%\n",
                "        distinct() %>%\n",
                "        group_by(instance, folder, metric_group, metric_group_group) %>%\n",
                "        arrange(timestamp, .by_group = TRUE) %>%\n",
                "        summarise(usage = sum(as.numeric(diff(timestamp), units = \"secs\") * rollmean(usage, 2))) %>%\n",
                "        inner_join(max_timestamp, by = c(\"instance\", \"folder\")) %>%\n",
                "        mutate(usage_ratio = usage / as.numeric(total_time, units = \"secs\")) %>% # * 100%\n",
                "        {\n",
                "            .\n",
                "        }\n",
                "\n",
                "    folders <- df %>%\n",
                "        ungroup() %>%\n",
                "        select(folder, metric_group, metric_group_group) %>%\n",
                "        distinct()\n",
                "\n",
                "    missing_data <- expand.grid(\n",
                "        instance = node_levels$name,\n",
                "        folder = folders$folder\n",
                "    ) %>%\n",
                "        # inner_join(node_levels %>% mutate(winner = name) %>% select(-name), by = c(\"winner\")) %>%\n",
                "        inner_join(folders, by = c(\"folder\"))\n",
                "\n",
                "    df <- df %>%\n",
                "        ungroup() %>%\n",
                "        full_join(missing_data, by = c(\"instance\", \"folder\", \"metric_group\", \"metric_group_group\")) %>%\n",
                "        ungroup() %>%\n",
                "        {\n",
                "            .\n",
                "        }\n",
                "\n",
                "    df$usage_ratio[is.na(df$usage_ratio)] <- 0\n",
                "\n",
                "    df\n",
                "}"
            ]
        },
        {
            "cell_type": "code",
            "execution_count": 84,
            "id": "f5450f26",
            "metadata": {
                "vscode": {
                    "languageId": "r"
                }
            },
            "outputs": [
                {
                    "data": {
                        "text/html": [
                            "<table class=\"dataframe\">\n",
                            "<caption>A matrix: 2 x 6 of type dbl</caption>\n",
                            "<thead>\n",
                            "\t<tr><th></th><th scope=col>used</th><th scope=col>(Mb)</th><th scope=col>gc trigger</th><th scope=col>(Mb)</th><th scope=col>max used</th><th scope=col>(Mb)</th></tr>\n",
                            "</thead>\n",
                            "<tbody>\n",
                            "\t<tr><th scope=row>Ncells</th><td>3134206</td><td>167.4</td><td> 6867465</td><td>366.8</td><td> 6867465</td><td>366.8</td></tr>\n",
                            "\t<tr><th scope=row>Vcells</th><td>6681626</td><td> 51.0</td><td>14786712</td><td>112.9</td><td>14035807</td><td>107.1</td></tr>\n",
                            "</tbody>\n",
                            "</table>\n"
                        ],
                        "text/latex": [
                            "A matrix: 2 x 6 of type dbl\n",
                            "\\begin{tabular}{r|llllll}\n",
                            "  & used & (Mb) & gc trigger & (Mb) & max used & (Mb)\\\\\n",
                            "\\hline\n",
                            "\tNcells & 3134206 & 167.4 &  6867465 & 366.8 &  6867465 & 366.8\\\\\n",
                            "\tVcells & 6681626 &  51.0 & 14786712 & 112.9 & 14035807 & 107.1\\\\\n",
                            "\\end{tabular}\n"
                        ],
                        "text/markdown": [
                            "\n",
                            "A matrix: 2 x 6 of type dbl\n",
                            "\n",
                            "| <!--/--> | used | (Mb) | gc trigger | (Mb) | max used | (Mb) |\n",
                            "|---|---|---|---|---|---|---|\n",
                            "| Ncells | 3134206 | 167.4 |  6867465 | 366.8 |  6867465 | 366.8 |\n",
                            "| Vcells | 6681626 |  51.0 | 14786712 | 112.9 | 14035807 | 107.1 |\n",
                            "\n"
                        ],
                        "text/plain": [
                            "       used    (Mb)  gc trigger (Mb)  max used (Mb) \n",
                            "Ncells 3134206 167.4  6867465   366.8  6867465 366.8\n",
                            "Vcells 6681626  51.0 14786712   112.9 14035807 107.1"
                        ]
                    },
                    "metadata": {},
                    "output_type": "display_data"
                }
            ],
            "source": [
                "\n",
                "registerDoParallel(cl = parallel_loading_datasets_small, cores = parallel_loading_datasets_small)\n",
                "raw.auc_usage.cpu <- bind_rows(foreach (ark = METRICS_ARKS) %dopar% {\n",
                "        load_single_csv(ark, \"cpu_observed_from_fog_node.csv\") %>%\n",
                "                prepare() %>%\n",
                "                prepare_convert() %>%\n",
                "                get_usage()\n",
                "})\n",
                "\n",
                "gc()"
            ]
        },
        {
            "cell_type": "code",
            "execution_count": 85,
            "id": "70d97dac",
            "metadata": {
                "vscode": {
                    "languageId": "r"
                }
            },
            "outputs": [
                {
                    "data": {
                        "text/html": [
                            "<table class=\"dataframe\">\n",
                            "<caption>A matrix: 2 x 6 of type dbl</caption>\n",
                            "<thead>\n",
                            "\t<tr><th></th><th scope=col>used</th><th scope=col>(Mb)</th><th scope=col>gc trigger</th><th scope=col>(Mb)</th><th scope=col>max used</th><th scope=col>(Mb)</th></tr>\n",
                            "</thead>\n",
                            "<tbody>\n",
                            "\t<tr><th scope=row>Ncells</th><td>3134014</td><td>167.4</td><td> 6867465</td><td>366.8</td><td> 6867465</td><td>366.8</td></tr>\n",
                            "\t<tr><th scope=row>Vcells</th><td>6681174</td><td> 51.0</td><td>14786712</td><td>112.9</td><td>14035807</td><td>107.1</td></tr>\n",
                            "</tbody>\n",
                            "</table>\n"
                        ],
                        "text/latex": [
                            "A matrix: 2 x 6 of type dbl\n",
                            "\\begin{tabular}{r|llllll}\n",
                            "  & used & (Mb) & gc trigger & (Mb) & max used & (Mb)\\\\\n",
                            "\\hline\n",
                            "\tNcells & 3134014 & 167.4 &  6867465 & 366.8 &  6867465 & 366.8\\\\\n",
                            "\tVcells & 6681174 &  51.0 & 14786712 & 112.9 & 14035807 & 107.1\\\\\n",
                            "\\end{tabular}\n"
                        ],
                        "text/markdown": [
                            "\n",
                            "A matrix: 2 x 6 of type dbl\n",
                            "\n",
                            "| <!--/--> | used | (Mb) | gc trigger | (Mb) | max used | (Mb) |\n",
                            "|---|---|---|---|---|---|---|\n",
                            "| Ncells | 3134014 | 167.4 |  6867465 | 366.8 |  6867465 | 366.8 |\n",
                            "| Vcells | 6681174 |  51.0 | 14786712 | 112.9 | 14035807 | 107.1 |\n",
                            "\n"
                        ],
                        "text/plain": [
                            "       used    (Mb)  gc trigger (Mb)  max used (Mb) \n",
                            "Ncells 3134014 167.4  6867465   366.8  6867465 366.8\n",
                            "Vcells 6681174  51.0 14786712   112.9 14035807 107.1"
                        ]
                    },
                    "metadata": {},
                    "output_type": "display_data"
                }
            ],
            "source": [
                "raw.auc_usage.mem <- bind_rows(foreach (ark = METRICS_ARKS) %dopar% {\n",
                "        load_single_csv(ark, \"memory_observed_from_fog_node.csv\") %>%\n",
                "                prepare() %>%\n",
                "                prepare_convert() %>%\n",
                "                get_usage()\n",
                "})\n",
                "\n",
                "gc()"
            ]
        },
        {
            "cell_type": "code",
            "execution_count": 86,
            "id": "276b2d4a",
            "metadata": {
                "vscode": {
                    "languageId": "r"
                }
            },
            "outputs": [
                {
                    "name": "stderr",
                    "output_type": "stream",
                    "text": [
                        "\u001b[1m\u001b[22m`summarise()` has grouped output by 'folder', 'metric_group', 'metric_group_group'. You can\n",
                        "override using the `.groups` argument.\n"
                    ]
                }
            ],
            "source": [
                "total_gains <- bids_won_function %>%\n",
                "    group_by(folder, metric_group, metric_group_group, winner) %>%\n",
                "    summarise(earnings = sum(cost)) %>%\n",
                "    {\n",
                "        .\n",
                "    }\n"
            ]
        },
        {
            "cell_type": "code",
            "execution_count": 87,
            "id": "d7000422",
            "metadata": {
                "vscode": {
                    "languageId": "r"
                }
            },
            "outputs": [
                {
                    "name": "stderr",
                    "output_type": "stream",
                    "text": [
                        "\u001b[1m\u001b[22m`summarise()` has grouped output by 'folder', 'metric_group'. You can override using the `.groups`\n",
                        "argument.\n"
                    ]
                }
            ],
            "source": [
                "grand_total_gains <- bids_won_function %>%\n",
                "    group_by(folder, metric_group, metric_group_group) %>%\n",
                "    summarise(grand_total = sum(cost))\n"
            ]
        },
        {
            "attachments": {},
            "cell_type": "markdown",
            "id": "fb6e1ecb-0df6-4cee-9b54-42db8135ae9a",
            "metadata": {},
            "source": [
                "## Latencies and SLAs"
            ]
        },
        {
            "cell_type": "code",
            "execution_count": 88,
            "id": "d1c1abea-cc79-460b-b15f-edb50b61cda4",
            "metadata": {
                "vscode": {
                    "languageId": "r"
                }
            },
            "outputs": [],
            "source": [
                "errors <- tryCatch(\n",
                "    {\n",
                "        load_csv(\"iot_emulation_http_request_to_processing_echo_fails.csv\") %>%\n",
                "            prepare() %>%\n",
                "            prepare_convert() %>%\n",
                "            extract_function_name_info() %>%\n",
                "            distinct()\n",
                "    },\n",
                "    error = function(cond) {\n",
                "        columns <- c(\"instance\", \"job\", \"timestamp\", \"tag\", \"period\", \"folder\", \"metric_group\", \"latency\", \"value\")\n",
                "        df <- data.frame(instance = character(0), job = character(0), period = numeric(0), folder = character(0), metric_group = character(0), latency = character(0), value = numeric(0))\n",
                "        return(df)\n",
                "    }\n",
                ")\n"
            ]
        },
        {
            "cell_type": "code",
            "execution_count": 89,
            "id": "85cc47ae",
            "metadata": {
                "vscode": {
                    "languageId": "r"
                }
            },
            "outputs": [
                {
                    "data": {
                        "text/html": [
                            "<style>\n",
                            ".list-inline {list-style: none; margin:0; padding: 0}\n",
                            ".list-inline>li {display: inline-block}\n",
                            ".list-inline>li:not(:last-child)::after {content: \"\\00b7\"; padding: 0 .5ex}\n",
                            "</style>\n",
                            "<ol class=list-inline><li>'destination_name'</li><li>'field'</li><li>'value'</li><li>'instance'</li><li>'timestamp'</li><li>'folder'</li><li>'metric_group'</li><li>'metric_group_group'</li><li>'goal'</li><li>'toto'</li><li>'diff'</li></ol>\n"
                        ],
                        "text/latex": [
                            "\\begin{enumerate*}\n",
                            "\\item 'destination\\_name'\n",
                            "\\item 'field'\n",
                            "\\item 'value'\n",
                            "\\item 'instance'\n",
                            "\\item 'timestamp'\n",
                            "\\item 'folder'\n",
                            "\\item 'metric\\_group'\n",
                            "\\item 'metric\\_group\\_group'\n",
                            "\\item 'goal'\n",
                            "\\item 'toto'\n",
                            "\\item 'diff'\n",
                            "\\end{enumerate*}\n"
                        ],
                        "text/markdown": [
                            "1. 'destination_name'\n",
                            "2. 'field'\n",
                            "3. 'value'\n",
                            "4. 'instance'\n",
                            "5. 'timestamp'\n",
                            "6. 'folder'\n",
                            "7. 'metric_group'\n",
                            "8. 'metric_group_group'\n",
                            "9. 'goal'\n",
                            "10. 'toto'\n",
                            "11. 'diff'\n",
                            "\n",
                            "\n"
                        ],
                        "text/plain": [
                            " [1] \"destination_name\"   \"field\"              \"value\"             \n",
                            " [4] \"instance\"           \"timestamp\"          \"folder\"            \n",
                            " [7] \"metric_group\"       \"metric_group_group\" \"goal\"              \n",
                            "[10] \"toto\"               \"diff\"              "
                        ]
                    },
                    "metadata": {},
                    "output_type": "display_data"
                }
            ],
            "source": [
                "colnames(latency)"
            ]
        },
        {
            "cell_type": "code",
            "execution_count": 90,
            "id": "cd7140b8",
            "metadata": {
                "vscode": {
                    "languageId": "r"
                }
            },
            "outputs": [
                {
                    "name": "stderr",
                    "output_type": "stream",
                    "text": [
                        "\u001b[1m\u001b[22mJoining, by = \"folder\"\n",
                        "\u001b[1m\u001b[22mDon't know how to automatically pick scale for object of type \u001b[34m<difftime>\u001b[39m. Defaulting to continuous.\n"
                    ]
                },
                {
                    "data": {
                        "image/png": "[encoded data removed]",
                        "text/plain": [
                            "plot without title"
                        ]
                    },
                    "metadata": {
                        "image/png": {
                            "height": 900,
                            "width": 900
                        }
                    },
                    "output_type": "display_data"
                }
            ],
            "source": [
                "fig(15, 15)\n",
                "latency %>%\n",
                "  filter(field == \"raw\") %>%\n",
                "  adjust_timestamps() %>%\n",
                "  rename(source = instance, destination = destination_name, latency_value = value) %>%\n",
                "  select(timestamp, source, destination, folder, latency_value, diff) %>%\n",
                "  ggplot(aes(x= timestamp, y = latency_value, color = interaction(source, destination))) +\n",
                "  facet_grid(cols = vars(folder)) +\n",
                "  geom_point()\n",
                "  # gghighlight(diff > 3)"
            ]
        },
        {
            "cell_type": "code",
            "execution_count": 91,
            "id": "36dc9488",
            "metadata": {
                "tags": [],
                "vscode": {
                    "languageId": "r"
                }
            },
            "outputs": [],
            "source": [
                "time_interval <- 15 # secs\n",
                "\n",
                "smooth_timestamps <- function(data) {\n",
                "  return(\n",
                "    data %>%\n",
                "      group_by(folder) %>%\n",
                "      mutate(timestamp_group = as.difftime((as.numeric(round(timestamp)) %/% time_interval + 1) * time_interval, units = \"secs\")) %>%\n",
                "      ungroup()\n",
                "  )\n",
                "}\n",
                "if (generate_gif) {\n",
                "\n",
                "\n",
                "data <- latency %>%\n",
                "  filter(field == \"raw\") %>%\n",
                "  adjust_timestamps() %>%\n",
                "  ungroup() %>%\n",
                "  rename(source = instance, destination = destination_name, latency_value = value) %>%\n",
                "  select(timestamp, source, destination, folder, latency_value, diff) %>%\n",
                "  smooth_timestamps() %>%\n",
                "  group_by(timestamp_group, source, destination, folder) %>%\n",
                "  summarise(latency_value = mean(latency_value), diff = mean(diff)) %>%\n",
                "  rename(timestamp = timestamp_group) %>%\n",
                "  ungroup() %>%\n",
                "  {\n",
                "    .\n",
                "  }\n",
                "\n",
                "\n",
                "nodes <- load_csv(\"provisioned_functions.csv\") %>%\n",
                "  prepare() %>%\n",
                "  adjust_timestamps() %>%\n",
                "  group_by(timestamp, folder, instance) %>%\n",
                "  mutate(provisioned = ifelse(value == 0, -1, value)) %>%\n",
                "  summarise(provisioned = sum(provisioned), value = sum(value)) %>%\n",
                "  group_by(folder, instance) %>%\n",
                "  arrange(timestamp, .by_group = TRUE) %>%\n",
                "  mutate(provisioned = lag(cumsum(provisioned), default = 0), total_provisioned = lag(cumsum(value), default = 0)) %>%\n",
                "  rename(source = instance) %>%\n",
                "  select(source, timestamp, folder, provisioned, total_provisioned) %>%\n",
                "  smooth_timestamps() %>%\n",
                "  group_by(timestamp_group, folder, source) %>%\n",
                "  summarise(provisioned = last(provisioned), total_provisioned = last(total_provisioned)) %>%\n",
                "  rename(timestamp = timestamp_group) %>%\n",
                "  ungroup() %>%\n",
                "  {\n",
                "    .\n",
                "  }\n",
                "# nodes %>% filter(source == \"rennes\")\n",
                "# nodes %>% filter(source == \"st_greg_3_in\")\n",
                "\n",
                "cpu <- raw.cpu.observed_from_fog_node %>%\n",
                "  adjust_timestamps() %>%\n",
                "  rename(source = instance) %>%\n",
                "  select(timestamp, source, folder, usage) %>%\n",
                "  smooth_timestamps() %>%\n",
                "  group_by(timestamp_group, folder, source) %>%\n",
                "  summarise(usage = mean(usage)) %>%\n",
                "  rename(timestamp = timestamp_group) %>%\n",
                "  ungroup()\n",
                "\n",
                "# display(slice_sample(load_csv(\"proxy.csv\") %>% \n",
                "#   prepare() %>%\n",
                "#   adjust_timestamps() %>%\n",
                "#   adjust_timestamps(var_name = \"value_raw\") %>%\n",
                "#   mutate(value=value_raw) %>%\n",
                "#   rename(function_name = tags) %>%\n",
                "#   {.}\n",
                "# ,n=5))\n",
                "# display(slice_sample(bids_won_function %>% filter(sla_id == \"7b429537-523e-438f-8a62-86ac0e5d0907\")))\n",
                "gif.apdex.raw <- load_csv(\"proxy.csv\") %>%\n",
                "    prepare() %>%\n",
                "    adjust_timestamps() %>%\n",
                "    adjust_timestamps(var_name = \"value_raw\") %>%\n",
                "    mutate(value=value_raw) %>%\n",
                "    rename(function_name = tags) %>%\n",
                "    extract_function_name_info() %>%\n",
                "    smooth_timestamps() %>%\n",
                "    inner_join(bids_won_function %>% select(sla_id, function_name, metric_group, metric_group_group, folder, winner), by = c(\"sla_id\", \"function_name\", \"folder\", \"metric_group_group\", \"metric_group\")) %>%\n",
                "    rename(measured_latency = value, source = winner) %>%\n",
                "    group_by(timestamp_group, sla_id, folder, source) %>%\n",
                "    summarise(satisfied_count = sum(measured_latency <= latency), total = n()) %>%\n",
                "    mutate(apdex = satisfied_count / total)\n",
                "\n",
                "gif.apdex.by_node <- gif.apdex.raw %>%\n",
                "    group_by(timestamp_group, folder, source) %>%\n",
                "    summarise(apdex = mean(apdex)) %>%\n",
                "    rename(timestamp = timestamp_group) %>%\n",
                "    ungroup()\n",
                "\n",
                "# gif.apdex.by_function_and_node <- gif.apdex.raw %>%\n",
                "#     group_by(timestamp_group, folder, source) %>%\n",
                "#     summarise(apdex = mean(apdex)) %>%\n",
                "#     rename(timestamp = timestamp_group) %>%\n",
                "#     pivot_wider(names_from = apdex_category, values_from = apdex) %>%\n",
                "#     fill(everything(), .direction = \"downup\") %>%\n",
                "#     distinct() %>%\n",
                "#     ungroup()\n",
                "\n",
                "all_combinations <- data %>%\n",
                "  select(folder, source, destination) %>%\n",
                "  distinct() %>%\n",
                "  full_join(\n",
                "    data %>%\n",
                "      select(timestamp) %>%\n",
                "      distinct() %>%\n",
                "      full_join(nodes %>%\n",
                "        select(timestamp) %>%\n",
                "        distinct(), by = \"timestamp\") %>%\n",
                "      full_join(gif.apdex.by_node %>%\n",
                "        select(timestamp) %>%\n",
                "        distinct(), by = \"timestamp\") %>%\n",
                "      full_join(cpu %>%\n",
                "        select(timestamp) %>%\n",
                "        distinct(), by = \"timestamp\"),\n",
                "    by = character()\n",
                "  )\n",
                "\n",
                "\n",
                "data <- all_combinations %>%\n",
                "  full_join(data, by = c(\"timestamp\", \"folder\", \"source\", \"destination\")) %>%\n",
                "  full_join(nodes, by = c(\"source\", \"timestamp\", \"folder\")) %>%\n",
                "  full_join(gif.apdex.by_node, by = c(\"source\", \"timestamp\", \"folder\")) %>%\n",
                "  full_join(cpu, by = c(\"source\", \"timestamp\", \"folder\")) %>%\n",
                "  group_by(folder, source, destination) %>%\n",
                "  arrange(timestamp, .by_group = TRUE) %>%\n",
                "  fill(diff, provisioned, total_provisioned) %>%\n",
                "  # mutate(provisioned = ifelse(is.na(provisioned), 0, provisioned)) %>%\n",
                "  # mutate(total_provisioned = ifelse(is.na(total_provisioned), 0, total_provisioned)) %>%\n",
                "  # mutate(diff = ifelse(is.na(diff), 0, diff)) %>%\n",
                "  # mutate(cpu_usage = ifelse(is.na(cpu_usage), 0, cpu_usage)) %>%\n",
                "  ungroup() %>%\n",
                "  {\n",
                "    .\n",
                "  }\n",
                "\n",
                "globally_provisioned <- data %>%\n",
                "  select(source, folder, timestamp, total_provisioned) %>%\n",
                "  distinct() %>%\n",
                "  group_by(folder, timestamp) %>%\n",
                "  summarise(globally_provisioned = sum(total_provisioned)) %>%\n",
                "  ungroup()\n",
                "\n",
                "data <- data %>%\n",
                "  # inner_join(globally_provisioned, by = c(\"folder\", \"timestamp\")) %>%\n",
                "  filter(source != destination) %>%\n",
                "  select(source, destination, everything()) %>%\n",
                "  rename(from = source, to = destination)\n",
                "  # adjust_timestamps()\n",
                "\n",
                "nrow(data)\n",
                "}"
            ]
        },
        {
            "cell_type": "code",
            "execution_count": 92,
            "id": "5528b350",
            "metadata": {
                "vscode": {
                    "languageId": "r"
                }
            },
            "outputs": [],
            "source": [
                "fig(10, 10)\n",
                "\n",
                "create_plot <- function(data) {\n",
                "  net <- network(data, directed = TRUE, multiple = TRUE)\n",
                "  net <- ggnetwork(net)\n",
                "  name <- as.character(data$folder[1])\n",
                "  duration <- max(data$timestamp) / time_interval\n",
                "  print(duration)\n",
                "\n",
                "  nudge_offset_x <- 0.05\n",
                "  nudge_offset_y <- -0.3 / 2\n",
                "  nudge_scale_y = 3\n",
                "\n",
                "  pggnetwork <-\n",
                "    ggplot(\n",
                "      net,\n",
                "      aes(x = x, y = y, xend = xend, yend = yend)\n",
                "    ) + # mapping for edges\n",
                "    geom_edges(\n",
                "      arrow = arrow(length = unit(3, \"pt\"), type = \"open\"), # if directed\n",
                "      curvature = 0.1,\n",
                "      aes(size = diff, alpha = latency_value, color = diff)\n",
                "    ) +\n",
                "    scale_colour_gradient(low = \"green\", high = \"red\", na.value = \"grey50\") +\n",
                "    scale_alpha_continuous() +\n",
                "    new_scale_color() +\n",
                "    geom_nodes(aes(size = provisioned, color = apdex),\n",
                "      alpha = 0.5,\n",
                "    ) +\n",
                "    scale_colour_gradient(low = \"white\", high = \"darkblue\", na.value = \"grey50\") +\n",
                "    new_scale_color() +\n",
                "    geom_nodes(aes(size = provisioned / 16, color = usage),\n",
                "      alpha = 1,\n",
                "    ) +\n",
                "    scale_colour_gradient(low = \"green\", high = \"red\", na.value = \"grey50\") +\n",
                "    new_scale_color() +\n",
                "    scale_color_manual(values = c(\"grey40\", \"grey80\")) +\n",
                "    geom_nodetext(aes(label = sprintf(\"sat: %1.2f\", apdex)), color = \"black\", nudge_x = nudge_offset_x, nudge_y = (nudge_offset_y + 0.3)/nudge_scale_y) +\n",
                "    # geom_nodetext(aes(label = sprintf(\"ll: %1.2f\", `Low-load.Low-latency`), colour = is.na(`Low-load.Low-latency`), group = vertex.names), nudge_x = nudge_offset_x, nudge_y = (nudge_offset_y + 0.25) / nudge_scale_y) +\n",
                "    # geom_nodetext(aes(label = sprintf(\"lh: %1.2f\", `Low-load.High-latency`), colour = is.na(`Low-load.High-latency`), group = vertex.names), nudge_x = nudge_offset_x, nudge_y = (nudge_offset_y + 0.2) / nudge_scale_y) +\n",
                "    # geom_nodetext(aes(label = sprintf(\"hh: %1.2f\", `High-load.High-latency`), colour = is.na(`High-load.High-latency`), group = vertex.names), nudge_x = nudge_offset_x, nudge_y = (nudge_offset_y + 0.15) / nudge_scale_y) +\n",
                "    # geom_nodetext(aes(label = sprintf(\"hl: %1.2f\", `High-load.Low-latency`), colour = is.na(`High-load.Low-latency`), group = vertex.names), nudge_x = nudge_offset_x, nudge_y = (nudge_offset_y + 0.1) / nudge_scale_y) +\n",
                "    geom_nodetext(aes(label = sprintf(\"f: %02d/%02d\", provisioned, total_provisioned)), color = \"black\", nudge_x = nudge_offset_x, nudge_y = (nudge_offset_y + 0.05) / nudge_scale_y) +\n",
                "    geom_nodetext(aes(label = sprintf(\"%s\", vertex.names)), color = \"grey80\", nudge_x = nudge_offset_x, nudge_y = (nudge_offset_y + 0)/nudge_scale_y) +\n",
                "    # geom_text(x = 0.05, y = 0.95, aes(label = paste0(\"Globally provisioned:\", globally_provisioned)), color = \"grey50\", check_overlap = TRUE) +\n",
                "    labs(title = \"Time: {as.integer(frame_time)}\",\n",
                "    subtitle= sprintf(\"'%s'\\n\n",
                "    sat: satisfaction rate\\n\n",
                "    ll: low load low lat. ƒ satisfaction rate\\n\n",
                "    lh: low load high lat. ƒ satisfaction rate\\n\n",
                "    hh: high load high lat. ƒ satisfaction rate\\n\n",
                "    hl: high load low lat. ƒ satisfaction rate\\n\n",
                "    f: <current provisioned>/<total provisioned\", name)) +\n",
                "    transition_time(timestamp) +\n",
                "    ease_aes(\"linear\") +\n",
                "    enter_fade() +\n",
                "    exit_fade() +\n",
                "    theme_blank() +\n",
                "    theme(legend.position = \"bottom\")\n",
                "  # +\n",
                "  # facet_grid(cols = vars(folder))\n",
                "\n",
                "  # out <- ggplot_build(pggnetwork)\n",
                "\n",
                "  # rows <- max(out$layout$layout$ROW)\n",
                "  # cols <- max(out$layout$layout$COL)\n",
                "  print(duration)\n",
                "\n",
                "  # print(pggnetwork[1])\n",
                "\n",
                "  anim_save(filename = sprintf(\"%s.gif\", name), animation = pggnetwork, renderer = magick_renderer(), nframes = duration, height = 1600, width = 2000)\n",
                "}\n",
                "\n",
                "if (generate_gif) {\n",
                "  data_grouped <- data %>%\n",
                "    # filter(timestamp < \"15 secs\") %>%w\n",
                "    group_by(folder) %>%\n",
                "    group_split()\n",
                "\n",
                "  animations <- lapply(data_grouped, FUN = create_plot)\n",
                "}\n",
                "# create_plot(data_grouped[[1]])\n"
            ]
        },
        {
            "cell_type": "code",
            "execution_count": 93,
            "id": "c9b2b031",
            "metadata": {
                "vscode": {
                    "languageId": "r"
                }
            },
            "outputs": [],
            "source": [
                "# total_low_latency <- functions_total %>%\n",
                "#   filter(status == \"provisioned\") %>%\n",
                "#   filter(latency_type == \"Low latency\") %>%\n",
                "#   group_by(folder, metric_group, metric_group_group, latency_type) %>%\n",
                "#   summarise(total = sum(total))\n",
                "\n",
                "# total <- functions_total %>%\n",
                "#   filter(status == \"provisioned\") %>%\n",
                "#   group_by(folder, metric_group, metric_group_group) %>%\n",
                "#   summarise(total = sum(total))\n",
                "\n",
                "# total_low_latency <- total_low_latency %>%\n",
                "#   group_by(folder, metric_group, metric_group_group) %>%\n",
                "#   inner_join(total, by = c(\"folder\", \"metric_group\", \"metric_group_group\")) %>%\n",
                "#   mutate(ratio_low_latency_functions = total.x / total.y) %>%\n",
                "#   select(folder, metric_group, metric_group_group, ratio_low_latency_functions)\n",
                "\n",
                "\n",
                "# ratio_low_latency <- functions_total %>%\n",
                "#   filter(status == \"provisioned\") %>%\n",
                "#   filter(latency_type == \"Low latency\") %>%\n",
                "#   group_by(folder, metric_group, metric_group_group) %>%\n",
                "#   summarise(n = sum(n)) %>%\n",
                "#   inner_join(total, by = c(\"metric_group\", \"folder\", \"metric_group_group\")) %>%\n",
                "#   mutate(ratio_low_latency = n / total)\n",
                "\n",
                "# ratio_total <- functions_total %>%\n",
                "#   filter(status == \"provisioned\") %>%\n",
                "#   group_by(folder, metric_group, metric_group_group) %>%\n",
                "#   summarise(n = sum(n)) %>%\n",
                "#   inner_join(total, by = c(\"metric_group\", \"folder\", \"metric_group_group\")) %>%\n",
                "#   mutate(ratio_total = n / total)\n"
            ]
        },
        {
            "cell_type": "code",
            "execution_count": 94,
            "id": "588bb2f2",
            "metadata": {
                "vscode": {
                    "languageId": "r"
                }
            },
            "outputs": [],
            "source": [
                "# colnames(total_low_latency)\n",
                "# # colnames(apdex_data)\n"
            ]
        },
        {
            "cell_type": "code",
            "execution_count": 95,
            "id": "c9fb2462-97d8-4106-8ee6-5ec8262d16d8",
            "metadata": {
                "vscode": {
                    "languageId": "r"
                }
            },
            "outputs": [
                {
                    "name": "stderr",
                    "output_type": "stream",
                    "text": [
                        "\u001b[1m\u001b[22mNew names:\n",
                        "\u001b[36m•\u001b[39m `` -> `...1`\n",
                        "\u001b[1m\u001b[22mNew names:\n",
                        "\u001b[36m•\u001b[39m `` -> `...1`\n"
                    ]
                },
                {
                    "data": {
                        "text/html": [
                            "<style>\n",
                            ".list-inline {list-style: none; margin:0; padding: 0}\n",
                            ".list-inline>li {display: inline-block}\n",
                            ".list-inline>li:not(:last-child)::after {content: \"\\00b7\"; padding: 0 .5ex}\n",
                            "</style>\n",
                            "<ol class=list-inline><li>'...1'</li><li>'result'</li><li>'table'</li><li>'_start'</li><li>'_stop'</li><li>'timestamp'</li><li>'value_raw'</li><li>'field'</li><li>'_measurement'</li><li>'bid_id'</li><li>'function_name'</li><li>'instance'</li><li>'sla_id'</li><li>'folder'</li><li>'metric_group'</li><li>'metric_group_group'</li><li>'value'</li><li>'docker_fn_name'</li><li>'function_index'</li><li>'cpu'</li><li>'mem'</li><li>'latency'</li><li>'arrival'</li><li>'request_interval'</li><li>'duration'</li></ol>\n"
                        ],
                        "text/latex": [
                            "\\begin{enumerate*}\n",
                            "\\item '...1'\n",
                            "\\item 'result'\n",
                            "\\item 'table'\n",
                            "\\item '\\_start'\n",
                            "\\item '\\_stop'\n",
                            "\\item 'timestamp'\n",
                            "\\item 'value\\_raw'\n",
                            "\\item 'field'\n",
                            "\\item '\\_measurement'\n",
                            "\\item 'bid\\_id'\n",
                            "\\item 'function\\_name'\n",
                            "\\item 'instance'\n",
                            "\\item 'sla\\_id'\n",
                            "\\item 'folder'\n",
                            "\\item 'metric\\_group'\n",
                            "\\item 'metric\\_group\\_group'\n",
                            "\\item 'value'\n",
                            "\\item 'docker\\_fn\\_name'\n",
                            "\\item 'function\\_index'\n",
                            "\\item 'cpu'\n",
                            "\\item 'mem'\n",
                            "\\item 'latency'\n",
                            "\\item 'arrival'\n",
                            "\\item 'request\\_interval'\n",
                            "\\item 'duration'\n",
                            "\\end{enumerate*}\n"
                        ],
                        "text/markdown": [
                            "1. '...1'\n",
                            "2. 'result'\n",
                            "3. 'table'\n",
                            "4. '_start'\n",
                            "5. '_stop'\n",
                            "6. 'timestamp'\n",
                            "7. 'value_raw'\n",
                            "8. 'field'\n",
                            "9. '_measurement'\n",
                            "10. 'bid_id'\n",
                            "11. 'function_name'\n",
                            "12. 'instance'\n",
                            "13. 'sla_id'\n",
                            "14. 'folder'\n",
                            "15. 'metric_group'\n",
                            "16. 'metric_group_group'\n",
                            "17. 'value'\n",
                            "18. 'docker_fn_name'\n",
                            "19. 'function_index'\n",
                            "20. 'cpu'\n",
                            "21. 'mem'\n",
                            "22. 'latency'\n",
                            "23. 'arrival'\n",
                            "24. 'request_interval'\n",
                            "25. 'duration'\n",
                            "\n",
                            "\n"
                        ],
                        "text/plain": [
                            " [1] \"...1\"               \"result\"             \"table\"             \n",
                            " [4] \"_start\"             \"_stop\"              \"timestamp\"         \n",
                            " [7] \"value_raw\"          \"field\"              \"_measurement\"      \n",
                            "[10] \"bid_id\"             \"function_name\"      \"instance\"          \n",
                            "[13] \"sla_id\"             \"folder\"             \"metric_group\"      \n",
                            "[16] \"metric_group_group\" \"value\"              \"docker_fn_name\"    \n",
                            "[19] \"function_index\"     \"cpu\"                \"mem\"               \n",
                            "[22] \"latency\"            \"arrival\"            \"request_interval\"  \n",
                            "[25] \"duration\"          "
                        ]
                    },
                    "metadata": {},
                    "output_type": "display_data"
                },
                {
                    "data": {
                        "text/html": [
                            "<table class=\"dataframe\">\n",
                            "<caption>A tibble: 6 x 25</caption>\n",
                            "<thead>\n",
                            "\t<tr><th scope=col>function_name</th><th scope=col>...1</th><th scope=col>result</th><th scope=col>table</th><th scope=col>_start</th><th scope=col>_stop</th><th scope=col>timestamp</th><th scope=col>value_raw</th><th scope=col>field</th><th scope=col>_measurement</th><th scope=col>...</th><th scope=col>metric_group_group</th><th scope=col>value</th><th scope=col>docker_fn_name</th><th scope=col>function_index</th><th scope=col>cpu</th><th scope=col>mem</th><th scope=col>latency</th><th scope=col>arrival</th><th scope=col>request_interval</th><th scope=col>duration</th></tr>\n",
                            "\t<tr><th scope=col>&lt;chr&gt;</th><th scope=col>&lt;lgl&gt;</th><th scope=col>&lt;lgl&gt;</th><th scope=col>&lt;dbl&gt;</th><th scope=col>&lt;dttm&gt;</th><th scope=col>&lt;dttm&gt;</th><th scope=col>&lt;dttm&gt;</th><th scope=col>&lt;dbl&gt;</th><th scope=col>&lt;chr&gt;</th><th scope=col>&lt;chr&gt;</th><th scope=col>...</th><th scope=col>&lt;chr&gt;</th><th scope=col>&lt;dbl&gt;</th><th scope=col>&lt;chr&gt;</th><th scope=col>&lt;chr&gt;</th><th scope=col>&lt;dbl&gt;</th><th scope=col>&lt;dbl&gt;</th><th scope=col>&lt;dbl&gt;</th><th scope=col>&lt;dbl&gt;</th><th scope=col>&lt;dbl&gt;</th><th scope=col>&lt;dbl&gt;</th></tr>\n",
                            "</thead>\n",
                            "<tbody>\n",
                            "\t<tr><td>echo-i1-c100-m256-l92-a73-r549-d35273                  </td><td>NA</td><td>NA</td><td>0</td><td>1970-01-01</td><td>2024-02-02 16:19:01</td><td>2024-02-02 16:10:30</td><td>16606</td><td>value</td><td>function_deployment_duration</td><td>...</td><td>toto</td><td>16606</td><td>echo              </td><td>1</td><td>100</td><td>256</td><td>0.092</td><td>0.073</td><td>0.549</td><td>   35.273</td></tr>\n",
                            "\t<tr><td>imagePreProcessing-i3-c100-m256-l49-a584-r4229-d2655361</td><td>NA</td><td>NA</td><td>1</td><td>1970-01-01</td><td>2024-02-02 16:19:01</td><td>2024-02-02 16:17:24</td><td>14914</td><td>value</td><td>function_deployment_duration</td><td>...</td><td>toto</td><td>14914</td><td>imagePreProcessing</td><td>3</td><td>100</td><td>256</td><td>0.049</td><td>0.584</td><td>4.229</td><td> 2655.361</td></tr>\n",
                            "\t<tr><td>audioToText-i3-c300-m512-l76-a311-r289-d511042         </td><td>NA</td><td>NA</td><td>2</td><td>1970-01-01</td><td>2024-02-02 16:19:01</td><td>2024-02-02 16:12:41</td><td> 4951</td><td>value</td><td>function_deployment_duration</td><td>...</td><td>toto</td><td> 4951</td><td>audioToText       </td><td>3</td><td>300</td><td>512</td><td>0.076</td><td>0.311</td><td>0.289</td><td>  511.042</td></tr>\n",
                            "\t<tr><td>sentimentAnalysis-i2-c100-m256-l91-a395-r839-d56055881 </td><td>NA</td><td>NA</td><td>3</td><td>1970-01-01</td><td>2024-02-02 16:19:01</td><td>2024-02-02 16:14:19</td><td>13346</td><td>value</td><td>function_deployment_duration</td><td>...</td><td>toto</td><td>13346</td><td>sentimentAnalysis </td><td>2</td><td>100</td><td>256</td><td>0.091</td><td>0.395</td><td>0.839</td><td>56055.881</td></tr>\n",
                            "\t<tr><td>echo-i1-c50-m100-l147-a482-r1696-d1961801              </td><td>NA</td><td>NA</td><td>4</td><td>1970-01-01</td><td>2024-02-02 16:19:01</td><td>2024-02-02 16:15:56</td><td> 6394</td><td>value</td><td>function_deployment_duration</td><td>...</td><td>toto</td><td> 6394</td><td>echo              </td><td>1</td><td> 50</td><td>100</td><td>0.147</td><td>0.482</td><td>1.696</td><td> 1961.801</td></tr>\n",
                            "\t<tr><td>echo-i0-c100-m256-l86-a179-r102-d288987                </td><td>NA</td><td>NA</td><td>5</td><td>1970-01-01</td><td>2024-02-02 16:19:01</td><td>2024-02-02 16:10:59</td><td> 8604</td><td>value</td><td>function_deployment_duration</td><td>...</td><td>toto</td><td> 8604</td><td>echo              </td><td>0</td><td>100</td><td>256</td><td>0.086</td><td>0.179</td><td>0.102</td><td>  288.987</td></tr>\n",
                            "</tbody>\n",
                            "</table>\n"
                        ],
                        "text/latex": [
                            "A tibble: 6 x 25\n",
                            "\\begin{tabular}{lllllllllllllllllllll}\n",
                            " function\\_name & ...1 & result & table & \\_start & \\_stop & timestamp & value\\_raw & field & \\_measurement & ... & metric\\_group\\_group & value & docker\\_fn\\_name & function\\_index & cpu & mem & latency & arrival & request\\_interval & duration\\\\\n",
                            " <chr> & <lgl> & <lgl> & <dbl> & <dttm> & <dttm> & <dttm> & <dbl> & <chr> & <chr> & ... & <chr> & <dbl> & <chr> & <chr> & <dbl> & <dbl> & <dbl> & <dbl> & <dbl> & <dbl>\\\\\n",
                            "\\hline\n",
                            "\t echo-i1-c100-m256-l92-a73-r549-d35273                   & NA & NA & 0 & 1970-01-01 & 2024-02-02 16:19:01 & 2024-02-02 16:10:30 & 16606 & value & function\\_deployment\\_duration & ... & toto & 16606 & echo               & 1 & 100 & 256 & 0.092 & 0.073 & 0.549 &    35.273\\\\\n",
                            "\t imagePreProcessing-i3-c100-m256-l49-a584-r4229-d2655361 & NA & NA & 1 & 1970-01-01 & 2024-02-02 16:19:01 & 2024-02-02 16:17:24 & 14914 & value & function\\_deployment\\_duration & ... & toto & 14914 & imagePreProcessing & 3 & 100 & 256 & 0.049 & 0.584 & 4.229 &  2655.361\\\\\n",
                            "\t audioToText-i3-c300-m512-l76-a311-r289-d511042          & NA & NA & 2 & 1970-01-01 & 2024-02-02 16:19:01 & 2024-02-02 16:12:41 &  4951 & value & function\\_deployment\\_duration & ... & toto &  4951 & audioToText        & 3 & 300 & 512 & 0.076 & 0.311 & 0.289 &   511.042\\\\\n",
                            "\t sentimentAnalysis-i2-c100-m256-l91-a395-r839-d56055881  & NA & NA & 3 & 1970-01-01 & 2024-02-02 16:19:01 & 2024-02-02 16:14:19 & 13346 & value & function\\_deployment\\_duration & ... & toto & 13346 & sentimentAnalysis  & 2 & 100 & 256 & 0.091 & 0.395 & 0.839 & 56055.881\\\\\n",
                            "\t echo-i1-c50-m100-l147-a482-r1696-d1961801               & NA & NA & 4 & 1970-01-01 & 2024-02-02 16:19:01 & 2024-02-02 16:15:56 &  6394 & value & function\\_deployment\\_duration & ... & toto &  6394 & echo               & 1 &  50 & 100 & 0.147 & 0.482 & 1.696 &  1961.801\\\\\n",
                            "\t echo-i0-c100-m256-l86-a179-r102-d288987                 & NA & NA & 5 & 1970-01-01 & 2024-02-02 16:19:01 & 2024-02-02 16:10:59 &  8604 & value & function\\_deployment\\_duration & ... & toto &  8604 & echo               & 0 & 100 & 256 & 0.086 & 0.179 & 0.102 &   288.987\\\\\n",
                            "\\end{tabular}\n"
                        ],
                        "text/markdown": [
                            "\n",
                            "A tibble: 6 x 25\n",
                            "\n",
                            "| function_name &lt;chr&gt; | ...1 &lt;lgl&gt; | result &lt;lgl&gt; | table &lt;dbl&gt; | _start &lt;dttm&gt; | _stop &lt;dttm&gt; | timestamp &lt;dttm&gt; | value_raw &lt;dbl&gt; | field &lt;chr&gt; | _measurement &lt;chr&gt; | ... ... | metric_group_group &lt;chr&gt; | value &lt;dbl&gt; | docker_fn_name &lt;chr&gt; | function_index &lt;chr&gt; | cpu &lt;dbl&gt; | mem &lt;dbl&gt; | latency &lt;dbl&gt; | arrival &lt;dbl&gt; | request_interval &lt;dbl&gt; | duration &lt;dbl&gt; |\n",
                            "|---|---|---|---|---|---|---|---|---|---|---|---|---|---|---|---|---|---|---|---|---|\n",
                            "| echo-i1-c100-m256-l92-a73-r549-d35273                   | NA | NA | 0 | 1970-01-01 | 2024-02-02 16:19:01 | 2024-02-02 16:10:30 | 16606 | value | function_deployment_duration | ... | toto | 16606 | echo               | 1 | 100 | 256 | 0.092 | 0.073 | 0.549 |    35.273 |\n",
                            "| imagePreProcessing-i3-c100-m256-l49-a584-r4229-d2655361 | NA | NA | 1 | 1970-01-01 | 2024-02-02 16:19:01 | 2024-02-02 16:17:24 | 14914 | value | function_deployment_duration | ... | toto | 14914 | imagePreProcessing | 3 | 100 | 256 | 0.049 | 0.584 | 4.229 |  2655.361 |\n",
                            "| audioToText-i3-c300-m512-l76-a311-r289-d511042          | NA | NA | 2 | 1970-01-01 | 2024-02-02 16:19:01 | 2024-02-02 16:12:41 |  4951 | value | function_deployment_duration | ... | toto |  4951 | audioToText        | 3 | 300 | 512 | 0.076 | 0.311 | 0.289 |   511.042 |\n",
                            "| sentimentAnalysis-i2-c100-m256-l91-a395-r839-d56055881  | NA | NA | 3 | 1970-01-01 | 2024-02-02 16:19:01 | 2024-02-02 16:14:19 | 13346 | value | function_deployment_duration | ... | toto | 13346 | sentimentAnalysis  | 2 | 100 | 256 | 0.091 | 0.395 | 0.839 | 56055.881 |\n",
                            "| echo-i1-c50-m100-l147-a482-r1696-d1961801               | NA | NA | 4 | 1970-01-01 | 2024-02-02 16:19:01 | 2024-02-02 16:15:56 |  6394 | value | function_deployment_duration | ... | toto |  6394 | echo               | 1 |  50 | 100 | 0.147 | 0.482 | 1.696 |  1961.801 |\n",
                            "| echo-i0-c100-m256-l86-a179-r102-d288987                 | NA | NA | 5 | 1970-01-01 | 2024-02-02 16:19:01 | 2024-02-02 16:10:59 |  8604 | value | function_deployment_duration | ... | toto |  8604 | echo               | 0 | 100 | 256 | 0.086 | 0.179 | 0.102 |   288.987 |\n",
                            "\n"
                        ],
                        "text/plain": [
                            "  function_name                                           ...1 result table\n",
                            "1 echo-i1-c100-m256-l92-a73-r549-d35273                   NA   NA     0    \n",
                            "2 imagePreProcessing-i3-c100-m256-l49-a584-r4229-d2655361 NA   NA     1    \n",
                            "3 audioToText-i3-c300-m512-l76-a311-r289-d511042          NA   NA     2    \n",
                            "4 sentimentAnalysis-i2-c100-m256-l91-a395-r839-d56055881  NA   NA     3    \n",
                            "5 echo-i1-c50-m100-l147-a482-r1696-d1961801               NA   NA     4    \n",
                            "6 echo-i0-c100-m256-l86-a179-r102-d288987                 NA   NA     5    \n",
                            "  _start     _stop               timestamp           value_raw field\n",
                            "1 1970-01-01 2024-02-02 16:19:01 2024-02-02 16:10:30 16606     value\n",
                            "2 1970-01-01 2024-02-02 16:19:01 2024-02-02 16:17:24 14914     value\n",
                            "3 1970-01-01 2024-02-02 16:19:01 2024-02-02 16:12:41  4951     value\n",
                            "4 1970-01-01 2024-02-02 16:19:01 2024-02-02 16:14:19 13346     value\n",
                            "5 1970-01-01 2024-02-02 16:19:01 2024-02-02 16:15:56  6394     value\n",
                            "6 1970-01-01 2024-02-02 16:19:01 2024-02-02 16:10:59  8604     value\n",
                            "  _measurement                 ... metric_group_group value docker_fn_name    \n",
                            "1 function_deployment_duration ... toto               16606 echo              \n",
                            "2 function_deployment_duration ... toto               14914 imagePreProcessing\n",
                            "3 function_deployment_duration ... toto                4951 audioToText       \n",
                            "4 function_deployment_duration ... toto               13346 sentimentAnalysis \n",
                            "5 function_deployment_duration ... toto                6394 echo              \n",
                            "6 function_deployment_duration ... toto                8604 echo              \n",
                            "  function_index cpu mem latency arrival request_interval duration \n",
                            "1 1              100 256 0.092   0.073   0.549               35.273\n",
                            "2 3              100 256 0.049   0.584   4.229             2655.361\n",
                            "3 3              300 512 0.076   0.311   0.289              511.042\n",
                            "4 2              100 256 0.091   0.395   0.839            56055.881\n",
                            "5 1               50 100 0.147   0.482   1.696             1961.801\n",
                            "6 0              100 256 0.086   0.179   0.102              288.987"
                        ]
                    },
                    "metadata": {},
                    "output_type": "display_data"
                }
            ],
            "source": [
                "raw.deployment_times <-  load_csv(\"function_deployment_duration.csv\") %>%\n",
                "  prepare() %>%\n",
                "  prepare_convert() %>%\n",
                "  extract_function_name_info()\n",
                "colnames(raw.deployment_times)\n",
                "head(raw.deployment_times %>% select(function_name, everything()))\n"
            ]
        },
        {
            "cell_type": "code",
            "execution_count": 96,
            "id": "b7b4e49b",
            "metadata": {
                "vscode": {
                    "languageId": "r"
                }
            },
            "outputs": [],
            "source": [
                "# raw.nb_functions <- load_csv(\"nb_functions.csv\") %>%\n",
                "#     rename(load_type = load, latency_type = latency) %>%\n",
                "#     mutate(\n",
                "#     instance = to_snake_case(instance),\n",
                "#     load_type = case_when(\n",
                "#         load_type == \"low\" ~ \"Low load\",\n",
                "#         load_type == \"high\" ~ \"High load\",\n",
                "#         TRUE ~ \"unimplemented\",\n",
                "#     ),\n",
                "#     latency_type = case_when(\n",
                "#         latency_type == \"low\" ~ \"Low latency\",\n",
                "#         latency_type == \"high\" ~ \"High latency\",\n",
                "#         TRUE ~ \"unimplemented\",\n",
                "#     ))\n",
                "\n",
                "\n",
                "# raw.nb_functions.total <- raw.nb_functions %>%\n",
                "#     group_by(folder, metric_group_group, metric_group, load_type, latency_type) %>%\n",
                "#     summarise(total = sum(value)) %>%\n",
                "#     mutate(folder = gsub(\".tar.xz\",\"\", folder))\n",
                "\n",
                "# count.total <- raw.nb_functions.total %>% \n",
                "#     inner_join(raw.nb_functions.total %>% \n",
                "#         ungroup() %>%\n",
                "#         select(folder, total, latency_type, load_type) %>%\n",
                "#         distinct() %>%\n",
                "#         group_by(folder) %>%\n",
                "#         summarise(sum = sum(total))) %>%\n",
                "#     select(folder, metric_group, sum, total, latency_type, load_type) %>%\n",
                "#     mutate(ratio = total/sum)\n",
                "\n",
                "\n",
                "\n",
                "# raw.function_low_latency_load_category <- count.total %>%\n",
                "#     filter(latency_type == \"Low latency\" & load_type == \"High load\") %>%\n",
                "#     select(-c(latency_type, load_type)) %>%\n",
                "#     ungroup() %>%\n",
                "#     select(folder, metric_group, ratio, sum) %>%\n",
                "#     distinct() %>%\n",
                "#     rename(category = ratio, requests = sum)\n",
                "\n",
                "#     # raw.function_low_latency_load_category  %>% group_by(request, category, metric_group) %>% summarise(tot = n())\n",
                "# # count.total\n",
                "# fig(15,5)\n",
                "# raw.function_low_latency_load_category %>%\n",
                "#     ggplot(aes(x = as.factor(category), group = factor(requests), fill = factor(requests))) +\n",
                "#     geom_bar(position = \"dodge\") +\n",
                "#     facet_wrap(~metric_group)\n"
            ]
        },
        {
            "cell_type": "code",
            "execution_count": 97,
            "id": "75e3dda3",
            "metadata": {
                "vscode": {
                    "languageId": "r"
                }
            },
            "outputs": [],
            "source": [
                "jains_index <- function(allocations) {\n",
                "  num_users <- length(allocations)\n",
                "  sum_allocations <- sum(allocations)\n",
                "  sum_square_allocations <- sum(allocations^2)\n",
                "  index <- (sum_allocations^2) / (num_users * sum_square_allocations)\n",
                "  return(index)\n",
                "}\n",
                "\n",
                "# earnings.total_per_instance <- bids_won_function %>%\n",
                "#   group_by(folder, metric_group, metric_group_group, winner) %>%\n",
                "#   summarise(earnings = sum(cost))\n",
                "\n",
                "# folders <- earnings.total_per_instance %>%\n",
                "#   ungroup() %>%\n",
                "#   select(folder, metric_group, metric_group_group) %>%\n",
                "#   distinct()\n",
                "\n",
                "# missing_data <- expand.grid(\n",
                "#   winner = node_levels$name,\n",
                "#   folder = folders$folder\n",
                "# ) %>%\n",
                "#   inner_join(folders) %>%\n",
                "#   anti_join(earnings.total_per_instance %>% ungroup() %>% select(folder, winner))\n",
                "\n",
                "# earnings.total_per_instance <- earnings.total_per_instance %>%\n",
                "#   full_join(missing_data, by = c(\"winner\", \"folder\", \"metric_group\", \"metric_group_group\")) %>%\n",
                "#   mutate(earnings = ifelse(is.na(earnings), 0, earnings)) %>%\n",
                "#   ungroup() \n",
                "\n",
                "# earnings.total <- earnings.total_per_instance %>%\n",
                "#   group_by(folder, metric_group, metric_group_group) %>%\n",
                "#   summarise(earnings = sum(earnings))\n",
                "\n",
                "# earnings.jain <- earnings.total_per_instance %>%\n",
                "#   inner_join(earnings.total %>% rename(total = earnings), by = c(\"folder\", \"metric_group\", \"metric_group_group\")) %>%\n",
                "#   mutate(earnings_ratio = earnings / total)\n",
                "\n",
                "# # Calculate Jain's Fairness Index for each group using dplyr\n",
                "# spider_all.earnings.ratio <- earnings.jain %>%\n",
                "#   group_by(metric_group, folder, winner, metric_group_group) %>%\n",
                "#   rename (score = earnings_ratio) %>%\n",
                "#   mutate(score_type_rich = \"Earning shares\") \n",
                "  \n",
                "# spider_all.earnings.ratio.highest <- spider_all.earnings.ratio %>%\n",
                "#   group_by(metric_group, folder, metric_group_group) %>%\n",
                "#   mutate(score = 1/score) %>%\n",
                "#   worst_5() %>%\n",
                "#   mutate(score = 1/score) %>%\n",
                "#   filter(data_focus == \"Worst 5%\") %>%\n",
                "#   mutate(score_type_rich = \"Earning shares\\n(highest)\") %>%\n",
                "#   summarySE(\"score\", c(\"data_focus\", \"folder\", \"score_type_rich\", \"metric_group\", \"metric_group_group\"), na.rm = TRUE)\n",
                "\n",
                "#  spider_all.earnings.ratio <-  spider_all.earnings.ratio %>%\n",
                "#   group_by(metric_group, folder, metric_group_group) %>%\n",
                "#   worst_5() %>%\n",
                "#   summarySE(\"score\", c(\"data_focus\", \"folder\", \"score_type_rich\", \"metric_group\", \"metric_group_group\"), na.rm = TRUE)\n",
                "\n",
                "# spider_all.earnings.jain <- earnings.jain %>%\n",
                "#   group_by(metric_group, folder, metric_group_group) %>%\n",
                "#   summarise(jains_index = jains_index(earnings_ratio), n = n()) %>%\n",
                "#   rename(score = jains_index ) %>%\n",
                "#   mutate(score_type_rich = \"Jain's index\") %>%\n",
                "#   mutate(data_focus = \"All\") %>%\n",
                "#   summarySE(\"score\", c(\"data_focus\", \"folder\", \"score_type_rich\", \"metric_group\", \"metric_group_group\"), na.rm = TRUE) \n",
                "\n",
                "# spider_all.auc_usage.cpu <- raw.auc_usage.cpu %>%\n",
                "#   select(metric_group, folder, instance, usage_ratio, metric_group_group) %>%\n",
                "#   rename(source = instance, score = usage_ratio) %>%\n",
                "#   mutate(score = as.numeric(score)) %>%\n",
                "#   mutate(score_type_rich = \"CPU Usage\") %>%\n",
                "#   group_by(score_type_rich, metric_group, folder, metric_group_group) %>%\n",
                "#   worst_5() %>%\n",
                "#   ungroup %>%\n",
                "#   summarySE(\"score\", c(\"data_focus\", \"folder\", \"score_type_rich\", \"metric_group\", \"metric_group_group\"), na.rm = TRUE) \n",
                "\n",
                "\n",
                "\n",
                "# spider_all.auc_usage.mem <- raw.auc_usage.mem %>%\n",
                "#   select(metric_group, folder, instance, usage_ratio, metric_group_group) %>%\n",
                "#   rename(source = instance, score = usage_ratio) %>%\n",
                "#   mutate(score = as.numeric(score)) %>%\n",
                "#   mutate(score_type_rich = \"Mem Usage\") %>%\n",
                "#   group_by(score_type_rich, metric_group, folder, metric_group_group) %>%\n",
                "#   worst_5() %>%\n",
                "#   summarySE(\"score\", c(\"data_focus\", \"folder\", \"score_type_rich\", \"metric_group\", \"metric_group_group\"), na.rm = TRUE) \n",
                "\n",
                "# spider_all.functions_total <- functions_total %>%\n",
                "#     filter(status == \"provisioned\") %>%\n",
                "#     inner_join(raw.nb_functions.total %>% rename(all = total)) %>%\n",
                "#     mutate (score = n / all) %>%\n",
                "#     mutate(score_type_rich = sprintf(\"Provisioned fns\\n%s %s\", load_type, latency_type)) %>%\n",
                "#     ungroup() %>%\n",
                "#     select(score, score_type_rich, folder, metric_group, metric_group_group)  %>%\n",
                "#     mutate(data_focus = \"All\") \n",
                "\n",
                "\n",
                "# spider_all.deployment_times <- raw.deployment_times %>%\n",
                "#   ungroup() %>%\n",
                "#   select(load_type, sla_id, load_type, latency_type, function_name, folder,  metric_group, value, metric_group_group) %>%\n",
                "#   mutate(score = 1000/value) %>%\n",
                "#   mutate(score_type_rich = sprintf(\"Deployment time\\n%s %s\", load_type, latency_type)) %>%\n",
                "#   select(score, score_type_rich, folder, metric_group, sla_id, metric_group_group) %>%\n",
                "#   group_by(folder, metric_group, score_type_rich, metric_group_group) %>%\n",
                "#   worst_5() %>%\n",
                "#   mutate(score = 1/score) %>%\n",
                "#   summarySE(\"score\", c(\"folder\", \"score_type_rich\", \"metric_group\", \"data_focus\", \"metric_group_group\"), na.rm = TRUE) \n",
                "\n",
                "# bounds <- function(df){\n",
                "#   df %>% \n",
                "#     mutate(lower.ci.score = score - ci) %>%\n",
                "#     mutate(upper.ci.score = score + ci) \n",
                "# }"
            ]
        },
        {
            "cell_type": "code",
            "execution_count": 98,
            "id": "6d79e09d",
            "metadata": {
                "vscode": {
                    "languageId": "r"
                }
            },
            "outputs": [],
            "source": [
                "# fig(15, 15)\n",
                "\n",
                "# ecdf.earnings <- earnings.jain %>%\n",
                "#     rename (score = earnings_ratio) %>%\n",
                "#     inner_join(raw.function_low_latency_load_category) "
            ]
        },
        {
            "cell_type": "code",
            "execution_count": 99,
            "id": "3961c7f9",
            "metadata": {
                "vscode": {
                    "languageId": "r"
                }
            },
            "outputs": [],
            "source": [
                "# colnames(functions)\n",
                "\n",
                "# raw.nb_functions.total.full <- raw.nb_functions.total %>% \n",
                "#         ungroup() %>%\n",
                "#         select(folder, total, latency_type, load_type) %>%\n",
                "#         distinct() %>%\n",
                "#         group_by(folder) %>%\n",
                "#         summarise(total = sum(total))\n",
                "# raw.nb_functions.total.ll <- raw.nb_functions.total %>% \n",
                "#         ungroup() %>%\n",
                "#         filter(latency_type == \"Low latency\") %>%\n",
                "#         select(folder, total, latency_type, load_type) %>%\n",
                "#         distinct() %>%\n",
                "#         group_by(folder) %>%\n",
                "#         summarise(total = sum(total))\n",
                "\n"
            ]
        },
        {
            "cell_type": "code",
            "execution_count": 100,
            "id": "59b4af07",
            "metadata": {
                "vscode": {
                    "languageId": "r"
                }
            },
            "outputs": [],
            "source": [
                "# raw.nb_functions <- raw.deployment_times %>% \n",
                "#     ungroup() %>%\n",
                "#     select(sla_id, folder, nb_functions_requested_total) %>%\n",
                "#     distinct() %>%\n",
                "#     group_by(folder, nb_functions_requested_total) %>%\n",
                "#     summarise(nb_actual_functions = n()) %>%\n",
                "#     mutate(nb_functions = nb_actual_functions / nb_functions_requested_total)"
            ]
        },
        {
            "cell_type": "code",
            "execution_count": 101,
            "id": "b08517fd",
            "metadata": {
                "vscode": {
                    "languageId": "r"
                }
            },
            "outputs": [
                {
                    "name": "stderr",
                    "output_type": "stream",
                    "text": [
                        "\u001b[1m\u001b[22m`summarise()` has grouped output by 'folder', 'winner'. You can override using the `.groups`\n",
                        "argument.\n",
                        "\u001b[1m\u001b[22mJoining, by = c(\"winner\", \"folder\", \"metric_group\")\n",
                        "\u001b[1m\u001b[22m`summarise()` has grouped output by 'metric_group'. You can override using the `.groups` argument.\n",
                        "Warning message:\n",
                        "“\u001b[1m\u001b[22mComputation failed in `stat_compare_multiple_means()`\n",
                        "Caused by error in `mutate()`:\n",
                        "\u001b[1m\u001b[22m\u001b[33m!\u001b[39m Problem while computing `data = map(.data$data, .f, ...)`.\n",
                        "Caused by error in `assertthat_iv_has_enough_levels()`:\n",
                        "\u001b[33m!\u001b[39m Variable grouphas only one level. Remove it from the model.”\n",
                        "Warning message in compute_panel(...):\n",
                        "“The default behavior of beeswarm has changed in version 0.6.0. In versions <0.6.0, this plot would have been dodged on the y-axis.  In versions >=0.6.0, grouponX=FALSE must be explicitly set to group on y-axis. Please set grouponX=TRUE/FALSE to avoid this warning and ensure proper axis choice.”\n"
                    ]
                },
                {
                    "data": {
                        "image/png": "[encoded data removed]",
                        "text/plain": [
                            "plot without title"
                        ]
                    },
                    "metadata": {
                        "image/png": {
                            "height": 600,
                            "width": 600
                        }
                    },
                    "output_type": "display_data"
                }
            ],
            "source": [
                "earnings.jains.plot.data.raw <- node_levels %>%\n",
                "    rename(winner = name) %>%\n",
                "    full_join(bids_won_function %>% group_by(folder, winner, metric_group) %>% summarise(earnings = sum(cost))) %>%\n",
                "    mutate(earnings = ifelse(is.na(earnings), 0, earnings)) %>%\n",
                "    group_by(metric_group, folder) %>%\n",
                "    summarise(jains_index = jains_index(earnings), worst_case = round(1 / n(), 2), n = n()) %>%\n",
                "    rename(score = jains_index ) %>%\n",
                "    # left_join(raw.nb_functions) %>%\n",
                "    # left_join(raw.nb_functions.total.full %>% rename(total_func = total)) %>%\n",
                "    # left_join(raw.nb_functions.total.ll %>% rename(total_func_ll = total)) %>%\n",
                "    # rowwise() %>%\n",
                "    # mutate(ratio_func_ll = total_func_ll / total_func) %>%\n",
                "    correct_names()\n",
                "\n",
                "plots.jains.w <- GRAPH_ONE_COLUMN_WIDTH\n",
                "plots.jains.h <- GRAPH_ONE_COLUMN_HEIGHT\n",
                "plots.jains.caption <- \"Jain's index at different ratio of low level latencies\"\n",
                "fig(plots.jains.w, plots.jains.h)\n",
                "\n",
                "my_comparisons = combn(unique(earnings.jains.plot.data.raw$`Placement method`), 2)\n",
                "my_comparisons = apply(my_comparisons, 2, list)\n",
                "my_comparisons <- lapply(my_comparisons, unlist)\n",
                "fig(10, 10)\n",
                "plots.jains <- earnings.jains.plot.data.raw %>%\n",
                "    ggplot(aes(alpha=1, x = `Placement method`, y = score, fill = `Placement method`, color = `Placement method`)) +\n",
                "    # facet_grid(cols = vars(sprintf(\"%.1f%% low-latency ƒ\", ratio_func_ll * 100))) +\n",
                "    geom_hline(yintercept = max(earnings.jains.plot.data.raw$worst_case), color = \"black\") +\n",
                "    annotate(\"text\", x=\"\\footnotesize{Edge\\\\dash{}furthest}\", y=max(earnings.jains.plot.data.raw$worst_case)+.05, label=sprintf(\"$max(1/n)=%s$\", max(earnings.jains.plot.data.raw$worst_case)), color=\"black\") +\n",
                "    geom_boxplot() +\n",
                "    geom_beeswarm() +\n",
                "    # stat_compare_means(comparisons = my_comparisons, label = \"p.signif\") +\n",
                "    stat_anova_test() +\n",
                "    labs(\n",
                "        x = \"Placement method\",\n",
                "        y = \"Jain's index\"\n",
                "    ) +\n",
                "    scale_alpha_continuous(guide = \"none\") +\n",
                "    guides(color = guide_legend(nrow = 1), shape = guide_legend(nrow = 1), size = guide_legend(nrow = 1)) +\n",
                "    theme(legend.background = element_rect(\n",
                "        fill = alpha(\"white\", .7),\n",
                "        size = 0.2, color = \"white\"),\n",
                "        axis.text.x = element_text(angle = 15, vjust = 1, hjust=1)\n",
                "    ) +\n",
                "    theme(legend.position = \"top\", legend.box = \"vertical\") +\n",
                "    scale_color_viridis(discrete = T) +\n",
                "    scale_fill_viridis(discrete = T)+\n",
                "    theme(legend.spacing.y = unit(0, \"cm\"), legend.margin = margin(0, 0, 0, 0), legend.box.margin = margin(0, -10, -10, -10), )\n",
                "\n",
                "plots.jains + labs(title = plots.jains.caption)\n"
            ]
        },
        {
            "cell_type": "markdown",
            "id": "fef6d327",
            "metadata": {},
            "source": [
                "## Nb of respected SLAs"
            ]
        },
        {
            "cell_type": "code",
            "execution_count": 102,
            "id": "40ef7e66",
            "metadata": {
                "vscode": {
                    "languageId": "r"
                }
            },
            "outputs": [
                {
                    "data": {
                        "text/html": [
                            "<table class=\"dataframe\">\n",
                            "<caption>A matrix: 2 x 6 of type dbl</caption>\n",
                            "<thead>\n",
                            "\t<tr><th></th><th scope=col>used</th><th scope=col>(Mb)</th><th scope=col>gc trigger</th><th scope=col>(Mb)</th><th scope=col>max used</th><th scope=col>(Mb)</th></tr>\n",
                            "</thead>\n",
                            "<tbody>\n",
                            "\t<tr><th scope=row>Ncells</th><td>3135249</td><td>167.5</td><td> 6867465</td><td>366.8</td><td> 6867465</td><td>366.8</td></tr>\n",
                            "\t<tr><th scope=row>Vcells</th><td>6686152</td><td> 51.1</td><td>14786712</td><td>112.9</td><td>14035807</td><td>107.1</td></tr>\n",
                            "</tbody>\n",
                            "</table>\n"
                        ],
                        "text/latex": [
                            "A matrix: 2 x 6 of type dbl\n",
                            "\\begin{tabular}{r|llllll}\n",
                            "  & used & (Mb) & gc trigger & (Mb) & max used & (Mb)\\\\\n",
                            "\\hline\n",
                            "\tNcells & 3135249 & 167.5 &  6867465 & 366.8 &  6867465 & 366.8\\\\\n",
                            "\tVcells & 6686152 &  51.1 & 14786712 & 112.9 & 14035807 & 107.1\\\\\n",
                            "\\end{tabular}\n"
                        ],
                        "text/markdown": [
                            "\n",
                            "A matrix: 2 x 6 of type dbl\n",
                            "\n",
                            "| <!--/--> | used | (Mb) | gc trigger | (Mb) | max used | (Mb) |\n",
                            "|---|---|---|---|---|---|---|\n",
                            "| Ncells | 3135249 | 167.5 |  6867465 | 366.8 |  6867465 | 366.8 |\n",
                            "| Vcells | 6686152 |  51.1 | 14786712 | 112.9 | 14035807 | 107.1 |\n",
                            "\n"
                        ],
                        "text/plain": [
                            "       used    (Mb)  gc trigger (Mb)  max used (Mb) \n",
                            "Ncells 3135249 167.5  6867465   366.8  6867465 366.8\n",
                            "Vcells 6686152  51.1 14786712   112.9 14035807 107.1"
                        ]
                    },
                    "metadata": {},
                    "output_type": "display_data"
                }
            ],
            "source": [
                "if (reload_big_data) {\n",
                "    registerDoParallel(cl = parallel_loading_datasets, cores = parallel_loading_datasets)\n",
                "    respected_sla.header.nb <- foreach (ark = METRICS_ARKS) %dopar% {\n",
                "\n",
                "        # max_timestamp <- data %>%\n",
                "        #     group_by(folder, metric_group, metric_group_group) %>%\n",
                "        #     summarise(max_timestamp = max(timestamp))\n",
                "        gc()\n",
                "\n",
                "        load_single_csv(ark, \"proxy.csv\") %>%\n",
                "            prepare() %>%\n",
                "            adjust_timestamps() %>%\n",
                "            rename(function_name = tags) %>%\n",
                "            extract_function_name_info() %>%\n",
                "            group_by(sla_id, folder, metric_group, metric_group_group, function_name) %>%\n",
                "            summarise(\n",
                "                satisfied_count = sum(value <= latency),\n",
                "                acceptable_count = sum(value <= latency + 0.001),\n",
                "                alt_satisfied_count = sum(value / 2 <= latency), \n",
                "                alt_satisfied_count2 = sum(value / 4 <= latency), \n",
                "                alt_acceptable_count = sum(value / 2 <= latency + 0.01), \n",
                "                total = n(), \n",
                "                measured_latency = mean(value), \n",
                "                ran_for = max(timestamp) - min(timestamp), \n",
                "                # finished_before_end_expe = max(timestamp) < max_timestamp\n",
                "                ) %>%\n",
                "            mutate(count.satisfied = satisfied_count / total) %>%\n",
                "            mutate(count.acceptable = acceptable_count / total) %>%\n",
                "            mutate(count.alt2 = alt_satisfied_count2 / total) %>%\n",
                "            mutate(count.alt = alt_satisfied_count / total)\n",
                "    }\n",
                "\n",
                "    respected_sla.header.nb <- bind_rows(respected_sla.header.nb)\n",
                "    respected_sla.header.nb %>% write.csv(.,file = \"./respected_sla.header.nb.csv\")\n",
                "}\n",
                "\n",
                "gc()\n",
                "respected_sla.header.nb <- read.csv(\"./respected_sla.header.nb.csv\")"
            ]
        },
        {
            "cell_type": "code",
            "execution_count": 103,
            "id": "fa990b7e",
            "metadata": {
                "vscode": {
                    "languageId": "r"
                }
            },
            "outputs": [],
            "source": [
                "# if (reload_big_data) {\n",
                "#     registerDoParallel(cl = parallel_loading_datasets, cores = parallel_loading_datasets)\n",
                "#     respected_sla.nb <- foreach (ark = METRICS_ARKS) %dopar% {\n",
                "\n",
                "#         # max_timestamp <- data %>%\n",
                "#         #     group_by(folder, metric_group, metric_group_group) %>%\n",
                "#         #     summarise(max_timestamp = max(timestamp))\n",
                "#         gc()\n",
                "\n",
                "\n",
                "#         load_single_csv(ark, \"latency.csv\") %>%\n",
                "#             prepare() %>%\n",
                "#             adjust_timestamps() %>%\n",
                "#             rename(function_name = tag) %>%\n",
                "#             extract_function_name_info() %>%\n",
                "#         # data %>%\n",
                "#             # left_join(max_timestamp) %>%\n",
                "#             group_by(sla_id, folder, metric_group, metric_group_group, function_name) %>%\n",
                "#             summarise(\n",
                "#                 satisfied_count = sum(value <= latency),\n",
                "#                 acceptable_count = sum(value <= latency + 0.001),\n",
                "#                 alt_satisfied_count = sum(value / 2 <= latency), \n",
                "#                 alt_satisfied_count2 = sum(value / 4 <= latency), \n",
                "#                 alt_acceptable_count = sum(value / 2 <= latency + 0.01), \n",
                "#                 total = n(), \n",
                "#                 measured_latency = mean(value), \n",
                "#                 ran_for = max(timestamp) - min(timestamp), \n",
                "#                 # finished_before_end_expe = max(timestamp) < max_timestamp\n",
                "#                 ) %>%\n",
                "#             mutate(count.satisfied = satisfied_count / total) %>%\n",
                "#             mutate(count.acceptable = acceptable_count / total) %>%\n",
                "#             mutate(count.alt2 = alt_satisfied_count2 / total) %>%\n",
                "#             mutate(count.alt = alt_satisfied_count / total)\n",
                "#     }\n",
                "\n",
                "#     respected_sla.nb <- bind_rows(respected_sla.nb)\n",
                "#     respected_sla.nb %>% write.csv(.,file = \"./respected_sla.nb.csv\")\n",
                "# }\n",
                "\n",
                "# gc()\n",
                "# respected_sla.nb <- read.csv(\"./respected_sla.nb.csv\")"
            ]
        },
        {
            "cell_type": "code",
            "execution_count": 104,
            "id": "ca362950",
            "metadata": {
                "vscode": {
                    "languageId": "r"
                }
            },
            "outputs": [
                {
                    "data": {
                        "text/html": [
                            "<table class=\"dataframe\">\n",
                            "<caption>A grouped_df: 2 x 2</caption>\n",
                            "<thead>\n",
                            "\t<tr><th scope=col>folder</th><th scope=col>n</th></tr>\n",
                            "\t<tr><th scope=col>&lt;chr&gt;</th><th scope=col>&lt;int&gt;</th></tr>\n",
                            "</thead>\n",
                            "<tbody>\n",
                            "\t<tr><td>metrics_valuation_rates.env_1-auction_valuation_rates_no-telemetry_2024-02-02-16-18  </td><td>64</td></tr>\n",
                            "\t<tr><td>metrics_valuation_rates.env_1-edge_ward_valuation_rates_no-telemetry_2024-02-02-16-18</td><td>64</td></tr>\n",
                            "</tbody>\n",
                            "</table>\n"
                        ],
                        "text/latex": [
                            "A grouped\\_df: 2 x 2\n",
                            "\\begin{tabular}{ll}\n",
                            " folder & n\\\\\n",
                            " <chr> & <int>\\\\\n",
                            "\\hline\n",
                            "\t metrics\\_valuation\\_rates.env\\_1-auction\\_valuation\\_rates\\_no-telemetry\\_2024-02-02-16-18   & 64\\\\\n",
                            "\t metrics\\_valuation\\_rates.env\\_1-edge\\_ward\\_valuation\\_rates\\_no-telemetry\\_2024-02-02-16-18 & 64\\\\\n",
                            "\\end{tabular}\n"
                        ],
                        "text/markdown": [
                            "\n",
                            "A grouped_df: 2 x 2\n",
                            "\n",
                            "| folder &lt;chr&gt; | n &lt;int&gt; |\n",
                            "|---|---|\n",
                            "| metrics_valuation_rates.env_1-auction_valuation_rates_no-telemetry_2024-02-02-16-18   | 64 |\n",
                            "| metrics_valuation_rates.env_1-edge_ward_valuation_rates_no-telemetry_2024-02-02-16-18 | 64 |\n",
                            "\n"
                        ],
                        "text/plain": [
                            "  folder                                                                               \n",
                            "1 metrics_valuation_rates.env_1-auction_valuation_rates_no-telemetry_2024-02-02-16-18  \n",
                            "2 metrics_valuation_rates.env_1-edge_ward_valuation_rates_no-telemetry_2024-02-02-16-18\n",
                            "  n \n",
                            "1 64\n",
                            "2 64"
                        ]
                    },
                    "metadata": {},
                    "output_type": "display_data"
                }
            ],
            "source": [
                "respected_sla.header.nb %>% filter(measured_latency > 0) %>% group_by(folder) %>% count()"
            ]
        },
        {
            "cell_type": "code",
            "execution_count": 105,
            "id": "dbf64645",
            "metadata": {
                "vscode": {
                    "languageId": "r"
                }
            },
            "outputs": [],
            "source": [
                "# respected_sla.header.nb %>%\n",
                "#     left_join(respected_sla.nb %>%\n",
                "#         select(sla_id, folder, measured_latency) %>%\n",
                "#         rename(og_measured_latency = measured_latency)) %>%\n",
                "#     extract_function_name_info() %>%\n",
                "#     mutate(measured_latency = (og_measured_latency - abs(measured_latency)) * 1000) %>%\n",
                "#     left_join(raw.nb_functions.total.full %>% rename(total_func = total)) %>%\n",
                "#     left_join(raw.nb_functions.total.ll %>% rename(total_func_ll = total)) %>%\n",
                "#     rowwise() %>%\n",
                "#     mutate(ratio_func_ll = total_func_ll / total_func) %>%\n",
                "#     group_by(folder, metric_group, latency_type, load_type) %>%\n",
                "#     summarise(sd= sd(measured_latency), measured_latency = mean(measured_latency))"
            ]
        },
        {
            "cell_type": "code",
            "execution_count": 106,
            "id": "f6edaf9b",
            "metadata": {
                "vscode": {
                    "languageId": "r"
                }
            },
            "outputs": [
                {
                    "data": {
                        "text/html": [
                            "<table class=\"dataframe\">\n",
                            "<caption>A data.frame: 2 x 18</caption>\n",
                            "<thead>\n",
                            "\t<tr><th scope=col>X</th><th scope=col>sla_id</th><th scope=col>folder</th><th scope=col>metric_group</th><th scope=col>metric_group_group</th><th scope=col>function_name</th><th scope=col>satisfied_count</th><th scope=col>acceptable_count</th><th scope=col>alt_satisfied_count</th><th scope=col>alt_satisfied_count2</th><th scope=col>alt_acceptable_count</th><th scope=col>total</th><th scope=col>measured_latency</th><th scope=col>ran_for</th><th scope=col>count.satisfied</th><th scope=col>count.acceptable</th><th scope=col>count.alt2</th><th scope=col>count.alt</th></tr>\n",
                            "\t<tr><th scope=col>&lt;int&gt;</th><th scope=col>&lt;chr&gt;</th><th scope=col>&lt;chr&gt;</th><th scope=col>&lt;chr&gt;</th><th scope=col>&lt;chr&gt;</th><th scope=col>&lt;chr&gt;</th><th scope=col>&lt;int&gt;</th><th scope=col>&lt;int&gt;</th><th scope=col>&lt;int&gt;</th><th scope=col>&lt;int&gt;</th><th scope=col>&lt;int&gt;</th><th scope=col>&lt;int&gt;</th><th scope=col>&lt;dbl&gt;</th><th scope=col>&lt;dbl&gt;</th><th scope=col>&lt;int&gt;</th><th scope=col>&lt;int&gt;</th><th scope=col>&lt;int&gt;</th><th scope=col>&lt;int&gt;</th></tr>\n",
                            "</thead>\n",
                            "<tbody>\n",
                            "\t<tr><td> 2</td><td>04172447-bd6c-404d-a5c7-315202e153d4</td><td>metrics_valuation_rates.env_1-auction_valuation_rates_no-telemetry_2024-02-02-16-18</td><td>auction</td><td>toto</td><td>audioToText-i1-c300-m512-l62-a205-r972-d2213743      </td><td>0</td><td>0</td><td>0</td><td>0</td><td>0</td><td>34</td><td>1706890430</td><td>446.31666</td><td>0</td><td>0</td><td>0</td><td>0</td></tr>\n",
                            "\t<tr><td>16</td><td>3b608242-7ca6-4e75-9f06-82948764d206</td><td>metrics_valuation_rates.env_1-auction_valuation_rates_no-telemetry_2024-02-02-16-18</td><td>auction</td><td>toto</td><td>imagePreProcessing-i2-c100-m256-l112-a572-r611-d37789</td><td>0</td><td>0</td><td>0</td><td>0</td><td>0</td><td> 3</td><td>1706890663</td><td> 35.35706</td><td>0</td><td>0</td><td>0</td><td>0</td></tr>\n",
                            "</tbody>\n",
                            "</table>\n"
                        ],
                        "text/latex": [
                            "A data.frame: 2 x 18\n",
                            "\\begin{tabular}{llllllllllllllllll}\n",
                            " X & sla\\_id & folder & metric\\_group & metric\\_group\\_group & function\\_name & satisfied\\_count & acceptable\\_count & alt\\_satisfied\\_count & alt\\_satisfied\\_count2 & alt\\_acceptable\\_count & total & measured\\_latency & ran\\_for & count.satisfied & count.acceptable & count.alt2 & count.alt\\\\\n",
                            " <int> & <chr> & <chr> & <chr> & <chr> & <chr> & <int> & <int> & <int> & <int> & <int> & <int> & <dbl> & <dbl> & <int> & <int> & <int> & <int>\\\\\n",
                            "\\hline\n",
                            "\t  2 & 04172447-bd6c-404d-a5c7-315202e153d4 & metrics\\_valuation\\_rates.env\\_1-auction\\_valuation\\_rates\\_no-telemetry\\_2024-02-02-16-18 & auction & toto & audioToText-i1-c300-m512-l62-a205-r972-d2213743       & 0 & 0 & 0 & 0 & 0 & 34 & 1706890430 & 446.31666 & 0 & 0 & 0 & 0\\\\\n",
                            "\t 16 & 3b608242-7ca6-4e75-9f06-82948764d206 & metrics\\_valuation\\_rates.env\\_1-auction\\_valuation\\_rates\\_no-telemetry\\_2024-02-02-16-18 & auction & toto & imagePreProcessing-i2-c100-m256-l112-a572-r611-d37789 & 0 & 0 & 0 & 0 & 0 &  3 & 1706890663 &  35.35706 & 0 & 0 & 0 & 0\\\\\n",
                            "\\end{tabular}\n"
                        ],
                        "text/markdown": [
                            "\n",
                            "A data.frame: 2 x 18\n",
                            "\n",
                            "| X &lt;int&gt; | sla_id &lt;chr&gt; | folder &lt;chr&gt; | metric_group &lt;chr&gt; | metric_group_group &lt;chr&gt; | function_name &lt;chr&gt; | satisfied_count &lt;int&gt; | acceptable_count &lt;int&gt; | alt_satisfied_count &lt;int&gt; | alt_satisfied_count2 &lt;int&gt; | alt_acceptable_count &lt;int&gt; | total &lt;int&gt; | measured_latency &lt;dbl&gt; | ran_for &lt;dbl&gt; | count.satisfied &lt;int&gt; | count.acceptable &lt;int&gt; | count.alt2 &lt;int&gt; | count.alt &lt;int&gt; |\n",
                            "|---|---|---|---|---|---|---|---|---|---|---|---|---|---|---|---|---|---|\n",
                            "|  2 | 04172447-bd6c-404d-a5c7-315202e153d4 | metrics_valuation_rates.env_1-auction_valuation_rates_no-telemetry_2024-02-02-16-18 | auction | toto | audioToText-i1-c300-m512-l62-a205-r972-d2213743       | 0 | 0 | 0 | 0 | 0 | 34 | 1706890430 | 446.31666 | 0 | 0 | 0 | 0 |\n",
                            "| 16 | 3b608242-7ca6-4e75-9f06-82948764d206 | metrics_valuation_rates.env_1-auction_valuation_rates_no-telemetry_2024-02-02-16-18 | auction | toto | imagePreProcessing-i2-c100-m256-l112-a572-r611-d37789 | 0 | 0 | 0 | 0 | 0 |  3 | 1706890663 |  35.35706 | 0 | 0 | 0 | 0 |\n",
                            "\n"
                        ],
                        "text/plain": [
                            "  X  sla_id                              \n",
                            "1  2 04172447-bd6c-404d-a5c7-315202e153d4\n",
                            "2 16 3b608242-7ca6-4e75-9f06-82948764d206\n",
                            "  folder                                                                             \n",
                            "1 metrics_valuation_rates.env_1-auction_valuation_rates_no-telemetry_2024-02-02-16-18\n",
                            "2 metrics_valuation_rates.env_1-auction_valuation_rates_no-telemetry_2024-02-02-16-18\n",
                            "  metric_group metric_group_group\n",
                            "1 auction      toto              \n",
                            "2 auction      toto              \n",
                            "  function_name                                         satisfied_count\n",
                            "1 audioToText-i1-c300-m512-l62-a205-r972-d2213743       0              \n",
                            "2 imagePreProcessing-i2-c100-m256-l112-a572-r611-d37789 0              \n",
                            "  acceptable_count alt_satisfied_count alt_satisfied_count2\n",
                            "1 0                0                   0                   \n",
                            "2 0                0                   0                   \n",
                            "  alt_acceptable_count total measured_latency ran_for   count.satisfied\n",
                            "1 0                    34    1706890430       446.31666 0              \n",
                            "2 0                     3    1706890663        35.35706 0              \n",
                            "  count.acceptable count.alt2 count.alt\n",
                            "1 0                0          0        \n",
                            "2 0                0          0        "
                        ]
                    },
                    "metadata": {},
                    "output_type": "display_data"
                }
            ],
            "source": [
                "slice_sample(respected_sla.header.nb %>% filter(metric_group == \"auction\"), n = 2)"
            ]
        },
        {
            "cell_type": "code",
            "execution_count": 107,
            "id": "c40dc8f0",
            "metadata": {
                "vscode": {
                    "languageId": "r"
                }
            },
            "outputs": [
                {
                    "data": {
                        "text/html": [
                            "<style>\n",
                            ".list-inline {list-style: none; margin:0; padding: 0}\n",
                            ".list-inline>li {display: inline-block}\n",
                            ".list-inline>li:not(:last-child)::after {content: \"\\00b7\"; padding: 0 .5ex}\n",
                            "</style>\n",
                            "<ol class=list-inline><li>'X'</li><li>'sla_id'</li><li>'folder'</li><li>'metric_group'</li><li>'metric_group_group'</li><li>'function_name'</li><li>'satisfied_count'</li><li>'acceptable_count'</li><li>'alt_satisfied_count'</li><li>'alt_satisfied_count2'</li><li>'alt_acceptable_count'</li><li>'total'</li><li>'measured_latency'</li><li>'ran_for'</li><li>'count.satisfied'</li><li>'count.acceptable'</li><li>'count.alt2'</li><li>'count.alt'</li></ol>\n"
                        ],
                        "text/latex": [
                            "\\begin{enumerate*}\n",
                            "\\item 'X'\n",
                            "\\item 'sla\\_id'\n",
                            "\\item 'folder'\n",
                            "\\item 'metric\\_group'\n",
                            "\\item 'metric\\_group\\_group'\n",
                            "\\item 'function\\_name'\n",
                            "\\item 'satisfied\\_count'\n",
                            "\\item 'acceptable\\_count'\n",
                            "\\item 'alt\\_satisfied\\_count'\n",
                            "\\item 'alt\\_satisfied\\_count2'\n",
                            "\\item 'alt\\_acceptable\\_count'\n",
                            "\\item 'total'\n",
                            "\\item 'measured\\_latency'\n",
                            "\\item 'ran\\_for'\n",
                            "\\item 'count.satisfied'\n",
                            "\\item 'count.acceptable'\n",
                            "\\item 'count.alt2'\n",
                            "\\item 'count.alt'\n",
                            "\\end{enumerate*}\n"
                        ],
                        "text/markdown": [
                            "1. 'X'\n",
                            "2. 'sla_id'\n",
                            "3. 'folder'\n",
                            "4. 'metric_group'\n",
                            "5. 'metric_group_group'\n",
                            "6. 'function_name'\n",
                            "7. 'satisfied_count'\n",
                            "8. 'acceptable_count'\n",
                            "9. 'alt_satisfied_count'\n",
                            "10. 'alt_satisfied_count2'\n",
                            "11. 'alt_acceptable_count'\n",
                            "12. 'total'\n",
                            "13. 'measured_latency'\n",
                            "14. 'ran_for'\n",
                            "15. 'count.satisfied'\n",
                            "16. 'count.acceptable'\n",
                            "17. 'count.alt2'\n",
                            "18. 'count.alt'\n",
                            "\n",
                            "\n"
                        ],
                        "text/plain": [
                            " [1] \"X\"                    \"sla_id\"               \"folder\"              \n",
                            " [4] \"metric_group\"         \"metric_group_group\"   \"function_name\"       \n",
                            " [7] \"satisfied_count\"      \"acceptable_count\"     \"alt_satisfied_count\" \n",
                            "[10] \"alt_satisfied_count2\" \"alt_acceptable_count\" \"total\"               \n",
                            "[13] \"measured_latency\"     \"ran_for\"              \"count.satisfied\"     \n",
                            "[16] \"count.acceptable\"     \"count.alt2\"           \"count.alt\"           "
                        ]
                    },
                    "metadata": {},
                    "output_type": "display_data"
                }
            ],
            "source": [
                "colnames(respected_sla.header.nb)"
            ]
        },
        {
            "cell_type": "code",
            "execution_count": 108,
            "id": "6d50dd15",
            "metadata": {
                "vscode": {
                    "languageId": "r"
                }
            },
            "outputs": [
                {
                    "data": {
                        "text/html": [
                            "<table class=\"dataframe\">\n",
                            "<caption>A tibble: 2 x 2</caption>\n",
                            "<thead>\n",
                            "\t<tr><th scope=col>folder</th><th scope=col>nb_nodes</th></tr>\n",
                            "\t<tr><th scope=col>&lt;chr&gt;</th><th scope=col>&lt;int&gt;</th></tr>\n",
                            "</thead>\n",
                            "<tbody>\n",
                            "\t<tr><td>metrics_valuation_rates.env_1-auction_valuation_rates_no-telemetry_2024-02-02-16-18  </td><td>33</td></tr>\n",
                            "\t<tr><td>metrics_valuation_rates.env_1-edge_ward_valuation_rates_no-telemetry_2024-02-02-16-18</td><td>33</td></tr>\n",
                            "</tbody>\n",
                            "</table>\n"
                        ],
                        "text/latex": [
                            "A tibble: 2 x 2\n",
                            "\\begin{tabular}{ll}\n",
                            " folder & nb\\_nodes\\\\\n",
                            " <chr> & <int>\\\\\n",
                            "\\hline\n",
                            "\t metrics\\_valuation\\_rates.env\\_1-auction\\_valuation\\_rates\\_no-telemetry\\_2024-02-02-16-18   & 33\\\\\n",
                            "\t metrics\\_valuation\\_rates.env\\_1-edge\\_ward\\_valuation\\_rates\\_no-telemetry\\_2024-02-02-16-18 & 33\\\\\n",
                            "\\end{tabular}\n"
                        ],
                        "text/markdown": [
                            "\n",
                            "A tibble: 2 x 2\n",
                            "\n",
                            "| folder &lt;chr&gt; | nb_nodes &lt;int&gt; |\n",
                            "|---|---|\n",
                            "| metrics_valuation_rates.env_1-auction_valuation_rates_no-telemetry_2024-02-02-16-18   | 33 |\n",
                            "| metrics_valuation_rates.env_1-edge_ward_valuation_rates_no-telemetry_2024-02-02-16-18 | 33 |\n",
                            "\n"
                        ],
                        "text/plain": [
                            "  folder                                                                               \n",
                            "1 metrics_valuation_rates.env_1-auction_valuation_rates_no-telemetry_2024-02-02-16-18  \n",
                            "2 metrics_valuation_rates.env_1-edge_ward_valuation_rates_no-telemetry_2024-02-02-16-18\n",
                            "  nb_nodes\n",
                            "1 33      \n",
                            "2 33      "
                        ]
                    },
                    "metadata": {},
                    "output_type": "display_data"
                }
            ],
            "source": [
                "node_levels %>% group_by(folder) %>% summarise(nb_nodes = n())"
            ]
        },
        {
            "cell_type": "code",
            "execution_count": 109,
            "id": "76e92738",
            "metadata": {
                "vscode": {
                    "languageId": "r"
                }
            },
            "outputs": [],
            "source": [
                "# slice_sample(raw.nb_functions)"
            ]
        },
        {
            "cell_type": "code",
            "execution_count": 110,
            "id": "ead3f2bf",
            "metadata": {
                "vscode": {
                    "languageId": "r"
                }
            },
            "outputs": [
                {
                    "name": "stderr",
                    "output_type": "stream",
                    "text": [
                        "\u001b[1m\u001b[22mAdding missing grouping variables: `status`\n",
                        "\u001b[1m\u001b[22mJoining, by = c(\"folder\", \"metric_group\", \"metric_group_group\")\n",
                        "\u001b[1m\u001b[22mJoining, by = \"folder\"\n",
                        "\u001b[1m\u001b[22m`summarise()` has grouped output by 'folder', 'metric_group', 'nb_nodes_group'. You can override\n",
                        "using the `.groups` argument.\n"
                    ]
                },
                {
                    "data": {
                        "text/html": [
                            "<table class=\"dataframe\">\n",
                            "<caption>A grouped_df: 2 x 7</caption>\n",
                            "<thead>\n",
                            "\t<tr><th scope=col>folder</th><th scope=col>metric_group</th><th scope=col>nb_nodes_group</th><th scope=col>nb_functions_requested_total</th><th scope=col>funcs</th><th scope=col>nb_functions</th><th scope=col>Placement method</th></tr>\n",
                            "\t<tr><th scope=col>&lt;chr&gt;</th><th scope=col>&lt;ord&gt;</th><th scope=col>&lt;int&gt;</th><th scope=col>&lt;dbl&gt;</th><th scope=col>&lt;int&gt;</th><th scope=col>&lt;dbl&gt;</th><th scope=col>&lt;chr&gt;</th></tr>\n",
                            "</thead>\n",
                            "<tbody>\n",
                            "\t<tr><td>metrics_valuation_rates.env_1-auction_valuation_rates_no-telemetry_2024-02-02-16-18  </td><td>auction  </td><td>33</td><td>242</td><td>64</td><td>0.2644628</td><td>\\footnotesize{\\mbox{\\rmfamily\\bfseries GIRAFF}}</td></tr>\n",
                            "\t<tr><td>metrics_valuation_rates.env_1-edge_ward_valuation_rates_no-telemetry_2024-02-02-16-18</td><td>edge_ward</td><td>33</td><td>242</td><td>64</td><td>0.2644628</td><td>\\footnotesize{Edge\\dash{}ward}                   </td></tr>\n",
                            "</tbody>\n",
                            "</table>\n"
                        ],
                        "text/latex": [
                            "A grouped\\_df: 2 x 7\n",
                            "\\begin{tabular}{lllllll}\n",
                            " folder & metric\\_group & nb\\_nodes\\_group & nb\\_functions\\_requested\\_total & funcs & nb\\_functions & Placement method\\\\\n",
                            " <chr> & <ord> & <int> & <dbl> & <int> & <dbl> & <chr>\\\\\n",
                            "\\hline\n",
                            "\t metrics\\_valuation\\_rates.env\\_1-auction\\_valuation\\_rates\\_no-telemetry\\_2024-02-02-16-18   & auction   & 33 & 242 & 64 & 0.2644628 & \\textbackslash{}footnotesize\\{\\textbackslash{}mbox\\{\\textbackslash{}rmfamily\\textbackslash{}bfseries GIRAFF\\}\\}\\\\\n",
                            "\t metrics\\_valuation\\_rates.env\\_1-edge\\_ward\\_valuation\\_rates\\_no-telemetry\\_2024-02-02-16-18 & edge\\_ward & 33 & 242 & 64 & 0.2644628 & \\textbackslash{}footnotesize\\{Edge\\textbackslash{}dash\\{\\}ward\\}                   \\\\\n",
                            "\\end{tabular}\n"
                        ],
                        "text/markdown": [
                            "\n",
                            "A grouped_df: 2 x 7\n",
                            "\n",
                            "| folder &lt;chr&gt; | metric_group &lt;ord&gt; | nb_nodes_group &lt;int&gt; | nb_functions_requested_total &lt;dbl&gt; | funcs &lt;int&gt; | nb_functions &lt;dbl&gt; | Placement method &lt;chr&gt; |\n",
                            "|---|---|---|---|---|---|---|\n",
                            "| metrics_valuation_rates.env_1-auction_valuation_rates_no-telemetry_2024-02-02-16-18   | auction   | 33 | 242 | 64 | 0.2644628 | \\footnotesize{\\mbox{\\rmfamily\\bfseries GIRAFF}} |\n",
                            "| metrics_valuation_rates.env_1-edge_ward_valuation_rates_no-telemetry_2024-02-02-16-18 | edge_ward | 33 | 242 | 64 | 0.2644628 | \\footnotesize{Edge\\dash{}ward}                    |\n",
                            "\n"
                        ],
                        "text/plain": [
                            "  folder                                                                               \n",
                            "1 metrics_valuation_rates.env_1-auction_valuation_rates_no-telemetry_2024-02-02-16-18  \n",
                            "2 metrics_valuation_rates.env_1-edge_ward_valuation_rates_no-telemetry_2024-02-02-16-18\n",
                            "  metric_group nb_nodes_group nb_functions_requested_total funcs nb_functions\n",
                            "1 auction      33             242                          64    0.2644628   \n",
                            "2 edge_ward    33             242                          64    0.2644628   \n",
                            "  Placement method                                   \n",
                            "1 \\\\footnotesize{\\\\mbox{\\\\rmfamily\\\\bfseries GIRAFF}}\n",
                            "2 \\\\footnotesize{Edge\\\\dash{}ward}                   "
                        ]
                    },
                    "metadata": {},
                    "output_type": "display_data"
                }
            ],
            "source": [
                "plots.nb_deployed.data <- respected_sla.header.nb %>%\n",
                "    extract_function_name_info() %>%\n",
                "    left_join(functions_total %>% select(folder, metric_group, metric_group_group, load_type, latency_type, total) %>% rename(nb_functions_requested_total=total)) %>%\n",
                "    left_join(node_levels %>% group_by(folder) %>% summarise(nb_nodes = n())) %>%\n",
                "    # mutate(nb_nodes_group = case_when(\n",
                "    #     nb_nodes < 19 ~ \"Danger zone 1\",\n",
                "    #     nb_nodes <= 34 ~ \"$19 \\\\le n < 34$\",\n",
                "    #     nb_nodes < 112 ~ \"Danger zone 2\",\n",
                "    #     nb_nodes <= 119 ~ \"$112 \\\\le n \\\\le 119$\",\n",
                "    #     TRUE ~ \"Danger zone 3\",\n",
                "    # )) %>%\n",
                "    rename(nb_nodes_group = nb_nodes) %>%\n",
                "    group_by(folder, metric_group, nb_nodes_group, nb_functions_requested_total) %>%\n",
                "    summarise(funcs = n()) %>%\n",
                "    mutate(nb_functions = funcs / nb_functions_requested_total) %>%\n",
                "    correct_names()\n",
                "\n",
                "plots.nb_deployed.data\n",
                "\n",
                "plots.nb_deployed.h <- GRAPH_ONE_COLUMN_HEIGHT\n",
                "plots.nb_deployed.w <- GRAPH_ONE_COLUMN_WIDTH"
            ]
        },
        {
            "cell_type": "code",
            "execution_count": 111,
            "id": "500cd915",
            "metadata": {
                "vscode": {
                    "languageId": "r"
                }
            },
            "outputs": [
                {
                    "name": "stderr",
                    "output_type": "stream",
                    "text": [
                        "\u001b[1m\u001b[22mJoining, by = c(\"folder\", \"function_name\")\n"
                    ]
                },
                {
                    "data": {
                        "text/html": [
                            "<table class=\"dataframe\">\n",
                            "<caption>A tibble: 356 x 2</caption>\n",
                            "<thead>\n",
                            "\t<tr><th scope=col>folder</th><th scope=col>function_name</th></tr>\n",
                            "\t<tr><th scope=col>&lt;chr&gt;</th><th scope=col>&lt;chr&gt;</th></tr>\n",
                            "</thead>\n",
                            "<tbody>\n",
                            "\t<tr><td>metrics_valuation_rates.env_1-auction_valuation_rates_no-telemetry_2024-02-02-16-18</td><td>echo-i1-c100-m256-l92-a73-r549-d35273                    </td></tr>\n",
                            "\t<tr><td>metrics_valuation_rates.env_1-auction_valuation_rates_no-telemetry_2024-02-02-16-18</td><td>sentimentAnalysis-i2-c100-m256-l91-a395-r839-d56055881   </td></tr>\n",
                            "\t<tr><td>metrics_valuation_rates.env_1-auction_valuation_rates_no-telemetry_2024-02-02-16-18</td><td>echo-i1-c50-m100-l147-a482-r1696-d1961801                </td></tr>\n",
                            "\t<tr><td>metrics_valuation_rates.env_1-auction_valuation_rates_no-telemetry_2024-02-02-16-18</td><td>echo-i0-c100-m256-l86-a179-r102-d288987                  </td></tr>\n",
                            "\t<tr><td>metrics_valuation_rates.env_1-auction_valuation_rates_no-telemetry_2024-02-02-16-18</td><td>echo-i0-c50-m100-l85-a348-r64-d25194                     </td></tr>\n",
                            "\t<tr><td>metrics_valuation_rates.env_1-auction_valuation_rates_no-telemetry_2024-02-02-16-18</td><td>echo-i0-c50-m100-l13-a463-r603-d40477878                 </td></tr>\n",
                            "\t<tr><td>metrics_valuation_rates.env_1-auction_valuation_rates_no-telemetry_2024-02-02-16-18</td><td>sentimentAnalysis-i0-c100-m256-l65-a176-r2460-d292862    </td></tr>\n",
                            "\t<tr><td>metrics_valuation_rates.env_1-auction_valuation_rates_no-telemetry_2024-02-02-16-18</td><td>audioToText-i2-c300-m512-l23-a546-r296-d35005            </td></tr>\n",
                            "\t<tr><td>metrics_valuation_rates.env_1-auction_valuation_rates_no-telemetry_2024-02-02-16-18</td><td>sentimentAnalysis-i3-c100-m256-l58-a316-r49-d468635      </td></tr>\n",
                            "\t<tr><td>metrics_valuation_rates.env_1-auction_valuation_rates_no-telemetry_2024-02-02-16-18</td><td>echo-i3-c100-m256-l111-a327-r1291-d652086                </td></tr>\n",
                            "\t<tr><td>metrics_valuation_rates.env_1-auction_valuation_rates_no-telemetry_2024-02-02-16-18</td><td>echo-i2-c50-m100-l15-a531-r597-d95351                    </td></tr>\n",
                            "\t<tr><td>metrics_valuation_rates.env_1-auction_valuation_rates_no-telemetry_2024-02-02-16-18</td><td>classif-i3-c500-m512-l27-a587-r327-d480712               </td></tr>\n",
                            "\t<tr><td>metrics_valuation_rates.env_1-auction_valuation_rates_no-telemetry_2024-02-02-16-18</td><td>echo-i2-c100-m256-l23-a546-r296-d35005                   </td></tr>\n",
                            "\t<tr><td>metrics_valuation_rates.env_1-auction_valuation_rates_no-telemetry_2024-02-02-16-18</td><td>classif-i3-c500-m512-l39-a320-r30697-d4566452            </td></tr>\n",
                            "\t<tr><td>metrics_valuation_rates.env_1-auction_valuation_rates_no-telemetry_2024-02-02-16-18</td><td>echo-i1-c50-m100-l85-a419-r293-d10108700                 </td></tr>\n",
                            "\t<tr><td>metrics_valuation_rates.env_1-auction_valuation_rates_no-telemetry_2024-02-02-16-18</td><td>echo-i0-c100-m256-l25-a544-r30-d203546392                </td></tr>\n",
                            "\t<tr><td>metrics_valuation_rates.env_1-auction_valuation_rates_no-telemetry_2024-02-02-16-18</td><td>echo-i2-c100-m256-l23-a393-r24137-d1076759               </td></tr>\n",
                            "\t<tr><td>metrics_valuation_rates.env_1-auction_valuation_rates_no-telemetry_2024-02-02-16-18</td><td>classif-i3-c500-m512-l76-a499-r11-d625651                </td></tr>\n",
                            "\t<tr><td>metrics_valuation_rates.env_1-auction_valuation_rates_no-telemetry_2024-02-02-16-18</td><td>echo-i1-c50-m100-l92-a195-r130-d43498                    </td></tr>\n",
                            "\t<tr><td>metrics_valuation_rates.env_1-auction_valuation_rates_no-telemetry_2024-02-02-16-18</td><td>sentimentAnalysis-i2-c100-m256-l68-a155-r320-d36102527   </td></tr>\n",
                            "\t<tr><td>metrics_valuation_rates.env_1-auction_valuation_rates_no-telemetry_2024-02-02-16-18</td><td>classif-i2-c500-m512-l15-a531-r597-d95351                </td></tr>\n",
                            "\t<tr><td>metrics_valuation_rates.env_1-auction_valuation_rates_no-telemetry_2024-02-02-16-18</td><td>sentimentAnalysis-i0-c100-m256-l86-a256-r2151-d70107     </td></tr>\n",
                            "\t<tr><td>metrics_valuation_rates.env_1-auction_valuation_rates_no-telemetry_2024-02-02-16-18</td><td>classif-i2-c500-m512-l132-a593-r5354-d34386              </td></tr>\n",
                            "\t<tr><td>metrics_valuation_rates.env_1-auction_valuation_rates_no-telemetry_2024-02-02-16-18</td><td>audioToText-i1-c300-m512-l28-a84-r577-d53285             </td></tr>\n",
                            "\t<tr><td>metrics_valuation_rates.env_1-auction_valuation_rates_no-telemetry_2024-02-02-16-18</td><td>sentimentAnalysis-i1-c100-m256-l20-a107-r38420-d157815942</td></tr>\n",
                            "\t<tr><td>metrics_valuation_rates.env_1-auction_valuation_rates_no-telemetry_2024-02-02-16-18</td><td>echo-i0-c100-m256-l85-a350-r34-d5434109                  </td></tr>\n",
                            "\t<tr><td>metrics_valuation_rates.env_1-auction_valuation_rates_no-telemetry_2024-02-02-16-18</td><td>echo-i2-c50-m100-l56-a432-r1834-d1864300                 </td></tr>\n",
                            "\t<tr><td>metrics_valuation_rates.env_1-auction_valuation_rates_no-telemetry_2024-02-02-16-18</td><td>echo-i0-c100-m256-l107-a232-r30-d233898                  </td></tr>\n",
                            "\t<tr><td>metrics_valuation_rates.env_1-auction_valuation_rates_no-telemetry_2024-02-02-16-18</td><td>echo-i3-c100-m256-l28-a169-r1381-d152201                 </td></tr>\n",
                            "\t<tr><td>metrics_valuation_rates.env_1-auction_valuation_rates_no-telemetry_2024-02-02-16-18</td><td>echo-i0-c100-m256-l79-a582-r65664-d57065                 </td></tr>\n",
                            "\t<tr><td>...</td><td>...</td></tr>\n",
                            "\t<tr><td>metrics_valuation_rates.env_1-edge_ward_valuation_rates_no-telemetry_2024-02-02-16-18</td><td>imagePreProcessing-i0-c100-m256-l1-a66-r8902-d5605480    </td></tr>\n",
                            "\t<tr><td>metrics_valuation_rates.env_1-edge_ward_valuation_rates_no-telemetry_2024-02-02-16-18</td><td>echo-i0-c100-m256-l55-a62-r150-d11566337                 </td></tr>\n",
                            "\t<tr><td>metrics_valuation_rates.env_1-edge_ward_valuation_rates_no-telemetry_2024-02-02-16-18</td><td>echo-i0-c100-m256-l55-a477-r449-d206263508               </td></tr>\n",
                            "\t<tr><td>metrics_valuation_rates.env_1-edge_ward_valuation_rates_no-telemetry_2024-02-02-16-18</td><td>classif-i1-c500-m512-l147-a482-r1696-d1961801            </td></tr>\n",
                            "\t<tr><td>metrics_valuation_rates.env_1-edge_ward_valuation_rates_no-telemetry_2024-02-02-16-18</td><td>imagePreProcessing-i0-c100-m256-l85-a348-r64-d25194      </td></tr>\n",
                            "\t<tr><td>metrics_valuation_rates.env_1-edge_ward_valuation_rates_no-telemetry_2024-02-02-16-18</td><td>echo-i3-c100-m256-l86-a271-r6775-d5167991                </td></tr>\n",
                            "\t<tr><td>metrics_valuation_rates.env_1-edge_ward_valuation_rates_no-telemetry_2024-02-02-16-18</td><td>sentimentAnalysis-i2-c100-m256-l93-a535-r15211-d1376173  </td></tr>\n",
                            "\t<tr><td>metrics_valuation_rates.env_1-edge_ward_valuation_rates_no-telemetry_2024-02-02-16-18</td><td>echo-i1-c100-m256-l21-a531-r8636-d4135613                </td></tr>\n",
                            "\t<tr><td>metrics_valuation_rates.env_1-edge_ward_valuation_rates_no-telemetry_2024-02-02-16-18</td><td>echo-i3-c100-m256-l107-a62-r14551-d1227300               </td></tr>\n",
                            "\t<tr><td>metrics_valuation_rates.env_1-edge_ward_valuation_rates_no-telemetry_2024-02-02-16-18</td><td>echo-i3-c100-m256-l52-a591-r195-d12198                   </td></tr>\n",
                            "\t<tr><td>metrics_valuation_rates.env_1-edge_ward_valuation_rates_no-telemetry_2024-02-02-16-18</td><td>sentimentAnalysis-i2-c100-m256-l23-a546-r296-d35005      </td></tr>\n",
                            "\t<tr><td>metrics_valuation_rates.env_1-edge_ward_valuation_rates_no-telemetry_2024-02-02-16-18</td><td>imagePreProcessing-i0-c100-m256-l29-a267-r63475-d10850528</td></tr>\n",
                            "\t<tr><td>metrics_valuation_rates.env_1-edge_ward_valuation_rates_no-telemetry_2024-02-02-16-18</td><td>audioToText-i3-c300-m512-l70-a488-r791-d193996           </td></tr>\n",
                            "\t<tr><td>metrics_valuation_rates.env_1-edge_ward_valuation_rates_no-telemetry_2024-02-02-16-18</td><td>echo-i1-c50-m100-l64-a233-r255-d131891                   </td></tr>\n",
                            "\t<tr><td>metrics_valuation_rates.env_1-edge_ward_valuation_rates_no-telemetry_2024-02-02-16-18</td><td>sentimentAnalysis-i1-c100-m256-l72-a363-r121-d32396472   </td></tr>\n",
                            "\t<tr><td>metrics_valuation_rates.env_1-edge_ward_valuation_rates_no-telemetry_2024-02-02-16-18</td><td>imagePreProcessing-i1-c100-m256-l60-a37-r2916-d804193    </td></tr>\n",
                            "\t<tr><td>metrics_valuation_rates.env_1-edge_ward_valuation_rates_no-telemetry_2024-02-02-16-18</td><td>echo-i2-c100-m256-l43-a96-r20-d2117748                   </td></tr>\n",
                            "\t<tr><td>metrics_valuation_rates.env_1-edge_ward_valuation_rates_no-telemetry_2024-02-02-16-18</td><td>sentimentAnalysis-i2-c100-m256-l101-a576-r4428-d76534936 </td></tr>\n",
                            "\t<tr><td>metrics_valuation_rates.env_1-edge_ward_valuation_rates_no-telemetry_2024-02-02-16-18</td><td>echo-i1-c100-m256-l39-a596-r17350-d2080026               </td></tr>\n",
                            "\t<tr><td>metrics_valuation_rates.env_1-edge_ward_valuation_rates_no-telemetry_2024-02-02-16-18</td><td>sentimentAnalysis-i3-c100-m256-l106-a498-r375-d604564    </td></tr>\n",
                            "\t<tr><td>metrics_valuation_rates.env_1-edge_ward_valuation_rates_no-telemetry_2024-02-02-16-18</td><td>sentimentAnalysis-i3-c100-m256-l52-a591-r195-d12198      </td></tr>\n",
                            "\t<tr><td>metrics_valuation_rates.env_1-edge_ward_valuation_rates_no-telemetry_2024-02-02-16-18</td><td>sentimentAnalysis-i0-c100-m256-l107-a232-r30-d233898     </td></tr>\n",
                            "\t<tr><td>metrics_valuation_rates.env_1-edge_ward_valuation_rates_no-telemetry_2024-02-02-16-18</td><td>echo-i3-c100-m256-l58-a316-r49-d468635                   </td></tr>\n",
                            "\t<tr><td>metrics_valuation_rates.env_1-edge_ward_valuation_rates_no-telemetry_2024-02-02-16-18</td><td>classif-i3-c500-m512-l144-a520-r2430-d567326             </td></tr>\n",
                            "\t<tr><td>metrics_valuation_rates.env_1-edge_ward_valuation_rates_no-telemetry_2024-02-02-16-18</td><td>echo-i1-c100-m256-l54-a178-r304-d627823                  </td></tr>\n",
                            "\t<tr><td>metrics_valuation_rates.env_1-edge_ward_valuation_rates_no-telemetry_2024-02-02-16-18</td><td>classif-i1-c500-m512-l40-a497-r137-d74320                </td></tr>\n",
                            "\t<tr><td>metrics_valuation_rates.env_1-edge_ward_valuation_rates_no-telemetry_2024-02-02-16-18</td><td>echo-i0-c100-m256-l86-a256-r2151-d70107                  </td></tr>\n",
                            "\t<tr><td>metrics_valuation_rates.env_1-edge_ward_valuation_rates_no-telemetry_2024-02-02-16-18</td><td>sentimentAnalysis-i0-c100-m256-l79-a582-r65664-d57065    </td></tr>\n",
                            "\t<tr><td>metrics_valuation_rates.env_1-edge_ward_valuation_rates_no-telemetry_2024-02-02-16-18</td><td>imagePreProcessing-i2-c100-m256-l101-a36-r7-d815133      </td></tr>\n",
                            "\t<tr><td>metrics_valuation_rates.env_1-edge_ward_valuation_rates_no-telemetry_2024-02-02-16-18</td><td>echo-i2-c100-m256-l93-a535-r15211-d1376173               </td></tr>\n",
                            "</tbody>\n",
                            "</table>\n"
                        ],
                        "text/latex": [
                            "A tibble: 356 x 2\n",
                            "\\begin{tabular}{ll}\n",
                            " folder & function\\_name\\\\\n",
                            " <chr> & <chr>\\\\\n",
                            "\\hline\n",
                            "\t metrics\\_valuation\\_rates.env\\_1-auction\\_valuation\\_rates\\_no-telemetry\\_2024-02-02-16-18 & echo-i1-c100-m256-l92-a73-r549-d35273                    \\\\\n",
                            "\t metrics\\_valuation\\_rates.env\\_1-auction\\_valuation\\_rates\\_no-telemetry\\_2024-02-02-16-18 & sentimentAnalysis-i2-c100-m256-l91-a395-r839-d56055881   \\\\\n",
                            "\t metrics\\_valuation\\_rates.env\\_1-auction\\_valuation\\_rates\\_no-telemetry\\_2024-02-02-16-18 & echo-i1-c50-m100-l147-a482-r1696-d1961801                \\\\\n",
                            "\t metrics\\_valuation\\_rates.env\\_1-auction\\_valuation\\_rates\\_no-telemetry\\_2024-02-02-16-18 & echo-i0-c100-m256-l86-a179-r102-d288987                  \\\\\n",
                            "\t metrics\\_valuation\\_rates.env\\_1-auction\\_valuation\\_rates\\_no-telemetry\\_2024-02-02-16-18 & echo-i0-c50-m100-l85-a348-r64-d25194                     \\\\\n",
                            "\t metrics\\_valuation\\_rates.env\\_1-auction\\_valuation\\_rates\\_no-telemetry\\_2024-02-02-16-18 & echo-i0-c50-m100-l13-a463-r603-d40477878                 \\\\\n",
                            "\t metrics\\_valuation\\_rates.env\\_1-auction\\_valuation\\_rates\\_no-telemetry\\_2024-02-02-16-18 & sentimentAnalysis-i0-c100-m256-l65-a176-r2460-d292862    \\\\\n",
                            "\t metrics\\_valuation\\_rates.env\\_1-auction\\_valuation\\_rates\\_no-telemetry\\_2024-02-02-16-18 & audioToText-i2-c300-m512-l23-a546-r296-d35005            \\\\\n",
                            "\t metrics\\_valuation\\_rates.env\\_1-auction\\_valuation\\_rates\\_no-telemetry\\_2024-02-02-16-18 & sentimentAnalysis-i3-c100-m256-l58-a316-r49-d468635      \\\\\n",
                            "\t metrics\\_valuation\\_rates.env\\_1-auction\\_valuation\\_rates\\_no-telemetry\\_2024-02-02-16-18 & echo-i3-c100-m256-l111-a327-r1291-d652086                \\\\\n",
                            "\t metrics\\_valuation\\_rates.env\\_1-auction\\_valuation\\_rates\\_no-telemetry\\_2024-02-02-16-18 & echo-i2-c50-m100-l15-a531-r597-d95351                    \\\\\n",
                            "\t metrics\\_valuation\\_rates.env\\_1-auction\\_valuation\\_rates\\_no-telemetry\\_2024-02-02-16-18 & classif-i3-c500-m512-l27-a587-r327-d480712               \\\\\n",
                            "\t metrics\\_valuation\\_rates.env\\_1-auction\\_valuation\\_rates\\_no-telemetry\\_2024-02-02-16-18 & echo-i2-c100-m256-l23-a546-r296-d35005                   \\\\\n",
                            "\t metrics\\_valuation\\_rates.env\\_1-auction\\_valuation\\_rates\\_no-telemetry\\_2024-02-02-16-18 & classif-i3-c500-m512-l39-a320-r30697-d4566452            \\\\\n",
                            "\t metrics\\_valuation\\_rates.env\\_1-auction\\_valuation\\_rates\\_no-telemetry\\_2024-02-02-16-18 & echo-i1-c50-m100-l85-a419-r293-d10108700                 \\\\\n",
                            "\t metrics\\_valuation\\_rates.env\\_1-auction\\_valuation\\_rates\\_no-telemetry\\_2024-02-02-16-18 & echo-i0-c100-m256-l25-a544-r30-d203546392                \\\\\n",
                            "\t metrics\\_valuation\\_rates.env\\_1-auction\\_valuation\\_rates\\_no-telemetry\\_2024-02-02-16-18 & echo-i2-c100-m256-l23-a393-r24137-d1076759               \\\\\n",
                            "\t metrics\\_valuation\\_rates.env\\_1-auction\\_valuation\\_rates\\_no-telemetry\\_2024-02-02-16-18 & classif-i3-c500-m512-l76-a499-r11-d625651                \\\\\n",
                            "\t metrics\\_valuation\\_rates.env\\_1-auction\\_valuation\\_rates\\_no-telemetry\\_2024-02-02-16-18 & echo-i1-c50-m100-l92-a195-r130-d43498                    \\\\\n",
                            "\t metrics\\_valuation\\_rates.env\\_1-auction\\_valuation\\_rates\\_no-telemetry\\_2024-02-02-16-18 & sentimentAnalysis-i2-c100-m256-l68-a155-r320-d36102527   \\\\\n",
                            "\t metrics\\_valuation\\_rates.env\\_1-auction\\_valuation\\_rates\\_no-telemetry\\_2024-02-02-16-18 & classif-i2-c500-m512-l15-a531-r597-d95351                \\\\\n",
                            "\t metrics\\_valuation\\_rates.env\\_1-auction\\_valuation\\_rates\\_no-telemetry\\_2024-02-02-16-18 & sentimentAnalysis-i0-c100-m256-l86-a256-r2151-d70107     \\\\\n",
                            "\t metrics\\_valuation\\_rates.env\\_1-auction\\_valuation\\_rates\\_no-telemetry\\_2024-02-02-16-18 & classif-i2-c500-m512-l132-a593-r5354-d34386              \\\\\n",
                            "\t metrics\\_valuation\\_rates.env\\_1-auction\\_valuation\\_rates\\_no-telemetry\\_2024-02-02-16-18 & audioToText-i1-c300-m512-l28-a84-r577-d53285             \\\\\n",
                            "\t metrics\\_valuation\\_rates.env\\_1-auction\\_valuation\\_rates\\_no-telemetry\\_2024-02-02-16-18 & sentimentAnalysis-i1-c100-m256-l20-a107-r38420-d157815942\\\\\n",
                            "\t metrics\\_valuation\\_rates.env\\_1-auction\\_valuation\\_rates\\_no-telemetry\\_2024-02-02-16-18 & echo-i0-c100-m256-l85-a350-r34-d5434109                  \\\\\n",
                            "\t metrics\\_valuation\\_rates.env\\_1-auction\\_valuation\\_rates\\_no-telemetry\\_2024-02-02-16-18 & echo-i2-c50-m100-l56-a432-r1834-d1864300                 \\\\\n",
                            "\t metrics\\_valuation\\_rates.env\\_1-auction\\_valuation\\_rates\\_no-telemetry\\_2024-02-02-16-18 & echo-i0-c100-m256-l107-a232-r30-d233898                  \\\\\n",
                            "\t metrics\\_valuation\\_rates.env\\_1-auction\\_valuation\\_rates\\_no-telemetry\\_2024-02-02-16-18 & echo-i3-c100-m256-l28-a169-r1381-d152201                 \\\\\n",
                            "\t metrics\\_valuation\\_rates.env\\_1-auction\\_valuation\\_rates\\_no-telemetry\\_2024-02-02-16-18 & echo-i0-c100-m256-l79-a582-r65664-d57065                 \\\\\n",
                            "\t ... & ...\\\\\n",
                            "\t metrics\\_valuation\\_rates.env\\_1-edge\\_ward\\_valuation\\_rates\\_no-telemetry\\_2024-02-02-16-18 & imagePreProcessing-i0-c100-m256-l1-a66-r8902-d5605480    \\\\\n",
                            "\t metrics\\_valuation\\_rates.env\\_1-edge\\_ward\\_valuation\\_rates\\_no-telemetry\\_2024-02-02-16-18 & echo-i0-c100-m256-l55-a62-r150-d11566337                 \\\\\n",
                            "\t metrics\\_valuation\\_rates.env\\_1-edge\\_ward\\_valuation\\_rates\\_no-telemetry\\_2024-02-02-16-18 & echo-i0-c100-m256-l55-a477-r449-d206263508               \\\\\n",
                            "\t metrics\\_valuation\\_rates.env\\_1-edge\\_ward\\_valuation\\_rates\\_no-telemetry\\_2024-02-02-16-18 & classif-i1-c500-m512-l147-a482-r1696-d1961801            \\\\\n",
                            "\t metrics\\_valuation\\_rates.env\\_1-edge\\_ward\\_valuation\\_rates\\_no-telemetry\\_2024-02-02-16-18 & imagePreProcessing-i0-c100-m256-l85-a348-r64-d25194      \\\\\n",
                            "\t metrics\\_valuation\\_rates.env\\_1-edge\\_ward\\_valuation\\_rates\\_no-telemetry\\_2024-02-02-16-18 & echo-i3-c100-m256-l86-a271-r6775-d5167991                \\\\\n",
                            "\t metrics\\_valuation\\_rates.env\\_1-edge\\_ward\\_valuation\\_rates\\_no-telemetry\\_2024-02-02-16-18 & sentimentAnalysis-i2-c100-m256-l93-a535-r15211-d1376173  \\\\\n",
                            "\t metrics\\_valuation\\_rates.env\\_1-edge\\_ward\\_valuation\\_rates\\_no-telemetry\\_2024-02-02-16-18 & echo-i1-c100-m256-l21-a531-r8636-d4135613                \\\\\n",
                            "\t metrics\\_valuation\\_rates.env\\_1-edge\\_ward\\_valuation\\_rates\\_no-telemetry\\_2024-02-02-16-18 & echo-i3-c100-m256-l107-a62-r14551-d1227300               \\\\\n",
                            "\t metrics\\_valuation\\_rates.env\\_1-edge\\_ward\\_valuation\\_rates\\_no-telemetry\\_2024-02-02-16-18 & echo-i3-c100-m256-l52-a591-r195-d12198                   \\\\\n",
                            "\t metrics\\_valuation\\_rates.env\\_1-edge\\_ward\\_valuation\\_rates\\_no-telemetry\\_2024-02-02-16-18 & sentimentAnalysis-i2-c100-m256-l23-a546-r296-d35005      \\\\\n",
                            "\t metrics\\_valuation\\_rates.env\\_1-edge\\_ward\\_valuation\\_rates\\_no-telemetry\\_2024-02-02-16-18 & imagePreProcessing-i0-c100-m256-l29-a267-r63475-d10850528\\\\\n",
                            "\t metrics\\_valuation\\_rates.env\\_1-edge\\_ward\\_valuation\\_rates\\_no-telemetry\\_2024-02-02-16-18 & audioToText-i3-c300-m512-l70-a488-r791-d193996           \\\\\n",
                            "\t metrics\\_valuation\\_rates.env\\_1-edge\\_ward\\_valuation\\_rates\\_no-telemetry\\_2024-02-02-16-18 & echo-i1-c50-m100-l64-a233-r255-d131891                   \\\\\n",
                            "\t metrics\\_valuation\\_rates.env\\_1-edge\\_ward\\_valuation\\_rates\\_no-telemetry\\_2024-02-02-16-18 & sentimentAnalysis-i1-c100-m256-l72-a363-r121-d32396472   \\\\\n",
                            "\t metrics\\_valuation\\_rates.env\\_1-edge\\_ward\\_valuation\\_rates\\_no-telemetry\\_2024-02-02-16-18 & imagePreProcessing-i1-c100-m256-l60-a37-r2916-d804193    \\\\\n",
                            "\t metrics\\_valuation\\_rates.env\\_1-edge\\_ward\\_valuation\\_rates\\_no-telemetry\\_2024-02-02-16-18 & echo-i2-c100-m256-l43-a96-r20-d2117748                   \\\\\n",
                            "\t metrics\\_valuation\\_rates.env\\_1-edge\\_ward\\_valuation\\_rates\\_no-telemetry\\_2024-02-02-16-18 & sentimentAnalysis-i2-c100-m256-l101-a576-r4428-d76534936 \\\\\n",
                            "\t metrics\\_valuation\\_rates.env\\_1-edge\\_ward\\_valuation\\_rates\\_no-telemetry\\_2024-02-02-16-18 & echo-i1-c100-m256-l39-a596-r17350-d2080026               \\\\\n",
                            "\t metrics\\_valuation\\_rates.env\\_1-edge\\_ward\\_valuation\\_rates\\_no-telemetry\\_2024-02-02-16-18 & sentimentAnalysis-i3-c100-m256-l106-a498-r375-d604564    \\\\\n",
                            "\t metrics\\_valuation\\_rates.env\\_1-edge\\_ward\\_valuation\\_rates\\_no-telemetry\\_2024-02-02-16-18 & sentimentAnalysis-i3-c100-m256-l52-a591-r195-d12198      \\\\\n",
                            "\t metrics\\_valuation\\_rates.env\\_1-edge\\_ward\\_valuation\\_rates\\_no-telemetry\\_2024-02-02-16-18 & sentimentAnalysis-i0-c100-m256-l107-a232-r30-d233898     \\\\\n",
                            "\t metrics\\_valuation\\_rates.env\\_1-edge\\_ward\\_valuation\\_rates\\_no-telemetry\\_2024-02-02-16-18 & echo-i3-c100-m256-l58-a316-r49-d468635                   \\\\\n",
                            "\t metrics\\_valuation\\_rates.env\\_1-edge\\_ward\\_valuation\\_rates\\_no-telemetry\\_2024-02-02-16-18 & classif-i3-c500-m512-l144-a520-r2430-d567326             \\\\\n",
                            "\t metrics\\_valuation\\_rates.env\\_1-edge\\_ward\\_valuation\\_rates\\_no-telemetry\\_2024-02-02-16-18 & echo-i1-c100-m256-l54-a178-r304-d627823                  \\\\\n",
                            "\t metrics\\_valuation\\_rates.env\\_1-edge\\_ward\\_valuation\\_rates\\_no-telemetry\\_2024-02-02-16-18 & classif-i1-c500-m512-l40-a497-r137-d74320                \\\\\n",
                            "\t metrics\\_valuation\\_rates.env\\_1-edge\\_ward\\_valuation\\_rates\\_no-telemetry\\_2024-02-02-16-18 & echo-i0-c100-m256-l86-a256-r2151-d70107                  \\\\\n",
                            "\t metrics\\_valuation\\_rates.env\\_1-edge\\_ward\\_valuation\\_rates\\_no-telemetry\\_2024-02-02-16-18 & sentimentAnalysis-i0-c100-m256-l79-a582-r65664-d57065    \\\\\n",
                            "\t metrics\\_valuation\\_rates.env\\_1-edge\\_ward\\_valuation\\_rates\\_no-telemetry\\_2024-02-02-16-18 & imagePreProcessing-i2-c100-m256-l101-a36-r7-d815133      \\\\\n",
                            "\t metrics\\_valuation\\_rates.env\\_1-edge\\_ward\\_valuation\\_rates\\_no-telemetry\\_2024-02-02-16-18 & echo-i2-c100-m256-l93-a535-r15211-d1376173               \\\\\n",
                            "\\end{tabular}\n"
                        ],
                        "text/markdown": [
                            "\n",
                            "A tibble: 356 x 2\n",
                            "\n",
                            "| folder &lt;chr&gt; | function_name &lt;chr&gt; |\n",
                            "|---|---|\n",
                            "| metrics_valuation_rates.env_1-auction_valuation_rates_no-telemetry_2024-02-02-16-18 | echo-i1-c100-m256-l92-a73-r549-d35273                     |\n",
                            "| metrics_valuation_rates.env_1-auction_valuation_rates_no-telemetry_2024-02-02-16-18 | sentimentAnalysis-i2-c100-m256-l91-a395-r839-d56055881    |\n",
                            "| metrics_valuation_rates.env_1-auction_valuation_rates_no-telemetry_2024-02-02-16-18 | echo-i1-c50-m100-l147-a482-r1696-d1961801                 |\n",
                            "| metrics_valuation_rates.env_1-auction_valuation_rates_no-telemetry_2024-02-02-16-18 | echo-i0-c100-m256-l86-a179-r102-d288987                   |\n",
                            "| metrics_valuation_rates.env_1-auction_valuation_rates_no-telemetry_2024-02-02-16-18 | echo-i0-c50-m100-l85-a348-r64-d25194                      |\n",
                            "| metrics_valuation_rates.env_1-auction_valuation_rates_no-telemetry_2024-02-02-16-18 | echo-i0-c50-m100-l13-a463-r603-d40477878                  |\n",
                            "| metrics_valuation_rates.env_1-auction_valuation_rates_no-telemetry_2024-02-02-16-18 | sentimentAnalysis-i0-c100-m256-l65-a176-r2460-d292862     |\n",
                            "| metrics_valuation_rates.env_1-auction_valuation_rates_no-telemetry_2024-02-02-16-18 | audioToText-i2-c300-m512-l23-a546-r296-d35005             |\n",
                            "| metrics_valuation_rates.env_1-auction_valuation_rates_no-telemetry_2024-02-02-16-18 | sentimentAnalysis-i3-c100-m256-l58-a316-r49-d468635       |\n",
                            "| metrics_valuation_rates.env_1-auction_valuation_rates_no-telemetry_2024-02-02-16-18 | echo-i3-c100-m256-l111-a327-r1291-d652086                 |\n",
                            "| metrics_valuation_rates.env_1-auction_valuation_rates_no-telemetry_2024-02-02-16-18 | echo-i2-c50-m100-l15-a531-r597-d95351                     |\n",
                            "| metrics_valuation_rates.env_1-auction_valuation_rates_no-telemetry_2024-02-02-16-18 | classif-i3-c500-m512-l27-a587-r327-d480712                |\n",
                            "| metrics_valuation_rates.env_1-auction_valuation_rates_no-telemetry_2024-02-02-16-18 | echo-i2-c100-m256-l23-a546-r296-d35005                    |\n",
                            "| metrics_valuation_rates.env_1-auction_valuation_rates_no-telemetry_2024-02-02-16-18 | classif-i3-c500-m512-l39-a320-r30697-d4566452             |\n",
                            "| metrics_valuation_rates.env_1-auction_valuation_rates_no-telemetry_2024-02-02-16-18 | echo-i1-c50-m100-l85-a419-r293-d10108700                  |\n",
                            "| metrics_valuation_rates.env_1-auction_valuation_rates_no-telemetry_2024-02-02-16-18 | echo-i0-c100-m256-l25-a544-r30-d203546392                 |\n",
                            "| metrics_valuation_rates.env_1-auction_valuation_rates_no-telemetry_2024-02-02-16-18 | echo-i2-c100-m256-l23-a393-r24137-d1076759                |\n",
                            "| metrics_valuation_rates.env_1-auction_valuation_rates_no-telemetry_2024-02-02-16-18 | classif-i3-c500-m512-l76-a499-r11-d625651                 |\n",
                            "| metrics_valuation_rates.env_1-auction_valuation_rates_no-telemetry_2024-02-02-16-18 | echo-i1-c50-m100-l92-a195-r130-d43498                     |\n",
                            "| metrics_valuation_rates.env_1-auction_valuation_rates_no-telemetry_2024-02-02-16-18 | sentimentAnalysis-i2-c100-m256-l68-a155-r320-d36102527    |\n",
                            "| metrics_valuation_rates.env_1-auction_valuation_rates_no-telemetry_2024-02-02-16-18 | classif-i2-c500-m512-l15-a531-r597-d95351                 |\n",
                            "| metrics_valuation_rates.env_1-auction_valuation_rates_no-telemetry_2024-02-02-16-18 | sentimentAnalysis-i0-c100-m256-l86-a256-r2151-d70107      |\n",
                            "| metrics_valuation_rates.env_1-auction_valuation_rates_no-telemetry_2024-02-02-16-18 | classif-i2-c500-m512-l132-a593-r5354-d34386               |\n",
                            "| metrics_valuation_rates.env_1-auction_valuation_rates_no-telemetry_2024-02-02-16-18 | audioToText-i1-c300-m512-l28-a84-r577-d53285              |\n",
                            "| metrics_valuation_rates.env_1-auction_valuation_rates_no-telemetry_2024-02-02-16-18 | sentimentAnalysis-i1-c100-m256-l20-a107-r38420-d157815942 |\n",
                            "| metrics_valuation_rates.env_1-auction_valuation_rates_no-telemetry_2024-02-02-16-18 | echo-i0-c100-m256-l85-a350-r34-d5434109                   |\n",
                            "| metrics_valuation_rates.env_1-auction_valuation_rates_no-telemetry_2024-02-02-16-18 | echo-i2-c50-m100-l56-a432-r1834-d1864300                  |\n",
                            "| metrics_valuation_rates.env_1-auction_valuation_rates_no-telemetry_2024-02-02-16-18 | echo-i0-c100-m256-l107-a232-r30-d233898                   |\n",
                            "| metrics_valuation_rates.env_1-auction_valuation_rates_no-telemetry_2024-02-02-16-18 | echo-i3-c100-m256-l28-a169-r1381-d152201                  |\n",
                            "| metrics_valuation_rates.env_1-auction_valuation_rates_no-telemetry_2024-02-02-16-18 | echo-i0-c100-m256-l79-a582-r65664-d57065                  |\n",
                            "| ... | ... |\n",
                            "| metrics_valuation_rates.env_1-edge_ward_valuation_rates_no-telemetry_2024-02-02-16-18 | imagePreProcessing-i0-c100-m256-l1-a66-r8902-d5605480     |\n",
                            "| metrics_valuation_rates.env_1-edge_ward_valuation_rates_no-telemetry_2024-02-02-16-18 | echo-i0-c100-m256-l55-a62-r150-d11566337                  |\n",
                            "| metrics_valuation_rates.env_1-edge_ward_valuation_rates_no-telemetry_2024-02-02-16-18 | echo-i0-c100-m256-l55-a477-r449-d206263508                |\n",
                            "| metrics_valuation_rates.env_1-edge_ward_valuation_rates_no-telemetry_2024-02-02-16-18 | classif-i1-c500-m512-l147-a482-r1696-d1961801             |\n",
                            "| metrics_valuation_rates.env_1-edge_ward_valuation_rates_no-telemetry_2024-02-02-16-18 | imagePreProcessing-i0-c100-m256-l85-a348-r64-d25194       |\n",
                            "| metrics_valuation_rates.env_1-edge_ward_valuation_rates_no-telemetry_2024-02-02-16-18 | echo-i3-c100-m256-l86-a271-r6775-d5167991                 |\n",
                            "| metrics_valuation_rates.env_1-edge_ward_valuation_rates_no-telemetry_2024-02-02-16-18 | sentimentAnalysis-i2-c100-m256-l93-a535-r15211-d1376173   |\n",
                            "| metrics_valuation_rates.env_1-edge_ward_valuation_rates_no-telemetry_2024-02-02-16-18 | echo-i1-c100-m256-l21-a531-r8636-d4135613                 |\n",
                            "| metrics_valuation_rates.env_1-edge_ward_valuation_rates_no-telemetry_2024-02-02-16-18 | echo-i3-c100-m256-l107-a62-r14551-d1227300                |\n",
                            "| metrics_valuation_rates.env_1-edge_ward_valuation_rates_no-telemetry_2024-02-02-16-18 | echo-i3-c100-m256-l52-a591-r195-d12198                    |\n",
                            "| metrics_valuation_rates.env_1-edge_ward_valuation_rates_no-telemetry_2024-02-02-16-18 | sentimentAnalysis-i2-c100-m256-l23-a546-r296-d35005       |\n",
                            "| metrics_valuation_rates.env_1-edge_ward_valuation_rates_no-telemetry_2024-02-02-16-18 | imagePreProcessing-i0-c100-m256-l29-a267-r63475-d10850528 |\n",
                            "| metrics_valuation_rates.env_1-edge_ward_valuation_rates_no-telemetry_2024-02-02-16-18 | audioToText-i3-c300-m512-l70-a488-r791-d193996            |\n",
                            "| metrics_valuation_rates.env_1-edge_ward_valuation_rates_no-telemetry_2024-02-02-16-18 | echo-i1-c50-m100-l64-a233-r255-d131891                    |\n",
                            "| metrics_valuation_rates.env_1-edge_ward_valuation_rates_no-telemetry_2024-02-02-16-18 | sentimentAnalysis-i1-c100-m256-l72-a363-r121-d32396472    |\n",
                            "| metrics_valuation_rates.env_1-edge_ward_valuation_rates_no-telemetry_2024-02-02-16-18 | imagePreProcessing-i1-c100-m256-l60-a37-r2916-d804193     |\n",
                            "| metrics_valuation_rates.env_1-edge_ward_valuation_rates_no-telemetry_2024-02-02-16-18 | echo-i2-c100-m256-l43-a96-r20-d2117748                    |\n",
                            "| metrics_valuation_rates.env_1-edge_ward_valuation_rates_no-telemetry_2024-02-02-16-18 | sentimentAnalysis-i2-c100-m256-l101-a576-r4428-d76534936  |\n",
                            "| metrics_valuation_rates.env_1-edge_ward_valuation_rates_no-telemetry_2024-02-02-16-18 | echo-i1-c100-m256-l39-a596-r17350-d2080026                |\n",
                            "| metrics_valuation_rates.env_1-edge_ward_valuation_rates_no-telemetry_2024-02-02-16-18 | sentimentAnalysis-i3-c100-m256-l106-a498-r375-d604564     |\n",
                            "| metrics_valuation_rates.env_1-edge_ward_valuation_rates_no-telemetry_2024-02-02-16-18 | sentimentAnalysis-i3-c100-m256-l52-a591-r195-d12198       |\n",
                            "| metrics_valuation_rates.env_1-edge_ward_valuation_rates_no-telemetry_2024-02-02-16-18 | sentimentAnalysis-i0-c100-m256-l107-a232-r30-d233898      |\n",
                            "| metrics_valuation_rates.env_1-edge_ward_valuation_rates_no-telemetry_2024-02-02-16-18 | echo-i3-c100-m256-l58-a316-r49-d468635                    |\n",
                            "| metrics_valuation_rates.env_1-edge_ward_valuation_rates_no-telemetry_2024-02-02-16-18 | classif-i3-c500-m512-l144-a520-r2430-d567326              |\n",
                            "| metrics_valuation_rates.env_1-edge_ward_valuation_rates_no-telemetry_2024-02-02-16-18 | echo-i1-c100-m256-l54-a178-r304-d627823                   |\n",
                            "| metrics_valuation_rates.env_1-edge_ward_valuation_rates_no-telemetry_2024-02-02-16-18 | classif-i1-c500-m512-l40-a497-r137-d74320                 |\n",
                            "| metrics_valuation_rates.env_1-edge_ward_valuation_rates_no-telemetry_2024-02-02-16-18 | echo-i0-c100-m256-l86-a256-r2151-d70107                   |\n",
                            "| metrics_valuation_rates.env_1-edge_ward_valuation_rates_no-telemetry_2024-02-02-16-18 | sentimentAnalysis-i0-c100-m256-l79-a582-r65664-d57065     |\n",
                            "| metrics_valuation_rates.env_1-edge_ward_valuation_rates_no-telemetry_2024-02-02-16-18 | imagePreProcessing-i2-c100-m256-l101-a36-r7-d815133       |\n",
                            "| metrics_valuation_rates.env_1-edge_ward_valuation_rates_no-telemetry_2024-02-02-16-18 | echo-i2-c100-m256-l93-a535-r15211-d1376173                |\n",
                            "\n"
                        ],
                        "text/plain": [
                            "    folder                                                                               \n",
                            "1   metrics_valuation_rates.env_1-auction_valuation_rates_no-telemetry_2024-02-02-16-18  \n",
                            "2   metrics_valuation_rates.env_1-auction_valuation_rates_no-telemetry_2024-02-02-16-18  \n",
                            "3   metrics_valuation_rates.env_1-auction_valuation_rates_no-telemetry_2024-02-02-16-18  \n",
                            "4   metrics_valuation_rates.env_1-auction_valuation_rates_no-telemetry_2024-02-02-16-18  \n",
                            "5   metrics_valuation_rates.env_1-auction_valuation_rates_no-telemetry_2024-02-02-16-18  \n",
                            "6   metrics_valuation_rates.env_1-auction_valuation_rates_no-telemetry_2024-02-02-16-18  \n",
                            "7   metrics_valuation_rates.env_1-auction_valuation_rates_no-telemetry_2024-02-02-16-18  \n",
                            "8   metrics_valuation_rates.env_1-auction_valuation_rates_no-telemetry_2024-02-02-16-18  \n",
                            "9   metrics_valuation_rates.env_1-auction_valuation_rates_no-telemetry_2024-02-02-16-18  \n",
                            "10  metrics_valuation_rates.env_1-auction_valuation_rates_no-telemetry_2024-02-02-16-18  \n",
                            "11  metrics_valuation_rates.env_1-auction_valuation_rates_no-telemetry_2024-02-02-16-18  \n",
                            "12  metrics_valuation_rates.env_1-auction_valuation_rates_no-telemetry_2024-02-02-16-18  \n",
                            "13  metrics_valuation_rates.env_1-auction_valuation_rates_no-telemetry_2024-02-02-16-18  \n",
                            "14  metrics_valuation_rates.env_1-auction_valuation_rates_no-telemetry_2024-02-02-16-18  \n",
                            "15  metrics_valuation_rates.env_1-auction_valuation_rates_no-telemetry_2024-02-02-16-18  \n",
                            "16  metrics_valuation_rates.env_1-auction_valuation_rates_no-telemetry_2024-02-02-16-18  \n",
                            "17  metrics_valuation_rates.env_1-auction_valuation_rates_no-telemetry_2024-02-02-16-18  \n",
                            "18  metrics_valuation_rates.env_1-auction_valuation_rates_no-telemetry_2024-02-02-16-18  \n",
                            "19  metrics_valuation_rates.env_1-auction_valuation_rates_no-telemetry_2024-02-02-16-18  \n",
                            "20  metrics_valuation_rates.env_1-auction_valuation_rates_no-telemetry_2024-02-02-16-18  \n",
                            "21  metrics_valuation_rates.env_1-auction_valuation_rates_no-telemetry_2024-02-02-16-18  \n",
                            "22  metrics_valuation_rates.env_1-auction_valuation_rates_no-telemetry_2024-02-02-16-18  \n",
                            "23  metrics_valuation_rates.env_1-auction_valuation_rates_no-telemetry_2024-02-02-16-18  \n",
                            "24  metrics_valuation_rates.env_1-auction_valuation_rates_no-telemetry_2024-02-02-16-18  \n",
                            "25  metrics_valuation_rates.env_1-auction_valuation_rates_no-telemetry_2024-02-02-16-18  \n",
                            "26  metrics_valuation_rates.env_1-auction_valuation_rates_no-telemetry_2024-02-02-16-18  \n",
                            "27  metrics_valuation_rates.env_1-auction_valuation_rates_no-telemetry_2024-02-02-16-18  \n",
                            "28  metrics_valuation_rates.env_1-auction_valuation_rates_no-telemetry_2024-02-02-16-18  \n",
                            "29  metrics_valuation_rates.env_1-auction_valuation_rates_no-telemetry_2024-02-02-16-18  \n",
                            "30  metrics_valuation_rates.env_1-auction_valuation_rates_no-telemetry_2024-02-02-16-18  \n",
                            "... ...                                                                                  \n",
                            "327 metrics_valuation_rates.env_1-edge_ward_valuation_rates_no-telemetry_2024-02-02-16-18\n",
                            "328 metrics_valuation_rates.env_1-edge_ward_valuation_rates_no-telemetry_2024-02-02-16-18\n",
                            "329 metrics_valuation_rates.env_1-edge_ward_valuation_rates_no-telemetry_2024-02-02-16-18\n",
                            "330 metrics_valuation_rates.env_1-edge_ward_valuation_rates_no-telemetry_2024-02-02-16-18\n",
                            "331 metrics_valuation_rates.env_1-edge_ward_valuation_rates_no-telemetry_2024-02-02-16-18\n",
                            "332 metrics_valuation_rates.env_1-edge_ward_valuation_rates_no-telemetry_2024-02-02-16-18\n",
                            "333 metrics_valuation_rates.env_1-edge_ward_valuation_rates_no-telemetry_2024-02-02-16-18\n",
                            "334 metrics_valuation_rates.env_1-edge_ward_valuation_rates_no-telemetry_2024-02-02-16-18\n",
                            "335 metrics_valuation_rates.env_1-edge_ward_valuation_rates_no-telemetry_2024-02-02-16-18\n",
                            "336 metrics_valuation_rates.env_1-edge_ward_valuation_rates_no-telemetry_2024-02-02-16-18\n",
                            "337 metrics_valuation_rates.env_1-edge_ward_valuation_rates_no-telemetry_2024-02-02-16-18\n",
                            "338 metrics_valuation_rates.env_1-edge_ward_valuation_rates_no-telemetry_2024-02-02-16-18\n",
                            "339 metrics_valuation_rates.env_1-edge_ward_valuation_rates_no-telemetry_2024-02-02-16-18\n",
                            "340 metrics_valuation_rates.env_1-edge_ward_valuation_rates_no-telemetry_2024-02-02-16-18\n",
                            "341 metrics_valuation_rates.env_1-edge_ward_valuation_rates_no-telemetry_2024-02-02-16-18\n",
                            "342 metrics_valuation_rates.env_1-edge_ward_valuation_rates_no-telemetry_2024-02-02-16-18\n",
                            "343 metrics_valuation_rates.env_1-edge_ward_valuation_rates_no-telemetry_2024-02-02-16-18\n",
                            "344 metrics_valuation_rates.env_1-edge_ward_valuation_rates_no-telemetry_2024-02-02-16-18\n",
                            "345 metrics_valuation_rates.env_1-edge_ward_valuation_rates_no-telemetry_2024-02-02-16-18\n",
                            "346 metrics_valuation_rates.env_1-edge_ward_valuation_rates_no-telemetry_2024-02-02-16-18\n",
                            "347 metrics_valuation_rates.env_1-edge_ward_valuation_rates_no-telemetry_2024-02-02-16-18\n",
                            "348 metrics_valuation_rates.env_1-edge_ward_valuation_rates_no-telemetry_2024-02-02-16-18\n",
                            "349 metrics_valuation_rates.env_1-edge_ward_valuation_rates_no-telemetry_2024-02-02-16-18\n",
                            "350 metrics_valuation_rates.env_1-edge_ward_valuation_rates_no-telemetry_2024-02-02-16-18\n",
                            "351 metrics_valuation_rates.env_1-edge_ward_valuation_rates_no-telemetry_2024-02-02-16-18\n",
                            "352 metrics_valuation_rates.env_1-edge_ward_valuation_rates_no-telemetry_2024-02-02-16-18\n",
                            "353 metrics_valuation_rates.env_1-edge_ward_valuation_rates_no-telemetry_2024-02-02-16-18\n",
                            "354 metrics_valuation_rates.env_1-edge_ward_valuation_rates_no-telemetry_2024-02-02-16-18\n",
                            "355 metrics_valuation_rates.env_1-edge_ward_valuation_rates_no-telemetry_2024-02-02-16-18\n",
                            "356 metrics_valuation_rates.env_1-edge_ward_valuation_rates_no-telemetry_2024-02-02-16-18\n",
                            "    function_name                                            \n",
                            "1   echo-i1-c100-m256-l92-a73-r549-d35273                    \n",
                            "2   sentimentAnalysis-i2-c100-m256-l91-a395-r839-d56055881   \n",
                            "3   echo-i1-c50-m100-l147-a482-r1696-d1961801                \n",
                            "4   echo-i0-c100-m256-l86-a179-r102-d288987                  \n",
                            "5   echo-i0-c50-m100-l85-a348-r64-d25194                     \n",
                            "6   echo-i0-c50-m100-l13-a463-r603-d40477878                 \n",
                            "7   sentimentAnalysis-i0-c100-m256-l65-a176-r2460-d292862    \n",
                            "8   audioToText-i2-c300-m512-l23-a546-r296-d35005            \n",
                            "9   sentimentAnalysis-i3-c100-m256-l58-a316-r49-d468635      \n",
                            "10  echo-i3-c100-m256-l111-a327-r1291-d652086                \n",
                            "11  echo-i2-c50-m100-l15-a531-r597-d95351                    \n",
                            "12  classif-i3-c500-m512-l27-a587-r327-d480712               \n",
                            "13  echo-i2-c100-m256-l23-a546-r296-d35005                   \n",
                            "14  classif-i3-c500-m512-l39-a320-r30697-d4566452            \n",
                            "15  echo-i1-c50-m100-l85-a419-r293-d10108700                 \n",
                            "16  echo-i0-c100-m256-l25-a544-r30-d203546392                \n",
                            "17  echo-i2-c100-m256-l23-a393-r24137-d1076759               \n",
                            "18  classif-i3-c500-m512-l76-a499-r11-d625651                \n",
                            "19  echo-i1-c50-m100-l92-a195-r130-d43498                    \n",
                            "20  sentimentAnalysis-i2-c100-m256-l68-a155-r320-d36102527   \n",
                            "21  classif-i2-c500-m512-l15-a531-r597-d95351                \n",
                            "22  sentimentAnalysis-i0-c100-m256-l86-a256-r2151-d70107     \n",
                            "23  classif-i2-c500-m512-l132-a593-r5354-d34386              \n",
                            "24  audioToText-i1-c300-m512-l28-a84-r577-d53285             \n",
                            "25  sentimentAnalysis-i1-c100-m256-l20-a107-r38420-d157815942\n",
                            "26  echo-i0-c100-m256-l85-a350-r34-d5434109                  \n",
                            "27  echo-i2-c50-m100-l56-a432-r1834-d1864300                 \n",
                            "28  echo-i0-c100-m256-l107-a232-r30-d233898                  \n",
                            "29  echo-i3-c100-m256-l28-a169-r1381-d152201                 \n",
                            "30  echo-i0-c100-m256-l79-a582-r65664-d57065                 \n",
                            "... ...                                                      \n",
                            "327 imagePreProcessing-i0-c100-m256-l1-a66-r8902-d5605480    \n",
                            "328 echo-i0-c100-m256-l55-a62-r150-d11566337                 \n",
                            "329 echo-i0-c100-m256-l55-a477-r449-d206263508               \n",
                            "330 classif-i1-c500-m512-l147-a482-r1696-d1961801            \n",
                            "331 imagePreProcessing-i0-c100-m256-l85-a348-r64-d25194      \n",
                            "332 echo-i3-c100-m256-l86-a271-r6775-d5167991                \n",
                            "333 sentimentAnalysis-i2-c100-m256-l93-a535-r15211-d1376173  \n",
                            "334 echo-i1-c100-m256-l21-a531-r8636-d4135613                \n",
                            "335 echo-i3-c100-m256-l107-a62-r14551-d1227300               \n",
                            "336 echo-i3-c100-m256-l52-a591-r195-d12198                   \n",
                            "337 sentimentAnalysis-i2-c100-m256-l23-a546-r296-d35005      \n",
                            "338 imagePreProcessing-i0-c100-m256-l29-a267-r63475-d10850528\n",
                            "339 audioToText-i3-c300-m512-l70-a488-r791-d193996           \n",
                            "340 echo-i1-c50-m100-l64-a233-r255-d131891                   \n",
                            "341 sentimentAnalysis-i1-c100-m256-l72-a363-r121-d32396472   \n",
                            "342 imagePreProcessing-i1-c100-m256-l60-a37-r2916-d804193    \n",
                            "343 echo-i2-c100-m256-l43-a96-r20-d2117748                   \n",
                            "344 sentimentAnalysis-i2-c100-m256-l101-a576-r4428-d76534936 \n",
                            "345 echo-i1-c100-m256-l39-a596-r17350-d2080026               \n",
                            "346 sentimentAnalysis-i3-c100-m256-l106-a498-r375-d604564    \n",
                            "347 sentimentAnalysis-i3-c100-m256-l52-a591-r195-d12198      \n",
                            "348 sentimentAnalysis-i0-c100-m256-l107-a232-r30-d233898     \n",
                            "349 echo-i3-c100-m256-l58-a316-r49-d468635                   \n",
                            "350 classif-i3-c500-m512-l144-a520-r2430-d567326             \n",
                            "351 echo-i1-c100-m256-l54-a178-r304-d627823                  \n",
                            "352 classif-i1-c500-m512-l40-a497-r137-d74320                \n",
                            "353 echo-i0-c100-m256-l86-a256-r2151-d70107                  \n",
                            "354 sentimentAnalysis-i0-c100-m256-l79-a582-r65664-d57065    \n",
                            "355 imagePreProcessing-i2-c100-m256-l101-a36-r7-d815133      \n",
                            "356 echo-i2-c100-m256-l93-a535-r15211-d1376173               "
                        ]
                    },
                    "metadata": {},
                    "output_type": "display_data"
                }
            ],
            "source": [
                "raw.deployment_times %>% \n",
                "    select(folder, function_name) %>%\n",
                "    distinct() %>%\n",
                "    anti_join(respected_sla.header.nb %>% select(folder, function_name) %>% distinct())\n",
                "    "
            ]
        },
        {
            "cell_type": "code",
            "execution_count": 112,
            "id": "03f8021d",
            "metadata": {
                "vscode": {
                    "languageId": "r"
                }
            },
            "outputs": [],
            "source": [
                "plots.respected_sla.data <- respected_sla.header.nb %>%\n",
                "    extract_function_name_info() %>%\n",
                "    # left_join(raw.nb_functions.total.full %>% rename(total_func = total)) %>%\n",
                "    # left_join(raw.nb_functions.total.ll %>% rename(total_func_ll = total)) %>%\n",
                "    rowwise() %>%\n",
                "    # mutate(ratio_func_ll = total_func_ll / total_func) %>%\n",
                "    # mutate(satisfied_count = count.acceptable) %>%\n",
                "    mutate(satisfied_count = abs(measured_latency - latency) / latency) %>%\n",
                "    mutate(measured_latency = abs(measured_latency) / latency) %>%\n",
                "    # mutate(ratio_func_ll = sprintf(\"%.1f%% low-latency ƒ\", ratio_func_ll *100))  %>%\n",
                "    correct_names() %>% \n",
                "    mutate(toto = \"toto\")\n",
                "    # mutate(group = sprintf(\"%s\\n%s\\n%s\", latency_type, load_type, ratio_func_ll))\n",
                "    # mutate(group = latency_type)\n"
            ]
        },
        {
            "cell_type": "code",
            "execution_count": 113,
            "id": "ecd4346e",
            "metadata": {
                "vscode": {
                    "languageId": "r"
                }
            },
            "outputs": [],
            "source": [
                "generate_label_df <- function(TUKEY, variable){ \n",
                "     # Extract labels and factor levels from Tukey post-hoc \n",
                "     Tukey.levels <- TUKEY[[variable]][,4]\n",
                "     Tukey.labels <- data.frame(multcompLetters(Tukey.levels)['Letters'])\n",
                "     \n",
                "     #I need to put the labels in the same order as in the boxplot :\n",
                "     Tukey.labels$class_x=rownames(Tukey.labels)\n",
                "     Tukey.labels=Tukey.labels[order(Tukey.labels$class_x) , ]\n",
                "     return(Tukey.labels)\n",
                "     }\n",
                "\n",
                "anova_boxplot <- function(p, df, x, y, facet, mean_cb, outliers = c()){\n",
                "     xvar <- rlang::sym(x)\n",
                "     yvar <- rlang::sym(y)\n",
                "     facetvar <- rlang::sym(facet)\n",
                "\n",
                "     df <- df %>% \n",
                "          rename(value_y = !!y) %>%\n",
                "          rename(class_x = !!x) %>%\n",
                "          rename(var_facet = !!facetvar) %>%\n",
                "          select(class_x, value_y, var_facet)\n",
                "\n",
                "     max_yvalue <- max(df$value_y)\n",
                "     min_yvalue <- min(df$value_y)\n",
                "\n",
                "     min_mean <- df %>%\n",
                "          group_by(var_facet, class_x) %>%\n",
                "          summarise(mean = mean(value_y))\n",
                "     min_mean <- min(min_mean$mean)/2\n",
                "     max_pt <- max(df$value_y)\n",
                "\n",
                "     for (facetk in as.character(unique(df$var_facet))) {   \n",
                "          subdf.raw <- subset(df, var_facet==facetk)\n",
                "          display(print(subdf.raw %>% filter(row_number() %in% outliers)))\n",
                "          subdf <- subdf.raw %>% \n",
                "               select(-var_facet) %>%\n",
                "               filter(!row_number() %in% outliers)\n",
                "\n",
                "          ANOVA=aov(subdf$value_y ~ subdf$class_x)\n",
                "          TUKEY <- TukeyHSD(x=ANOVA, 'subdf$class_x', conf.level=0.95)\n",
                "          \n",
                "          tryCatch(\n",
                "               {\n",
                "                    print(\"Shapiro (p should be ns)\")\n",
                "                    # Extract the residuals\n",
                "                    aov_residuals <- residuals(object = ANOVA)\n",
                "                    # Run Shapiro-Wilk test\n",
                "                    print(shapiro.test(x = aov_residuals))\n",
                "                    print(\"ANOVA\")\n",
                "                    display(summary(ANOVA))\n",
                "                    print(\"TUKEY\")\n",
                "                    print(TUKEY)\n",
                "                    display(plot(ANOVA, 1))\n",
                "                    display(plot(ANOVA, 2))\n",
                "               },\n",
                "               error = function(e){\n",
                "                    message(\"An error occured with the anova pre checks\")\n",
                "                    print(e)\n",
                "               },\n",
                "               warning = function(e){\n",
                "                    message(\"A warning occured with the anova pre checks\")\n",
                "                    print(e)\n",
                "                    return(NA)\n",
                "               }\n",
                "          )\n",
                "\n",
                "          display_labels <- FALSE\n",
                "          final.text <- NULL\n",
                "          final.box <- tryCatch({\n",
                "               labels <- generate_label_df(TUKEY , 'subdf$class_x')\n",
                "               names(labels) <- c('Letters','class_x')\n",
                "               yvalue <- aggregate(.~class_x, data=subdf, quantile, probs=.75)  \n",
                "               display_labels <- summary(ANOVA)[[1]][[\"Pr(>F)\"]][1] <= 0.05\n",
                "               return(subdf.raw %>% inner_join(labels))\n",
                "               },\n",
                "               error = function(e){\n",
                "                    return(subdf.raw)\n",
                "               })\n",
                "\n",
                "          print(final.box)\n",
                "          \n",
                "          if (display_labels){\n",
                "               final.text <- merge(labels, yvalue)\n",
                "               final.text$var_facet <- facetk\n",
                "               final.text <- final.text %>% inner_join(subdf %>% group_by(class_x) %>% summarise(mean = mean(value_y)))\n",
                "               p <- p + \n",
                "                    stat_summary(data = final.box, fun = mean, geom = \"col\", mapping = aes(x=class_x, y=value_y, fill = Letters)) +\n",
                "                    geom_beeswarm(data = final.box, aes(x=class_x, y=value_y, fill=Letters, color = Letters)) +\n",
                "                    geom_boxplot(data = final.box, aes(x=class_x, y=value_y, fill=Letters, color = Letters), outlier.shape = NA) +\n",
                "                    geom_text(data = final.text,  alpha= 1, aes(x=class_x, y=min_mean, label=mean_cb(Letters, mean))) #vjust=-1.5, hjust=-.5\n",
                "\n",
                "          }else{\n",
                "               p <- p + \n",
                "                    stat_summary(data = final.box, fun = mean, geom = \"col\", mapping = aes(x=class_x, y=value_y)) +\n",
                "                    geom_beeswarm(data = final.box, aes(x=class_x, y=value_y)) +\n",
                "                    geom_boxplot(data = final.box, aes(x=class_x, y=value_y), outlier.shape = NA)\n",
                "                    # geom_text(data = final.text,  alpha= 1, aes(x=class_x, y=min_mean, label=mean_cb(\"\\\\dash{}\", mean) )) #vjust=-1.5, hjust=-.5\n",
                "          }\n",
                "\n",
                "          display(head(final.text))\n",
                "\n",
                "          sumup.F <- summary(ANOVA)[[1]][[\"F value\"]][1]\n",
                "          sumup.p <- summary(ANOVA)[[1]][[\"Pr(>F)\"]][1]\n",
                "          sumup.p <- case_when(\n",
                "               sumup.p < 0.001 ~ \"$p<0.001$\",\n",
                "               sumup.p < 0.01 ~ \"$p<0.01$\",\n",
                "               sumup.p < 0.05 ~ \"$p<0.05$\",\n",
                "               # sumup.p < 0.1 ~ \"$p<0.1$\",\n",
                "               TRUE ~ \"$p$ is ns\"\n",
                "               )\n",
                "\n",
                "          if (!is.null(final.text)){\n",
                "               final.text <- final.text %>% filter(class_x == subdf$class_x[[1]]) %>% mutate(y = max_pt)\n",
                "\n",
                "               p <- p + \n",
                "                    # geom_text(data = final.text,  alpha= 1, aes(x=class_x, y=min_yvalue, label=sprintf(\"\\\\footnotesize{$\\\\mu=%.1f%%$}\",mean*100))) +\n",
                "                    # geom_text(data = final.text,  alpha= 1, aes(x=class_x, y=min_yvalue, label=sprintf(\"%.1f%%\",mean*100))) +\n",
                "                    # stat_anova_test(data= final.box, mapping=aes(x=class_x, y=value_y))\n",
                "                    # annotate(data=final.box, geom = \"text\", color=\"black\", x= subdf$class_x[[1]], y = max_mean * 1.01, label=sprintf(\"\\\\footnotesize{Anova $F=%.1f$, %s}\", sumup.F, sumup.p))\n",
                "                    geom_text(data=final.text, aes(x= class_x, y = y * 1.01),hjust = 0, color = \"black\", label=sprintf(\"\\\\footnotesize{Anova $F=%.1f$, %s}\", sumup.F, sumup.p))\n",
                "          }\n",
                "\n",
                "     }\n",
                "\n",
                "     return(p)\n",
                "}\n"
            ]
        },
        {
            "cell_type": "code",
            "execution_count": 114,
            "id": "93f23cac",
            "metadata": {
                "vscode": {
                    "languageId": "r"
                }
            },
            "outputs": [
                {
                    "name": "stderr",
                    "output_type": "stream",
                    "text": [
                        "\u001b[1m\u001b[22m`summarise()` has grouped output by 'folder', 'Placement method'. You can override using the\n",
                        "`.groups` argument.\n",
                        "\u001b[1m\u001b[22m`summarise()` has grouped output by 'var_facet'. You can override using the `.groups` argument.\n"
                    ]
                },
                {
                    "data": {
                        "text/html": [
                            "<table class=\"dataframe\">\n",
                            "<caption>A tibble: 0 x 3</caption>\n",
                            "<thead>\n",
                            "\t<tr><th scope=col>class_x</th><th scope=col>value_y</th><th scope=col>var_facet</th></tr>\n",
                            "\t<tr><th scope=col>&lt;chr&gt;</th><th scope=col>&lt;dbl&gt;</th><th scope=col>&lt;chr&gt;</th></tr>\n",
                            "</thead>\n",
                            "<tbody>\n",
                            "</tbody>\n",
                            "</table>\n"
                        ],
                        "text/latex": [
                            "A tibble: 0 x 3\n",
                            "\\begin{tabular}{lll}\n",
                            " class\\_x & value\\_y & var\\_facet\\\\\n",
                            " <chr> & <dbl> & <chr>\\\\\n",
                            "\\hline\n",
                            "\\end{tabular}\n"
                        ],
                        "text/markdown": [
                            "\n",
                            "A tibble: 0 x 3\n",
                            "\n",
                            "| class_x &lt;chr&gt; | value_y &lt;dbl&gt; | var_facet &lt;chr&gt; |\n",
                            "|---|---|---|\n",
                            "\n"
                        ],
                        "text/plain": [
                            "     class_x value_y var_facet"
                        ]
                    },
                    "metadata": {},
                    "output_type": "display_data"
                },
                {
                    "name": "stdout",
                    "output_type": "stream",
                    "text": [
                        "\u001b[90m# A tibble: 0 × 3\u001b[39m\n",
                        "\u001b[90m# … with 3 variables: class_x <chr>, value_y <dbl>, var_facet <chr>\u001b[39m\n"
                    ]
                },
                {
                    "name": "stderr",
                    "output_type": "stream",
                    "text": [
                        "Warning message in qtukey(conf.level, length(means), x$df.residual):\n",
                        "“NaNs produced”\n"
                    ]
                },
                {
                    "name": "stdout",
                    "output_type": "stream",
                    "text": [
                        "[1] \"Shapiro (p should be ns)\"\n"
                    ]
                },
                {
                    "name": "stderr",
                    "output_type": "stream",
                    "text": [
                        "An error occured with the anova pre checks\n",
                        "\n"
                    ]
                },
                {
                    "data": {
                        "text/plain": [
                            "NULL"
                        ]
                    },
                    "metadata": {},
                    "output_type": "display_data"
                },
                {
                    "name": "stdout",
                    "output_type": "stream",
                    "text": [
                        "<simpleError in shapiro.test(x = aov_residuals): sample size must be between 3 and 5000>\n",
                        "\u001b[90m# A tibble: 2 × 3\u001b[39m\n",
                        "  class_x                                               value_y var_facet\n",
                        "  \u001b[3m\u001b[90m<chr>\u001b[39m\u001b[23m                                                   \u001b[3m\u001b[90m<dbl>\u001b[39m\u001b[23m \u001b[3m\u001b[90m<chr>\u001b[39m\u001b[23m    \n",
                        "\u001b[90m1\u001b[39m \u001b[90m\"\u001b[39m\\\\footnotesize{\\\\mbox{\\\\rmfamily\\\\bfseries GIRAFF}}\u001b[90m\"\u001b[39m       0 toto     \n",
                        "\u001b[90m2\u001b[39m \u001b[90m\"\u001b[39m\\\\footnotesize{Edge\\\\dash{}ward}\u001b[90m\"\u001b[39m                          0 toto     \n"
                    ]
                },
                {
                    "name": "stderr",
                    "output_type": "stream",
                    "text": [
                        "Warning message in compute_panel(...):\n",
                        "“The default behavior of beeswarm has changed in version 0.6.0. In versions <0.6.0, this plot would have been dodged on the y-axis.  In versions >=0.6.0, grouponX=FALSE must be explicitly set to group on y-axis. Please set grouponX=TRUE/FALSE to avoid this warning and ensure proper axis choice.”\n"
                    ]
                },
                {
                    "data": {
                        "image/png": "[encoded data removed]",
                        "text/plain": [
                            "plot without title"
                        ]
                    },
                    "metadata": {
                        "image/png": {
                            "height": 600,
                            "width": 600
                        }
                    },
                    "output_type": "display_data"
                }
            ],
            "source": [
                "df <- plots.respected_sla.data %>%\n",
                "    group_by(folder, `Placement method`, toto) %>%\n",
                "    summarise(satisfied_count = mean(count.acceptable)) %>%\n",
                "    ungroup()\n",
                "\n",
                "p <- ggplot(data=df, aes(alpha=1)) +  \n",
                "    #  facet_grid(~var_facet) +\n",
                "     theme( legend.background = element_rect(fill=alpha(\"white\", .7),\n",
                "                                  size=0.2, color = alpha(\"white\", .7))) +\n",
                "        theme(legend.spacing.y = unit(0, 'cm'),      legend.margin=margin(0,0,0,0),         legend.box.margin=margin(-10,-10,-10,-10),)+\n",
                "        theme(axis.text.x = element_text(angle = 15, vjust = 1, hjust=1)) +\n",
                "    theme(legend.position = \"none\") +\n",
                "    scale_color_viridis(discrete = T) +\n",
                "    scale_fill_viridis(discrete = T) +\n",
                "    scale_y_continuous(labels = scales::percent) +\n",
                "    labs(\n",
                "        x = \"Placement method\",\n",
                "        y = \"Mean satisfaction rate\")\n",
                "\n",
                "fig(10, 10)\n",
                "plots.respected_sla.w <- GRAPH_ONE_COLUMN_WIDTH\n",
                "plots.respected_sla.h <- GRAPH_ONE_COLUMN_HEIGHT\n",
                "plots.respected_sla.caption <- \"Mean satisfaction rate\"\n",
                "mean_cb <- function(Letters, mean){\n",
                "    return(sprintf(\"%s\\n\\\\footnotesize{$\\\\mu=%.1f%%$}\",Letters, mean*100))\n",
                "}\n",
                "plots.respected_sla <- anova_boxplot(p, df, \"Placement method\", \"satisfied_count\", \"toto\", mean_cb, c(11))\n",
                "plots.respected_sla + labs(title = plots.respected_sla.caption)"
            ]
        },
        {
            "cell_type": "code",
            "execution_count": 117,
            "id": "93acc20f",
            "metadata": {
                "vscode": {
                    "languageId": "r"
                }
            },
            "outputs": [
                {
                    "name": "stderr",
                    "output_type": "stream",
                    "text": [
                        "\u001b[1m\u001b[22m`summarise()` has grouped output by 'var_facet'. You can override using the `.groups` argument.\n",
                        "Warning message in qtukey(conf.level, length(means), x$df.residual):\n",
                        "“NaNs produced”\n"
                    ]
                },
                {
                    "name": "stdout",
                    "output_type": "stream",
                    "text": [
                        "[1] \"Shapiro (p should be ns)\"\n"
                    ]
                },
                {
                    "ename": "ERROR",
                    "evalue": "Error in shapiro.test(x = aov_residuals): sample size must be between 3 and 5000\n",
                    "output_type": "error",
                    "traceback": [
                        "Error in shapiro.test(x = aov_residuals): sample size must be between 3 and 5000\nTraceback:\n",
                        "1. print(shapiro.test(x = aov_residuals))",
                        "2. shapiro.test(x = aov_residuals)",
                        "3. stop(\"sample size must be between 3 and 5000\")"
                    ]
                }
            ],
            "source": [
                "df <- plots.nb_deployed.data %>% ungroup()\n",
                "\n",
                "fig(10, 10)\n",
                "\n",
                "plots.nb_deployed.h <- GRAPH_ONE_COLUMN_HEIGHT\n",
                "plots.nb_deployed.w <- GRAPH_ONE_COLUMN_WIDTH\n",
                "plots.nb_deployed.caption = \"Ratio of deployed functions\"\n",
                "# mean_cb <- function(Letters, mean){\n",
                "#     return(sprintf(\"%s\\n\\\\footnotesize{$\\\\mu=%.1f%%$}\",Letters, mean*100))\n",
                "# }\n",
                "# plots.nb_deployed <- anova_boxplot(p, df , \"Placement method\", \"nb_functions\", \"nb_nodes_group\", mean_cb, c(13))\n",
                "# plots.nb_deployed + labs(title = plots.nb_deployed.caption)\n",
                "\n",
                "# generate_label_df2 <- function(TUKEY, variable){\n",
                " \n",
                "#      # Extract labels and factor levels from Tukey post-hoc \n",
                "#      Tukey.levels <- TUKEY[[variable]][,4]\n",
                "#      Tukey.labels <- data.frame(multcompLetters(Tukey.levels)['Letters'])\n",
                "     \n",
                "#      #I need to put the labels in the same order as in the boxplot :\n",
                "#      Tukey.labels$toto=rownames(Tukey.labels)\n",
                "#      Tukey.labels=Tukey.labels[order(Tukey.labels$toto) , ]\n",
                "#      return(Tukey.labels)\n",
                "#      }\n",
                "\n",
                "outliers = c()\n",
                "\n",
                "df <- df %>% \n",
                "    rename(value_y = nb_functions) %>%\n",
                "    rename(class_x = `Placement method`) %>%\n",
                "    rename(var_facet = nb_nodes_group) %>%\n",
                "    select(class_x, value_y, var_facet) %>%\n",
                "    filter(!row_number() %in% outliers) %>%\n",
                "    arrange(as.factor(var_facet))\n",
                "\n",
                "\n",
                "max_yvalue <- max(df$value_y)\n",
                "min_yvalue <- min(df$value_y)\n",
                "\n",
                "min_mean <- df %>%\n",
                "    group_by(var_facet, class_x) %>%\n",
                "    summarise(mean = mean(value_y))\n",
                "min_mean <- min(min_mean$mean)/2\n",
                "max_pt <- max(df$value_y)\n",
                "\n",
                "ANOVA=aov(value_y ~ class_x * var_facet, data = df)\n",
                "TUKEY <- TukeyHSD(x=ANOVA, conf.level=0.95)\n",
                "\n",
                "print(\"Shapiro (p should be ns)\")\n",
                "# Extract the residuals\n",
                "aov_residuals <- residuals(object = ANOVA)\n",
                "# Run Shapiro-Wilk test\n",
                "print(shapiro.test(x = aov_residuals))\n",
                "print(\"ANOVA\")\n",
                "display(summary(ANOVA))\n",
                "print(\"TUKEY\")\n",
                "print(TUKEY)\n",
                "display(plot(ANOVA, 1))\n",
                "display(plot(ANOVA, 2))\n",
                "        \n",
                "labels <- generate_label_df(TUKEY , 'class_x:var_facet')\n",
                "names(labels) <- c('Letters','cat')\n",
                "labels <- labels %>% \n",
                "    rowwise() %>%\n",
                "    mutate(cat = strsplit(cat, \":\")) %>%\n",
                "    mutate(class_x = cat[1]) %>%\n",
                "    mutate(var_facet = cat[2])\n",
                "\n",
                "df <- df %>%\n",
                "    left_join(labels)\n",
                "\n",
                "final.text <- df %>%\n",
                "    group_by(var_facet, class_x, Letters) %>%\n",
                "    summarise(mean = mean(value_y)) %>%\n",
                "    mutate(value_y = min_mean) %>%\n",
                "    arrange(class_x)\n",
                "\n",
                "p <- df %>%\n",
                "    ggplot(aes(x= class_x, y = value_y, alpha=1, fill = Letters)) +  \n",
                "    facet_grid(cols = vars(factor(var_facet, levels = c(\"$19 \\\\le n < 34$\", \"$112 \\\\le n \\\\le 119$\")))) +\n",
                "    # facet_grid(cols = vars(var_facet)) +\n",
                "     labs(\n",
                "        x = \"Placement method\",\n",
                "        y = \"Jain's index\"\n",
                "    ) +\n",
                "   scale_y_continuous(label = scales::percent) +\n",
                "    scale_alpha_continuous(guide = \"none\") +\n",
                "    labs(\n",
                "        x = \"Placement method\",\n",
                "        y = \"% of functions placed\",\n",
                "    ) +\n",
                "    theme( legend.background = element_rect(fill=alpha(\"white\", .7),\n",
                "                                  size=0.2, color = alpha(\"white\", .7))) +\n",
                "    theme(legend.spacing.y = unit(0, 'cm'),      legend.margin=margin(0,0,0,0),         legend.box.margin=margin(-10,-10,-10,-10),)+\n",
                "    theme(axis.text.x = element_text(angle = 15, vjust = 1, hjust=1)) +\n",
                "    guides(colour = guide_legend(nrow = 1)) +\n",
                "    theme(legend.position = \"none\") +\n",
                "    scale_color_viridis(discrete = T) +\n",
                "    scale_fill_viridis(discrete = T) +\n",
                "    stat_summary(fun = mean, geom = \"col\", aes(color=Letters)) +\n",
                "    geom_beeswarm(aes(color = Letters)) +\n",
                "    geom_boxplot(aes(color = Letters), outlier.shape = NA) +\n",
                "    geom_text(data = final.text, alpha= 1, aes(x=class_x, y=min_mean, label=sprintf(\"%s\\n\\\\footnotesize{$\\\\mu=%.1f%%$}\",Letters, mean*100)))\n",
                "\n",
                "\n",
                "sumup.F <- summary(ANOVA)[[1]][[\"F value\"]][1]\n",
                "sumup.p <- summary(ANOVA)[[1]][[\"Pr(>F)\"]][1]\n",
                "sumup.p <- case_when(\n",
                "    sumup.p < 0.001 ~ \"$p<0.001$\",\n",
                "    sumup.p < 0.01 ~ \"$p<0.01$\",\n",
                "    sumup.p < 0.05 ~ \"$p<0.05$\",\n",
                "    TRUE ~ \"$p$ is ns\"\n",
                "    )\n",
                "\n",
                "p <- p +\n",
                "    geom_text(data=final.text[2,] %>% mutate(value_y = max_yvalue), aes(x= class_x, y = value_y), color = \"black\", label=sprintf(\"\\\\footnotesize{Anova $F=%.1f$, %s}\", sumup.F, sumup.p))\n",
                "\n",
                "p"
            ]
        },
        {
            "cell_type": "code",
            "execution_count": null,
            "id": "eb9de127",
            "metadata": {
                "vscode": {
                    "languageId": "r"
                }
            },
            "outputs": [],
            "source": [
                "df <- earnings.jains.plot.data.raw %>% mutate(toto = \"toto\") %>% ungroup()\n",
                "p <- ggplot(data= df, aes(alpha=1)) +\n",
                "     labs(\n",
                "        x = \"Placement method\",\n",
                "        y = \"Jain's index\"\n",
                "    ) +\n",
                "    scale_alpha_continuous(guide = \"none\") +\n",
                "    guides(color = guide_legend(nrow = 1), shape = guide_legend(nrow = 1), size = guide_legend(nrow = 1)) +\n",
                "    theme(legend.background = element_rect(\n",
                "        fill = alpha(\"white\", .7),\n",
                "        size = 0.2, color = \"white\"),\n",
                "        axis.text.x = element_text(angle = 15, vjust = 1, hjust=1)\n",
                "    ) +\n",
                "    theme(legend.position = \"none\") +\n",
                "    # theme(legend.position = \"top\", legend.box = \"vertical\") +\n",
                "    scale_color_viridis(discrete = T) +\n",
                "    scale_fill_viridis(discrete = T)+\n",
                "    theme(legend.spacing.y = unit(0, \"cm\"), legend.margin = margin(0, 0, 0, 0), legend.box.margin = margin(0, -10, -10, -10), )\n",
                "\n",
                "fig(10, 10)\n",
                "plots.jains.w <- GRAPH_ONE_COLUMN_WIDTH\n",
                "plots.jains.h <- GRAPH_ONE_COLUMN_HEIGHT\n",
                "plots.jains.caption <- \"Jain's index at different ratio of low level latencies\"\n",
                "mean_cb <- function(Letters, mean){\n",
                "    return(sprintf(\"%s\\n\\\\footnotesize{$\\\\mu=%.1f$}\",Letters, mean))\n",
                "}\n",
                "plots.jains <- anova_boxplot(p, df , \"Placement method\", \"score\", \"toto\", mean_cb)\n",
                "plots.jains + labs(title = plots.jains.caption)"
            ]
        },
        {
            "cell_type": "code",
            "execution_count": null,
            "id": "17b53172",
            "metadata": {
                "vscode": {
                    "languageId": "r"
                }
            },
            "outputs": [],
            "source": [
                "\n",
                "# plots.respected_sla.w <- GRAPH_TWO_COLUMN_WIDTH\n",
                "# plots.respected_sla.h <- GRAPH_ONE_COLUMN_HEIGHT\n",
                "# plots.respected_sla.caption <- \"Mean of ratio of satisfied responses from functions per ratio of deployed low latency functions\"\n",
                "# fig(plots.respected_sla.w, plots.respected_sla.h)\n",
                "\n",
                "# fig (15, 15)\n",
                "# plots.respected_sla.raw <- plots.respected_sla.data %>% \n",
                "#     # mutate(group = sprintf(\"%s\\n%s\\n%s\", latency_type, load_type, ratio_func_ll)) %>%\n",
                "#     group_by(folder, `Placement method`, group) %>%\n",
                "#     # mutate(satisfied_count = satisfied_count / total) %>%\n",
                "#     # summarise(satisfied_count = mean(satisfied_count / total)) %>%\n",
                "#     summarise(satisfied_count = mean(count.satisfied)) %>%\n",
                "#     # mutate(satisfied_count = alt_satisfied_count / total) %>%\n",
                "#     # summarise(satisfied_count = mean(alt_satisfied_count / total), measured_latency = mean(measured_latency)) %>%\n",
                "#     ggplot(aes(alpha=  1, x = `Placement method`, y = satisfied_count, color = `Placement method`)) +\n",
                "#     facet_grid(cols = vars(group))+\n",
                "#     stat_summary(fun = mean, geom = \"col\", mapping = aes(fill =`Placement method`)) +\n",
                "#     geom_boxplot() +\n",
                "#     geom_beeswarm() +\n",
                "#     # stat_anova_test() +\n",
                "#     # geom_text(data = generate_label_df(tHSD, 'lev'), aes(x = plot.labels, y = V1, label = labels)) +\n",
                "#     # stat_compare_means(comparisons = my_comparisons, label = \"p.signif\") +\n",
                "#     stat_summary(fun = mean, geom = \"text\", mapping = aes(label=sprintf(\"\\\\footnotesize{$\\\\mu=%.1f%%$}\",..y..*100)), position = position_stack(vjust = .5, reverse = T), color = \"black\") +\n",
                "#     scale_alpha_continuous(guide = \"none\") +\n",
                "#     theme(\n",
                "#         axis.text.x = element_text(angle = 90, vjust = 0.5, hjust=1)\n",
                "#     ) +\n",
                "#      theme( legend.background = element_rect(fill=alpha(\"white\", .7),\n",
                "#                                   size=0.2, color = alpha(\"white\", .7))) +\n",
                "#         theme(legend.spacing.y = unit(0, 'cm'),      legend.margin=margin(0,0,0,0),         legend.box.margin=margin(-10,-10,-10,-10),)+\n",
                "#         theme(axis.text.x = element_text(angle = 15, vjust = 1, hjust=1)) +\n",
                "#     theme(legend.position = \"top\") +\n",
                "#     scale_color_viridis(discrete = T) +\n",
                "#     scale_fill_viridis(discrete = T)+\n",
                "#     scale_y_continuous(labels = scales::percent) +\n",
                "#     labs(\n",
                "#         x = \"Placement method\",\n",
                "#         y = \"Mean of mean of responses under $SLA_{max\\\\_latency}$\")\n",
                "\n",
                "# plots.respected_sla.raw + labs(title = plots.respected_sla.caption)"
            ]
        },
        {
            "cell_type": "code",
            "execution_count": null,
            "id": "ccbe68a7",
            "metadata": {
                "vscode": {
                    "languageId": "r"
                }
            },
            "outputs": [],
            "source": [
                "\n",
                "# my_comparisons = combn(unique(plots.respected_sla.data$`Placement method`), 2)\n",
                "# my_comparisons = apply(my_comparisons, 2, list)\n",
                "# my_comparisons <- lapply(my_comparisons, unlist)\n",
                "\n",
                "# fig(15, 15)\n",
                "# plots.respected_sla.data %>% \n",
                "#     group_by(folder, `Placement method`, latency_type, load_type, ratio_func_ll) %>%\n",
                "#     summarise(measured_latency = mean(measured_latency)) %>%\n",
                "#     ggplot(aes(x = `Placement method`, y = measured_latency, color = `Placement method`)) +\n",
                "#     facet_grid(cols = vars(factor(ratio_func_ll)), rows = vars(sprintf(\"%s\\n%s\", latency_type, load_type))) +\n",
                "#     geom_boxplot() +\n",
                "#     # geom_beeswarm() +\n",
                "#     scale_alpha_continuous(guide = \"none\") +\n",
                "#     stat_compare_means(method = \"t.test\",  comparisons = my_comparisons, label = \"p.signif\") +\n",
                "#      theme( legend.background = element_rect(fill=alpha(\"white\", .7),\n",
                "#                                   size=0.2, color = alpha(\"white\", .7))) +\n",
                "#         theme(legend.spacing.y = unit(0, 'cm'),      legend.margin=margin(0,0,0,0),         legend.box.margin=margin(-10,-10,-10,-10),)+\n",
                "#         theme(axis.text.x = element_text(angle = 90, vjust = 0.5, hjust=1)) +\n",
                "#     theme(legend.position = \"top\") +\n",
                "#     scale_color_viridis(discrete = T) +\n",
                "#     scale_fill_viridis(discrete = T)+\n",
                "#     labs(title = \"mean of mean of latencies\")\n"
            ]
        },
        {
            "cell_type": "code",
            "execution_count": null,
            "id": "28e1bfeb",
            "metadata": {
                "vscode": {
                    "languageId": "r"
                }
            },
            "outputs": [],
            "source": [
                "# # colnames(earnings.jain)\n",
                "\n",
                "# center_reduction <- function(data, colvar) {\n",
                "#     colvar <- rlang::sym(colvar)\n",
                "#     data %>%\n",
                "#         inner_join(data %>% summarise(mean = mean(!!colvar), sd = sd(!!colvar))) %>%\n",
                "#         mutate(!!colvar := (!!colvar - mean)/sd) %>%\n",
                "#         select(-c(\"sd\", \"mean\"))\n",
                "# }\n",
                "\n",
                "# colnames(raw.deployment_times)\n",
                "\n",
                "# raw.deployment_times.plot.data <- raw.deployment_times %>%\n",
                "#     inner_join(raw.function_low_latency_load_category) %>%\n",
                "#     mutate(fn_category = sprintf(\"%s %s\", latency_type, load_type)) %>%\n",
                "#     mutate(value = value / 1000)\n",
                "\n",
                "# plots.deployment_times.w = 15\n",
                "# plots.deployment_times.h = 4\n",
                "plots.deployment_times.caption = \"Deployment times per function category\"\n",
                "# fig(plots.deployment_times.w, plots.deployment_times.h)\n",
                "\n",
                "# plots.deployment_times <- raw.deployment_times.plot.data %>% \n",
                "#     correct_names() %>%\n",
                "#     ggplot(aes(alpha=0, x = factor(fn_category), y = value, group = `Placement method`, color = `Placement method`, fill = `Placement method`)) +\n",
                "#     stat_cdfinterval(position = \"dodge\") +\n",
                "#     scale_y_continuous(trans = \"log10\") +\n",
                "#     scale_alpha_continuous(guide = \"none\") +\n",
                "#     labs(subtitle = \"Secondary graph is the CDF\",\n",
                "#     x = \"Function category\",\n",
                "#     y = \"Deployment time (s)\"\n",
                "#     ) +\n",
                "#     theme( legend.background = element_rect(fill=alpha(\"white\", .7),\n",
                "#                                   size=0.2, color = alpha(\"white\", .7))) +\n",
                "#         theme(legend.spacing.y = unit(0, 'cm'),      legend.margin=margin(0,0,0,0),         legend.box.margin=margin(-10,-10,-10,-10),)+\n",
                "#     theme(legend.position = c(.5, .90)) +\n",
                "#     guides(colour = guide_legend(nrow = 1))\n",
                "\n",
                "# plots.deployment_times    "
            ]
        },
        {
            "cell_type": "code",
            "execution_count": null,
            "id": "7491c574",
            "metadata": {
                "vscode": {
                    "languageId": "r"
                }
            },
            "outputs": [],
            "source": [
                "colnames(raw.deployment_times)\n",
                "\n",
                "slice_sample(raw.deployment_times %>% select(instance, everything()), n = 5)"
            ]
        },
        {
            "cell_type": "code",
            "execution_count": null,
            "id": "473c878d",
            "metadata": {
                "vscode": {
                    "languageId": "r"
                }
            },
            "outputs": [],
            "source": [
                "plots.deploymenttimes.w <- GRAPH_ONE_COLUMN_WIDTH\n",
                "plots.deploymenttimes.h <- 5\n",
                "plots.deploymenttimes.caption = \"Time to find a fog node for a function\"\n",
                "fig(plots.deploymenttimes.w, plots.deploymenttimes.h)\n",
                "fig(15, 15)\n",
                "# my_comparisons = combn(unique(plots.respected_sla.data$`Placement method`), 2)\n",
                "# my_comparisons = apply(my_comparisons, 2, list)\n",
                "# my_comparisons <- lapply(my_comparisons, unlist)\n",
                "\n",
                "# plots.deploymenttimes.raw <- raw.deployment_times %>% \n",
                "#     group_by(folder, metric_group, latency_type) %>%\n",
                "#     summarise(value = mean(value)) %>%\n",
                "#     correct_names() %>%\n",
                "#     ggplot(aes(alpha=0, y = value, x = `Placement method`, color = `Placement method`, shape = `Placement method`)) +\n",
                "#     stat_summary(fun = mean, geom = \"col\", mapping = aes(fill =`Placement method`)) +\n",
                "#     geom_boxplot() +\n",
                "#     geom_beeswarm() +\n",
                "#     stat_compare_means(comparisons = my_comparisons, label = \"p.signif\") +\n",
                "#     stat_summary(fun = mean, geom = \"text\", mapping = aes(label=sprintf(\"\\\\footnotesize{$\\\\mu=%.1fs$}\",..y..)), position = position_stack(vjust = .5, reverse = T), color = \"black\") +\n",
                "#     scale_alpha_continuous(guide = \"none\") +\n",
                "#     labs(\n",
                "#     y = \"Mean time to deploy (s)\",\n",
                "#     x = \"Placement method\",\n",
                "#     ) +\n",
                "#        theme( legend.background = element_rect(fill=alpha(\"white\", .7),\n",
                "#                                   size=0.2, color = alpha(\"white\", .7)),\n",
                "#         axis.text.x = element_text(angle = 15, vjust = 1, hjust=1)\n",
                "\n",
                "#                                   ) +\n",
                "#         theme(legend.spacing.y = unit(0, 'cm'),      legend.margin=margin(0,0,0,0),         legend.box.margin=margin(-10,-10,-10,-10),)+\n",
                "#     theme(legend.position = c(.8, .5)) +\n",
                "#     guides(colour = guide_legend(ncol = 1)) +\n",
                "#     scale_color_viridis(discrete = T) +\n",
                "#     scale_fill_viridis(discrete = T)+\n",
                "#     facet_wrap(vars(latency_type))\n",
                "\n",
                "# plots.deploymenttimes.raw + labs(title = plots.deployment_times.caption)"
            ]
        },
        {
            "cell_type": "code",
            "execution_count": null,
            "id": "d817e83c",
            "metadata": {
                "vscode": {
                    "languageId": "r"
                }
            },
            "outputs": [],
            "source": [
                "df <- raw.deployment_times %>% \n",
                "    group_by(folder, metric_group) %>%\n",
                "    summarise(value = mean(value)) %>%\n",
                "    correct_names() %>% \n",
                "    mutate(group = \"sdlkfjh\") %>%\n",
                "    ungroup()\n",
                "\n",
                "p <- ggplot(data= df, aes(alpha=1)) +  \n",
                "    #  facet_grid(~var_facet) +\n",
                "     theme(legend.position=\"none\") +scale_alpha_continuous(guide = \"none\") +\n",
                "    labs(\n",
                "    y = \"Mean time to deploy (s)\",\n",
                "    x = \"Placement method\",\n",
                "    ) +\n",
                "       theme( legend.background = element_rect(fill=alpha(\"white\", .7),\n",
                "                                  size=0.2, color = alpha(\"white\", .7)),\n",
                "        axis.text.x = element_text(angle = 15, vjust = 1, hjust=1)\n",
                "\n",
                "                                  ) +\n",
                "        theme(legend.spacing.y = unit(0, 'cm'),      legend.margin=margin(0,0,0,0),         legend.box.margin=margin(-10,-10,-10,-10),)+\n",
                "    # theme(legend.position = c(.8, .5)) +\n",
                "    guides(colour = guide_legend(ncol = 1)) +\n",
                "    scale_color_viridis(discrete = T) +\n",
                "    scale_fill_viridis(discrete = T)\n",
                "fig(10, 10)\n",
                "plots.deploymenttimes.w <- GRAPH_ONE_COLUMN_WIDTH\n",
                "plots.deploymenttimes.h <- GRAPH_ONE_COLUMN_HEIGHT\n",
                "plots.deploymenttimes.caption = \"Time to find a fog node for a function\"\n",
                "mean_cb <- function(Letters, mean){\n",
                "    return(sprintf(\"%s\\n\\\\footnotesize{$\\\\mu=%.1fs$}\",Letters, mean))\n",
                "}\n",
                "plots.deploymenttimes <- anova_boxplot(p, df , \"Placement method\", \"value\", \"group\", mean_cb, c(4,6,19))\n",
                "plots.deploymenttimes + labs(title = plots.deployment_times.caption)"
            ]
        },
        {
            "cell_type": "code",
            "execution_count": null,
            "id": "0d54943c",
            "metadata": {
                "vscode": {
                    "languageId": "r"
                }
            },
            "outputs": [],
            "source": [
                "# plots.skew.data <- bids_won_function %>% \n",
                "#     extract_function_name_info() %>%\n",
                "#     left_join(raw.nb_functions.total.full %>% rename(total_func = total)) %>%\n",
                "#     left_join(raw.nb_functions.total.ll %>% rename(total_func_ll = total)) %>%\n",
                "#     mutate(ratio_func_ll = total_func_ll / total_func) %>%\n",
                "#     mutate(ratio_func_ll = sprintf(\"%.1f%% ll ƒ\", ratio_func_ll *100)) %>% \n",
                "#     group_by(folder, metric_group, load_type, latency_type) %>%\n",
                "#     summarise(spending = (mean(cost) - median(cost)) / sd(cost)) %>%\n",
                "#     mutate(fn_category = sprintf(\"%s\\n%s\", latency_type, load_type)) %>%\n",
                "#     correct_names()\n",
                "\n",
                "# my_comparisons = combn(unique(plots.skew.data$`Placement method`), 2)\n",
                "# my_comparisons = apply(my_comparisons, 2, list)\n",
                "# my_comparisons <- lapply(my_comparisons, unlist)\n",
                "\n",
                "# plots.skew.caption <- \"Nonparametric skew of a client's spending by function type\"\n",
                "# plots.skew.w <- GRAPH_TWO_COLUMN_WIDTH\n",
                "# plots.skew.h <- GRAPH_ONE_COLUMN_HEIGHT\n",
                "\n",
                "# fig(plots.skew.w, plots.skew.h)\n",
                "\n",
                "# plots.skew <- plots.skew.data %>%\n",
                "#     # summarySE(\"cost\", c(\"metric_group\", \"requests\", \"fn_category\", \"level_value\"), conf.interval = .95) %>%\n",
                "#     # correct_names() %>%\n",
                "#     ggplot(aes(alpha=0, x = `Placement method`, y = spending, shape = `Placement method`, color = `Placement method`, fill = `Placement method`)) +\n",
                "#     # facet_grid(cols = vars(ratio_func_ll), rows= vars(fn_category), scales = \"free\")+\n",
                "#     facet_grid(cols = vars(fn_category))+\n",
                "#     geom_boxplot()+\n",
                "#     geom_beeswarm()+\n",
                "#     stat_compare_means(comparisons = my_comparisons, label = \"p.signif\") +\n",
                "#     # geom_hline(yintercept=1) +\n",
                "#     scale_alpha_continuous(guide = \"none\") +\n",
                "#     labs(\n",
                "#         subtitle = \"A positive skew indicates a tendency of\\nthe spending distribution to be on the high side\",\n",
                "#         y = \"Skew\",\n",
                "#         x = \"Placement method\",\n",
                "#     ) +\n",
                "#     theme( legend.background = element_rect(fill=alpha(\"white\", .7),\n",
                "#                                 size=0.2, color = alpha(\"white\", .7))) +\n",
                "#     theme(legend.spacing.y = unit(0, 'cm'),\n",
                "#         legend.margin=margin(0,0,0,0), \n",
                "#         legend.box.margin=margin(-10,-10,-10,-10),\n",
                "#         axis.text.x = element_text(angle = 15, vjust = 1, hjust=1)\n",
                "#         )+\n",
                "#     # scale_x_discrete(guide = guide_axis(n.dodge = 2)) +\n",
                "#     # theme(legend.position = c(.5, .93)) +\n",
                "#     theme(legend.position = \"top\") +\n",
                "#     scale_color_viridis(discrete = T) +\n",
                "#     scale_fill_viridis(discrete = T)+\n",
                "#     guides(colour = guide_legend(nrow = 1))\n",
                "    \n",
                "\n",
                "# plots.skew + labs(title = plots.skew.caption)"
            ]
        },
        {
            "cell_type": "code",
            "execution_count": null,
            "id": "08adc480",
            "metadata": {
                "vscode": {
                    "languageId": "r"
                }
            },
            "outputs": [],
            "source": [
                "plots.spending.data <- bids_won_function %>% \n",
                "    extract_function_name_info() %>%\n",
                "    # left_join(raw.nb_functions) %>%\n",
                "    # mutate(ratio_func_ll = total_func_ll / total_func) %>%\n",
                "    # mutate(ratio_func_ll = sprintf(\"%.1f%% ll ƒ\", ratio_func_ll *100)) %>% \n",
                "    group_by(folder, metric_group) %>%\n",
                "    summarise(spending = mean(cost)) %>%\n",
                "    # mutate(fn_category = sprintf(\"%s\\n%s\", latency_type, load_type)) %>%\n",
                "    correct_names()\n",
                "\n",
                "# plots.spending.data %>% \n",
                "#     group_by(metric_group) %>% \n",
                "#     summarise(spending = mean(spending))\n",
                "\n",
                "# my_comparisons = combn(unique(plots.spending.data$`Placement method`), 2)\n",
                "# my_comparisons = apply(my_comparisons, 2, list)\n",
                "# my_comparisons <- lapply(my_comparisons, unlist)\n",
                "\n",
                "plots.spending.caption <- \"Mean cost of a function by type\"\n",
                "plots.spending.w <- GRAPH_TWO_COLUMN_WIDTH\n",
                "plots.spending.h <- GRAPH_ONE_COLUMN_HEIGHT\n",
                "\n",
                "# fig(plots.spending.w, plots.spending.h)\n",
                "# fig(15, 15)\n",
                "# plots.spending.raw <- plots.spending.data %>%\n",
                "#     # summarySE(\"cost\", c(\"metric_group\", \"requests\", \"fn_category\", \"level_value\"), conf.interval = .95) %>%\n",
                "#     # correct_names() %>%\n",
                "#     ggplot(aes(alpha=0, x = `Placement method`, y = spending, shape = `Placement method`, color = `Placement method`)) +\n",
                "#     # facet_grid(cols = vars(ratio_func_ll), rows= vars(fn_category), scales = \"free\")+\n",
                "#     facet_grid(cols=vars(fn_category))+\n",
                "#     stat_summary(fun = mean, geom = \"col\", mapping = aes(fill =`Placement method`)) +\n",
                "#     geom_boxplot()+\n",
                "#     geom_beeswarm()+\n",
                "#     stat_compare_means(comparisons = my_comparisons, label = \"p.signif\") +\n",
                "#     stat_summary(fun = mean, geom = \"text\", mapping = aes(label=sprintf(\"\\\\footnotesize{$\\\\mu=%.1f$}\",..y..)), position = position_stack(vjust = .5, reverse = T), color = \"black\") +\n",
                "#     # geom_hline(yintercept=1) +\n",
                "#     scale_alpha_continuous(guide = \"none\") +\n",
                "#     labs(\n",
                "#         y = \"Function cost (\\\\$/millicpu)\",\n",
                "#         x = \"Placement method\",\n",
                "#     ) +\n",
                "#     theme( legend.background = element_rect(fill=alpha(\"white\", .7),\n",
                "#                                 size=0.2, color = alpha(\"white\", .7))) +\n",
                "#     theme(legend.spacing.y = unit(0, 'cm'),\n",
                "#         legend.margin=margin(0,0,0,0), \n",
                "#         legend.box.margin=margin(-10,-10,-10,-10),\n",
                "#         axis.text.x = element_text(angle = 15, vjust = 1, hjust=1)\n",
                "#         )+\n",
                "#     # scale_x_discrete(guide = guide_axis(n.dodge = 2)) +\n",
                "#     # theme(legend.position = c(.5, .93)) +\n",
                "#     theme(legend.position = \"top\") +\n",
                "#     scale_color_viridis(discrete = T) +\n",
                "#     scale_fill_viridis(discrete = T)+\n",
                "#     guides(colour = guide_legend(nrow = 1))\n",
                "    \n",
                "\n",
                "# plots.spending.raw + labs(title = plots.spending.caption)"
            ]
        },
        {
            "cell_type": "code",
            "execution_count": null,
            "id": "fbd776eb",
            "metadata": {
                "vscode": {
                    "languageId": "r"
                }
            },
            "outputs": [],
            "source": [
                "df <- plots.spending.data %>% \n",
                "    mutate(group = \"toto\") %>%\n",
                "    ungroup()\n",
                "\n",
                "p <- ggplot(data= df, aes(alpha=1)) +  \n",
                "    #  facet_grid(~var_facet) +\n",
                "     theme(legend.position=\"none\") +\n",
                "     scale_alpha_continuous(guide = \"none\") +\n",
                "    labs(\n",
                "        y = \"Function cost\",\n",
                "        x = \"Placement method\",\n",
                "    ) +\n",
                "    theme( legend.background = element_rect(fill=alpha(\"white\", .7),\n",
                "                                size=0.2, color = alpha(\"white\", .7))) +\n",
                "    theme(legend.spacing.y = unit(0, 'cm'),\n",
                "        legend.margin=margin(0,0,0,0), \n",
                "        legend.box.margin=margin(-10,-10,-10,-10),\n",
                "        axis.text.x = element_text(angle = 15, vjust = 1, hjust=1)\n",
                "        )+\n",
                "    # scale_x_discrete(guide = guide_axis(n.dodge = 2)) +\n",
                "    # theme(legend.position = c(.5, .93)) +\n",
                "    scale_color_viridis(discrete = T) +\n",
                "    scale_fill_viridis(discrete = T)+\n",
                "    guides(colour = guide_legend(nrow = 1))\n",
                "\n",
                "fig(10, 10)\n",
                "mean_cb <- function(Letters, mean){\n",
                "    return(sprintf(\"%s\\n\\\\footnotesize{$\\\\mu=%.1f$}\",Letters, mean))\n",
                "}\n",
                "plots.spending <- anova_boxplot(p, df , \"Placement method\", \"spending\", \"group\", mean_cb)\n",
                "plots.spending + labs(title = plots.spending.caption)"
            ]
        },
        {
            "cell_type": "code",
            "execution_count": null,
            "id": "8d43a9c8",
            "metadata": {
                "vscode": {
                    "languageId": "r"
                }
            },
            "outputs": [],
            "source": [
                "# plots.nb_functions.data <- load_csv(\"provisioned_functions.csv\") %>%\n",
                "#     prepare() %>%\n",
                "#     extract_function_name_info() %>%\n",
                "#     group_by(folder, latency_type, load_type) %>%\n",
                "#     summarise(provisioned = sum(value)) %>%\n",
                "#     inner_join(raw.nb_functions.total %>% rename(target = total)) %>%\n",
                "#     inner_join(raw.function_low_latency_load_category) %>%\n",
                "#     mutate(ratio_deployed = provisioned / target) %>%\n",
                "#     mutate(fn_category = sprintf(\"%s %s\", latency_type, load_type)) \n",
                "plots.nb_functions.data <- raw.nb_functions %>%\n",
                "    rowwise() %>%\n",
                "    rename(ratio_deployed = nb_functions)"
            ]
        },
        {
            "cell_type": "code",
            "execution_count": null,
            "id": "0efb7bb1",
            "metadata": {
                "vscode": {
                    "languageId": "r"
                }
            },
            "outputs": [],
            "source": [
                "slice_sample(plots.nb_functions.data %>% ungroup(), n= 5)"
            ]
        },
        {
            "cell_type": "code",
            "execution_count": null,
            "id": "ae62a6fa",
            "metadata": {
                "vscode": {
                    "languageId": "r"
                }
            },
            "outputs": [],
            "source": [
                "# fig(7, 7)\n",
                "# colnames(node_levels)\n",
                "# plots.nb_functions.line.data <- load_csv(\"provisioned_functions.csv\") %>%\n",
                "#     prepare() %>%\n",
                "#     extract_function_name_info() %>%\n",
                "#     inner_join(bids_won_function) %>%\n",
                "#     group_by(folder, latency_type, load_type, winner) %>%\n",
                "#     summarise(provisioned = sum(value)) %>%\n",
                "#     inner_join(raw.nb_functions.total %>% rename(target = total))  %>%\n",
                "#     inner_join(raw.function_low_latency_load_category) %>%\n",
                "#     left_join(node_levels %>% rename(winner = name)) %>%\n",
                "#     mutate(ratio_deployed = provisioned / target) %>%\n",
                "#     mutate(fn_category = sprintf(\"%s %s\", latency_type, load_type)) %>%\n",
                "#     summarySE(\"ratio_deployed\", c(\"metric_group\", \"fn_category\", \"level_value\"))"
            ]
        },
        {
            "cell_type": "code",
            "execution_count": null,
            "id": "b52dc234",
            "metadata": {
                "vscode": {
                    "languageId": "r"
                }
            },
            "outputs": [],
            "source": [
                "# plots.nb_functions.data = load_csv(\"provisioned_functions.csv\") %>%\n",
                "#     prepare() %>%\n",
                "#     extract_function_name_info() %>%\n",
                "#     inner_join(bids_won_function) %>%\n",
                "#     group_by(folder, latency_type, load_type, winner) %>%\n",
                "#     summarise(provisioned = sum(value)) %>%\n",
                "#     inner_join(raw.nb_functions.total %>% rename(target = total))  %>%\n",
                "#     inner_join(raw.function_low_latency_load_category) %>%\n",
                "#     left_join(node_levels %>% rename(winner = name)) %>%\n",
                "#     mutate(ratio_deployed = provisioned / target) %>%\n",
                "#     mutate(fn_category = sprintf(\"%s\\n%s\", latency_type, load_type))"
            ]
        },
        {
            "cell_type": "code",
            "execution_count": null,
            "id": "ae5408f8",
            "metadata": {
                "vscode": {
                    "languageId": "r"
                }
            },
            "outputs": [],
            "source": [
                "# colnames(plots.nb_functions.data)\n",
                "\n",
                "# plots.nb_functions.data.processed = plots.nb_functions.data %>%\n",
                "#     group_by(folder, metric_group, level_value, target) %>%\n",
                "#     summarise(provisioned = sum(provisioned)) %>%\n",
                "#     mutate(ratio_deployed = provisioned / target)\n",
                "\n",
                "# slice_sample(plots.nb_functions.data.processed %>% ungroup(), n = 5)"
            ]
        },
        {
            "cell_type": "code",
            "execution_count": null,
            "id": "7aeb7ddd-10c4-495d-b2f1-9963ca2fdf77",
            "metadata": {
                "tags": [],
                "vscode": {
                    "languageId": "r"
                }
            },
            "outputs": [],
            "source": [
                "escape_latex_special_chars <- function(text) {\n",
                "  # Define special characters to escape\n",
                "  special_chars <- c(\"%\", \"&\", \"#\", \"_\", \"\\\\$\", \"\\\\{\", \"\\\\}\", \"\\\\^\", \"\\\\~\")\n",
                "\n",
                "  # Escape each special character with a backslash\n",
                "  for (char in special_chars) {\n",
                "    text <- gsub(char, paste0(\"\\\\\", substring(char, nchar(char), nchar(char))), text, fixed = TRUE)\n",
                "  }\n",
                "\n",
                "  return(text)\n",
                "}\n",
                "\n",
                "\n",
                "tibble_to_latex_tabular <- function(data, file) {\n",
                "  cat(\"\\\\begin{tabular}{\", paste0(rep(\"c\", ncol(data)), collapse = \" \"), \"}\\n\", file = file)\n",
                "  cat(\"\\\\hline\\n\", file = file, append = TRUE)\n",
                "\n",
                "  # Print column names with escaped special characters\n",
                "  cat(paste0(escape_latex_special_chars(colnames(data)), collapse = \" & \"), \" \\\\\\\\\\n\", file = file, append = TRUE)\n",
                "  cat(\"\\\\hline\\n\", file = file, append = TRUE)\n",
                "\n",
                "  # Print rows with escaped special characters\n",
                "  for (i in 1:nrow(data)) {\n",
                "    cat(paste0(escape_latex_special_chars(as.character(data[i, ])), collapse = \" & \"), \" \\\\\\\\\\n\", file = file, append = TRUE)\n",
                "  }\n",
                "\n",
                "  cat(\"\\\\hline\\n\", file = file, append = TRUE)\n",
                "  cat(\"\\\\end{tabular}\", file = file, append = TRUE)\n",
                "}\n"
            ]
        },
        {
            "cell_type": "code",
            "execution_count": null,
            "id": "1ce437c5-d292-4f29-a192-498d8c4dc94d",
            "metadata": {
                "tags": [],
                "vscode": {
                    "languageId": "r"
                }
            },
            "outputs": [],
            "source": [
                "if (length(find.package(\"tikzDevice\", quiet = TRUE))) {\n",
                "    library(tikzDevice)\n",
                "    options(tikzDefaultEngine = \"xetex\")\n",
                "    options(\n",
                "        tikzSanitizeCharacters = c(\"%\", \"&\", \"#\", \"\\\\$\", \"\\\\{\", \"\\\\}\", \"\\\\^\", \"\\\\~\", \"ƒ\"),\n",
                "        tikzReplacementCharacters = c(\"\\\\%\", \"\\\\&\", \"\\\\#\", \"\\\\\\\\$\", \"\\\\\\\\{\", \"\\\\\\\\}\", \"\\\\\\\\^\", \"\\\\\\\\~\", \"$f$\")\n",
                "    )\n",
                "    options(tikzXelatexPackages = c(\n",
                "        \"\\\\usepackage{tikz}\\n\",\n",
                "        \"\\\\usepackage[active,tightpage,xetex]{preview}\\n\",\n",
                "        \"\\\\usepackage{fontspec,xunicode}\\n\",\n",
                "        \"\\\\PreviewEnvironment{pgfpicture}\\n\",\n",
                "        \"\\\\setlength\\\\PreviewBorder{0pt}\\n\",\n",
                "        \"\\\\newcommand{\\\\dash}{-}\\n\"\n",
                "    ))\n",
                "    options(\n",
                "        tikzMetricPackages = c(\n",
                "        \"\\\\usepackage[T1]{fontenc}\\n\",\n",
                "        \"\\\\usetikzlibrary{calc}\\n\"\n",
                "        ),\n",
                "        tikzUnicodeMetricPackages = c(\n",
                "        \"\\\\usepackage[T1]{fontenc}\\n\",\n",
                "        \"\\\\usetikzlibrary{calc}\\n\",\n",
                "        \"\\\\usepackage{fontspec,xunicode}\\n\"\n",
                "        )\n",
                "        )\n",
                "    # options(tikzMetricPackages = c(\"\\\\usepackage{preview}\", \"\\\\usepackage{pgf}\", \"\\\\usepackage{xcolor}\"))\n",
                "\n",
                "    tikzDevice::tikzTest()\n",
                "\n",
                "    column_width = 7\n",
                "\n",
                "    export_graph <- function(name, plot, width, height, caption) {\n",
                "        tikzDevice::tikz(name, width = width, height = height, standAlone = FALSE, sanitize = TRUE) # , standAlone = TRUE)\n",
                "        print(plot)\n",
                "        dev.off()\n",
                "\n",
                "        # read the existing content of the file\n",
                "        existing_content <- readLines(name)\n",
                "\n",
                "        tex_width = 1\n",
                "        if (width > GRAPH_ONE_COLUMN_WIDTH) {\n",
                "           tex_width = 2\n",
                "        }\n",
                "\n",
                "        new_content <- c( \n",
                "            sprintf(\"\\\\newcommand{\\\\dash}{-}\\n\\\\resizebox{%s\\\\columnwidth}{!}{\", tex_width),\n",
                "            existing_content,\n",
                "            \"}\",\n",
                "            sprintf(\"\\\\caption{%s}\", caption)\n",
                "            )\n",
                "\n",
                "        # write the new content to the file\n",
                "        writeLines(new_content, name)\n",
                "\n",
                "        fig(width, height)\n",
                "        print(plot + labs (title = caption))\n",
                "\n",
                "    }\n",
                "\n",
                "\n",
                "    # tikzDevice::tikz(\"./nodes.tex\", width = 15, height = 5, standAlone = FALSE, sanitize = TRUE) # , standAlone = TRUE)\n",
                "    # plot(net_connected, layout = coords, asp = 0.22, margin = -0, edge.label = E(net_connected)$weight, edge.width = 1, vertex.size = 5, vertex.label.cex = 1, vertex.dist = 20, edge.arrow.size = 0.5, edge.label.cex = 0.8, edge.label.dist = 1.5)\n",
                "    # dev.off()\n",
                "\n",
                "    export_graph(\"./jain.tex\", plots.jains, plots.jains.w, plots.jains.h, plots.jains.caption)\n",
                "    export_graph(\"./nb_deployed.tex\", plots.nb_deployed, plots.nb_deployed.w, plots.nb_deployed.h, plots.nb_deployed.caption)\n",
                "    export_graph(\"./respected_sla.tex\", plots.respected_sla, plots.respected_sla.w, plots.respected_sla.h, plots.respected_sla.caption)\n",
                "    # export_graph(\"./skew.tex\", plots.skew, plots.skew.w, plots.skew.h, plots.skew.caption)\n",
                "    export_graph(\"./spending.tex\", plots.spending, plots.spending.w, plots.spending.h, plots.spending.caption)\n",
                "    export_graph(\"./deploymenttimes.tex\", plots.deploymenttimes, plots.deploymenttimes.w, plots.deploymenttimes.h, plots.deploymenttimes.caption)\n",
                "\n",
                "    # output_file <- \"nb_experiences_per_categories.tex\"\n",
                "    # tibble_to_latex_tabular(nb_experiences_per_categories, output_file)\n",
                "}\n",
                "\n"
            ]
        }
    ],
    "metadata": {
        "jupytext": {
            "cell_metadata_filter": "-all",
            "main_language": "R",
            "notebook_metadata_filter": "-all"
        },
        "kernelspec": {
            "display_name": "giraff",
            "language": "r",
            "name": "giraff"
        },
        "language_info": {
            "codemirror_mode": "r",
            "file_extension": ".r",
            "mimetype": "text/x-r-source",
            "name": "R",
            "pygments_lexer": "r",
            "version": "4.2.2"
        }
    },
    "nbformat": 4,
    "nbformat_minor": 5
}
