{
    "cells": [
        {
            "cell_type": "code",
            "execution_count": 1,
            "id": "ec73b25d",
            "metadata": {
                "tags": [],
                "vscode": {
                    "languageId": "r"
                }
            },
            "outputs": [
                {
                    "name": "stderr",
                    "output_type": "stream",
                    "text": [
                        "Loading required package: carData\n",
                        "\n",
                        "\n",
                        "Attaching package: ‘dplyr’\n",
                        "\n",
                        "\n",
                        "The following object is masked from ‘package:car’:\n",
                        "\n",
                        "    recode\n",
                        "\n",
                        "\n",
                        "The following objects are masked from ‘package:stats’:\n",
                        "\n",
                        "    filter, lag\n",
                        "\n",
                        "\n",
                        "The following objects are masked from ‘package:base’:\n",
                        "\n",
                        "    intersect, setdiff, setequal, union\n",
                        "\n",
                        "\n",
                        "── \u001b[1mAttaching packages\u001b[22m ──────────────────────────────────────────────────────────────── tidyverse 1.3.2 ──\n",
                        "\u001b[32m✔\u001b[39m \u001b[34mggplot2\u001b[39m 3.4.0     \u001b[32m✔\u001b[39m \u001b[34mpurrr  \u001b[39m 0.3.5\n",
                        "\u001b[32m✔\u001b[39m \u001b[34mtibble \u001b[39m 3.1.8     \u001b[32m✔\u001b[39m \u001b[34mstringr\u001b[39m 1.5.0\n",
                        "\u001b[32m✔\u001b[39m \u001b[34mtidyr  \u001b[39m 1.2.1     \u001b[32m✔\u001b[39m \u001b[34mforcats\u001b[39m 0.5.2\n",
                        "\u001b[32m✔\u001b[39m \u001b[34mreadr  \u001b[39m 2.1.3     \n",
                        "── \u001b[1mConflicts\u001b[22m ─────────────────────────────────────────────────────────────────── tidyverse_conflicts() ──\n",
                        "\u001b[31m✖\u001b[39m \u001b[34mdplyr\u001b[39m::\u001b[32mfilter()\u001b[39m masks \u001b[34mstats\u001b[39m::filter()\n",
                        "\u001b[31m✖\u001b[39m \u001b[34mdplyr\u001b[39m::\u001b[32mlag()\u001b[39m    masks \u001b[34mstats\u001b[39m::lag()\n",
                        "\u001b[31m✖\u001b[39m \u001b[34mdplyr\u001b[39m::\u001b[32mrecode()\u001b[39m masks \u001b[34mcar\u001b[39m::recode()\n",
                        "\u001b[31m✖\u001b[39m \u001b[34mpurrr\u001b[39m::\u001b[32msome()\u001b[39m   masks \u001b[34mcar\u001b[39m::some()\n",
                        "\n",
                        "Attaching package: ‘igraph’\n",
                        "\n",
                        "\n",
                        "The following objects are masked from ‘package:purrr’:\n",
                        "\n",
                        "    compose, simplify\n",
                        "\n",
                        "\n",
                        "The following object is masked from ‘package:tidyr’:\n",
                        "\n",
                        "    crossing\n",
                        "\n",
                        "\n",
                        "The following object is masked from ‘package:tibble’:\n",
                        "\n",
                        "    as_data_frame\n",
                        "\n",
                        "\n",
                        "The following objects are masked from ‘package:dplyr’:\n",
                        "\n",
                        "    as_data_frame, groups, union\n",
                        "\n",
                        "\n",
                        "The following objects are masked from ‘package:stats’:\n",
                        "\n",
                        "    decompose, spectrum\n",
                        "\n",
                        "\n",
                        "The following object is masked from ‘package:base’:\n",
                        "\n",
                        "    union\n",
                        "\n",
                        "\n",
                        "\n",
                        "Attaching package: ‘formattable’\n",
                        "\n",
                        "\n",
                        "The following object is masked from ‘package:igraph’:\n",
                        "\n",
                        "    normalize\n",
                        "\n",
                        "\n",
                        "Loading required package: viridisLite\n",
                        "\n",
                        "\n",
                        "Attaching package: ‘scales’\n",
                        "\n",
                        "\n",
                        "The following object is masked from ‘package:viridis’:\n",
                        "\n",
                        "    viridis_pal\n",
                        "\n",
                        "\n",
                        "The following objects are masked from ‘package:formattable’:\n",
                        "\n",
                        "    comma, percent, scientific\n",
                        "\n",
                        "\n",
                        "The following object is masked from ‘package:purrr’:\n",
                        "\n",
                        "    discard\n",
                        "\n",
                        "\n",
                        "The following object is masked from ‘package:readr’:\n",
                        "\n",
                        "    col_factor\n",
                        "\n",
                        "\n",
                        "\n",
                        "Attaching package: ‘zoo’\n",
                        "\n",
                        "\n",
                        "The following objects are masked from ‘package:base’:\n",
                        "\n",
                        "    as.Date, as.Date.numeric\n",
                        "\n",
                        "\n",
                        "\u001b[90mggbreak v0.1.1\n",
                        "\n",
                        "If you use ggbreak in published research, please cite the following\n",
                        "paper:\n",
                        "\n",
                        "S Xu, M Chen, T Feng, L Zhan, L Zhou, G Yu. Use ggbreak to effectively\n",
                        "utilize plotting space to deal with large datasets and outliers.\n",
                        "Frontiers in Genetics. 2021, 12:774846. doi: 10.3389/fgene.2021.774846\n",
                        "\u001b[39m\n",
                        "\n",
                        "\n",
                        "Attaching package: ‘lemon’\n",
                        "\n",
                        "\n",
                        "The following object is masked from ‘package:purrr’:\n",
                        "\n",
                        "    %||%\n",
                        "\n",
                        "\n",
                        "\n",
                        "Attaching package: ‘ggh4x’\n",
                        "\n",
                        "\n",
                        "The following objects are masked from ‘package:lemon’:\n",
                        "\n",
                        "    GeomPointPath, geom_pointpath\n",
                        "\n",
                        "\n",
                        "\n",
                        "Attaching package: ‘tibbletime’\n",
                        "\n",
                        "\n",
                        "The following object is masked from ‘package:stats’:\n",
                        "\n",
                        "    filter\n",
                        "\n",
                        "\n",
                        "\n",
                        "Attaching package: ‘foreach’\n",
                        "\n",
                        "\n",
                        "The following objects are masked from ‘package:purrr’:\n",
                        "\n",
                        "    accumulate, when\n",
                        "\n",
                        "\n",
                        "Loading required package: iterators\n",
                        "\n",
                        "Loading required package: parallel\n",
                        "\n",
                        "Registered S3 method overwritten by 'ggside':\n",
                        "  method from   \n",
                        "  +.gg   ggplot2\n",
                        "\n",
                        "\n",
                        "Attaching package: ‘ggpubr’\n",
                        "\n",
                        "\n",
                        "The following object is masked from ‘package:cowplot’:\n",
                        "\n",
                        "    get_legend\n",
                        "\n",
                        "\n",
                        "Loading required package: lattice\n",
                        "\n",
                        "Loading required package: survival\n",
                        "\n",
                        "Loading required package: Formula\n",
                        "\n",
                        "\n",
                        "Attaching package: ‘Hmisc’\n",
                        "\n",
                        "\n",
                        "The following objects are masked from ‘package:dplyr’:\n",
                        "\n",
                        "    src, summarize\n",
                        "\n",
                        "\n",
                        "The following objects are masked from ‘package:base’:\n",
                        "\n",
                        "    format.pval, units\n",
                        "\n",
                        "\n",
                        "\n",
                        "Attaching package: ‘rstatix’\n",
                        "\n",
                        "\n",
                        "The following object is masked from ‘package:stats’:\n",
                        "\n",
                        "    filter\n",
                        "\n",
                        "\n",
                        "\n",
                        "‘network’ 1.18.0 (2022-10-05), part of the Statnet Project\n",
                        "* ‘news(package=\"network\")’ for changes since last version\n",
                        "* ‘citation(\"network\")’ for citation information\n",
                        "* ‘https://statnet.org’ for help, support, and other information\n",
                        "\n",
                        "\n",
                        "\n",
                        "Attaching package: ‘network’\n",
                        "\n",
                        "\n",
                        "The following object is masked from ‘package:Hmisc’:\n",
                        "\n",
                        "    is.discrete\n",
                        "\n",
                        "\n",
                        "The following objects are masked from ‘package:igraph’:\n",
                        "\n",
                        "    %c%, %s%, add.edges, add.vertices, delete.edges, delete.vertices,\n",
                        "    get.edge.attribute, get.edges, get.vertex.attribute, is.bipartite,\n",
                        "    is.directed, list.edge.attributes, list.vertex.attributes,\n",
                        "    set.edge.attribute, set.vertex.attribute\n",
                        "\n",
                        "\n",
                        "Loading required package: future\n",
                        "\n",
                        "\n",
                        "Attaching package: ‘future’\n",
                        "\n",
                        "\n",
                        "The following object is masked from ‘package:survival’:\n",
                        "\n",
                        "    cluster\n",
                        "\n",
                        "\n",
                        "The following objects are masked from ‘package:igraph’:\n",
                        "\n",
                        "    %->%, %<-%\n",
                        "\n",
                        "\n"
                    ]
                }
            ],
            "source": [
                "# packages_to_have <- c('cowplot', 'reticulate', 'tidyverse', 'igraph', 'r2r', 'formattable', 'stringr', 'viridis', 'geomtextpath')\n",
                "\n",
                "# dir.create(Sys.getenv(\"R_LIBS_USER\"), recursive = TRUE)  # create personal library\n",
                "# .libPaths(Sys.getenv(\"R_LIBS_USER\"))  # add to the path\n",
                "\n",
                "# packages = installed.packages()\n",
                "# packages = packages[, \"Package\"]\n",
                "\n",
                "# if (FALSE %in% (packages_to_have %in% packages)){\n",
                "#     install.packages(packages_to_have)\n",
                "# }\n",
                "Sys.setenv(VROOM_TEMP_PATH = './vroom')\n",
                "system(\"mkdir -p ./vroom\")\n",
                "system(\"rm ./vroom/*\")\n",
                "\n",
                "# To call python from R\n",
                "library(IRdisplay)\n",
                "library(car)\n",
                "\n",
                "library(archive)\n",
                "library(dplyr)\n",
                "library(reticulate)\n",
                "library(tidyverse)\n",
                "library(igraph)\n",
                "library(r2r)\n",
                "library(formattable)\n",
                "library(stringr)\n",
                "library(viridis)\n",
                "library(geomtextpath)\n",
                "library(cowplot)\n",
                "library(scales)\n",
                "library(vroom)\n",
                "library(zoo)\n",
                "library(ggdist)\n",
                "library(gghighlight)\n",
                "library(ggrepel)\n",
                "library(ggbreak)\n",
                "library(grid)\n",
                "library(lemon)\n",
                "library(ggprism)\n",
                "library(ggh4x)\n",
                "library(ggExtra)\n",
                "library(tibbletime)\n",
                "library(snakecase)\n",
                "library(foreach)\n",
                "library(doParallel)\n",
                "library(ggside)\n",
                "library(ggbeeswarm)\n",
                "library(multidplyr)\n",
                "library(ggpubr)\n",
                "library(Hmisc)\n",
                "library(rstatix)\n",
                "library(multcompView)\n",
                "# library(gifski)\n",
                "library(gganimate)\n",
                "\n",
                "library(intergraph)\n",
                "library(network)\n",
                "library(ggnetwork)\n",
                "\n",
                "library(purrr)\n",
                "library(future.apply)\n",
                "future::plan(\"multicore\", workers = 20L)\n",
                "\n",
                "theme_set(theme_prism())\n"
            ]
        },
        {
            "cell_type": "code",
            "execution_count": 2,
            "id": "a838dc8f",
            "metadata": {
                "vscode": {
                    "languageId": "r"
                }
            },
            "outputs": [],
            "source": [
                "fig <- function(width, heigth) {\n",
                "  options(repr.plot.width = width, repr.plot.height = heigth)\n",
                "}\n",
                "\n",
                "center_reduction <- function(data, colvar) {\n",
                "    colvar <- rlang::sym(colvar)\n",
                "    data %>%\n",
                "        inner_join(data %>% summarise(mean = mean(!!colvar), sd = sd(!!colvar))) %>%\n",
                "        mutate(!!colvar := (!!colvar - mean)/sd) %>%\n",
                "        select(-c(\"sd\", \"mean\"))\n",
                "}"
            ]
        },
        {
            "cell_type": "code",
            "execution_count": 3,
            "id": "45180b8b",
            "metadata": {
                "vscode": {
                    "languageId": "r"
                }
            },
            "outputs": [],
            "source": [
                "# All this is implemented (plus bugfixes!) in the ggnewscale package:\n",
                "# https://github.com/eliocamp/ggnewscale\n",
                "# If you have any issues, I prefer it if you send them as issues here:\n",
                "# https://github.com/eliocamp/ggnewscale/issues\n",
                "\n",
                "#' Allows to add another scale\n",
                "#'\n",
                "#' @param new_aes character with the aesthetic for which new scales will be\n",
                "#' created\n",
                "#'\n",
                "new_scale <- function(new_aes) {\n",
                "  structure(ggplot2::standardise_aes_names(new_aes), class = \"new_aes\")\n",
                "}\n",
                "\n",
                "#' Convenient functions\n",
                "new_scale_fill <- function() {\n",
                "  new_scale(\"fill\")\n",
                "}\n",
                "\n",
                "new_scale_color <- function() {\n",
                "  new_scale(\"colour\")\n",
                "}\n",
                "\n",
                "new_scale_colour <- function() {\n",
                "  new_scale(\"colour\")\n",
                "}\n",
                "\n",
                "new_scale_alpha <- function() {\n",
                "  new_scale(\"alpha\")\n",
                "}\n",
                "\n",
                "new_scale_y <- function() {\n",
                "  new_scale(\"y\")\n",
                "}\n",
                "\n",
                "#' Special behaviour of the \"+\" for adding a `new_aes` object\n",
                "#' It changes the name of the aesthethic for the previous layers, appending\n",
                "#' \"_new\" to them.\n",
                "ggplot_add.new_aes <- function(object, plot, object_name) {\n",
                "  plot$layers <- lapply(plot$layers, bump_aes, new_aes = object)\n",
                "  plot$scales$scales <- lapply(plot$scales$scales, bump_aes, new_aes = object)\n",
                "  plot$labels <- bump_aes(plot$labels, new_aes = object)\n",
                "  plot\n",
                "}\n",
                "\n",
                "\n",
                "bump_aes <- function(layer, new_aes) {\n",
                "  UseMethod(\"bump_aes\")\n",
                "}\n",
                "\n",
                "bump_aes.Scale <- function(layer, new_aes) {\n",
                "  old_aes <- layer$aesthetics[remove_new(layer$aesthetics) %in% new_aes]\n",
                "  new_aes <- paste0(old_aes, \"_new\")\n",
                "\n",
                "  layer$aesthetics[layer$aesthetics %in% old_aes] <- new_aes\n",
                "\n",
                "  if (is.character(layer$guide)) {\n",
                "    layer$guide <- match.fun(paste(\"guide_\", layer$guide, sep = \"\"))()\n",
                "  }\n",
                "  layer$guide$available_aes[layer$guide$available_aes %in% old_aes] <- new_aes\n",
                "  layer\n",
                "}\n",
                "\n",
                "bump_aes.Layer <- function(layer, new_aes) {\n",
                "  original_aes <- new_aes\n",
                "\n",
                "  old_aes <- names(layer$mapping)[remove_new(names(layer$mapping)) %in% new_aes]\n",
                "  new_aes <- paste0(old_aes, \"_new\")\n",
                "\n",
                "  old_geom <- layer$geom\n",
                "\n",
                "  old_setup <- old_geom$handle_na\n",
                "  new_setup <- function(self, data, params) {\n",
                "    colnames(data)[colnames(data) %in% new_aes] <- original_aes\n",
                "    old_setup(data, params)\n",
                "  }\n",
                "\n",
                "  new_geom <- ggplot2::ggproto(paste0(\"New\", class(old_geom)[1]), old_geom,\n",
                "    handle_na = new_setup\n",
                "  )\n",
                "\n",
                "  new_geom$default_aes <- change_name(new_geom$default_aes, old_aes, new_aes)\n",
                "  new_geom$non_missing_aes <- change_name(new_geom$non_missing_aes, old_aes, new_aes)\n",
                "  new_geom$required_aes <- change_name(new_geom$required_aes, old_aes, new_aes)\n",
                "  new_geom$optional_aes <- change_name(new_geom$optional_aes, old_aes, new_aes)\n",
                "\n",
                "  layer$geom <- new_geom\n",
                "\n",
                "  old_stat <- layer$stat\n",
                "\n",
                "  old_setup2 <- old_stat$handle_na\n",
                "  new_setup <- function(self, data, params) {\n",
                "    colnames(data)[colnames(data) %in% new_aes] <- original_aes\n",
                "    old_setup2(data, params)\n",
                "  }\n",
                "\n",
                "  new_stat <- ggplot2::ggproto(paste0(\"New\", class(old_stat)[1]), old_stat,\n",
                "    handle_na = new_setup\n",
                "  )\n",
                "\n",
                "  new_stat$default_aes <- change_name(new_stat$default_aes, old_aes, new_aes)\n",
                "  new_stat$non_missing_aes <- change_name(new_stat$non_missing_aes, old_aes, new_aes)\n",
                "  new_stat$required_aes <- change_name(new_stat$required_aes, old_aes, new_aes)\n",
                "  new_stat$optional_aes <- change_name(new_stat$optional_aes, old_aes, new_aes)\n",
                "\n",
                "  layer$stat <- new_stat\n",
                "\n",
                "  layer$mapping <- change_name(layer$mapping, old_aes, new_aes)\n",
                "  layer\n",
                "}\n",
                "\n",
                "bump_aes.list <- function(layer, new_aes) {\n",
                "  old_aes <- names(layer)[remove_new(names(layer)) %in% new_aes]\n",
                "  new_aes <- paste0(old_aes, \"_new\")\n",
                "\n",
                "  names(layer)[names(layer) %in% old_aes] <- new_aes\n",
                "  layer\n",
                "}\n",
                "\n",
                "change_name <- function(list, old, new) {\n",
                "  UseMethod(\"change_name\")\n",
                "}\n",
                "\n",
                "change_name.character <- function(list, old, new) {\n",
                "  list[list %in% old] <- new\n",
                "  list\n",
                "}\n",
                "\n",
                "change_name.default <- function(list, old, new) {\n",
                "  nam <- names(list)\n",
                "  nam[nam %in% old] <- new\n",
                "  names(list) <- nam\n",
                "  list\n",
                "}\n",
                "\n",
                "change_name.NULL <- function(list, old, new) {\n",
                "  NULL\n",
                "}\n",
                "\n",
                "remove_new <- function(aes) {\n",
                "  stringi::stri_replace_all(aes, \"\", regex = \"(_new)*\")\n",
                "}\n"
            ]
        },
        {
            "attachments": {},
            "cell_type": "markdown",
            "id": "b047ebf3",
            "metadata": {},
            "source": [
                "# Experiment\n",
                "\n",
                "## Perequisites\n",
                "\n",
                "Extract the data to `./metrics`\n",
                "\n",
                "## Preparations\n",
                "\n",
                "Import necessary libraries\n",
                "\n",
                "Idées de mesures:\n",
                "\n",
                "- distribution des fonctions\n",
                "- politique basique edge first ou quoi\n",
                "- temps de deploiement vs nombre de noeuds dans le Fog vs taille du réseau\n",
                "- temps de deploiement vs nombre de fonctions vs taille du réseau\n",
                "- la mémoire et le cpu au niveau du noeud fog\n",
                "\n",
                "graohes des localités : courbe qui montre combien de fonctions se répartissent sur l'edge et sur le cloud\n",
                "faire varier le nombre de noeuds\n",
                "\n",
                "Changer le nombre de fonctions que l'on déploi = saturation (x nbre de fonction)\n",
                "Regarder l'évolution des temps de réponses / des violations de temps de deadline\n",
                "\n",
                "Regarder si on satisfait les deadlines et si c'est scalable\n",
                "\n",
                "Comparer en terme de prix = pas relevant\n",
                "Définir une fonction d'utilité au niveau des enchères, par rapport au temps d'exécution\n",
                "\n",
                "\n"
            ]
        },
        {
            "cell_type": "code",
            "execution_count": 4,
            "id": "0805590a",
            "metadata": {
                "tags": [],
                "vscode": {
                    "languageId": "r"
                }
            },
            "outputs": [
                {
                    "data": {
                        "text/html": [
                            "2"
                        ],
                        "text/latex": [
                            "2"
                        ],
                        "text/markdown": [
                            "2"
                        ],
                        "text/plain": [
                            "[1] 2"
                        ]
                    },
                    "metadata": {},
                    "output_type": "display_data"
                },
                {
                    "data": {
                        "text/html": [
                            "2"
                        ],
                        "text/latex": [
                            "2"
                        ],
                        "text/markdown": [
                            "2"
                        ],
                        "text/plain": [
                            "[1] 2"
                        ]
                    },
                    "metadata": {},
                    "output_type": "display_data"
                },
                {
                    "data": {
                        "text/html": [
                            "2"
                        ],
                        "text/latex": [
                            "2"
                        ],
                        "text/markdown": [
                            "2"
                        ],
                        "text/plain": [
                            "[1] 2"
                        ]
                    },
                    "metadata": {},
                    "output_type": "display_data"
                }
            ],
            "source": [
                "generate_gif <- T\n",
                "reload_big_data <- TRUE\n",
                "parallel_loading_datasets <- 2\n",
                "parallel_loading_datasets_small <- 22\n",
                "\n",
                "GRAPH_ONE_COLUMN_HEIGHT <- 3\n",
                "GRAPH_ONE_COLUMN_WIDTH <- 5\n",
                "GRAPH_HALF_COLUMN_WIDTH <- 2.5\n",
                "GRAPH_TWO_COLUMN_WIDTH <- 12\n",
                "\n",
                "METRICS_PATH <- \"metrics-arks\"\n",
                "METRICS_ARKS <- c(\n",
                "    \"metrics_valuation_rates.env_1-auction_valuation_rates_no-telemetry_2024-01-31-10-50.tar.xz\",\n",
                "    \"metrics_valuation_rates.env_1-edge_ward_valuation_rates_no-telemetry_2024-01-31-10-50.tar.xz\",\n",
                "#---\n",
                "#---\n",
                "#---\n",
                "\"last element that is here because last element should not have any comma in the end and that sucks hard time.\"\n",
                ")\n",
                "METRICS_ARKS <- METRICS_ARKS[-length(METRICS_ARKS)]\n",
                "\n",
                "METRICS_GROUP <- str_match(METRICS_ARKS, \"metrics_.*-(.*?)_valuation.*\\\\.tar\\\\.xz\")\n",
                "METRICS_GROUP <- METRICS_GROUP[, 2]\n",
                "METRICS_GROUP_GROUP <- as.character(rep(list(\"toto\"), length(METRICS_ARKS)))\n",
                "\n",
                "length(METRICS_ARKS)\n",
                "length(METRICS_GROUP)\n",
                "length(METRICS_GROUP_GROUP)\n",
                "stopifnot(length(METRICS_ARKS) == length(METRICS_GROUP))\n",
                "stopifnot(length(METRICS_ARKS) == length(METRICS_GROUP_GROUP))"
            ]
        },
        {
            "cell_type": "code",
            "execution_count": 5,
            "id": "617d5c3f-728f-48e1-b561-75835440e5e5",
            "metadata": {
                "vscode": {
                    "languageId": "r"
                }
            },
            "outputs": [],
            "source": [
                "correct_names <- function(x) {\n",
                "    return(\n",
                "        x %>%\n",
                "            mutate(metric_group_rich = case_when(\n",
                "                metric_group == \"auction\" ~ \"\\\\footnotesize{\\\\mbox{\\\\rmfamily\\\\bfseries GIRAFF}}\",\n",
                "                metric_group == \"edge_ward\" ~ \"\\\\footnotesize{Edge\\\\dash{}ward}\",\n",
                "                metric_group == \"edge_ward_furthest\" ~ \"\\\\footnotesize{Edge\\\\dash{}ward furthest}\",\n",
                "                metric_group == \"edge_first\" ~ \"\\\\footnotesize{Edge\\\\dash{}first}\",\n",
                "                # metric_group == \"edge_furthest\" ~ \"Edge furthest\",\n",
                "                metric_group == \"edge_first_v2\" ~ \"\\\\footnotesize{Edge\\\\dash{}furthest}\",\n",
                "                TRUE ~ metric_group\n",
                "            )) %>%\n",
                "            mutate(metric_group = factor(metric_group, levels = c(\"edge_ward\", \"edge_ward_furthest\", \"edge_first\", \"edge_first_v2\", \"auction\"), ordered = TRUE)) %>%\n",
                "            # mutate(metric_group_rich = factor(metric_group_rich, levels = unique(metric_group), ordered = TRUE)) %>%\n",
                "            rename(`Placement method` = metric_group_rich)\n",
                "        # mutate(`Placement method` = factor(`Placement method`, levels = factor(unique(metric_group), ordered = TRUE), ordered = TRUE))\n",
                "    )\n",
                "}\n"
            ]
        },
        {
            "attachments": {},
            "cell_type": "markdown",
            "id": "0b1fa9fb",
            "metadata": {},
            "source": [
                "Then, the dependencies"
            ]
        },
        {
            "attachments": {},
            "cell_type": "markdown",
            "id": "83cd0763",
            "metadata": {},
            "source": [
                "Load the the Python `integration.py` script to use its variable in R"
            ]
        },
        {
            "cell_type": "code",
            "execution_count": 84,
            "id": "66ced2ce",
            "metadata": {
                "vscode": {
                    "languageId": "r"
                }
            },
            "outputs": [],
            "source": [
                "fig(20, 20)\n",
                "\n",
                "adjust_timestamps <- function(x, var_name=\"timestamp\") {\n",
                "  # Careful where we put this, as the first measurement may not be the same accross all of the combined values for the same folder\n",
                "\n",
                "  var_sym <- ensym(var_name)\n",
                "\n",
                "  minvalue <- x %>%\n",
                "      group_by(folder) %>%\n",
                "      summarise(minvalue = min({{ var_sym }})) %>%\n",
                "      ungroup()\n",
                "\n",
                "  return(\n",
                "    x %>%\n",
                "      inner_join(minvalue) %>%\n",
                "      mutate({{ var_sym }} := {{ var_sym }} - minvalue) %>%\n",
                "      select(-minvalue)\n",
                "  )\n",
                "}\n",
                "\n",
                "prepare <- function(x) {\n",
                "  return(\n",
                "    x %>%\n",
                "      rename(timestamp = \"_time\") %>%\n",
                "      rename(field = \"_field\") %>%\n",
                "      rename(value_raw = \"_value\") %>%\n",
                "      mutate(value = as.numeric(value_raw)) %>%\n",
                "      # filter (timestamp != \"_time\") %>% # TODO remove this fix, it is here bnecause I forgot to remove the headers each time i concatenated the different influx outputs\n",
                "      {\n",
                "        .\n",
                "      }\n",
                "  )\n",
                "}\n",
                "prepare_convert <- function(x) {\n",
                "  return(\n",
                "    x %>%\n",
                "      mutate(instance = to_snake_case(instance)) %>%\n",
                "      {\n",
                "        .\n",
                "      }\n",
                "  )\n",
                "}\n",
                "\n",
                "extract_function_name_info <- function(x) {\n",
                "  # The first element is the input string\n",
                "  info <- stringr::str_match(x$function_name, \"(.+)-i([0-9]+)-c([0-9]+)-m([0-9]+)-l([0-9]+)-a([0-9]+)-r([0-9]+)-d([0-9]+)\")\n",
                "  return(\n",
                "    x %>%\n",
                "      ungroup() %>%\n",
                "      mutate(docker_fn_name = info %>% .[, 2]) %>%\n",
                "      mutate(function_index = info %>% .[, 3]) %>%\n",
                "      mutate(cpu =  as.numeric(info %>% .[, 4])) %>%\n",
                "      mutate(mem =  as.numeric(info %>% .[, 5])) %>%\n",
                "      mutate(latency = as.numeric(info %>% .[, 6])/ 1000) %>%\n",
                "      mutate(arrival = as.numeric(info %>% .[, 7])/ 1000) %>%\n",
                "      mutate(request_interval = as.numeric(info %>% .[, 8])/ 1000) %>%\n",
                "      mutate(duration = as.numeric(info %>% .[, 9])/ 1000)\n",
                "  )\n",
                "}\n"
            ]
        },
        {
            "cell_type": "code",
            "execution_count": 7,
            "id": "950f6a37-e439-47f6-b9a4-125e15feff5b",
            "metadata": {
                "tags": [],
                "vscode": {
                    "languageId": "r"
                }
            },
            "outputs": [],
            "source": [
                "load_csv <- function(filename) {\n",
                "    all_data <- purrr::map_df(METRICS_ARKS, ~ mutate(vroom(archive_read(paste(METRICS_PATH, .x, sep = \"/\"), file = filename), progress = FALSE, col_types = cols(), col_names = TRUE, delim = \"\\t\", .name_repair = \"unique\") %>% distinct(),\n",
                "        folder = tools::file_path_sans_ext(tools::file_path_sans_ext(.x)),\n",
                "        metric_group = METRICS_GROUP[which(METRICS_ARKS == .x)],\n",
                "        metric_group_group = METRICS_GROUP_GROUP[which(METRICS_ARKS == .x)]\n",
                "    ))\n",
                "    return(all_data)\n",
                "}\n",
                "\n",
                "load_single_csv <- function(arkfile, filename) {\n",
                "    all_data <- vroom(archive_read(paste(METRICS_PATH, arkfile, sep = \"/\"), file = filename), progress = FALSE, col_types = cols(), col_names = TRUE, delim = \"\\t\", .name_repair = \"unique\") %>%\n",
                "        distinct() %>%\n",
                "        mutate(\n",
                "            folder = tools::file_path_sans_ext(tools::file_path_sans_ext(arkfile)),\n",
                "            metric_group = METRICS_GROUP[which(METRICS_ARKS == arkfile)],\n",
                "            metric_group_group = METRICS_GROUP_GROUP[which(METRICS_ARKS == arkfile)]\n",
                "        )\n",
                "    return(all_data)\n",
                "}"
            ]
        },
        {
            "attachments": {},
            "cell_type": "markdown",
            "id": "2656d78e",
            "metadata": {},
            "source": [
                "## Data processing\n",
                "\n",
                "Check what nodes we have values for (usually the ones who have submitted bids and etc.):\n",
                "- Green is ok\n",
                "- Red is a node that was not present in the data"
            ]
        },
        {
            "cell_type": "code",
            "execution_count": 8,
            "id": "032fe8b0",
            "metadata": {
                "vscode": {
                    "languageId": "r"
                }
            },
            "outputs": [
                {
                    "data": {
                        "text/html": [
                            "<style>\n",
                            ".list-inline {list-style: none; margin:0; padding: 0}\n",
                            ".list-inline>li {display: inline-block}\n",
                            ".list-inline>li:not(:last-child)::after {content: \"\\00b7\"; padding: 0 .5ex}\n",
                            "</style>\n",
                            "<ol class=list-inline><li>'instance'</li><li>'instance_address'</li><li>'folder'</li></ol>\n"
                        ],
                        "text/latex": [
                            "\\begin{enumerate*}\n",
                            "\\item 'instance'\n",
                            "\\item 'instance\\_address'\n",
                            "\\item 'folder'\n",
                            "\\end{enumerate*}\n"
                        ],
                        "text/markdown": [
                            "1. 'instance'\n",
                            "2. 'instance_address'\n",
                            "3. 'folder'\n",
                            "\n",
                            "\n"
                        ],
                        "text/plain": [
                            "[1] \"instance\"         \"instance_address\" \"folder\"          "
                        ]
                    },
                    "metadata": {},
                    "output_type": "display_data"
                }
            ],
            "source": [
                "names_raw <- load_csv(\"names.csv\") %>%\n",
                "  rename(instance_address = instance, instance = name) %>%\n",
                "  select(instance, instance_address, folder) %>%\n",
                "  distinct()\n",
                "\n",
                "colnames(names_raw)"
            ]
        },
        {
            "cell_type": "code",
            "execution_count": 9,
            "id": "464fc29a",
            "metadata": {
                "vscode": {
                    "languageId": "r"
                }
            },
            "outputs": [
                {
                    "data": {
                        "text/html": [
                            "<table class=\"dataframe\">\n",
                            "<caption>A matrix: 2 x 6 of type dbl</caption>\n",
                            "<thead>\n",
                            "\t<tr><th></th><th scope=col>used</th><th scope=col>(Mb)</th><th scope=col>gc trigger</th><th scope=col>(Mb)</th><th scope=col>max used</th><th scope=col>(Mb)</th></tr>\n",
                            "</thead>\n",
                            "<tbody>\n",
                            "\t<tr><th scope=row>Ncells</th><td>2758731</td><td>147.4</td><td> 4357140</td><td>232.7</td><td>4357140</td><td>232.7</td></tr>\n",
                            "\t<tr><th scope=row>Vcells</th><td>4950209</td><td> 37.8</td><td>10146329</td><td> 77.5</td><td>8207076</td><td> 62.7</td></tr>\n",
                            "</tbody>\n",
                            "</table>\n"
                        ],
                        "text/latex": [
                            "A matrix: 2 x 6 of type dbl\n",
                            "\\begin{tabular}{r|llllll}\n",
                            "  & used & (Mb) & gc trigger & (Mb) & max used & (Mb)\\\\\n",
                            "\\hline\n",
                            "\tNcells & 2758731 & 147.4 &  4357140 & 232.7 & 4357140 & 232.7\\\\\n",
                            "\tVcells & 4950209 &  37.8 & 10146329 &  77.5 & 8207076 &  62.7\\\\\n",
                            "\\end{tabular}\n"
                        ],
                        "text/markdown": [
                            "\n",
                            "A matrix: 2 x 6 of type dbl\n",
                            "\n",
                            "| <!--/--> | used | (Mb) | gc trigger | (Mb) | max used | (Mb) |\n",
                            "|---|---|---|---|---|---|---|\n",
                            "| Ncells | 2758731 | 147.4 |  4357140 | 232.7 | 4357140 | 232.7 |\n",
                            "| Vcells | 4950209 |  37.8 | 10146329 |  77.5 | 8207076 |  62.7 |\n",
                            "\n"
                        ],
                        "text/plain": [
                            "       used    (Mb)  gc trigger (Mb)  max used (Mb) \n",
                            "Ncells 2758731 147.4  4357140   232.7 4357140  232.7\n",
                            "Vcells 4950209  37.8 10146329    77.5 8207076   62.7"
                        ]
                    },
                    "metadata": {},
                    "output_type": "display_data"
                },
                {
                    "data": {
                        "text/html": [
                            "<style>\n",
                            ".list-inline {list-style: none; margin:0; padding: 0}\n",
                            ".list-inline>li {display: inline-block}\n",
                            ".list-inline>li:not(:last-child)::after {content: \"\\00b7\"; padding: 0 .5ex}\n",
                            "</style>\n",
                            "<ol class=list-inline><li>'...1'</li><li>'result'</li><li>'table'</li><li>'_start'</li><li>'_stop'</li><li>'timestamp'</li><li>'value'</li><li>'field'</li><li>'_measurement'</li><li>'instance'</li><li>'instance_address'</li><li>'instance_to'</li><li>'folder'</li><li>'metric_group'</li><li>'metric_group_group'</li><li>'destination_name'</li></ol>\n"
                        ],
                        "text/latex": [
                            "\\begin{enumerate*}\n",
                            "\\item '...1'\n",
                            "\\item 'result'\n",
                            "\\item 'table'\n",
                            "\\item '\\_start'\n",
                            "\\item '\\_stop'\n",
                            "\\item 'timestamp'\n",
                            "\\item 'value'\n",
                            "\\item 'field'\n",
                            "\\item '\\_measurement'\n",
                            "\\item 'instance'\n",
                            "\\item 'instance\\_address'\n",
                            "\\item 'instance\\_to'\n",
                            "\\item 'folder'\n",
                            "\\item 'metric\\_group'\n",
                            "\\item 'metric\\_group\\_group'\n",
                            "\\item 'destination\\_name'\n",
                            "\\end{enumerate*}\n"
                        ],
                        "text/markdown": [
                            "1. '...1'\n",
                            "2. 'result'\n",
                            "3. 'table'\n",
                            "4. '_start'\n",
                            "5. '_stop'\n",
                            "6. 'timestamp'\n",
                            "7. 'value'\n",
                            "8. 'field'\n",
                            "9. '_measurement'\n",
                            "10. 'instance'\n",
                            "11. 'instance_address'\n",
                            "12. 'instance_to'\n",
                            "13. 'folder'\n",
                            "14. 'metric_group'\n",
                            "15. 'metric_group_group'\n",
                            "16. 'destination_name'\n",
                            "\n",
                            "\n"
                        ],
                        "text/plain": [
                            " [1] \"...1\"               \"result\"             \"table\"             \n",
                            " [4] \"_start\"             \"_stop\"              \"timestamp\"         \n",
                            " [7] \"value\"              \"field\"              \"_measurement\"      \n",
                            "[10] \"instance\"           \"instance_address\"   \"instance_to\"       \n",
                            "[13] \"folder\"             \"metric_group\"       \"metric_group_group\"\n",
                            "[16] \"destination_name\"  "
                        ]
                    },
                    "metadata": {},
                    "output_type": "display_data"
                }
            ],
            "source": [
                "\n",
                "registerDoParallel(cl = parallel_loading_datasets_small, cores = parallel_loading_datasets_small)\n",
                "raw.latency <- bind_rows(foreach (ark = METRICS_ARKS) %dopar% {\n",
                "  load_single_csv(ark, \"neighbor_latency.csv\") %>%\n",
                "    prepare() %>%\n",
                "    prepare_convert() %>%\n",
                "    inner_join(names_raw %>% rename(instance_to = instance_address, destination_name = instance), c(\"instance_to\", \"folder\")) %>%\n",
                "    mutate(destination_name = to_snake_case(destination_name))\n",
                "})\n",
                "\n",
                "gc()\n",
                "\n",
                "colnames(raw.latency)\n",
                "# latency %>% select(instance, destination_name) %>% distinct()\n"
            ]
        },
        {
            "cell_type": "code",
            "execution_count": 10,
            "id": "a0f78bc2",
            "metadata": {
                "vscode": {
                    "languageId": "r"
                }
            },
            "outputs": [
                {
                    "data": {
                        "text/html": [
                            "<style>\n",
                            ".list-inline {list-style: none; margin:0; padding: 0}\n",
                            ".list-inline>li {display: inline-block}\n",
                            ".list-inline>li:not(:last-child)::after {content: \"\\00b7\"; padding: 0 .5ex}\n",
                            "</style>\n",
                            "<ol class=list-inline><li>'name'</li><li>'level_value'</li><li>'folder'</li><li>'metric_group'</li><li>'metric_group_group'</li><li>'level'</li></ol>\n"
                        ],
                        "text/latex": [
                            "\\begin{enumerate*}\n",
                            "\\item 'name'\n",
                            "\\item 'level\\_value'\n",
                            "\\item 'folder'\n",
                            "\\item 'metric\\_group'\n",
                            "\\item 'metric\\_group\\_group'\n",
                            "\\item 'level'\n",
                            "\\end{enumerate*}\n"
                        ],
                        "text/markdown": [
                            "1. 'name'\n",
                            "2. 'level_value'\n",
                            "3. 'folder'\n",
                            "4. 'metric_group'\n",
                            "5. 'metric_group_group'\n",
                            "6. 'level'\n",
                            "\n",
                            "\n"
                        ],
                        "text/plain": [
                            "[1] \"name\"               \"level_value\"        \"folder\"            \n",
                            "[4] \"metric_group\"       \"metric_group_group\" \"level\"             "
                        ]
                    },
                    "metadata": {},
                    "output_type": "display_data"
                }
            ],
            "source": [
                "node_connections <- load_csv(\"network_shape.csv\") %>%\n",
                "  mutate(latency = as.numeric(latency)) %>%\n",
                "  mutate(source = to_snake_case(source), destination = to_snake_case(destination)) \n",
                "\n",
                "node_levels <- load_csv(\"node_levels.csv\") %>% \n",
                "  rename(name = source, level_value = level) %>%\n",
                "  mutate(\n",
                "    name = to_snake_case(name),\n",
                "    level = case_when(\n",
                "      level_value == 0 ~ \"Cloud\",\n",
                "      level_value == max(level_value) - 1 ~ \"Edge+1\",\n",
                "      level_value == max(level_value) ~ \"Edge\",\n",
                "      TRUE ~ paste(\"Cloud\", as.character(level_value), sep = \"+\")\n",
                "    )\n",
                "  ) \n",
                "  # add_row(values = 0, name = \"marketplace\", level = \"Cloud\") %>%\n",
                "  # mutate(level = factor(level, levels = unique(level_value), ordered = TRUE))\n",
                "colnames(node_levels)"
            ]
        },
        {
            "cell_type": "code",
            "execution_count": 11,
            "id": "52f3a95c",
            "metadata": {
                "vscode": {
                    "languageId": "r"
                }
            },
            "outputs": [
                {
                    "name": "stderr",
                    "output_type": "stream",
                    "text": [
                        "\u001b[1m\u001b[22mJoining, by = c(\"instance\", \"destination_name\", \"goal\", \"folder\", \"metric_group\", \"metric_group_group\")\n",
                        "\u001b[1m\u001b[22mJoining, by = c(\"destination_name\", \"instance\", \"folder\", \"metric_group\", \"metric_group_group\")\n"
                    ]
                }
            ],
            "source": [
                "node_connections_renamed <- node_connections %>% rename(instance = source, destination_name = destination, goal = latency)\n",
                "\n",
                "latency <- raw.latency %>%\n",
                "  select(destination_name, field, value, instance, timestamp, folder, metric_group, metric_group_group) %>%\n",
                "  inner_join(node_connections_renamed %>% full_join(node_connections_renamed %>% mutate(toto=instance, instance = destination_name, destination_name = toto))) %>%\n",
                "  mutate(diff = value - goal)"
            ]
        },
        {
            "attachments": {},
            "cell_type": "markdown",
            "id": "8ccf8b2c-e803-4cf7-9abc-a615c60792d4",
            "metadata": {},
            "source": [
                "## Distribution of the functions in the network"
            ]
        },
        {
            "cell_type": "code",
            "execution_count": 12,
            "id": "db39fec8",
            "metadata": {
                "vscode": {
                    "languageId": "r"
                }
            },
            "outputs": [
                {
                    "name": "stderr",
                    "output_type": "stream",
                    "text": [
                        "\u001b[1m\u001b[22mNew names:\n",
                        "\u001b[36m•\u001b[39m `` -> `...1`\n",
                        "\u001b[1m\u001b[22mNew names:\n",
                        "\u001b[36m•\u001b[39m `` -> `...1`\n",
                        "\u001b[1m\u001b[22m`summarise()` has grouped output by 'instance', 'folder', 'metric_group', 'metric_group_group'. You can\n",
                        "override using the `.groups` argument.\n",
                        "\u001b[1m\u001b[22mJoining, by = c(\"instance\", \"folder\", \"metric_group\", \"metric_group_group\", \"status\", \"n\")\n",
                        "\u001b[1m\u001b[22mJoining, by = c(\"instance\", \"folder\", \"metric_group\", \"metric_group_group\", \"status\", \"n\")\n"
                    ]
                },
                {
                    "data": {
                        "text/html": [
                            "<style>\n",
                            ".list-inline {list-style: none; margin:0; padding: 0}\n",
                            ".list-inline>li {display: inline-block}\n",
                            ".list-inline>li:not(:last-child)::after {content: \"\\00b7\"; padding: 0 .5ex}\n",
                            "</style>\n",
                            "<ol class=list-inline><li>'instance'</li><li>'folder'</li><li>'metric_group'</li><li>'metric_group_group'</li><li>'status'</li><li>'n'</li><li>'load_type'</li><li>'latency_type'</li></ol>\n"
                        ],
                        "text/latex": [
                            "\\begin{enumerate*}\n",
                            "\\item 'instance'\n",
                            "\\item 'folder'\n",
                            "\\item 'metric\\_group'\n",
                            "\\item 'metric\\_group\\_group'\n",
                            "\\item 'status'\n",
                            "\\item 'n'\n",
                            "\\item 'load\\_type'\n",
                            "\\item 'latency\\_type'\n",
                            "\\end{enumerate*}\n"
                        ],
                        "text/markdown": [
                            "1. 'instance'\n",
                            "2. 'folder'\n",
                            "3. 'metric_group'\n",
                            "4. 'metric_group_group'\n",
                            "5. 'status'\n",
                            "6. 'n'\n",
                            "7. 'load_type'\n",
                            "8. 'latency_type'\n",
                            "\n",
                            "\n"
                        ],
                        "text/plain": [
                            "[1] \"instance\"           \"folder\"             \"metric_group\"      \n",
                            "[4] \"metric_group_group\" \"status\"             \"n\"                 \n",
                            "[7] \"load_type\"          \"latency_type\"      "
                        ]
                    },
                    "metadata": {},
                    "output_type": "display_data"
                }
            ],
            "source": [
                "registerDoParallel(cl = parallel_loading_datasets_small, cores = parallel_loading_datasets_small)\n",
                "functions.refused <- foreach (ark = METRICS_ARKS) %dopar% {\n",
                "    tryCatch(\n",
                "        {\n",
                "            df <- load_single_csv(ark, \"refused_function_gauge.csv\")%>%\n",
                "                prepare() %>%\n",
                "                prepare_convert() %>%\n",
                "                extract_function_name_info() %>%\n",
                "                select(instance, sla_id, folder, metric_group, metric_group_group, load_type, latency_type) %>%\n",
                "                # distinct() %>%\n",
                "                mutate(status = \"refused\") %>%\n",
                "                group_by(instance, folder, metric_group, metric_group_group, load_type, latency_type, status) %>%\n",
                "                summarise(n = n())\n",
                "            return(df)\n",
                "        },\n",
                "        error = function(cond){\n",
                "            df <- data.frame(instance = character(0), folder = character(0), metric_group = character(0), metric_group_group = character(0), load_type = character(0), latency_type = character(0), status = character(0), n = numeric(0))\n",
                "            return(df)\n",
                "        }\n",
                "    )\n",
                "}\n",
                "functions.refused <- bind_rows(functions.refused)\n",
                "\n",
                "registerDoParallel(cl = parallel_loading_datasets_small, cores = parallel_loading_datasets_small)\n",
                "functions.failed <- foreach (ark = METRICS_ARKS) %dopar% {\n",
                "    tryCatch(\n",
                "        {\n",
                "            df <- load_single_csv(ark, \"send_fails.csv\")%>%\n",
                "                prepare() %>%\n",
                "                prepare_convert() %>%\n",
                "                rename(function_name = tag) %>%\n",
                "                extract_function_name_info() %>%\n",
                "                select(instance, folder, metric_group, metric_group_group) %>%\n",
                "                # distinct() %>%\n",
                "                mutate(status = \"failed\") %>%\n",
                "                group_by(instance, folder, metric_group, metric_group_group, status) %>%\n",
                "                summarise(n = n())\n",
                "            return(df)\n",
                "        },\n",
                "        error = function(cond){\n",
                "            df <- data.frame(instance = character(0), folder = character(0), metric_group = character(0), metric_group_group = character(0), status = character(0), n = numeric(0))\n",
                "            return(df)\n",
                "        }\n",
                "    )\n",
                "}\n",
                "\n",
                "functions.failed <- bind_rows(functions.failed)\n",
                "\n",
                "functions <- load_csv(\"provisioned_function_gauge.csv\") %>%\n",
                "    prepare() %>%\n",
                "    prepare_convert() %>%\n",
                "    extract_function_name_info() %>%\n",
                "    select(instance, sla_id, folder, metric_group, metric_group_group) %>%\n",
                "    # distinct() %>%\n",
                "    mutate(status = \"provisioned\") %>%\n",
                "    group_by(instance, folder, metric_group, metric_group_group, status) %>%\n",
                "    summarise(n = n()) %>%\n",
                "    full_join(functions.refused) %>%\n",
                "    full_join(functions.failed) %>%\n",
                "    {\n",
                "        .\n",
                "    }\n",
                "\n",
                "\n",
                "colnames(functions)"
            ]
        },
        {
            "cell_type": "code",
            "execution_count": 13,
            "id": "b6fdcd71",
            "metadata": {
                "vscode": {
                    "languageId": "r"
                }
            },
            "outputs": [
                {
                    "name": "stderr",
                    "output_type": "stream",
                    "text": [
                        "\u001b[1m\u001b[22m`summarise()` has grouped output by 'folder', 'instance', 'metric_group', 'metric_group_group',\n",
                        "'load_type'. You can override using the `.groups` argument.\n",
                        "\u001b[1m\u001b[22m`summarise()` has grouped output by 'folder', 'status', 'metric_group', 'metric_group_group',\n",
                        "'load_type'. You can override using the `.groups` argument.\n"
                    ]
                }
            ],
            "source": [
                "total <- functions %>%\n",
                "    group_by(folder, instance, metric_group, metric_group_group, load_type, latency_type) %>%\n",
                "    summarise(total = sum(n))\n",
                "\n",
                "functions_total <- functions %>%\n",
                "    inner_join(total, by = c(\"instance\", \"folder\", \"metric_group\", \"metric_group_group\", \"load_type\", \"latency_type\")) %>%\n",
                "    # inner_join(node_levels %>% mutate(instance = name) %>% select(-name), by = c(\"instance\")) %>%\n",
                "    group_by(folder, status, metric_group, metric_group_group, load_type, latency_type) %>%\n",
                "    summarise(total = sum(total), n = sum(n)) %>%\n",
                "    mutate(ratio = n / total) %>%\n",
                "    {\n",
                "        .\n",
                "    }"
            ]
        },
        {
            "cell_type": "code",
            "execution_count": 14,
            "id": "fe17bb10",
            "metadata": {
                "vscode": {
                    "languageId": "r"
                }
            },
            "outputs": [
                {
                    "name": "stderr",
                    "output_type": "stream",
                    "text": [
                        "\u001b[1m\u001b[22mNew names:\n",
                        "\u001b[36m•\u001b[39m `` -> `...1`\n",
                        "\u001b[1m\u001b[22mNew names:\n",
                        "\u001b[36m•\u001b[39m `` -> `...1`\n"
                    ]
                },
                {
                    "data": {
                        "text/html": [
                            "<table class=\"dataframe\">\n",
                            "<caption>A tibble: 0 x 16</caption>\n",
                            "<thead>\n",
                            "\t<tr><th scope=col>...1</th><th scope=col>result</th><th scope=col>table</th><th scope=col>_start</th><th scope=col>_stop</th><th scope=col>timestamp</th><th scope=col>value</th><th scope=col>field</th><th scope=col>_measurement</th><th scope=col>bid_id</th><th scope=col>function_name</th><th scope=col>instance</th><th scope=col>sla_id</th><th scope=col>folder</th><th scope=col>metric_group</th><th scope=col>metric_group_group</th></tr>\n",
                            "\t<tr><th scope=col>&lt;lgl&gt;</th><th scope=col>&lt;lgl&gt;</th><th scope=col>&lt;dbl&gt;</th><th scope=col>&lt;dttm&gt;</th><th scope=col>&lt;dttm&gt;</th><th scope=col>&lt;dttm&gt;</th><th scope=col>&lt;dbl&gt;</th><th scope=col>&lt;chr&gt;</th><th scope=col>&lt;chr&gt;</th><th scope=col>&lt;chr&gt;</th><th scope=col>&lt;chr&gt;</th><th scope=col>&lt;chr&gt;</th><th scope=col>&lt;chr&gt;</th><th scope=col>&lt;chr&gt;</th><th scope=col>&lt;chr&gt;</th><th scope=col>&lt;chr&gt;</th></tr>\n",
                            "</thead>\n",
                            "<tbody>\n",
                            "</tbody>\n",
                            "</table>\n"
                        ],
                        "text/latex": [
                            "A tibble: 0 x 16\n",
                            "\\begin{tabular}{llllllllllllllll}\n",
                            " ...1 & result & table & \\_start & \\_stop & timestamp & value & field & \\_measurement & bid\\_id & function\\_name & instance & sla\\_id & folder & metric\\_group & metric\\_group\\_group\\\\\n",
                            " <lgl> & <lgl> & <dbl> & <dttm> & <dttm> & <dttm> & <dbl> & <chr> & <chr> & <chr> & <chr> & <chr> & <chr> & <chr> & <chr> & <chr>\\\\\n",
                            "\\hline\n",
                            "\\end{tabular}\n"
                        ],
                        "text/markdown": [
                            "\n",
                            "A tibble: 0 x 16\n",
                            "\n",
                            "| ...1 &lt;lgl&gt; | result &lt;lgl&gt; | table &lt;dbl&gt; | _start &lt;dttm&gt; | _stop &lt;dttm&gt; | timestamp &lt;dttm&gt; | value &lt;dbl&gt; | field &lt;chr&gt; | _measurement &lt;chr&gt; | bid_id &lt;chr&gt; | function_name &lt;chr&gt; | instance &lt;chr&gt; | sla_id &lt;chr&gt; | folder &lt;chr&gt; | metric_group &lt;chr&gt; | metric_group_group &lt;chr&gt; |\n",
                            "|---|---|---|---|---|---|---|---|---|---|---|---|---|---|---|---|\n",
                            "\n"
                        ],
                        "text/plain": [
                            "     ...1 result table _start _stop timestamp value field _measurement bid_id\n",
                            "     function_name instance sla_id folder metric_group metric_group_group"
                        ]
                    },
                    "metadata": {},
                    "output_type": "display_data"
                }
            ],
            "source": [
                "bids_raw <- load_csv(\"bid_gauge.csv\") %>% prepare() %>% prepare_convert()\n",
                "# bids_raw %>% filter(value <= 0) %>% select(folder) %>% distinct()\n",
                "\n",
                "bids_raw <- bids_raw %>% mutate(value = ifelse(value < 0 & value >= -0.001, 0, value))\n",
                "bids_raw %>% filter(value < 0)\n",
                "stopifnot(bids_raw %>% filter(value < 0) %>% summarise(n = n()) == 0)\n"
            ]
        },
        {
            "cell_type": "code",
            "execution_count": 15,
            "id": "424b6bd8",
            "metadata": {
                "vscode": {
                    "languageId": "r"
                }
            },
            "outputs": [
                {
                    "name": "stderr",
                    "output_type": "stream",
                    "text": [
                        "\u001b[1m\u001b[22mNew names:\n",
                        "\u001b[36m•\u001b[39m `` -> `...1`\n",
                        "\u001b[1m\u001b[22mNew names:\n",
                        "\u001b[36m•\u001b[39m `` -> `...1`\n"
                    ]
                },
                {
                    "data": {
                        "text/html": [
                            "<style>\n",
                            ".list-inline {list-style: none; margin:0; padding: 0}\n",
                            ".list-inline>li {display: inline-block}\n",
                            ".list-inline>li:not(:last-child)::after {content: \"\\00b7\"; padding: 0 .5ex}\n",
                            "</style>\n",
                            "<ol class=list-inline><li>'bid_id'</li><li>'sla_id'</li><li>'folder'</li><li>'metric_group'</li><li>'metric_group_group'</li></ol>\n"
                        ],
                        "text/latex": [
                            "\\begin{enumerate*}\n",
                            "\\item 'bid\\_id'\n",
                            "\\item 'sla\\_id'\n",
                            "\\item 'folder'\n",
                            "\\item 'metric\\_group'\n",
                            "\\item 'metric\\_group\\_group'\n",
                            "\\end{enumerate*}\n"
                        ],
                        "text/markdown": [
                            "1. 'bid_id'\n",
                            "2. 'sla_id'\n",
                            "3. 'folder'\n",
                            "4. 'metric_group'\n",
                            "5. 'metric_group_group'\n",
                            "\n",
                            "\n"
                        ],
                        "text/plain": [
                            "[1] \"bid_id\"             \"sla_id\"             \"folder\"            \n",
                            "[4] \"metric_group\"       \"metric_group_group\""
                        ]
                    },
                    "metadata": {},
                    "output_type": "display_data"
                }
            ],
            "source": [
                "provisioned_sla <- load_csv(\"function_deployment_duration.csv\") %>%\n",
                "  prepare() %>%\n",
                "  prepare_convert() %>%\n",
                "  select(bid_id, sla_id, folder, metric_group, metric_group_group) %>%\n",
                "  distinct() %>%\n",
                "  {\n",
                "    .\n",
                "  }\n",
                "colnames(provisioned_sla)\n",
                "# slice_sample(provisioned_sla, n=5)\n"
            ]
        },
        {
            "cell_type": "code",
            "execution_count": 122,
            "id": "fc3e236a",
            "metadata": {
                "vscode": {
                    "languageId": "r"
                }
            },
            "outputs": [
                {
                    "data": {
                        "text/html": [
                            "<table class=\"dataframe\">\n",
                            "<caption>A tibble: 5 x 7</caption>\n",
                            "<thead>\n",
                            "\t<tr><th scope=col>sla_id</th><th scope=col>function_name</th><th scope=col>folder</th><th scope=col>metric_group</th><th scope=col>metric_group_group</th><th scope=col>winner</th><th scope=col>cost</th></tr>\n",
                            "\t<tr><th scope=col>&lt;chr&gt;</th><th scope=col>&lt;chr&gt;</th><th scope=col>&lt;chr&gt;</th><th scope=col>&lt;chr&gt;</th><th scope=col>&lt;chr&gt;</th><th scope=col>&lt;chr&gt;</th><th scope=col>&lt;dbl&gt;</th></tr>\n",
                            "</thead>\n",
                            "<tbody>\n",
                            "\t<tr><td>8afeea54-5960-45dd-8b8a-aaaa5c60e523</td><td>audioToText-i3-c300-m512-l117-a122-r1015-d3428674      </td><td>metrics_valuation_rates.env_1-edge_ward_valuation_rates_no-telemetry_2024-01-31-10-50</td><td>edge_ward</td><td>toto</td><td>1_lazywavelength_1</td><td>0.015686746</td></tr>\n",
                            "\t<tr><td>3cacc21d-d567-45c3-93fb-5240c133b4f3</td><td>audioToText-i3-c300-m512-l111-a100-r186-d126235        </td><td>metrics_valuation_rates.env_1-edge_ward_valuation_rates_no-telemetry_2024-01-31-10-50</td><td>edge_ward</td><td>toto</td><td>1_lazywavelength_1</td><td>0.015686746</td></tr>\n",
                            "\t<tr><td>d0301cfc-4b6d-4019-a2d2-6103b477fad2</td><td>echo-i1-c100-m256-l47-a461-r2116-d183165               </td><td>metrics_valuation_rates.env_1-edge_ward_valuation_rates_no-telemetry_2024-01-31-10-50</td><td>edge_ward</td><td>toto</td><td>market            </td><td>0.009490973</td></tr>\n",
                            "\t<tr><td>8dfa2a79-051d-4fdc-9b47-0403a0df285b</td><td>sentimentAnalysis-i0-c100-m256-l86-a205-r6-d3063296    </td><td>metrics_valuation_rates.env_1-auction_valuation_rates_no-telemetry_2024-01-31-10-50  </td><td>auction  </td><td>toto</td><td>1_lazywavelength_1</td><td>0.005897131</td></tr>\n",
                            "\t<tr><td>0e4dbaac-22bc-4d59-8a18-911d27505a21</td><td>sentimentAnalysis-i1-c100-m256-l63-a342-r113-d163291776</td><td>metrics_valuation_rates.env_1-auction_valuation_rates_no-telemetry_2024-01-31-10-50  </td><td>auction  </td><td>toto</td><td>1_lazywavelength_1</td><td>0.005897131</td></tr>\n",
                            "</tbody>\n",
                            "</table>\n"
                        ],
                        "text/latex": [
                            "A tibble: 5 x 7\n",
                            "\\begin{tabular}{lllllll}\n",
                            " sla\\_id & function\\_name & folder & metric\\_group & metric\\_group\\_group & winner & cost\\\\\n",
                            " <chr> & <chr> & <chr> & <chr> & <chr> & <chr> & <dbl>\\\\\n",
                            "\\hline\n",
                            "\t 8afeea54-5960-45dd-8b8a-aaaa5c60e523 & audioToText-i3-c300-m512-l117-a122-r1015-d3428674       & metrics\\_valuation\\_rates.env\\_1-edge\\_ward\\_valuation\\_rates\\_no-telemetry\\_2024-01-31-10-50 & edge\\_ward & toto & 1\\_lazywavelength\\_1 & 0.015686746\\\\\n",
                            "\t 3cacc21d-d567-45c3-93fb-5240c133b4f3 & audioToText-i3-c300-m512-l111-a100-r186-d126235         & metrics\\_valuation\\_rates.env\\_1-edge\\_ward\\_valuation\\_rates\\_no-telemetry\\_2024-01-31-10-50 & edge\\_ward & toto & 1\\_lazywavelength\\_1 & 0.015686746\\\\\n",
                            "\t d0301cfc-4b6d-4019-a2d2-6103b477fad2 & echo-i1-c100-m256-l47-a461-r2116-d183165                & metrics\\_valuation\\_rates.env\\_1-edge\\_ward\\_valuation\\_rates\\_no-telemetry\\_2024-01-31-10-50 & edge\\_ward & toto & market             & 0.009490973\\\\\n",
                            "\t 8dfa2a79-051d-4fdc-9b47-0403a0df285b & sentimentAnalysis-i0-c100-m256-l86-a205-r6-d3063296     & metrics\\_valuation\\_rates.env\\_1-auction\\_valuation\\_rates\\_no-telemetry\\_2024-01-31-10-50   & auction   & toto & 1\\_lazywavelength\\_1 & 0.005897131\\\\\n",
                            "\t 0e4dbaac-22bc-4d59-8a18-911d27505a21 & sentimentAnalysis-i1-c100-m256-l63-a342-r113-d163291776 & metrics\\_valuation\\_rates.env\\_1-auction\\_valuation\\_rates\\_no-telemetry\\_2024-01-31-10-50   & auction   & toto & 1\\_lazywavelength\\_1 & 0.005897131\\\\\n",
                            "\\end{tabular}\n"
                        ],
                        "text/markdown": [
                            "\n",
                            "A tibble: 5 x 7\n",
                            "\n",
                            "| sla_id &lt;chr&gt; | function_name &lt;chr&gt; | folder &lt;chr&gt; | metric_group &lt;chr&gt; | metric_group_group &lt;chr&gt; | winner &lt;chr&gt; | cost &lt;dbl&gt; |\n",
                            "|---|---|---|---|---|---|---|\n",
                            "| 8afeea54-5960-45dd-8b8a-aaaa5c60e523 | audioToText-i3-c300-m512-l117-a122-r1015-d3428674       | metrics_valuation_rates.env_1-edge_ward_valuation_rates_no-telemetry_2024-01-31-10-50 | edge_ward | toto | 1_lazywavelength_1 | 0.015686746 |\n",
                            "| 3cacc21d-d567-45c3-93fb-5240c133b4f3 | audioToText-i3-c300-m512-l111-a100-r186-d126235         | metrics_valuation_rates.env_1-edge_ward_valuation_rates_no-telemetry_2024-01-31-10-50 | edge_ward | toto | 1_lazywavelength_1 | 0.015686746 |\n",
                            "| d0301cfc-4b6d-4019-a2d2-6103b477fad2 | echo-i1-c100-m256-l47-a461-r2116-d183165                | metrics_valuation_rates.env_1-edge_ward_valuation_rates_no-telemetry_2024-01-31-10-50 | edge_ward | toto | market             | 0.009490973 |\n",
                            "| 8dfa2a79-051d-4fdc-9b47-0403a0df285b | sentimentAnalysis-i0-c100-m256-l86-a205-r6-d3063296     | metrics_valuation_rates.env_1-auction_valuation_rates_no-telemetry_2024-01-31-10-50   | auction   | toto | 1_lazywavelength_1 | 0.005897131 |\n",
                            "| 0e4dbaac-22bc-4d59-8a18-911d27505a21 | sentimentAnalysis-i1-c100-m256-l63-a342-r113-d163291776 | metrics_valuation_rates.env_1-auction_valuation_rates_no-telemetry_2024-01-31-10-50   | auction   | toto | 1_lazywavelength_1 | 0.005897131 |\n",
                            "\n"
                        ],
                        "text/plain": [
                            "  sla_id                              \n",
                            "1 8afeea54-5960-45dd-8b8a-aaaa5c60e523\n",
                            "2 3cacc21d-d567-45c3-93fb-5240c133b4f3\n",
                            "3 d0301cfc-4b6d-4019-a2d2-6103b477fad2\n",
                            "4 8dfa2a79-051d-4fdc-9b47-0403a0df285b\n",
                            "5 0e4dbaac-22bc-4d59-8a18-911d27505a21\n",
                            "  function_name                                          \n",
                            "1 audioToText-i3-c300-m512-l117-a122-r1015-d3428674      \n",
                            "2 audioToText-i3-c300-m512-l111-a100-r186-d126235        \n",
                            "3 echo-i1-c100-m256-l47-a461-r2116-d183165               \n",
                            "4 sentimentAnalysis-i0-c100-m256-l86-a205-r6-d3063296    \n",
                            "5 sentimentAnalysis-i1-c100-m256-l63-a342-r113-d163291776\n",
                            "  folder                                                                               \n",
                            "1 metrics_valuation_rates.env_1-edge_ward_valuation_rates_no-telemetry_2024-01-31-10-50\n",
                            "2 metrics_valuation_rates.env_1-edge_ward_valuation_rates_no-telemetry_2024-01-31-10-50\n",
                            "3 metrics_valuation_rates.env_1-edge_ward_valuation_rates_no-telemetry_2024-01-31-10-50\n",
                            "4 metrics_valuation_rates.env_1-auction_valuation_rates_no-telemetry_2024-01-31-10-50  \n",
                            "5 metrics_valuation_rates.env_1-auction_valuation_rates_no-telemetry_2024-01-31-10-50  \n",
                            "  metric_group metric_group_group winner             cost       \n",
                            "1 edge_ward    toto               1_lazywavelength_1 0.015686746\n",
                            "2 edge_ward    toto               1_lazywavelength_1 0.015686746\n",
                            "3 edge_ward    toto               market             0.009490973\n",
                            "4 auction      toto               1_lazywavelength_1 0.005897131\n",
                            "5 auction      toto               1_lazywavelength_1 0.005897131"
                        ]
                    },
                    "metadata": {},
                    "output_type": "display_data"
                }
            ],
            "source": [
                "bids_won_function <- bids_raw %>%\n",
                "  select(sla_id, bid_id, instance, function_name, folder, metric_group, metric_group_group, value) %>%\n",
                "  distinct() %>%\n",
                "  inner_join(provisioned_sla, by = c(\"bid_id\", \"sla_id\", \"folder\", \"metric_group\", \"metric_group_group\")) %>%\n",
                "  mutate(winner = instance) %>%\n",
                "  mutate(cost = value) %>%\n",
                "  select(sla_id, function_name, folder, metric_group, metric_group_group, winner, cost) %>%\n",
                "  {\n",
                "    .\n",
                "  }\n",
                "\n",
                "slice_sample(bids_won_function, n=5)"
            ]
        },
        {
            "cell_type": "code",
            "execution_count": 17,
            "id": "576cb103",
            "metadata": {
                "vscode": {
                    "languageId": "r"
                }
            },
            "outputs": [],
            "source": [
                "registerDoParallel(parallel_loading_datasets_small)\n",
                "raw.cpu.observed_from_fog_node <- foreach (ark = METRICS_ARKS) %dopar% {\n",
                "        cpu <- load_single_csv(ark, \"cpu_observed_from_fog_node.csv\") %>%\n",
                "                prepare() %>%\n",
                "                prepare_convert()\n",
                "        cpu %>%\n",
                "                filter(field == \"initial_allocatable\") %>%\n",
                "                rename(initial_allocatable = value) %>%\n",
                "                inner_join(cpu %>% filter(field == \"used\") %>% rename(used = value), by = c(\"timestamp\", \"folder\", \"instance\", \"metric_group\", \"metric_group_group\")) %>%\n",
                "                mutate(usage = used / initial_allocatable) %>%\n",
                "                select(instance, timestamp, usage, folder, metric_group, metric_group_group)\n",
                "}\n",
                "raw.cpu.observed_from_fog_node <- bind_rows(raw.cpu.observed_from_fog_node)\n"
            ]
        },
        {
            "cell_type": "code",
            "execution_count": 18,
            "id": "04d4af0f",
            "metadata": {
                "vscode": {
                    "languageId": "r"
                }
            },
            "outputs": [],
            "source": [
                "get_usage <- function(df_raw) {\n",
                "    max_timestamp <- df_raw %>%\n",
                "        select(timestamp, instance, folder) %>%\n",
                "        group_by(instance, folder) %>%\n",
                "        summarise(total_time = max(timestamp) - min(timestamp))\n",
                "\n",
                "    df <- df_raw %>%\n",
                "        filter(field == \"initial_allocatable\") %>%\n",
                "        rename(initial_allocatable = value) %>%\n",
                "        inner_join(df_raw %>% filter(field == \"used\") %>% rename(used = value), by = c(\"timestamp\", \"folder\", \"instance\", \"metric_group\", \"metric_group_group\")) %>%\n",
                "        mutate(usage = used / initial_allocatable) %>%\n",
                "        select(instance, timestamp, usage, folder, metric_group, metric_group_group)\n",
                "    stopifnot(nrow(df) * 2 == nrow(df_raw))\n",
                "\n",
                "    df <- df %>%\n",
                "        drop_na() %>%\n",
                "        distinct() %>%\n",
                "        group_by(instance, folder, metric_group, metric_group_group) %>%\n",
                "        arrange(timestamp, .by_group = TRUE) %>%\n",
                "        summarise(usage = sum(as.numeric(diff(timestamp), units = \"secs\") * rollmean(usage, 2))) %>%\n",
                "        inner_join(max_timestamp, by = c(\"instance\", \"folder\")) %>%\n",
                "        mutate(usage_ratio = usage / as.numeric(total_time, units = \"secs\")) %>% # * 100%\n",
                "        {\n",
                "            .\n",
                "        }\n",
                "\n",
                "    folders <- df %>%\n",
                "        ungroup() %>%\n",
                "        select(folder, metric_group, metric_group_group) %>%\n",
                "        distinct()\n",
                "\n",
                "    missing_data <- expand.grid(\n",
                "        instance = node_levels$name,\n",
                "        folder = folders$folder\n",
                "    ) %>%\n",
                "        # inner_join(node_levels %>% mutate(winner = name) %>% select(-name), by = c(\"winner\")) %>%\n",
                "        inner_join(folders, by = c(\"folder\"))\n",
                "\n",
                "    df <- df %>%\n",
                "        ungroup() %>%\n",
                "        full_join(missing_data, by = c(\"instance\", \"folder\", \"metric_group\", \"metric_group_group\")) %>%\n",
                "        ungroup() %>%\n",
                "        {\n",
                "            .\n",
                "        }\n",
                "\n",
                "    df$usage_ratio[is.na(df$usage_ratio)] <- 0\n",
                "\n",
                "    df\n",
                "}"
            ]
        },
        {
            "cell_type": "code",
            "execution_count": 19,
            "id": "f5450f26",
            "metadata": {
                "vscode": {
                    "languageId": "r"
                }
            },
            "outputs": [
                {
                    "data": {
                        "text/html": [
                            "<table class=\"dataframe\">\n",
                            "<caption>A matrix: 2 x 6 of type dbl</caption>\n",
                            "<thead>\n",
                            "\t<tr><th></th><th scope=col>used</th><th scope=col>(Mb)</th><th scope=col>gc trigger</th><th scope=col>(Mb)</th><th scope=col>max used</th><th scope=col>(Mb)</th></tr>\n",
                            "</thead>\n",
                            "<tbody>\n",
                            "\t<tr><th scope=row>Ncells</th><td>2823982</td><td>150.9</td><td> 4357140</td><td>232.7</td><td>4357140</td><td>232.7</td></tr>\n",
                            "\t<tr><th scope=row>Vcells</th><td>5530420</td><td> 42.2</td><td>12255594</td><td> 93.6</td><td>8207076</td><td> 62.7</td></tr>\n",
                            "</tbody>\n",
                            "</table>\n"
                        ],
                        "text/latex": [
                            "A matrix: 2 x 6 of type dbl\n",
                            "\\begin{tabular}{r|llllll}\n",
                            "  & used & (Mb) & gc trigger & (Mb) & max used & (Mb)\\\\\n",
                            "\\hline\n",
                            "\tNcells & 2823982 & 150.9 &  4357140 & 232.7 & 4357140 & 232.7\\\\\n",
                            "\tVcells & 5530420 &  42.2 & 12255594 &  93.6 & 8207076 &  62.7\\\\\n",
                            "\\end{tabular}\n"
                        ],
                        "text/markdown": [
                            "\n",
                            "A matrix: 2 x 6 of type dbl\n",
                            "\n",
                            "| <!--/--> | used | (Mb) | gc trigger | (Mb) | max used | (Mb) |\n",
                            "|---|---|---|---|---|---|---|\n",
                            "| Ncells | 2823982 | 150.9 |  4357140 | 232.7 | 4357140 | 232.7 |\n",
                            "| Vcells | 5530420 |  42.2 | 12255594 |  93.6 | 8207076 |  62.7 |\n",
                            "\n"
                        ],
                        "text/plain": [
                            "       used    (Mb)  gc trigger (Mb)  max used (Mb) \n",
                            "Ncells 2823982 150.9  4357140   232.7 4357140  232.7\n",
                            "Vcells 5530420  42.2 12255594    93.6 8207076   62.7"
                        ]
                    },
                    "metadata": {},
                    "output_type": "display_data"
                }
            ],
            "source": [
                "\n",
                "registerDoParallel(cl = parallel_loading_datasets_small, cores = parallel_loading_datasets_small)\n",
                "raw.auc_usage.cpu <- bind_rows(foreach (ark = METRICS_ARKS) %dopar% {\n",
                "        load_single_csv(ark, \"cpu_observed_from_fog_node.csv\") %>%\n",
                "                prepare() %>%\n",
                "                prepare_convert() %>%\n",
                "                get_usage()\n",
                "})\n",
                "\n",
                "gc()"
            ]
        },
        {
            "cell_type": "code",
            "execution_count": 20,
            "id": "70d97dac",
            "metadata": {
                "vscode": {
                    "languageId": "r"
                }
            },
            "outputs": [
                {
                    "data": {
                        "text/html": [
                            "<table class=\"dataframe\">\n",
                            "<caption>A matrix: 2 x 6 of type dbl</caption>\n",
                            "<thead>\n",
                            "\t<tr><th></th><th scope=col>used</th><th scope=col>(Mb)</th><th scope=col>gc trigger</th><th scope=col>(Mb)</th><th scope=col>max used</th><th scope=col>(Mb)</th></tr>\n",
                            "</thead>\n",
                            "<tbody>\n",
                            "\t<tr><th scope=row>Ncells</th><td>2823889</td><td>150.9</td><td> 4357140</td><td>232.7</td><td>4357140</td><td>232.7</td></tr>\n",
                            "\t<tr><th scope=row>Vcells</th><td>5530880</td><td> 42.2</td><td>12255594</td><td> 93.6</td><td>8207076</td><td> 62.7</td></tr>\n",
                            "</tbody>\n",
                            "</table>\n"
                        ],
                        "text/latex": [
                            "A matrix: 2 x 6 of type dbl\n",
                            "\\begin{tabular}{r|llllll}\n",
                            "  & used & (Mb) & gc trigger & (Mb) & max used & (Mb)\\\\\n",
                            "\\hline\n",
                            "\tNcells & 2823889 & 150.9 &  4357140 & 232.7 & 4357140 & 232.7\\\\\n",
                            "\tVcells & 5530880 &  42.2 & 12255594 &  93.6 & 8207076 &  62.7\\\\\n",
                            "\\end{tabular}\n"
                        ],
                        "text/markdown": [
                            "\n",
                            "A matrix: 2 x 6 of type dbl\n",
                            "\n",
                            "| <!--/--> | used | (Mb) | gc trigger | (Mb) | max used | (Mb) |\n",
                            "|---|---|---|---|---|---|---|\n",
                            "| Ncells | 2823889 | 150.9 |  4357140 | 232.7 | 4357140 | 232.7 |\n",
                            "| Vcells | 5530880 |  42.2 | 12255594 |  93.6 | 8207076 |  62.7 |\n",
                            "\n"
                        ],
                        "text/plain": [
                            "       used    (Mb)  gc trigger (Mb)  max used (Mb) \n",
                            "Ncells 2823889 150.9  4357140   232.7 4357140  232.7\n",
                            "Vcells 5530880  42.2 12255594    93.6 8207076   62.7"
                        ]
                    },
                    "metadata": {},
                    "output_type": "display_data"
                }
            ],
            "source": [
                "raw.auc_usage.mem <- bind_rows(foreach (ark = METRICS_ARKS) %dopar% {\n",
                "        load_single_csv(ark, \"memory_observed_from_fog_node.csv\") %>%\n",
                "                prepare() %>%\n",
                "                prepare_convert() %>%\n",
                "                get_usage()\n",
                "})\n",
                "\n",
                "gc()"
            ]
        },
        {
            "cell_type": "code",
            "execution_count": 21,
            "id": "276b2d4a",
            "metadata": {
                "vscode": {
                    "languageId": "r"
                }
            },
            "outputs": [
                {
                    "name": "stderr",
                    "output_type": "stream",
                    "text": [
                        "\u001b[1m\u001b[22m`summarise()` has grouped output by 'folder', 'metric_group', 'metric_group_group'. You can override\n",
                        "using the `.groups` argument.\n"
                    ]
                }
            ],
            "source": [
                "total_gains <- bids_won_function %>%\n",
                "    group_by(folder, metric_group, metric_group_group, winner) %>%\n",
                "    summarise(earnings = sum(cost)) %>%\n",
                "    {\n",
                "        .\n",
                "    }\n"
            ]
        },
        {
            "cell_type": "code",
            "execution_count": 22,
            "id": "d7000422",
            "metadata": {
                "vscode": {
                    "languageId": "r"
                }
            },
            "outputs": [
                {
                    "name": "stderr",
                    "output_type": "stream",
                    "text": [
                        "\u001b[1m\u001b[22m`summarise()` has grouped output by 'folder', 'metric_group'. You can override using the `.groups`\n",
                        "argument.\n"
                    ]
                }
            ],
            "source": [
                "grand_total_gains <- bids_won_function %>%\n",
                "    group_by(folder, metric_group, metric_group_group) %>%\n",
                "    summarise(grand_total = sum(cost))\n"
            ]
        },
        {
            "attachments": {},
            "cell_type": "markdown",
            "id": "fb6e1ecb-0df6-4cee-9b54-42db8135ae9a",
            "metadata": {},
            "source": [
                "## Latencies and SLAs"
            ]
        },
        {
            "cell_type": "code",
            "execution_count": 23,
            "id": "d1c1abea-cc79-460b-b15f-edb50b61cda4",
            "metadata": {
                "vscode": {
                    "languageId": "r"
                }
            },
            "outputs": [],
            "source": [
                "errors <- tryCatch(\n",
                "    {\n",
                "        load_csv(\"iot_emulation_http_request_to_processing_echo_fails.csv\") %>%\n",
                "            prepare() %>%\n",
                "            prepare_convert() %>%\n",
                "            extract_function_name_info() %>%\n",
                "            distinct()\n",
                "    },\n",
                "    error = function(cond) {\n",
                "        columns <- c(\"instance\", \"job\", \"timestamp\", \"tag\", \"period\", \"folder\", \"metric_group\", \"latency\", \"value\")\n",
                "        df <- data.frame(instance = character(0), job = character(0), period = numeric(0), folder = character(0), metric_group = character(0), latency = character(0), value = numeric(0))\n",
                "        return(df)\n",
                "    }\n",
                ")\n"
            ]
        },
        {
            "cell_type": "code",
            "execution_count": 24,
            "id": "85cc47ae",
            "metadata": {
                "vscode": {
                    "languageId": "r"
                }
            },
            "outputs": [
                {
                    "data": {
                        "text/html": [
                            "<style>\n",
                            ".list-inline {list-style: none; margin:0; padding: 0}\n",
                            ".list-inline>li {display: inline-block}\n",
                            ".list-inline>li:not(:last-child)::after {content: \"\\00b7\"; padding: 0 .5ex}\n",
                            "</style>\n",
                            "<ol class=list-inline><li>'destination_name'</li><li>'field'</li><li>'value'</li><li>'instance'</li><li>'timestamp'</li><li>'folder'</li><li>'metric_group'</li><li>'metric_group_group'</li><li>'goal'</li><li>'toto'</li><li>'diff'</li></ol>\n"
                        ],
                        "text/latex": [
                            "\\begin{enumerate*}\n",
                            "\\item 'destination\\_name'\n",
                            "\\item 'field'\n",
                            "\\item 'value'\n",
                            "\\item 'instance'\n",
                            "\\item 'timestamp'\n",
                            "\\item 'folder'\n",
                            "\\item 'metric\\_group'\n",
                            "\\item 'metric\\_group\\_group'\n",
                            "\\item 'goal'\n",
                            "\\item 'toto'\n",
                            "\\item 'diff'\n",
                            "\\end{enumerate*}\n"
                        ],
                        "text/markdown": [
                            "1. 'destination_name'\n",
                            "2. 'field'\n",
                            "3. 'value'\n",
                            "4. 'instance'\n",
                            "5. 'timestamp'\n",
                            "6. 'folder'\n",
                            "7. 'metric_group'\n",
                            "8. 'metric_group_group'\n",
                            "9. 'goal'\n",
                            "10. 'toto'\n",
                            "11. 'diff'\n",
                            "\n",
                            "\n"
                        ],
                        "text/plain": [
                            " [1] \"destination_name\"   \"field\"              \"value\"             \n",
                            " [4] \"instance\"           \"timestamp\"          \"folder\"            \n",
                            " [7] \"metric_group\"       \"metric_group_group\" \"goal\"              \n",
                            "[10] \"toto\"               \"diff\"              "
                        ]
                    },
                    "metadata": {},
                    "output_type": "display_data"
                }
            ],
            "source": [
                "colnames(latency)"
            ]
        },
        {
            "cell_type": "code",
            "execution_count": 25,
            "id": "cd7140b8",
            "metadata": {
                "vscode": {
                    "languageId": "r"
                }
            },
            "outputs": [
                {
                    "name": "stderr",
                    "output_type": "stream",
                    "text": [
                        "\u001b[1m\u001b[22mJoining, by = \"folder\"\n",
                        "\u001b[1m\u001b[22mDon't know how to automatically pick scale for object of type \u001b[34m<difftime>\u001b[39m. Defaulting to continuous.\n"
                    ]
                },
                {
                    "data": {
                        "image/png": "[encoded data removed]",
                        "text/plain": [
                            "plot without title"
                        ]
                    },
                    "metadata": {
                        "image/png": {
                            "height": 900,
                            "width": 900
                        }
                    },
                    "output_type": "display_data"
                }
            ],
            "source": [
                "fig(15, 15)\n",
                "latency %>%\n",
                "  filter(field == \"raw\") %>%\n",
                "  adjust_timestamps() %>%\n",
                "  rename(source = instance, destination = destination_name, latency_value = value) %>%\n",
                "  select(timestamp, source, destination, folder, latency_value, diff) %>%\n",
                "  ggplot(aes(x= timestamp, y = latency_value, color = interaction(source, destination))) +\n",
                "  facet_grid(cols = vars(folder)) +\n",
                "  geom_point()\n",
                "  # gghighlight(diff > 3)"
            ]
        },
        {
            "cell_type": "code",
            "execution_count": 129,
            "id": "36dc9488",
            "metadata": {
                "tags": [],
                "vscode": {
                    "languageId": "r"
                }
            },
            "outputs": [
                {
                    "name": "stderr",
                    "output_type": "stream",
                    "text": [
                        "\u001b[1m\u001b[22mJoining, by = \"folder\"\n"
                    ]
                },
                {
                    "name": "stderr",
                    "output_type": "stream",
                    "text": [
                        "\u001b[1m\u001b[22m`summarise()` has grouped output by 'timestamp_group', 'source', 'destination'. You can override\n",
                        "using the `.groups` argument.\n",
                        "\u001b[1m\u001b[22mNew names:\n",
                        "\u001b[36m•\u001b[39m `` -> `...1`\n",
                        "\u001b[1m\u001b[22mNew names:\n",
                        "\u001b[36m•\u001b[39m `` -> `...1`\n",
                        "\u001b[1m\u001b[22mJoining, by = \"folder\"\n",
                        "\u001b[1m\u001b[22m`summarise()` has grouped output by 'timestamp', 'folder'. You can override using the `.groups`\n",
                        "argument.\n",
                        "\u001b[1m\u001b[22m`summarise()` has grouped output by 'timestamp_group', 'folder'. You can override using the\n",
                        "`.groups` argument.\n",
                        "\u001b[1m\u001b[22mJoining, by = \"folder\"\n",
                        "\u001b[1m\u001b[22m`summarise()` has grouped output by 'timestamp_group', 'folder'. You can override using the\n",
                        "`.groups` argument.\n",
                        "\u001b[1m\u001b[22mNew names:\n",
                        "\u001b[36m•\u001b[39m `` -> `...1`\n",
                        "\u001b[1m\u001b[22mNew names:\n",
                        "\u001b[36m•\u001b[39m `` -> `...1`\n",
                        "\u001b[1m\u001b[22mJoining, by = \"folder\"\n",
                        "\u001b[1m\u001b[22mJoining, by = \"folder\"\n"
                    ]
                },
                {
                    "data": {
                        "text/html": [
                            "<table class=\"dataframe\">\n",
                            "<caption>A tibble: 5 x 11</caption>\n",
                            "<thead>\n",
                            "\t<tr><th scope=col>function_name</th><th scope=col>docker_fn_name</th><th scope=col>function_index</th><th scope=col>cpu</th><th scope=col>mem</th><th scope=col>latency</th><th scope=col>arrival</th><th scope=col>request_interval</th><th scope=col>duration</th><th scope=col>nb_functions_requested_per_node</th><th scope=col>nb_functions_requested_total</th></tr>\n",
                            "\t<tr><th scope=col>&lt;chr&gt;</th><th scope=col>&lt;chr&gt;</th><th scope=col>&lt;chr&gt;</th><th scope=col>&lt;dbl&gt;</th><th scope=col>&lt;dbl&gt;</th><th scope=col>&lt;dbl&gt;</th><th scope=col>&lt;dbl&gt;</th><th scope=col>&lt;dbl&gt;</th><th scope=col>&lt;dbl&gt;</th><th scope=col>&lt;dbl&gt;</th><th scope=col>&lt;dbl&gt;</th></tr>\n",
                            "</thead>\n",
                            "<tbody>\n",
                            "\t<tr><td>imagePreProcessing-i1-c100-m256-l42-a179-r12382-d1619555</td><td>NA</td><td>NA</td><td>NA</td><td>NA</td><td>NA</td><td>NA</td><td>NA</td><td>NA</td><td>NA</td><td>NA</td></tr>\n",
                            "\t<tr><td>imagePreProcessing-i0-c100-m256-l73-a333-r75442-d1712849</td><td>NA</td><td>NA</td><td>NA</td><td>NA</td><td>NA</td><td>NA</td><td>NA</td><td>NA</td><td>NA</td><td>NA</td></tr>\n",
                            "\t<tr><td>imagePreProcessing-i1-c100-m256-l77-a236-r535-d160211   </td><td>NA</td><td>NA</td><td>NA</td><td>NA</td><td>NA</td><td>NA</td><td>NA</td><td>NA</td><td>NA</td><td>NA</td></tr>\n",
                            "\t<tr><td>imagePreProcessing-i2-c100-m256-l142-a453-r35-d3122824  </td><td>NA</td><td>NA</td><td>NA</td><td>NA</td><td>NA</td><td>NA</td><td>NA</td><td>NA</td><td>NA</td><td>NA</td></tr>\n",
                            "\t<tr><td>imagePreProcessing-i3-c100-m256-l45-a138-r3918-d6910205 </td><td>NA</td><td>NA</td><td>NA</td><td>NA</td><td>NA</td><td>NA</td><td>NA</td><td>NA</td><td>NA</td><td>NA</td></tr>\n",
                            "</tbody>\n",
                            "</table>\n"
                        ],
                        "text/latex": [
                            "A tibble: 5 x 11\n",
                            "\\begin{tabular}{lllllllllll}\n",
                            " function\\_name & docker\\_fn\\_name & function\\_index & cpu & mem & latency & arrival & request\\_interval & duration & nb\\_functions\\_requested\\_per\\_node & nb\\_functions\\_requested\\_total\\\\\n",
                            " <chr> & <chr> & <chr> & <dbl> & <dbl> & <dbl> & <dbl> & <dbl> & <dbl> & <dbl> & <dbl>\\\\\n",
                            "\\hline\n",
                            "\t imagePreProcessing-i1-c100-m256-l42-a179-r12382-d1619555 & NA & NA & NA & NA & NA & NA & NA & NA & NA & NA\\\\\n",
                            "\t imagePreProcessing-i0-c100-m256-l73-a333-r75442-d1712849 & NA & NA & NA & NA & NA & NA & NA & NA & NA & NA\\\\\n",
                            "\t imagePreProcessing-i1-c100-m256-l77-a236-r535-d160211    & NA & NA & NA & NA & NA & NA & NA & NA & NA & NA\\\\\n",
                            "\t imagePreProcessing-i2-c100-m256-l142-a453-r35-d3122824   & NA & NA & NA & NA & NA & NA & NA & NA & NA & NA\\\\\n",
                            "\t imagePreProcessing-i3-c100-m256-l45-a138-r3918-d6910205  & NA & NA & NA & NA & NA & NA & NA & NA & NA & NA\\\\\n",
                            "\\end{tabular}\n"
                        ],
                        "text/markdown": [
                            "\n",
                            "A tibble: 5 x 11\n",
                            "\n",
                            "| function_name &lt;chr&gt; | docker_fn_name &lt;chr&gt; | function_index &lt;chr&gt; | cpu &lt;dbl&gt; | mem &lt;dbl&gt; | latency &lt;dbl&gt; | arrival &lt;dbl&gt; | request_interval &lt;dbl&gt; | duration &lt;dbl&gt; | nb_functions_requested_per_node &lt;dbl&gt; | nb_functions_requested_total &lt;dbl&gt; |\n",
                            "|---|---|---|---|---|---|---|---|---|---|---|\n",
                            "| imagePreProcessing-i1-c100-m256-l42-a179-r12382-d1619555 | NA | NA | NA | NA | NA | NA | NA | NA | NA | NA |\n",
                            "| imagePreProcessing-i0-c100-m256-l73-a333-r75442-d1712849 | NA | NA | NA | NA | NA | NA | NA | NA | NA | NA |\n",
                            "| imagePreProcessing-i1-c100-m256-l77-a236-r535-d160211    | NA | NA | NA | NA | NA | NA | NA | NA | NA | NA |\n",
                            "| imagePreProcessing-i2-c100-m256-l142-a453-r35-d3122824   | NA | NA | NA | NA | NA | NA | NA | NA | NA | NA |\n",
                            "| imagePreProcessing-i3-c100-m256-l45-a138-r3918-d6910205  | NA | NA | NA | NA | NA | NA | NA | NA | NA | NA |\n",
                            "\n"
                        ],
                        "text/plain": [
                            "  function_name                                            docker_fn_name\n",
                            "1 imagePreProcessing-i1-c100-m256-l42-a179-r12382-d1619555 NA            \n",
                            "2 imagePreProcessing-i0-c100-m256-l73-a333-r75442-d1712849 NA            \n",
                            "3 imagePreProcessing-i1-c100-m256-l77-a236-r535-d160211    NA            \n",
                            "4 imagePreProcessing-i2-c100-m256-l142-a453-r35-d3122824   NA            \n",
                            "5 imagePreProcessing-i3-c100-m256-l45-a138-r3918-d6910205  NA            \n",
                            "  function_index cpu mem latency arrival request_interval duration\n",
                            "1 NA             NA  NA  NA      NA      NA               NA      \n",
                            "2 NA             NA  NA  NA      NA      NA               NA      \n",
                            "3 NA             NA  NA  NA      NA      NA               NA      \n",
                            "4 NA             NA  NA  NA      NA      NA               NA      \n",
                            "5 NA             NA  NA  NA      NA      NA               NA      \n",
                            "  nb_functions_requested_per_node nb_functions_requested_total\n",
                            "1 NA                              NA                          \n",
                            "2 NA                              NA                          \n",
                            "3 NA                              NA                          \n",
                            "4 NA                              NA                          \n",
                            "5 NA                              NA                          "
                        ]
                    },
                    "metadata": {},
                    "output_type": "display_data"
                },
                {
                    "name": "stderr",
                    "output_type": "stream",
                    "text": [
                        "\u001b[1m\u001b[22mNew names:\n",
                        "\u001b[36m•\u001b[39m `` -> `...1`\n",
                        "\u001b[1m\u001b[22mNew names:\n",
                        "\u001b[36m•\u001b[39m `` -> `...1`\n",
                        "\u001b[1m\u001b[22mJoining, by = \"folder\"\n",
                        "\u001b[1m\u001b[22mJoining, by = \"folder\"\n"
                    ]
                },
                {
                    "data": {
                        "text/html": [
                            "<table class=\"dataframe\">\n",
                            "<caption>A tibble: 5 x 27</caption>\n",
                            "<thead>\n",
                            "\t<tr><th scope=col>...1</th><th scope=col>result</th><th scope=col>table</th><th scope=col>_start</th><th scope=col>_stop</th><th scope=col>timestamp</th><th scope=col>value_raw</th><th scope=col>field</th><th scope=col>_measurement</th><th scope=col>req_id</th><th scope=col>...</th><th scope=col>function_index</th><th scope=col>cpu</th><th scope=col>mem</th><th scope=col>latency</th><th scope=col>arrival</th><th scope=col>request_interval</th><th scope=col>duration</th><th scope=col>nb_functions_requested_per_node</th><th scope=col>nb_functions_requested_total</th><th scope=col>timestamp_group</th></tr>\n",
                            "\t<tr><th scope=col>&lt;lgl&gt;</th><th scope=col>&lt;lgl&gt;</th><th scope=col>&lt;dbl&gt;</th><th scope=col>&lt;dttm&gt;</th><th scope=col>&lt;dttm&gt;</th><th scope=col>&lt;drtn&gt;</th><th scope=col>&lt;drtn&gt;</th><th scope=col>&lt;chr&gt;</th><th scope=col>&lt;chr&gt;</th><th scope=col>&lt;chr&gt;</th><th scope=col>...</th><th scope=col>&lt;chr&gt;</th><th scope=col>&lt;dbl&gt;</th><th scope=col>&lt;dbl&gt;</th><th scope=col>&lt;dbl&gt;</th><th scope=col>&lt;dbl&gt;</th><th scope=col>&lt;dbl&gt;</th><th scope=col>&lt;dbl&gt;</th><th scope=col>&lt;dbl&gt;</th><th scope=col>&lt;dbl&gt;</th><th scope=col>&lt;drtn&gt;</th></tr>\n",
                            "</thead>\n",
                            "<tbody>\n",
                            "\t<tr><td>NA</td><td>NA</td><td>  1</td><td>1970-01-01</td><td>2024-01-31 10:50:23</td><td>184.7307 secs</td><td>184.8180 secs</td><td>value</td><td>proxy</td><td>3c1840c4-b02d-4da0-8944-947aaa707c48</td><td>...</td><td>NA</td><td>NA</td><td>NA</td><td>NA</td><td>NA</td><td>NA</td><td>NA</td><td>NA</td><td>NA</td><td>195 secs</td></tr>\n",
                            "\t<tr><td>NA</td><td>NA</td><td>158</td><td>1970-01-01</td><td>2024-01-31 10:50:23</td><td>160.8178 secs</td><td>160.6881 secs</td><td>value</td><td>proxy</td><td>9d24664c-0bb4-4ae5-89d2-ae8247449311</td><td>...</td><td>NA</td><td>NA</td><td>NA</td><td>NA</td><td>NA</td><td>NA</td><td>NA</td><td>NA</td><td>NA</td><td>165 secs</td></tr>\n",
                            "\t<tr><td>NA</td><td>NA</td><td> 25</td><td>1970-01-01</td><td>2024-01-31 10:50:23</td><td>115.5363 secs</td><td>115.6041 secs</td><td>value</td><td>proxy</td><td>0ebb9df9-3e30-4918-b854-79f50bc90cc4</td><td>...</td><td>NA</td><td>NA</td><td>NA</td><td>NA</td><td>NA</td><td>NA</td><td>NA</td><td>NA</td><td>NA</td><td>120 secs</td></tr>\n",
                            "\t<tr><td>NA</td><td>NA</td><td>254</td><td>1970-01-01</td><td>2024-01-31 10:50:23</td><td>347.2157 secs</td><td>347.0847 secs</td><td>value</td><td>proxy</td><td>fe0b0e70-cfd9-464b-af17-7f14f9fd72ff</td><td>...</td><td>NA</td><td>NA</td><td>NA</td><td>NA</td><td>NA</td><td>NA</td><td>NA</td><td>NA</td><td>NA</td><td>360 secs</td></tr>\n",
                            "\t<tr><td>NA</td><td>NA</td><td>197</td><td>1970-01-01</td><td>2024-01-31 10:50:23</td><td>225.3068 secs</td><td>225.4288 secs</td><td>value</td><td>proxy</td><td>c7527fbe-1489-4a90-98a6-00f44ed01e52</td><td>...</td><td>NA</td><td>NA</td><td>NA</td><td>NA</td><td>NA</td><td>NA</td><td>NA</td><td>NA</td><td>NA</td><td>240 secs</td></tr>\n",
                            "</tbody>\n",
                            "</table>\n"
                        ],
                        "text/latex": [
                            "A tibble: 5 x 27\n",
                            "\\begin{tabular}{lllllllllllllllllllll}\n",
                            " ...1 & result & table & \\_start & \\_stop & timestamp & value\\_raw & field & \\_measurement & req\\_id & ... & function\\_index & cpu & mem & latency & arrival & request\\_interval & duration & nb\\_functions\\_requested\\_per\\_node & nb\\_functions\\_requested\\_total & timestamp\\_group\\\\\n",
                            " <lgl> & <lgl> & <dbl> & <dttm> & <dttm> & <drtn> & <drtn> & <chr> & <chr> & <chr> & ... & <chr> & <dbl> & <dbl> & <dbl> & <dbl> & <dbl> & <dbl> & <dbl> & <dbl> & <drtn>\\\\\n",
                            "\\hline\n",
                            "\t NA & NA &   1 & 1970-01-01 & 2024-01-31 10:50:23 & 184.7307 secs & 184.8180 secs & value & proxy & 3c1840c4-b02d-4da0-8944-947aaa707c48 & ... & NA & NA & NA & NA & NA & NA & NA & NA & NA & 195 secs\\\\\n",
                            "\t NA & NA & 158 & 1970-01-01 & 2024-01-31 10:50:23 & 160.8178 secs & 160.6881 secs & value & proxy & 9d24664c-0bb4-4ae5-89d2-ae8247449311 & ... & NA & NA & NA & NA & NA & NA & NA & NA & NA & 165 secs\\\\\n",
                            "\t NA & NA &  25 & 1970-01-01 & 2024-01-31 10:50:23 & 115.5363 secs & 115.6041 secs & value & proxy & 0ebb9df9-3e30-4918-b854-79f50bc90cc4 & ... & NA & NA & NA & NA & NA & NA & NA & NA & NA & 120 secs\\\\\n",
                            "\t NA & NA & 254 & 1970-01-01 & 2024-01-31 10:50:23 & 347.2157 secs & 347.0847 secs & value & proxy & fe0b0e70-cfd9-464b-af17-7f14f9fd72ff & ... & NA & NA & NA & NA & NA & NA & NA & NA & NA & 360 secs\\\\\n",
                            "\t NA & NA & 197 & 1970-01-01 & 2024-01-31 10:50:23 & 225.3068 secs & 225.4288 secs & value & proxy & c7527fbe-1489-4a90-98a6-00f44ed01e52 & ... & NA & NA & NA & NA & NA & NA & NA & NA & NA & 240 secs\\\\\n",
                            "\\end{tabular}\n"
                        ],
                        "text/markdown": [
                            "\n",
                            "A tibble: 5 x 27\n",
                            "\n",
                            "| ...1 &lt;lgl&gt; | result &lt;lgl&gt; | table &lt;dbl&gt; | _start &lt;dttm&gt; | _stop &lt;dttm&gt; | timestamp &lt;drtn&gt; | value_raw &lt;drtn&gt; | field &lt;chr&gt; | _measurement &lt;chr&gt; | req_id &lt;chr&gt; | ... ... | function_index &lt;chr&gt; | cpu &lt;dbl&gt; | mem &lt;dbl&gt; | latency &lt;dbl&gt; | arrival &lt;dbl&gt; | request_interval &lt;dbl&gt; | duration &lt;dbl&gt; | nb_functions_requested_per_node &lt;dbl&gt; | nb_functions_requested_total &lt;dbl&gt; | timestamp_group &lt;drtn&gt; |\n",
                            "|---|---|---|---|---|---|---|---|---|---|---|---|---|---|---|---|---|---|---|---|---|\n",
                            "| NA | NA |   1 | 1970-01-01 | 2024-01-31 10:50:23 | 184.7307 secs | 184.8180 secs | value | proxy | 3c1840c4-b02d-4da0-8944-947aaa707c48 | ... | NA | NA | NA | NA | NA | NA | NA | NA | NA | 195 secs |\n",
                            "| NA | NA | 158 | 1970-01-01 | 2024-01-31 10:50:23 | 160.8178 secs | 160.6881 secs | value | proxy | 9d24664c-0bb4-4ae5-89d2-ae8247449311 | ... | NA | NA | NA | NA | NA | NA | NA | NA | NA | 165 secs |\n",
                            "| NA | NA |  25 | 1970-01-01 | 2024-01-31 10:50:23 | 115.5363 secs | 115.6041 secs | value | proxy | 0ebb9df9-3e30-4918-b854-79f50bc90cc4 | ... | NA | NA | NA | NA | NA | NA | NA | NA | NA | 120 secs |\n",
                            "| NA | NA | 254 | 1970-01-01 | 2024-01-31 10:50:23 | 347.2157 secs | 347.0847 secs | value | proxy | fe0b0e70-cfd9-464b-af17-7f14f9fd72ff | ... | NA | NA | NA | NA | NA | NA | NA | NA | NA | 360 secs |\n",
                            "| NA | NA | 197 | 1970-01-01 | 2024-01-31 10:50:23 | 225.3068 secs | 225.4288 secs | value | proxy | c7527fbe-1489-4a90-98a6-00f44ed01e52 | ... | NA | NA | NA | NA | NA | NA | NA | NA | NA | 240 secs |\n",
                            "\n"
                        ],
                        "text/plain": [
                            "  ...1 result table _start     _stop               timestamp     value_raw    \n",
                            "1 NA   NA       1   1970-01-01 2024-01-31 10:50:23 184.7307 secs 184.8180 secs\n",
                            "2 NA   NA     158   1970-01-01 2024-01-31 10:50:23 160.8178 secs 160.6881 secs\n",
                            "3 NA   NA      25   1970-01-01 2024-01-31 10:50:23 115.5363 secs 115.6041 secs\n",
                            "4 NA   NA     254   1970-01-01 2024-01-31 10:50:23 347.2157 secs 347.0847 secs\n",
                            "5 NA   NA     197   1970-01-01 2024-01-31 10:50:23 225.3068 secs 225.4288 secs\n",
                            "  field _measurement req_id                               ... function_index\n",
                            "1 value proxy        3c1840c4-b02d-4da0-8944-947aaa707c48 ... NA            \n",
                            "2 value proxy        9d24664c-0bb4-4ae5-89d2-ae8247449311 ... NA            \n",
                            "3 value proxy        0ebb9df9-3e30-4918-b854-79f50bc90cc4 ... NA            \n",
                            "4 value proxy        fe0b0e70-cfd9-464b-af17-7f14f9fd72ff ... NA            \n",
                            "5 value proxy        c7527fbe-1489-4a90-98a6-00f44ed01e52 ... NA            \n",
                            "  cpu mem latency arrival request_interval duration\n",
                            "1 NA  NA  NA      NA      NA               NA      \n",
                            "2 NA  NA  NA      NA      NA               NA      \n",
                            "3 NA  NA  NA      NA      NA               NA      \n",
                            "4 NA  NA  NA      NA      NA               NA      \n",
                            "5 NA  NA  NA      NA      NA               NA      \n",
                            "  nb_functions_requested_per_node nb_functions_requested_total timestamp_group\n",
                            "1 NA                              NA                           195 secs       \n",
                            "2 NA                              NA                           165 secs       \n",
                            "3 NA                              NA                           120 secs       \n",
                            "4 NA                              NA                           360 secs       \n",
                            "5 NA                              NA                           240 secs       "
                        ]
                    },
                    "metadata": {},
                    "output_type": "display_data"
                },
                {
                    "data": {
                        "text/html": [
                            "4780"
                        ],
                        "text/latex": [
                            "4780"
                        ],
                        "text/markdown": [
                            "4780"
                        ],
                        "text/plain": [
                            "[1] 4780"
                        ]
                    },
                    "metadata": {},
                    "output_type": "display_data"
                },
                {
                    "data": {
                        "text/html": [
                            "<table class=\"dataframe\">\n",
                            "<caption>A tibble: 5 x 27</caption>\n",
                            "<thead>\n",
                            "\t<tr><th scope=col>...1</th><th scope=col>result</th><th scope=col>table</th><th scope=col>_start</th><th scope=col>_stop</th><th scope=col>timestamp</th><th scope=col>value_raw</th><th scope=col>field</th><th scope=col>_measurement</th><th scope=col>req_id</th><th scope=col>...</th><th scope=col>function_index</th><th scope=col>cpu</th><th scope=col>mem</th><th scope=col>latency</th><th scope=col>arrival</th><th scope=col>request_interval</th><th scope=col>duration</th><th scope=col>nb_functions_requested_per_node</th><th scope=col>nb_functions_requested_total</th><th scope=col>timestamp_group</th></tr>\n",
                            "\t<tr><th scope=col>&lt;lgl&gt;</th><th scope=col>&lt;lgl&gt;</th><th scope=col>&lt;dbl&gt;</th><th scope=col>&lt;dttm&gt;</th><th scope=col>&lt;dttm&gt;</th><th scope=col>&lt;drtn&gt;</th><th scope=col>&lt;drtn&gt;</th><th scope=col>&lt;chr&gt;</th><th scope=col>&lt;chr&gt;</th><th scope=col>&lt;chr&gt;</th><th scope=col>...</th><th scope=col>&lt;chr&gt;</th><th scope=col>&lt;dbl&gt;</th><th scope=col>&lt;dbl&gt;</th><th scope=col>&lt;dbl&gt;</th><th scope=col>&lt;dbl&gt;</th><th scope=col>&lt;dbl&gt;</th><th scope=col>&lt;dbl&gt;</th><th scope=col>&lt;dbl&gt;</th><th scope=col>&lt;dbl&gt;</th><th scope=col>&lt;drtn&gt;</th></tr>\n",
                            "</thead>\n",
                            "<tbody>\n",
                            "\t<tr><td>NA</td><td>NA</td><td> 34</td><td>1970-01-01</td><td>2024-01-31 10:50:23</td><td>161.0050 secs</td><td>161.0027 secs</td><td>value</td><td>proxy</td><td>219274f3-168d-44f9-985e-5542a8e56fdb</td><td>...</td><td>NA</td><td>NA</td><td>NA</td><td>NA</td><td>NA</td><td>NA</td><td>NA</td><td>NA</td><td>NA</td><td>165 secs</td></tr>\n",
                            "\t<tr><td>NA</td><td>NA</td><td>451</td><td>1970-01-01</td><td>2024-01-31 10:50:23</td><td>388.0429 secs</td><td>387.7915 secs</td><td>value</td><td>proxy</td><td>e50f9803-1988-45ea-a3f3-2ce786b04599</td><td>...</td><td>NA</td><td>NA</td><td>NA</td><td>NA</td><td>NA</td><td>NA</td><td>NA</td><td>NA</td><td>NA</td><td>390 secs</td></tr>\n",
                            "\t<tr><td>NA</td><td>NA</td><td> 23</td><td>1970-01-01</td><td>2024-01-31 10:50:23</td><td>257.7953 secs</td><td>257.7936 secs</td><td>value</td><td>proxy</td><td>16867364-335e-4b61-9e8f-39d51a00d194</td><td>...</td><td>NA</td><td>NA</td><td>NA</td><td>NA</td><td>NA</td><td>NA</td><td>NA</td><td>NA</td><td>NA</td><td>270 secs</td></tr>\n",
                            "\t<tr><td>NA</td><td>NA</td><td> 74</td><td>1970-01-01</td><td>2024-01-31 10:50:23</td><td>255.4469 secs</td><td>255.5645 secs</td><td>value</td><td>proxy</td><td>47182c5d-2810-486f-84e0-b46f983a1f62</td><td>...</td><td>NA</td><td>NA</td><td>NA</td><td>NA</td><td>NA</td><td>NA</td><td>NA</td><td>NA</td><td>NA</td><td>270 secs</td></tr>\n",
                            "\t<tr><td>NA</td><td>NA</td><td> 48</td><td>1970-01-01</td><td>2024-01-31 10:50:23</td><td>291.2916 secs</td><td>291.3604 secs</td><td>value</td><td>proxy</td><td>168aede4-59c9-47d8-b7f3-9ca09cca138a</td><td>...</td><td>NA</td><td>NA</td><td>NA</td><td>NA</td><td>NA</td><td>NA</td><td>NA</td><td>NA</td><td>NA</td><td>300 secs</td></tr>\n",
                            "</tbody>\n",
                            "</table>\n"
                        ],
                        "text/latex": [
                            "A tibble: 5 x 27\n",
                            "\\begin{tabular}{lllllllllllllllllllll}\n",
                            " ...1 & result & table & \\_start & \\_stop & timestamp & value\\_raw & field & \\_measurement & req\\_id & ... & function\\_index & cpu & mem & latency & arrival & request\\_interval & duration & nb\\_functions\\_requested\\_per\\_node & nb\\_functions\\_requested\\_total & timestamp\\_group\\\\\n",
                            " <lgl> & <lgl> & <dbl> & <dttm> & <dttm> & <drtn> & <drtn> & <chr> & <chr> & <chr> & ... & <chr> & <dbl> & <dbl> & <dbl> & <dbl> & <dbl> & <dbl> & <dbl> & <dbl> & <drtn>\\\\\n",
                            "\\hline\n",
                            "\t NA & NA &  34 & 1970-01-01 & 2024-01-31 10:50:23 & 161.0050 secs & 161.0027 secs & value & proxy & 219274f3-168d-44f9-985e-5542a8e56fdb & ... & NA & NA & NA & NA & NA & NA & NA & NA & NA & 165 secs\\\\\n",
                            "\t NA & NA & 451 & 1970-01-01 & 2024-01-31 10:50:23 & 388.0429 secs & 387.7915 secs & value & proxy & e50f9803-1988-45ea-a3f3-2ce786b04599 & ... & NA & NA & NA & NA & NA & NA & NA & NA & NA & 390 secs\\\\\n",
                            "\t NA & NA &  23 & 1970-01-01 & 2024-01-31 10:50:23 & 257.7953 secs & 257.7936 secs & value & proxy & 16867364-335e-4b61-9e8f-39d51a00d194 & ... & NA & NA & NA & NA & NA & NA & NA & NA & NA & 270 secs\\\\\n",
                            "\t NA & NA &  74 & 1970-01-01 & 2024-01-31 10:50:23 & 255.4469 secs & 255.5645 secs & value & proxy & 47182c5d-2810-486f-84e0-b46f983a1f62 & ... & NA & NA & NA & NA & NA & NA & NA & NA & NA & 270 secs\\\\\n",
                            "\t NA & NA &  48 & 1970-01-01 & 2024-01-31 10:50:23 & 291.2916 secs & 291.3604 secs & value & proxy & 168aede4-59c9-47d8-b7f3-9ca09cca138a & ... & NA & NA & NA & NA & NA & NA & NA & NA & NA & 300 secs\\\\\n",
                            "\\end{tabular}\n"
                        ],
                        "text/markdown": [
                            "\n",
                            "A tibble: 5 x 27\n",
                            "\n",
                            "| ...1 &lt;lgl&gt; | result &lt;lgl&gt; | table &lt;dbl&gt; | _start &lt;dttm&gt; | _stop &lt;dttm&gt; | timestamp &lt;drtn&gt; | value_raw &lt;drtn&gt; | field &lt;chr&gt; | _measurement &lt;chr&gt; | req_id &lt;chr&gt; | ... ... | function_index &lt;chr&gt; | cpu &lt;dbl&gt; | mem &lt;dbl&gt; | latency &lt;dbl&gt; | arrival &lt;dbl&gt; | request_interval &lt;dbl&gt; | duration &lt;dbl&gt; | nb_functions_requested_per_node &lt;dbl&gt; | nb_functions_requested_total &lt;dbl&gt; | timestamp_group &lt;drtn&gt; |\n",
                            "|---|---|---|---|---|---|---|---|---|---|---|---|---|---|---|---|---|---|---|---|---|\n",
                            "| NA | NA |  34 | 1970-01-01 | 2024-01-31 10:50:23 | 161.0050 secs | 161.0027 secs | value | proxy | 219274f3-168d-44f9-985e-5542a8e56fdb | ... | NA | NA | NA | NA | NA | NA | NA | NA | NA | 165 secs |\n",
                            "| NA | NA | 451 | 1970-01-01 | 2024-01-31 10:50:23 | 388.0429 secs | 387.7915 secs | value | proxy | e50f9803-1988-45ea-a3f3-2ce786b04599 | ... | NA | NA | NA | NA | NA | NA | NA | NA | NA | 390 secs |\n",
                            "| NA | NA |  23 | 1970-01-01 | 2024-01-31 10:50:23 | 257.7953 secs | 257.7936 secs | value | proxy | 16867364-335e-4b61-9e8f-39d51a00d194 | ... | NA | NA | NA | NA | NA | NA | NA | NA | NA | 270 secs |\n",
                            "| NA | NA |  74 | 1970-01-01 | 2024-01-31 10:50:23 | 255.4469 secs | 255.5645 secs | value | proxy | 47182c5d-2810-486f-84e0-b46f983a1f62 | ... | NA | NA | NA | NA | NA | NA | NA | NA | NA | 270 secs |\n",
                            "| NA | NA |  48 | 1970-01-01 | 2024-01-31 10:50:23 | 291.2916 secs | 291.3604 secs | value | proxy | 168aede4-59c9-47d8-b7f3-9ca09cca138a | ... | NA | NA | NA | NA | NA | NA | NA | NA | NA | 300 secs |\n",
                            "\n"
                        ],
                        "text/plain": [
                            "  ...1 result table _start     _stop               timestamp     value_raw    \n",
                            "1 NA   NA      34   1970-01-01 2024-01-31 10:50:23 161.0050 secs 161.0027 secs\n",
                            "2 NA   NA     451   1970-01-01 2024-01-31 10:50:23 388.0429 secs 387.7915 secs\n",
                            "3 NA   NA      23   1970-01-01 2024-01-31 10:50:23 257.7953 secs 257.7936 secs\n",
                            "4 NA   NA      74   1970-01-01 2024-01-31 10:50:23 255.4469 secs 255.5645 secs\n",
                            "5 NA   NA      48   1970-01-01 2024-01-31 10:50:23 291.2916 secs 291.3604 secs\n",
                            "  field _measurement req_id                               ... function_index\n",
                            "1 value proxy        219274f3-168d-44f9-985e-5542a8e56fdb ... NA            \n",
                            "2 value proxy        e50f9803-1988-45ea-a3f3-2ce786b04599 ... NA            \n",
                            "3 value proxy        16867364-335e-4b61-9e8f-39d51a00d194 ... NA            \n",
                            "4 value proxy        47182c5d-2810-486f-84e0-b46f983a1f62 ... NA            \n",
                            "5 value proxy        168aede4-59c9-47d8-b7f3-9ca09cca138a ... NA            \n",
                            "  cpu mem latency arrival request_interval duration\n",
                            "1 NA  NA  NA      NA      NA               NA      \n",
                            "2 NA  NA  NA      NA      NA               NA      \n",
                            "3 NA  NA  NA      NA      NA               NA      \n",
                            "4 NA  NA  NA      NA      NA               NA      \n",
                            "5 NA  NA  NA      NA      NA               NA      \n",
                            "  nb_functions_requested_per_node nb_functions_requested_total timestamp_group\n",
                            "1 NA                              NA                           165 secs       \n",
                            "2 NA                              NA                           390 secs       \n",
                            "3 NA                              NA                           270 secs       \n",
                            "4 NA                              NA                           270 secs       \n",
                            "5 NA                              NA                           300 secs       "
                        ]
                    },
                    "metadata": {},
                    "output_type": "display_data"
                }
            ],
            "source": [
                "time_interval <- 15 # secs\n",
                "\n",
                "smooth_timestamps <- function(data) {\n",
                "  return(\n",
                "    data %>%\n",
                "      group_by(folder) %>%\n",
                "      mutate(timestamp_group = as.difftime((as.numeric(round(timestamp)) %/% time_interval + 1) * time_interval, units = \"secs\")) %>%\n",
                "      ungroup()\n",
                "  )\n",
                "}\n",
                "if (generate_gif) {\n",
                "\n",
                "\n",
                "data <- latency %>%\n",
                "  filter(field == \"raw\") %>%\n",
                "  adjust_timestamps() %>%\n",
                "  ungroup() %>%\n",
                "  rename(source = instance, destination = destination_name, latency_value = value) %>%\n",
                "  select(timestamp, source, destination, folder, latency_value, diff) %>%\n",
                "  smooth_timestamps() %>%\n",
                "  group_by(timestamp_group, source, destination, folder) %>%\n",
                "  summarise(latency_value = mean(latency_value), diff = mean(diff)) %>%\n",
                "  rename(timestamp = timestamp_group) %>%\n",
                "  ungroup() %>%\n",
                "  {\n",
                "    .\n",
                "  }\n",
                "\n",
                "\n",
                "nodes <- load_csv(\"provisioned_functions.csv\") %>%\n",
                "  prepare() %>%\n",
                "  adjust_timestamps() %>%\n",
                "  group_by(timestamp, folder, instance) %>%\n",
                "  mutate(provisioned = ifelse(value == 0, -1, value)) %>%\n",
                "  summarise(provisioned = sum(provisioned), value = sum(value)) %>%\n",
                "  group_by(folder, instance) %>%\n",
                "  arrange(timestamp, .by_group = TRUE) %>%\n",
                "  mutate(provisioned = lag(cumsum(provisioned), default = 0), total_provisioned = lag(cumsum(value), default = 0)) %>%\n",
                "  rename(source = instance) %>%\n",
                "  select(source, timestamp, folder, provisioned, total_provisioned) %>%\n",
                "  smooth_timestamps() %>%\n",
                "  group_by(timestamp_group, folder, source) %>%\n",
                "  summarise(provisioned = last(provisioned), total_provisioned = last(total_provisioned)) %>%\n",
                "  rename(timestamp = timestamp_group) %>%\n",
                "  ungroup() %>%\n",
                "  {\n",
                "    .\n",
                "  }\n",
                "# nodes %>% filter(source == \"rennes\")\n",
                "# nodes %>% filter(source == \"st_greg_3_in\")\n",
                "\n",
                "cpu <- raw.cpu.observed_from_fog_node %>%\n",
                "  adjust_timestamps() %>%\n",
                "  rename(source = instance) %>%\n",
                "  select(timestamp, source, folder, usage) %>%\n",
                "  smooth_timestamps() %>%\n",
                "  group_by(timestamp_group, folder, source) %>%\n",
                "  summarise(usage = mean(usage)) %>%\n",
                "  rename(timestamp = timestamp_group) %>%\n",
                "  ungroup()\n",
                "\n",
                "display(slice_sample(load_csv(\"proxy.csv\") %>% \n",
                "  prepare() %>%\n",
                "  adjust_timestamps() %>%\n",
                "  adjust_timestamps(var_name = \"value_raw\") %>%\n",
                "  mutate(value=value_raw) %>%\n",
                "  rename(function_name = tags) %>%\n",
                "  ungroup() %>%\n",
                "  select(function_name) %>%\n",
                "  extract_function_name_info()\n",
                ",n=5))\n",
                "\n",
                "gif.apdex.raw <- load_csv(\"proxy.csv\") %>%\n",
                "    prepare() %>%\n",
                "    adjust_timestamps() %>%\n",
                "    adjust_timestamps(var_name = \"value_raw\") %>%\n",
                "    mutate(value=value_raw) %>%\n",
                "    rename(function_name = tags) %>%\n",
                "    extract_function_name_info() %>%\n",
                "    smooth_timestamps() %>%\n",
                "    # inner_join(bids_won_function %>% select(sla_id, function_name, metric_group, metric_group_group, folder, winner), by = c(\"sla_id\", \"function_name\", \"folder\", \"metric_group_group\", \"metric_group\")) %>%\n",
                "    # rename(measured_latency = value, source = winner) %>%\n",
                "    # group_by(timestamp_group, sla_id, folder, source) %>%\n",
                "    # summarise(satisfied_count = sum(measured_latency <= latency), total = n()) %>%\n",
                "    # mutate(apdex = satisfied_count / total)\n",
                "    {.}\n",
                "    display(slice_sample(gif.apdex.raw, n=5))\n",
                " display(nrow(gif.apdex.raw))\n",
                "  toto = gif.apdex.raw\n",
                "  display(slice_sample(toto, n =5))\n",
                "  }"
            ]
        },
        {
            "cell_type": "code",
            "execution_count": null,
            "id": "d65ecff9",
            "metadata": {
                "vscode": {
                    "languageId": "r"
                }
            },
            "outputs": [],
            "source": [
                "\n",
                "if (generate_gif) {\n",
                "gif.apdex.by_node <- gif.apdex.raw %>%\n",
                "    group_by(timestamp_group, folder, source) %>%\n",
                "    summarise(apdex = mean(apdex)) %>%\n",
                "    rename(timestamp = timestamp_group) %>%\n",
                "    ungroup()\n",
                "\n",
                "# gif.apdex.by_function_and_node <- gif.apdex.raw %>%\n",
                "#     group_by(timestamp_group, folder, source) %>%\n",
                "#     summarise(apdex = mean(apdex)) %>%\n",
                "#     rename(timestamp = timestamp_group) %>%\n",
                "#     pivot_wider(names_from = apdex_category, values_from = apdex) %>%\n",
                "#     fill(everything(), .direction = \"downup\") %>%\n",
                "#     distinct() %>%\n",
                "#     ungroup()\n",
                "\n",
                "all_combinations <- data %>%\n",
                "  select(folder, source, destination) %>%\n",
                "  distinct() %>%\n",
                "  full_join(\n",
                "    data %>%\n",
                "      select(timestamp) %>%\n",
                "      distinct() %>%\n",
                "      full_join(nodes %>%\n",
                "        select(timestamp) %>%\n",
                "        distinct(), by = \"timestamp\") %>%\n",
                "      full_join(gif.apdex.by_node %>%\n",
                "        select(timestamp) %>%\n",
                "        distinct(), by = \"timestamp\") %>%\n",
                "      full_join(cpu %>%\n",
                "        select(timestamp) %>%\n",
                "        distinct(), by = \"timestamp\"),\n",
                "    by = character()\n",
                "  )\n",
                "\n",
                "\n",
                "data <- all_combinations %>%\n",
                "  full_join(data, by = c(\"timestamp\", \"folder\", \"source\", \"destination\")) %>%\n",
                "  full_join(nodes, by = c(\"source\", \"timestamp\", \"folder\")) %>%\n",
                "  full_join(gif.apdex.by_node, by = c(\"source\", \"timestamp\", \"folder\")) %>%\n",
                "  full_join(cpu, by = c(\"source\", \"timestamp\", \"folder\")) %>%\n",
                "  group_by(folder, source, destination) %>%\n",
                "  arrange(timestamp, .by_group = TRUE) %>%\n",
                "  fill(diff, provisioned, total_provisioned) %>%\n",
                "  # mutate(provisioned = ifelse(is.na(provisioned), 0, provisioned)) %>%\n",
                "  # mutate(total_provisioned = ifelse(is.na(total_provisioned), 0, total_provisioned)) %>%\n",
                "  # mutate(diff = ifelse(is.na(diff), 0, diff)) %>%\n",
                "  # mutate(cpu_usage = ifelse(is.na(cpu_usage), 0, cpu_usage)) %>%\n",
                "  ungroup() %>%\n",
                "  {\n",
                "    .\n",
                "  }\n",
                "\n",
                "globally_provisioned <- data %>%\n",
                "  select(source, folder, timestamp, total_provisioned) %>%\n",
                "  distinct() %>%\n",
                "  group_by(folder, timestamp) %>%\n",
                "  summarise(globally_provisioned = sum(total_provisioned)) %>%\n",
                "  ungroup()\n",
                "\n",
                "data <- data %>%\n",
                "  # inner_join(globally_provisioned, by = c(\"folder\", \"timestamp\")) %>%\n",
                "  filter(source != destination) %>%\n",
                "  select(source, destination, everything()) %>%\n",
                "  rename(from = source, to = destination)\n",
                "  # adjust_timestamps()\n",
                "\n",
                "nrow(data)\n",
                "}\n"
            ]
        },
        {
            "cell_type": "code",
            "execution_count": null,
            "id": "5528b350",
            "metadata": {
                "vscode": {
                    "languageId": "r"
                }
            },
            "outputs": [
                {
                    "ename": "ERROR",
                    "evalue": "Error: The first two columns of `x` must be of the same type.\n",
                    "output_type": "error",
                    "traceback": [
                        "Error: The first two columns of `x` must be of the same type.\nTraceback:\n",
                        "1. lapply(data_grouped, FUN = create_plot)   # at line 80 of file <text>",
                        "2. FUN(X[[i]], ...)",
                        "3. network(data, directed = TRUE, multiple = TRUE)   # at line 4 of file <text>",
                        "4. as.network(x, directed = directed, hyper = hyper, loops = loops, \n .     multiple = multiple, bipartite = bipartite, ...)",
                        "5. as.network.data.frame(x, directed = directed, hyper = hyper, \n .     loops = loops, multiple = multiple, bipartite = bipartite, \n .     ...)",
                        "6. .validate_edge_df(edges = x, directed = directed, hyper = hyper, \n .     loops = loops, multiple = multiple, bipartite = bipartite)",
                        "7. stop(\"The first two columns of `x` must be of the same type.\", \n .     call. = FALSE)"
                    ]
                }
            ],
            "source": [
                "fig(10, 10)\n",
                "\n",
                "create_plot <- function(data) {\n",
                "  net <- network(data, directed = TRUE, multiple = TRUE)\n",
                "  net <- ggnetwork(net)\n",
                "  name <- as.character(data$folder[1])\n",
                "  duration <- max(data$timestamp) / time_interval\n",
                "  print(duration)\n",
                "\n",
                "  nudge_offset_x <- 0.05\n",
                "  nudge_offset_y <- -0.3 / 2\n",
                "  nudge_scale_y = 3\n",
                "\n",
                "  pggnetwork <-\n",
                "    ggplot(\n",
                "      net,\n",
                "      aes(x = x, y = y, xend = xend, yend = yend)\n",
                "    ) + # mapping for edges\n",
                "    geom_edges(\n",
                "      arrow = arrow(length = unit(3, \"pt\"), type = \"open\"), # if directed\n",
                "      curvature = 0.1,\n",
                "      aes(size = diff, alpha = latency_value, color = diff)\n",
                "    ) +\n",
                "    scale_colour_gradient(low = \"green\", high = \"red\", na.value = \"grey50\") +\n",
                "    scale_alpha_continuous() +\n",
                "    new_scale_color() +\n",
                "    geom_nodes(aes(size = provisioned, color = apdex),\n",
                "      alpha = 0.5,\n",
                "    ) +\n",
                "    scale_colour_gradient(low = \"white\", high = \"darkblue\", na.value = \"grey50\") +\n",
                "    new_scale_color() +\n",
                "    geom_nodes(aes(size = provisioned / 16, color = usage),\n",
                "      alpha = 1,\n",
                "    ) +\n",
                "    scale_colour_gradient(low = \"green\", high = \"red\", na.value = \"grey50\") +\n",
                "    new_scale_color() +\n",
                "    scale_color_manual(values = c(\"grey40\", \"grey80\")) +\n",
                "    geom_nodetext(aes(label = sprintf(\"sat: %1.2f\", apdex)), color = \"black\", nudge_x = nudge_offset_x, nudge_y = (nudge_offset_y + 0.3)/nudge_scale_y) +\n",
                "    # geom_nodetext(aes(label = sprintf(\"ll: %1.2f\", `Low-load.Low-latency`), colour = is.na(`Low-load.Low-latency`), group = vertex.names), nudge_x = nudge_offset_x, nudge_y = (nudge_offset_y + 0.25) / nudge_scale_y) +\n",
                "    # geom_nodetext(aes(label = sprintf(\"lh: %1.2f\", `Low-load.High-latency`), colour = is.na(`Low-load.High-latency`), group = vertex.names), nudge_x = nudge_offset_x, nudge_y = (nudge_offset_y + 0.2) / nudge_scale_y) +\n",
                "    # geom_nodetext(aes(label = sprintf(\"hh: %1.2f\", `High-load.High-latency`), colour = is.na(`High-load.High-latency`), group = vertex.names), nudge_x = nudge_offset_x, nudge_y = (nudge_offset_y + 0.15) / nudge_scale_y) +\n",
                "    # geom_nodetext(aes(label = sprintf(\"hl: %1.2f\", `High-load.Low-latency`), colour = is.na(`High-load.Low-latency`), group = vertex.names), nudge_x = nudge_offset_x, nudge_y = (nudge_offset_y + 0.1) / nudge_scale_y) +\n",
                "    geom_nodetext(aes(label = sprintf(\"f: %02d/%02d\", provisioned, total_provisioned)), color = \"black\", nudge_x = nudge_offset_x, nudge_y = (nudge_offset_y + 0.05) / nudge_scale_y) +\n",
                "    geom_nodetext(aes(label = sprintf(\"%s\", vertex.names)), color = \"grey80\", nudge_x = nudge_offset_x, nudge_y = (nudge_offset_y + 0)/nudge_scale_y) +\n",
                "    # geom_text(x = 0.05, y = 0.95, aes(label = paste0(\"Globally provisioned:\", globally_provisioned)), color = \"grey50\", check_overlap = TRUE) +\n",
                "    labs(title = \"Time: {as.integer(frame_time)}\",\n",
                "    subtitle= sprintf(\"'%s'\\n\n",
                "    sat: satisfaction rate\\n\n",
                "    ll: low load low lat. ƒ satisfaction rate\\n\n",
                "    lh: low load high lat. ƒ satisfaction rate\\n\n",
                "    hh: high load high lat. ƒ satisfaction rate\\n\n",
                "    hl: high load low lat. ƒ satisfaction rate\\n\n",
                "    f: <current provisioned>/<total provisioned\", name)) +\n",
                "    transition_time(timestamp) +\n",
                "    ease_aes(\"linear\") +\n",
                "    enter_fade() +\n",
                "    exit_fade() +\n",
                "    theme_blank() +\n",
                "    theme(legend.position = \"bottom\")\n",
                "  # +\n",
                "  # facet_grid(cols = vars(folder))\n",
                "\n",
                "  # out <- ggplot_build(pggnetwork)\n",
                "\n",
                "  # rows <- max(out$layout$layout$ROW)\n",
                "  # cols <- max(out$layout$layout$COL)\n",
                "  print(duration)\n",
                "\n",
                "  # print(pggnetwork[1])\n",
                "\n",
                "  anim_save(filename = sprintf(\"%s.gif\", name), animation = pggnetwork, renderer = magick_renderer(), nframes = duration, height = 1600, width = 2000)\n",
                "}\n",
                "\n",
                "if (generate_gif) {\n",
                "  data_grouped <- data %>%\n",
                "    # filter(timestamp < \"15 secs\") %>%w\n",
                "    group_by(folder) %>%\n",
                "    group_split()\n",
                "\n",
                "  animations <- lapply(data_grouped, FUN = create_plot)\n",
                "}\n",
                "# create_plot(data_grouped[[1]])\n"
            ]
        },
        {
            "cell_type": "code",
            "execution_count": null,
            "id": "c9b2b031",
            "metadata": {
                "vscode": {
                    "languageId": "r"
                }
            },
            "outputs": [],
            "source": [
                "# total_low_latency <- functions_total %>%\n",
                "#   filter(status == \"provisioned\") %>%\n",
                "#   filter(latency_type == \"Low latency\") %>%\n",
                "#   group_by(folder, metric_group, metric_group_group, latency_type) %>%\n",
                "#   summarise(total = sum(total))\n",
                "\n",
                "# total <- functions_total %>%\n",
                "#   filter(status == \"provisioned\") %>%\n",
                "#   group_by(folder, metric_group, metric_group_group) %>%\n",
                "#   summarise(total = sum(total))\n",
                "\n",
                "# total_low_latency <- total_low_latency %>%\n",
                "#   group_by(folder, metric_group, metric_group_group) %>%\n",
                "#   inner_join(total, by = c(\"folder\", \"metric_group\", \"metric_group_group\")) %>%\n",
                "#   mutate(ratio_low_latency_functions = total.x / total.y) %>%\n",
                "#   select(folder, metric_group, metric_group_group, ratio_low_latency_functions)\n",
                "\n",
                "\n",
                "# ratio_low_latency <- functions_total %>%\n",
                "#   filter(status == \"provisioned\") %>%\n",
                "#   filter(latency_type == \"Low latency\") %>%\n",
                "#   group_by(folder, metric_group, metric_group_group) %>%\n",
                "#   summarise(n = sum(n)) %>%\n",
                "#   inner_join(total, by = c(\"metric_group\", \"folder\", \"metric_group_group\")) %>%\n",
                "#   mutate(ratio_low_latency = n / total)\n",
                "\n",
                "# ratio_total <- functions_total %>%\n",
                "#   filter(status == \"provisioned\") %>%\n",
                "#   group_by(folder, metric_group, metric_group_group) %>%\n",
                "#   summarise(n = sum(n)) %>%\n",
                "#   inner_join(total, by = c(\"metric_group\", \"folder\", \"metric_group_group\")) %>%\n",
                "#   mutate(ratio_total = n / total)\n"
            ]
        },
        {
            "cell_type": "code",
            "execution_count": null,
            "id": "588bb2f2",
            "metadata": {
                "vscode": {
                    "languageId": "r"
                }
            },
            "outputs": [],
            "source": [
                "# colnames(total_low_latency)\n",
                "# # colnames(apdex_data)\n"
            ]
        },
        {
            "cell_type": "code",
            "execution_count": null,
            "id": "c9fb2462-97d8-4106-8ee6-5ec8262d16d8",
            "metadata": {
                "vscode": {
                    "languageId": "r"
                }
            },
            "outputs": [
                {
                    "name": "stderr",
                    "output_type": "stream",
                    "text": [
                        "\u001b[1m\u001b[22mNew names:\n",
                        "\u001b[36m•\u001b[39m `` -> `...1`\n",
                        "\u001b[1m\u001b[22mNew names:\n",
                        "\u001b[36m•\u001b[39m `` -> `...1`\n"
                    ]
                },
                {
                    "data": {
                        "text/html": [
                            "<style>\n",
                            ".list-inline {list-style: none; margin:0; padding: 0}\n",
                            ".list-inline>li {display: inline-block}\n",
                            ".list-inline>li:not(:last-child)::after {content: \"\\00b7\"; padding: 0 .5ex}\n",
                            "</style>\n",
                            "<ol class=list-inline><li>'...1'</li><li>'result'</li><li>'table'</li><li>'_start'</li><li>'_stop'</li><li>'timestamp'</li><li>'value'</li><li>'field'</li><li>'_measurement'</li><li>'bid_id'</li><li>'function_name'</li><li>'instance'</li><li>'sla_id'</li><li>'folder'</li><li>'metric_group'</li><li>'metric_group_group'</li><li>'docker_fn_name'</li><li>'function_index'</li><li>'cpu'</li><li>'mem'</li><li>'latency'</li><li>'arrival'</li><li>'request_interval'</li><li>'duration'</li><li>'nb_functions_requested_per_node'</li><li>'nb_functions_requested_total'</li></ol>\n"
                        ],
                        "text/latex": [
                            "\\begin{enumerate*}\n",
                            "\\item '...1'\n",
                            "\\item 'result'\n",
                            "\\item 'table'\n",
                            "\\item '\\_start'\n",
                            "\\item '\\_stop'\n",
                            "\\item 'timestamp'\n",
                            "\\item 'value'\n",
                            "\\item 'field'\n",
                            "\\item '\\_measurement'\n",
                            "\\item 'bid\\_id'\n",
                            "\\item 'function\\_name'\n",
                            "\\item 'instance'\n",
                            "\\item 'sla\\_id'\n",
                            "\\item 'folder'\n",
                            "\\item 'metric\\_group'\n",
                            "\\item 'metric\\_group\\_group'\n",
                            "\\item 'docker\\_fn\\_name'\n",
                            "\\item 'function\\_index'\n",
                            "\\item 'cpu'\n",
                            "\\item 'mem'\n",
                            "\\item 'latency'\n",
                            "\\item 'arrival'\n",
                            "\\item 'request\\_interval'\n",
                            "\\item 'duration'\n",
                            "\\item 'nb\\_functions\\_requested\\_per\\_node'\n",
                            "\\item 'nb\\_functions\\_requested\\_total'\n",
                            "\\end{enumerate*}\n"
                        ],
                        "text/markdown": [
                            "1. '...1'\n",
                            "2. 'result'\n",
                            "3. 'table'\n",
                            "4. '_start'\n",
                            "5. '_stop'\n",
                            "6. 'timestamp'\n",
                            "7. 'value'\n",
                            "8. 'field'\n",
                            "9. '_measurement'\n",
                            "10. 'bid_id'\n",
                            "11. 'function_name'\n",
                            "12. 'instance'\n",
                            "13. 'sla_id'\n",
                            "14. 'folder'\n",
                            "15. 'metric_group'\n",
                            "16. 'metric_group_group'\n",
                            "17. 'docker_fn_name'\n",
                            "18. 'function_index'\n",
                            "19. 'cpu'\n",
                            "20. 'mem'\n",
                            "21. 'latency'\n",
                            "22. 'arrival'\n",
                            "23. 'request_interval'\n",
                            "24. 'duration'\n",
                            "25. 'nb_functions_requested_per_node'\n",
                            "26. 'nb_functions_requested_total'\n",
                            "\n",
                            "\n"
                        ],
                        "text/plain": [
                            " [1] \"...1\"                            \"result\"                         \n",
                            " [3] \"table\"                           \"_start\"                         \n",
                            " [5] \"_stop\"                           \"timestamp\"                      \n",
                            " [7] \"value\"                           \"field\"                          \n",
                            " [9] \"_measurement\"                    \"bid_id\"                         \n",
                            "[11] \"function_name\"                   \"instance\"                       \n",
                            "[13] \"sla_id\"                          \"folder\"                         \n",
                            "[15] \"metric_group\"                    \"metric_group_group\"             \n",
                            "[17] \"docker_fn_name\"                  \"function_index\"                 \n",
                            "[19] \"cpu\"                             \"mem\"                            \n",
                            "[21] \"latency\"                         \"arrival\"                        \n",
                            "[23] \"request_interval\"                \"duration\"                       \n",
                            "[25] \"nb_functions_requested_per_node\" \"nb_functions_requested_total\"   "
                        ]
                    },
                    "metadata": {},
                    "output_type": "display_data"
                },
                {
                    "data": {
                        "text/html": [
                            "<table class=\"dataframe\">\n",
                            "<caption>A tibble: 6 x 26</caption>\n",
                            "<thead>\n",
                            "\t<tr><th scope=col>function_name</th><th scope=col>...1</th><th scope=col>result</th><th scope=col>table</th><th scope=col>_start</th><th scope=col>_stop</th><th scope=col>timestamp</th><th scope=col>value</th><th scope=col>field</th><th scope=col>_measurement</th><th scope=col>...</th><th scope=col>docker_fn_name</th><th scope=col>function_index</th><th scope=col>cpu</th><th scope=col>mem</th><th scope=col>latency</th><th scope=col>arrival</th><th scope=col>request_interval</th><th scope=col>duration</th><th scope=col>nb_functions_requested_per_node</th><th scope=col>nb_functions_requested_total</th></tr>\n",
                            "\t<tr><th scope=col>&lt;chr&gt;</th><th scope=col>&lt;lgl&gt;</th><th scope=col>&lt;lgl&gt;</th><th scope=col>&lt;dbl&gt;</th><th scope=col>&lt;dttm&gt;</th><th scope=col>&lt;dttm&gt;</th><th scope=col>&lt;dttm&gt;</th><th scope=col>&lt;dbl&gt;</th><th scope=col>&lt;chr&gt;</th><th scope=col>&lt;chr&gt;</th><th scope=col>...</th><th scope=col>&lt;chr&gt;</th><th scope=col>&lt;chr&gt;</th><th scope=col>&lt;dbl&gt;</th><th scope=col>&lt;dbl&gt;</th><th scope=col>&lt;dbl&gt;</th><th scope=col>&lt;dbl&gt;</th><th scope=col>&lt;dbl&gt;</th><th scope=col>&lt;dbl&gt;</th><th scope=col>&lt;dbl&gt;</th><th scope=col>&lt;dbl&gt;</th></tr>\n",
                            "</thead>\n",
                            "<tbody>\n",
                            "\t<tr><td>audioToText-i2-c300-m512-l44-a233-r73-d266026          </td><td>NA</td><td>NA</td><td>0</td><td>1970-01-01</td><td>2024-01-31 10:50:23</td><td>2024-01-31 10:44:45</td><td>35024</td><td>value</td><td>function_deployment_duration</td><td>...</td><td>NA</td><td>NA</td><td>NA</td><td>NA</td><td>NA</td><td>NA</td><td>NA</td><td>NA</td><td>NA</td><td>NA</td></tr>\n",
                            "\t<tr><td>audioToText-i0-c300-m512-l78-a536-r5475-d28146044      </td><td>NA</td><td>NA</td><td>1</td><td>1970-01-01</td><td>2024-01-31 10:50:23</td><td>2024-01-31 10:49:21</td><td> 7887</td><td>value</td><td>function_deployment_duration</td><td>...</td><td>NA</td><td>NA</td><td>NA</td><td>NA</td><td>NA</td><td>NA</td><td>NA</td><td>NA</td><td>NA</td><td>NA</td></tr>\n",
                            "\t<tr><td>audioToText-i0-c300-m512-l86-a205-r6-d3063296          </td><td>NA</td><td>NA</td><td>2</td><td>1970-01-01</td><td>2024-01-31 10:50:23</td><td>2024-01-31 10:43:48</td><td> 5388</td><td>value</td><td>function_deployment_duration</td><td>...</td><td>NA</td><td>NA</td><td>NA</td><td>NA</td><td>NA</td><td>NA</td><td>NA</td><td>NA</td><td>NA</td><td>NA</td></tr>\n",
                            "\t<tr><td>echo-i2-c100-m256-l106-a228-r279-d9676300              </td><td>NA</td><td>NA</td><td>3</td><td>1970-01-01</td><td>2024-01-31 10:50:23</td><td>2024-01-31 10:44:33</td><td> 6566</td><td>value</td><td>function_deployment_duration</td><td>...</td><td>NA</td><td>NA</td><td>NA</td><td>NA</td><td>NA</td><td>NA</td><td>NA</td><td>NA</td><td>NA</td><td>NA</td></tr>\n",
                            "\t<tr><td>imagePreProcessing-i3-c100-m256-l45-a138-r3918-d6910205</td><td>NA</td><td>NA</td><td>4</td><td>1970-01-01</td><td>2024-01-31 10:50:23</td><td>2024-01-31 10:43:24</td><td>48982</td><td>value</td><td>function_deployment_duration</td><td>...</td><td>NA</td><td>NA</td><td>NA</td><td>NA</td><td>NA</td><td>NA</td><td>NA</td><td>NA</td><td>NA</td><td>NA</td></tr>\n",
                            "\t<tr><td>audioToText-i1-c300-m512-l63-a342-r113-d163291776      </td><td>NA</td><td>NA</td><td>5</td><td>1970-01-01</td><td>2024-01-31 10:50:23</td><td>2024-01-31 10:46:05</td><td> 5385</td><td>value</td><td>function_deployment_duration</td><td>...</td><td>NA</td><td>NA</td><td>NA</td><td>NA</td><td>NA</td><td>NA</td><td>NA</td><td>NA</td><td>NA</td><td>NA</td></tr>\n",
                            "</tbody>\n",
                            "</table>\n"
                        ],
                        "text/latex": [
                            "A tibble: 6 x 26\n",
                            "\\begin{tabular}{lllllllllllllllllllll}\n",
                            " function\\_name & ...1 & result & table & \\_start & \\_stop & timestamp & value & field & \\_measurement & ... & docker\\_fn\\_name & function\\_index & cpu & mem & latency & arrival & request\\_interval & duration & nb\\_functions\\_requested\\_per\\_node & nb\\_functions\\_requested\\_total\\\\\n",
                            " <chr> & <lgl> & <lgl> & <dbl> & <dttm> & <dttm> & <dttm> & <dbl> & <chr> & <chr> & ... & <chr> & <chr> & <dbl> & <dbl> & <dbl> & <dbl> & <dbl> & <dbl> & <dbl> & <dbl>\\\\\n",
                            "\\hline\n",
                            "\t audioToText-i2-c300-m512-l44-a233-r73-d266026           & NA & NA & 0 & 1970-01-01 & 2024-01-31 10:50:23 & 2024-01-31 10:44:45 & 35024 & value & function\\_deployment\\_duration & ... & NA & NA & NA & NA & NA & NA & NA & NA & NA & NA\\\\\n",
                            "\t audioToText-i0-c300-m512-l78-a536-r5475-d28146044       & NA & NA & 1 & 1970-01-01 & 2024-01-31 10:50:23 & 2024-01-31 10:49:21 &  7887 & value & function\\_deployment\\_duration & ... & NA & NA & NA & NA & NA & NA & NA & NA & NA & NA\\\\\n",
                            "\t audioToText-i0-c300-m512-l86-a205-r6-d3063296           & NA & NA & 2 & 1970-01-01 & 2024-01-31 10:50:23 & 2024-01-31 10:43:48 &  5388 & value & function\\_deployment\\_duration & ... & NA & NA & NA & NA & NA & NA & NA & NA & NA & NA\\\\\n",
                            "\t echo-i2-c100-m256-l106-a228-r279-d9676300               & NA & NA & 3 & 1970-01-01 & 2024-01-31 10:50:23 & 2024-01-31 10:44:33 &  6566 & value & function\\_deployment\\_duration & ... & NA & NA & NA & NA & NA & NA & NA & NA & NA & NA\\\\\n",
                            "\t imagePreProcessing-i3-c100-m256-l45-a138-r3918-d6910205 & NA & NA & 4 & 1970-01-01 & 2024-01-31 10:50:23 & 2024-01-31 10:43:24 & 48982 & value & function\\_deployment\\_duration & ... & NA & NA & NA & NA & NA & NA & NA & NA & NA & NA\\\\\n",
                            "\t audioToText-i1-c300-m512-l63-a342-r113-d163291776       & NA & NA & 5 & 1970-01-01 & 2024-01-31 10:50:23 & 2024-01-31 10:46:05 &  5385 & value & function\\_deployment\\_duration & ... & NA & NA & NA & NA & NA & NA & NA & NA & NA & NA\\\\\n",
                            "\\end{tabular}\n"
                        ],
                        "text/markdown": [
                            "\n",
                            "A tibble: 6 x 26\n",
                            "\n",
                            "| function_name &lt;chr&gt; | ...1 &lt;lgl&gt; | result &lt;lgl&gt; | table &lt;dbl&gt; | _start &lt;dttm&gt; | _stop &lt;dttm&gt; | timestamp &lt;dttm&gt; | value &lt;dbl&gt; | field &lt;chr&gt; | _measurement &lt;chr&gt; | ... ... | docker_fn_name &lt;chr&gt; | function_index &lt;chr&gt; | cpu &lt;dbl&gt; | mem &lt;dbl&gt; | latency &lt;dbl&gt; | arrival &lt;dbl&gt; | request_interval &lt;dbl&gt; | duration &lt;dbl&gt; | nb_functions_requested_per_node &lt;dbl&gt; | nb_functions_requested_total &lt;dbl&gt; |\n",
                            "|---|---|---|---|---|---|---|---|---|---|---|---|---|---|---|---|---|---|---|---|---|\n",
                            "| audioToText-i2-c300-m512-l44-a233-r73-d266026           | NA | NA | 0 | 1970-01-01 | 2024-01-31 10:50:23 | 2024-01-31 10:44:45 | 35024 | value | function_deployment_duration | ... | NA | NA | NA | NA | NA | NA | NA | NA | NA | NA |\n",
                            "| audioToText-i0-c300-m512-l78-a536-r5475-d28146044       | NA | NA | 1 | 1970-01-01 | 2024-01-31 10:50:23 | 2024-01-31 10:49:21 |  7887 | value | function_deployment_duration | ... | NA | NA | NA | NA | NA | NA | NA | NA | NA | NA |\n",
                            "| audioToText-i0-c300-m512-l86-a205-r6-d3063296           | NA | NA | 2 | 1970-01-01 | 2024-01-31 10:50:23 | 2024-01-31 10:43:48 |  5388 | value | function_deployment_duration | ... | NA | NA | NA | NA | NA | NA | NA | NA | NA | NA |\n",
                            "| echo-i2-c100-m256-l106-a228-r279-d9676300               | NA | NA | 3 | 1970-01-01 | 2024-01-31 10:50:23 | 2024-01-31 10:44:33 |  6566 | value | function_deployment_duration | ... | NA | NA | NA | NA | NA | NA | NA | NA | NA | NA |\n",
                            "| imagePreProcessing-i3-c100-m256-l45-a138-r3918-d6910205 | NA | NA | 4 | 1970-01-01 | 2024-01-31 10:50:23 | 2024-01-31 10:43:24 | 48982 | value | function_deployment_duration | ... | NA | NA | NA | NA | NA | NA | NA | NA | NA | NA |\n",
                            "| audioToText-i1-c300-m512-l63-a342-r113-d163291776       | NA | NA | 5 | 1970-01-01 | 2024-01-31 10:50:23 | 2024-01-31 10:46:05 |  5385 | value | function_deployment_duration | ... | NA | NA | NA | NA | NA | NA | NA | NA | NA | NA |\n",
                            "\n"
                        ],
                        "text/plain": [
                            "  function_name                                           ...1 result table\n",
                            "1 audioToText-i2-c300-m512-l44-a233-r73-d266026           NA   NA     0    \n",
                            "2 audioToText-i0-c300-m512-l78-a536-r5475-d28146044       NA   NA     1    \n",
                            "3 audioToText-i0-c300-m512-l86-a205-r6-d3063296           NA   NA     2    \n",
                            "4 echo-i2-c100-m256-l106-a228-r279-d9676300               NA   NA     3    \n",
                            "5 imagePreProcessing-i3-c100-m256-l45-a138-r3918-d6910205 NA   NA     4    \n",
                            "6 audioToText-i1-c300-m512-l63-a342-r113-d163291776       NA   NA     5    \n",
                            "  _start     _stop               timestamp           value field\n",
                            "1 1970-01-01 2024-01-31 10:50:23 2024-01-31 10:44:45 35024 value\n",
                            "2 1970-01-01 2024-01-31 10:50:23 2024-01-31 10:49:21  7887 value\n",
                            "3 1970-01-01 2024-01-31 10:50:23 2024-01-31 10:43:48  5388 value\n",
                            "4 1970-01-01 2024-01-31 10:50:23 2024-01-31 10:44:33  6566 value\n",
                            "5 1970-01-01 2024-01-31 10:50:23 2024-01-31 10:43:24 48982 value\n",
                            "6 1970-01-01 2024-01-31 10:50:23 2024-01-31 10:46:05  5385 value\n",
                            "  _measurement                 ... docker_fn_name function_index cpu mem\n",
                            "1 function_deployment_duration ... NA             NA             NA  NA \n",
                            "2 function_deployment_duration ... NA             NA             NA  NA \n",
                            "3 function_deployment_duration ... NA             NA             NA  NA \n",
                            "4 function_deployment_duration ... NA             NA             NA  NA \n",
                            "5 function_deployment_duration ... NA             NA             NA  NA \n",
                            "6 function_deployment_duration ... NA             NA             NA  NA \n",
                            "  latency arrival request_interval duration nb_functions_requested_per_node\n",
                            "1 NA      NA      NA               NA       NA                             \n",
                            "2 NA      NA      NA               NA       NA                             \n",
                            "3 NA      NA      NA               NA       NA                             \n",
                            "4 NA      NA      NA               NA       NA                             \n",
                            "5 NA      NA      NA               NA       NA                             \n",
                            "6 NA      NA      NA               NA       NA                             \n",
                            "  nb_functions_requested_total\n",
                            "1 NA                          \n",
                            "2 NA                          \n",
                            "3 NA                          \n",
                            "4 NA                          \n",
                            "5 NA                          \n",
                            "6 NA                          "
                        ]
                    },
                    "metadata": {},
                    "output_type": "display_data"
                }
            ],
            "source": [
                "raw.deployment_times <-  load_csv(\"function_deployment_duration.csv\") %>%\n",
                "  prepare() %>%\n",
                "  prepare_convert() %>%\n",
                "  extract_function_name_info()\n",
                "colnames(raw.deployment_times)\n",
                "head(raw.deployment_times %>% select(function_name, everything()))\n"
            ]
        },
        {
            "cell_type": "code",
            "execution_count": null,
            "id": "b7b4e49b",
            "metadata": {
                "vscode": {
                    "languageId": "r"
                }
            },
            "outputs": [],
            "source": [
                "# raw.nb_functions <- load_csv(\"nb_functions.csv\") %>%\n",
                "#     rename(load_type = load, latency_type = latency) %>%\n",
                "#     mutate(\n",
                "#     instance = to_snake_case(instance),\n",
                "#     load_type = case_when(\n",
                "#         load_type == \"low\" ~ \"Low load\",\n",
                "#         load_type == \"high\" ~ \"High load\",\n",
                "#         TRUE ~ \"unimplemented\",\n",
                "#     ),\n",
                "#     latency_type = case_when(\n",
                "#         latency_type == \"low\" ~ \"Low latency\",\n",
                "#         latency_type == \"high\" ~ \"High latency\",\n",
                "#         TRUE ~ \"unimplemented\",\n",
                "#     ))\n",
                "\n",
                "\n",
                "# raw.nb_functions.total <- raw.nb_functions %>%\n",
                "#     group_by(folder, metric_group_group, metric_group, load_type, latency_type) %>%\n",
                "#     summarise(total = sum(value)) %>%\n",
                "#     mutate(folder = gsub(\".tar.xz\",\"\", folder))\n",
                "\n",
                "# count.total <- raw.nb_functions.total %>% \n",
                "#     inner_join(raw.nb_functions.total %>% \n",
                "#         ungroup() %>%\n",
                "#         select(folder, total, latency_type, load_type) %>%\n",
                "#         distinct() %>%\n",
                "#         group_by(folder) %>%\n",
                "#         summarise(sum = sum(total))) %>%\n",
                "#     select(folder, metric_group, sum, total, latency_type, load_type) %>%\n",
                "#     mutate(ratio = total/sum)\n",
                "\n",
                "\n",
                "\n",
                "# raw.function_low_latency_load_category <- count.total %>%\n",
                "#     filter(latency_type == \"Low latency\" & load_type == \"High load\") %>%\n",
                "#     select(-c(latency_type, load_type)) %>%\n",
                "#     ungroup() %>%\n",
                "#     select(folder, metric_group, ratio, sum) %>%\n",
                "#     distinct() %>%\n",
                "#     rename(category = ratio, requests = sum)\n",
                "\n",
                "#     # raw.function_low_latency_load_category  %>% group_by(request, category, metric_group) %>% summarise(tot = n())\n",
                "# # count.total\n",
                "# fig(15,5)\n",
                "# raw.function_low_latency_load_category %>%\n",
                "#     ggplot(aes(x = as.factor(category), group = factor(requests), fill = factor(requests))) +\n",
                "#     geom_bar(position = \"dodge\") +\n",
                "#     facet_wrap(~metric_group)\n"
            ]
        },
        {
            "cell_type": "code",
            "execution_count": null,
            "id": "75e3dda3",
            "metadata": {
                "vscode": {
                    "languageId": "r"
                }
            },
            "outputs": [],
            "source": [
                "jains_index <- function(allocations) {\n",
                "  num_users <- length(allocations)\n",
                "  sum_allocations <- sum(allocations)\n",
                "  sum_square_allocations <- sum(allocations^2)\n",
                "  index <- (sum_allocations^2) / (num_users * sum_square_allocations)\n",
                "  return(index)\n",
                "}\n",
                "\n",
                "# earnings.total_per_instance <- bids_won_function %>%\n",
                "#   group_by(folder, metric_group, metric_group_group, winner) %>%\n",
                "#   summarise(earnings = sum(cost))\n",
                "\n",
                "# folders <- earnings.total_per_instance %>%\n",
                "#   ungroup() %>%\n",
                "#   select(folder, metric_group, metric_group_group) %>%\n",
                "#   distinct()\n",
                "\n",
                "# missing_data <- expand.grid(\n",
                "#   winner = node_levels$name,\n",
                "#   folder = folders$folder\n",
                "# ) %>%\n",
                "#   inner_join(folders) %>%\n",
                "#   anti_join(earnings.total_per_instance %>% ungroup() %>% select(folder, winner))\n",
                "\n",
                "# earnings.total_per_instance <- earnings.total_per_instance %>%\n",
                "#   full_join(missing_data, by = c(\"winner\", \"folder\", \"metric_group\", \"metric_group_group\")) %>%\n",
                "#   mutate(earnings = ifelse(is.na(earnings), 0, earnings)) %>%\n",
                "#   ungroup() \n",
                "\n",
                "# earnings.total <- earnings.total_per_instance %>%\n",
                "#   group_by(folder, metric_group, metric_group_group) %>%\n",
                "#   summarise(earnings = sum(earnings))\n",
                "\n",
                "# earnings.jain <- earnings.total_per_instance %>%\n",
                "#   inner_join(earnings.total %>% rename(total = earnings), by = c(\"folder\", \"metric_group\", \"metric_group_group\")) %>%\n",
                "#   mutate(earnings_ratio = earnings / total)\n",
                "\n",
                "# # Calculate Jain's Fairness Index for each group using dplyr\n",
                "# spider_all.earnings.ratio <- earnings.jain %>%\n",
                "#   group_by(metric_group, folder, winner, metric_group_group) %>%\n",
                "#   rename (score = earnings_ratio) %>%\n",
                "#   mutate(score_type_rich = \"Earning shares\") \n",
                "  \n",
                "# spider_all.earnings.ratio.highest <- spider_all.earnings.ratio %>%\n",
                "#   group_by(metric_group, folder, metric_group_group) %>%\n",
                "#   mutate(score = 1/score) %>%\n",
                "#   worst_5() %>%\n",
                "#   mutate(score = 1/score) %>%\n",
                "#   filter(data_focus == \"Worst 5%\") %>%\n",
                "#   mutate(score_type_rich = \"Earning shares\\n(highest)\") %>%\n",
                "#   summarySE(\"score\", c(\"data_focus\", \"folder\", \"score_type_rich\", \"metric_group\", \"metric_group_group\"), na.rm = TRUE)\n",
                "\n",
                "#  spider_all.earnings.ratio <-  spider_all.earnings.ratio %>%\n",
                "#   group_by(metric_group, folder, metric_group_group) %>%\n",
                "#   worst_5() %>%\n",
                "#   summarySE(\"score\", c(\"data_focus\", \"folder\", \"score_type_rich\", \"metric_group\", \"metric_group_group\"), na.rm = TRUE)\n",
                "\n",
                "# spider_all.earnings.jain <- earnings.jain %>%\n",
                "#   group_by(metric_group, folder, metric_group_group) %>%\n",
                "#   summarise(jains_index = jains_index(earnings_ratio), n = n()) %>%\n",
                "#   rename(score = jains_index ) %>%\n",
                "#   mutate(score_type_rich = \"Jain's index\") %>%\n",
                "#   mutate(data_focus = \"All\") %>%\n",
                "#   summarySE(\"score\", c(\"data_focus\", \"folder\", \"score_type_rich\", \"metric_group\", \"metric_group_group\"), na.rm = TRUE) \n",
                "\n",
                "# spider_all.auc_usage.cpu <- raw.auc_usage.cpu %>%\n",
                "#   select(metric_group, folder, instance, usage_ratio, metric_group_group) %>%\n",
                "#   rename(source = instance, score = usage_ratio) %>%\n",
                "#   mutate(score = as.numeric(score)) %>%\n",
                "#   mutate(score_type_rich = \"CPU Usage\") %>%\n",
                "#   group_by(score_type_rich, metric_group, folder, metric_group_group) %>%\n",
                "#   worst_5() %>%\n",
                "#   ungroup %>%\n",
                "#   summarySE(\"score\", c(\"data_focus\", \"folder\", \"score_type_rich\", \"metric_group\", \"metric_group_group\"), na.rm = TRUE) \n",
                "\n",
                "\n",
                "\n",
                "# spider_all.auc_usage.mem <- raw.auc_usage.mem %>%\n",
                "#   select(metric_group, folder, instance, usage_ratio, metric_group_group) %>%\n",
                "#   rename(source = instance, score = usage_ratio) %>%\n",
                "#   mutate(score = as.numeric(score)) %>%\n",
                "#   mutate(score_type_rich = \"Mem Usage\") %>%\n",
                "#   group_by(score_type_rich, metric_group, folder, metric_group_group) %>%\n",
                "#   worst_5() %>%\n",
                "#   summarySE(\"score\", c(\"data_focus\", \"folder\", \"score_type_rich\", \"metric_group\", \"metric_group_group\"), na.rm = TRUE) \n",
                "\n",
                "# spider_all.functions_total <- functions_total %>%\n",
                "#     filter(status == \"provisioned\") %>%\n",
                "#     inner_join(raw.nb_functions.total %>% rename(all = total)) %>%\n",
                "#     mutate (score = n / all) %>%\n",
                "#     mutate(score_type_rich = sprintf(\"Provisioned fns\\n%s %s\", load_type, latency_type)) %>%\n",
                "#     ungroup() %>%\n",
                "#     select(score, score_type_rich, folder, metric_group, metric_group_group)  %>%\n",
                "#     mutate(data_focus = \"All\") \n",
                "\n",
                "\n",
                "# spider_all.deployment_times <- raw.deployment_times %>%\n",
                "#   ungroup() %>%\n",
                "#   select(load_type, sla_id, load_type, latency_type, function_name, folder,  metric_group, value, metric_group_group) %>%\n",
                "#   mutate(score = 1000/value) %>%\n",
                "#   mutate(score_type_rich = sprintf(\"Deployment time\\n%s %s\", load_type, latency_type)) %>%\n",
                "#   select(score, score_type_rich, folder, metric_group, sla_id, metric_group_group) %>%\n",
                "#   group_by(folder, metric_group, score_type_rich, metric_group_group) %>%\n",
                "#   worst_5() %>%\n",
                "#   mutate(score = 1/score) %>%\n",
                "#   summarySE(\"score\", c(\"folder\", \"score_type_rich\", \"metric_group\", \"data_focus\", \"metric_group_group\"), na.rm = TRUE) \n",
                "\n",
                "# bounds <- function(df){\n",
                "#   df %>% \n",
                "#     mutate(lower.ci.score = score - ci) %>%\n",
                "#     mutate(upper.ci.score = score + ci) \n",
                "# }"
            ]
        },
        {
            "cell_type": "code",
            "execution_count": null,
            "id": "6d79e09d",
            "metadata": {
                "vscode": {
                    "languageId": "r"
                }
            },
            "outputs": [],
            "source": [
                "# fig(15, 15)\n",
                "\n",
                "# ecdf.earnings <- earnings.jain %>%\n",
                "#     rename (score = earnings_ratio) %>%\n",
                "#     inner_join(raw.function_low_latency_load_category) "
            ]
        },
        {
            "cell_type": "code",
            "execution_count": null,
            "id": "3961c7f9",
            "metadata": {
                "vscode": {
                    "languageId": "r"
                }
            },
            "outputs": [],
            "source": [
                "# colnames(functions)\n",
                "\n",
                "# raw.nb_functions.total.full <- raw.nb_functions.total %>% \n",
                "#         ungroup() %>%\n",
                "#         select(folder, total, latency_type, load_type) %>%\n",
                "#         distinct() %>%\n",
                "#         group_by(folder) %>%\n",
                "#         summarise(total = sum(total))\n",
                "# raw.nb_functions.total.ll <- raw.nb_functions.total %>% \n",
                "#         ungroup() %>%\n",
                "#         filter(latency_type == \"Low latency\") %>%\n",
                "#         select(folder, total, latency_type, load_type) %>%\n",
                "#         distinct() %>%\n",
                "#         group_by(folder) %>%\n",
                "#         summarise(total = sum(total))\n",
                "\n"
            ]
        },
        {
            "cell_type": "code",
            "execution_count": null,
            "id": "59b4af07",
            "metadata": {
                "vscode": {
                    "languageId": "r"
                }
            },
            "outputs": [
                {
                    "name": "stderr",
                    "output_type": "stream",
                    "text": [
                        "\u001b[1m\u001b[22m`summarise()` has grouped output by 'folder'. You can override using the `.groups`\n",
                        "argument.\n"
                    ]
                }
            ],
            "source": [
                "raw.nb_functions <- raw.deployment_times %>% \n",
                "    ungroup() %>%\n",
                "    select(sla_id, folder, nb_functions_requested_total) %>%\n",
                "    distinct() %>%\n",
                "    group_by(folder, nb_functions_requested_total) %>%\n",
                "    summarise(nb_actual_functions = n()) %>%\n",
                "    mutate(nb_functions = nb_actual_functions / nb_functions_requested_total)"
            ]
        },
        {
            "cell_type": "code",
            "execution_count": null,
            "id": "b08517fd",
            "metadata": {
                "vscode": {
                    "languageId": "r"
                }
            },
            "outputs": [
                {
                    "name": "stderr",
                    "output_type": "stream",
                    "text": [
                        "\u001b[1m\u001b[22m`summarise()` has grouped output by 'folder', 'winner'. You can override using the\n",
                        "`.groups` argument.\n",
                        "\u001b[1m\u001b[22mJoining, by = c(\"winner\", \"folder\", \"metric_group\")\n",
                        "\u001b[1m\u001b[22m`summarise()` has grouped output by 'metric_group'. You can override using the `.groups`\n",
                        "argument.\n",
                        "\u001b[1m\u001b[22mJoining, by = \"folder\"\n",
                        "Warning message:\n",
                        "“\u001b[1m\u001b[22mThe `size` argument of `element_rect()` is deprecated as of ggplot2 3.4.0.\n",
                        "\u001b[36mℹ\u001b[39m Please use the `linewidth` argument instead.”\n",
                        "Warning message:\n",
                        "“\u001b[1m\u001b[22mComputation failed in `stat_compare_multiple_means()`\n",
                        "Caused by error in `mutate()`:\n",
                        "\u001b[1m\u001b[22m\u001b[33m!\u001b[39m Problem while computing `data = map(.data$data, .f, ...)`.\n",
                        "Caused by error in `assertthat_iv_has_enough_levels()`:\n",
                        "\u001b[33m!\u001b[39m Variable grouphas only one level. Remove it from the model.”\n",
                        "Warning message in compute_panel(...):\n",
                        "“The default behavior of beeswarm has changed in version 0.6.0. In versions <0.6.0, this plot would have been dodged on the y-axis.  In versions >=0.6.0, grouponX=FALSE must be explicitly set to group on y-axis. Please set grouponX=TRUE/FALSE to avoid this warning and ensure proper axis choice.”\n"
                    ]
                },
                {
                    "data": {
                        "image/png": "[encoded data removed]",
                        "text/plain": [
                            "plot without title"
                        ]
                    },
                    "metadata": {
                        "image/png": {
                            "height": 600,
                            "width": 600
                        }
                    },
                    "output_type": "display_data"
                }
            ],
            "source": [
                "earnings.jains.plot.data.raw <- node_levels %>%\n",
                "    rename(winner = name) %>%\n",
                "    full_join(bids_won_function %>% group_by(folder, winner, metric_group) %>% summarise(earnings = sum(cost))) %>%\n",
                "    mutate(earnings = ifelse(is.na(earnings), 0, earnings)) %>%\n",
                "    group_by(metric_group, folder) %>%\n",
                "    summarise(jains_index = jains_index(earnings), worst_case = round(1 / n(), 2), n = n()) %>%\n",
                "    rename(score = jains_index ) %>%\n",
                "    left_join(raw.nb_functions) %>%\n",
                "    # left_join(raw.nb_functions.total.full %>% rename(total_func = total)) %>%\n",
                "    # left_join(raw.nb_functions.total.ll %>% rename(total_func_ll = total)) %>%\n",
                "    # rowwise() %>%\n",
                "    # mutate(ratio_func_ll = total_func_ll / total_func) %>%\n",
                "    correct_names()\n",
                "\n",
                "plots.jains.w <- GRAPH_ONE_COLUMN_WIDTH\n",
                "plots.jains.h <- GRAPH_ONE_COLUMN_HEIGHT\n",
                "plots.jains.caption <- \"Jain's index at different ratio of low level latencies\"\n",
                "fig(plots.jains.w, plots.jains.h)\n",
                "\n",
                "my_comparisons = combn(unique(earnings.jains.plot.data.raw$`Placement method`), 2)\n",
                "my_comparisons = apply(my_comparisons, 2, list)\n",
                "my_comparisons <- lapply(my_comparisons, unlist)\n",
                "fig(10, 10)\n",
                "plots.jains <- earnings.jains.plot.data.raw %>%\n",
                "    ggplot(aes(alpha=1, x = `Placement method`, y = score, fill = `Placement method`, color = `Placement method`)) +\n",
                "    # facet_grid(cols = vars(sprintf(\"%.1f%% low-latency ƒ\", ratio_func_ll * 100))) +\n",
                "    geom_hline(yintercept = max(earnings.jains.plot.data.raw$worst_case), color = \"black\") +\n",
                "    annotate(\"text\", x=\"\\footnotesize{Edge\\\\dash{}furthest}\", y=max(earnings.jains.plot.data.raw$worst_case)+.05, label=sprintf(\"$max(1/n)=%s$\", max(earnings.jains.plot.data.raw$worst_case)), color=\"black\") +\n",
                "    geom_boxplot() +\n",
                "    geom_beeswarm() +\n",
                "    # stat_compare_means(comparisons = my_comparisons, label = \"p.signif\") +\n",
                "    stat_anova_test() +\n",
                "    labs(\n",
                "        x = \"Placement method\",\n",
                "        y = \"Jain's index\"\n",
                "    ) +\n",
                "    scale_alpha_continuous(guide = \"none\") +\n",
                "    guides(color = guide_legend(nrow = 1), shape = guide_legend(nrow = 1), size = guide_legend(nrow = 1)) +\n",
                "    theme(legend.background = element_rect(\n",
                "        fill = alpha(\"white\", .7),\n",
                "        size = 0.2, color = \"white\"),\n",
                "        axis.text.x = element_text(angle = 15, vjust = 1, hjust=1)\n",
                "    ) +\n",
                "    theme(legend.position = \"top\", legend.box = \"vertical\") +\n",
                "    scale_color_viridis(discrete = T) +\n",
                "    scale_fill_viridis(discrete = T)+\n",
                "    theme(legend.spacing.y = unit(0, \"cm\"), legend.margin = margin(0, 0, 0, 0), legend.box.margin = margin(0, -10, -10, -10), )\n",
                "\n",
                "plots.jains + labs(title = plots.jains.caption)\n"
            ]
        },
        {
            "cell_type": "markdown",
            "id": "fef6d327",
            "metadata": {},
            "source": [
                "## Nb of respected SLAs"
            ]
        },
        {
            "cell_type": "code",
            "execution_count": null,
            "id": "40ef7e66",
            "metadata": {
                "vscode": {
                    "languageId": "r"
                }
            },
            "outputs": [
                {
                    "ename": "ERROR",
                    "evalue": "Error in {: task 1 failed - \"(null)\"\n",
                    "output_type": "error",
                    "traceback": [
                        "Error in {: task 1 failed - \"(null)\"\nTraceback:\n",
                        "1. foreach(ark = METRICS_ARKS) %dopar% {\n .     gc()\n .     load_single_csv(ark, \"latency_header.csv\") %>% prepare() %>% \n .         adjust_timestamps() %>% rename(function_name = tag) %>% \n .         extract_function_name_info() %>% group_by(sla_id, folder, \n .         metric_group, metric_group_group, function_name) %>% \n .         summarise(satisfied_count = sum(value <= latency), acceptable_count = sum(value <= \n .             latency + 0.001), alt_satisfied_count = sum(value/2 <= \n .             latency), alt_satisfied_count2 = sum(value/4 <= latency), \n .             alt_acceptable_count = sum(value/2 <= latency + 0.01), \n .             total = n(), measured_latency = mean(value), ran_for = max(timestamp) - \n .                 min(timestamp), ) %>% mutate(count.satisfied = satisfied_count/total) %>% \n .         mutate(count.acceptable = acceptable_count/total) %>% \n .         mutate(count.alt2 = alt_satisfied_count2/total) %>% mutate(count.alt = alt_satisfied_count/total)\n . }   # at line 3-33 of file <text>",
                        "2. e$fun(obj, substitute(ex), parent.frame(), e$data)"
                    ]
                }
            ],
            "source": [
                "if (reload_big_data) {\n",
                "    registerDoParallel(cl = parallel_loading_datasets, cores = parallel_loading_datasets)\n",
                "    respected_sla.header.nb <- foreach (ark = METRICS_ARKS) %dopar% {\n",
                "\n",
                "        # max_timestamp <- data %>%\n",
                "        #     group_by(folder, metric_group, metric_group_group) %>%\n",
                "        #     summarise(max_timestamp = max(timestamp))\n",
                "        gc()\n",
                "\n",
                "        load_single_csv(ark, \"latency_header.csv\") %>%\n",
                "            prepare() %>%\n",
                "            adjust_timestamps() %>%\n",
                "            rename(function_name = tag) %>%\n",
                "            extract_function_name_info() %>%\n",
                "        # data %>%\n",
                "            # left_join(max_timestamp) %>%\n",
                "            group_by(sla_id, folder, metric_group, metric_group_group, function_name) %>%\n",
                "            summarise(\n",
                "                satisfied_count = sum(value <= latency),\n",
                "                acceptable_count = sum(value <= latency + 0.001),\n",
                "                alt_satisfied_count = sum(value / 2 <= latency), \n",
                "                alt_satisfied_count2 = sum(value / 4 <= latency), \n",
                "                alt_acceptable_count = sum(value / 2 <= latency + 0.01), \n",
                "                total = n(), \n",
                "                measured_latency = mean(value), \n",
                "                ran_for = max(timestamp) - min(timestamp), \n",
                "                # finished_before_end_expe = max(timestamp) < max_timestamp\n",
                "                ) %>%\n",
                "            mutate(count.satisfied = satisfied_count / total) %>%\n",
                "            mutate(count.acceptable = acceptable_count / total) %>%\n",
                "            mutate(count.alt2 = alt_satisfied_count2 / total) %>%\n",
                "            mutate(count.alt = alt_satisfied_count / total)\n",
                "    }\n",
                "\n",
                "    respected_sla.header.nb <- bind_rows(respected_sla.header.nb)\n",
                "    respected_sla.header.nb %>% write.csv(.,file = \"./respected_sla.header.nb.csv\")\n",
                "}\n",
                "\n",
                "gc()\n",
                "respected_sla.header.nb <- read.csv(\"./respected_sla.header.nb.csv\")"
            ]
        },
        {
            "cell_type": "code",
            "execution_count": null,
            "id": "fa990b7e",
            "metadata": {
                "vscode": {
                    "languageId": "r"
                }
            },
            "outputs": [],
            "source": [
                "# if (reload_big_data) {\n",
                "#     registerDoParallel(cl = parallel_loading_datasets, cores = parallel_loading_datasets)\n",
                "#     respected_sla.nb <- foreach (ark = METRICS_ARKS) %dopar% {\n",
                "\n",
                "#         # max_timestamp <- data %>%\n",
                "#         #     group_by(folder, metric_group, metric_group_group) %>%\n",
                "#         #     summarise(max_timestamp = max(timestamp))\n",
                "#         gc()\n",
                "\n",
                "\n",
                "#         load_single_csv(ark, \"latency.csv\") %>%\n",
                "#             prepare() %>%\n",
                "#             adjust_timestamps() %>%\n",
                "#             rename(function_name = tag) %>%\n",
                "#             extract_function_name_info() %>%\n",
                "#         # data %>%\n",
                "#             # left_join(max_timestamp) %>%\n",
                "#             group_by(sla_id, folder, metric_group, metric_group_group, function_name) %>%\n",
                "#             summarise(\n",
                "#                 satisfied_count = sum(value <= latency),\n",
                "#                 acceptable_count = sum(value <= latency + 0.001),\n",
                "#                 alt_satisfied_count = sum(value / 2 <= latency), \n",
                "#                 alt_satisfied_count2 = sum(value / 4 <= latency), \n",
                "#                 alt_acceptable_count = sum(value / 2 <= latency + 0.01), \n",
                "#                 total = n(), \n",
                "#                 measured_latency = mean(value), \n",
                "#                 ran_for = max(timestamp) - min(timestamp), \n",
                "#                 # finished_before_end_expe = max(timestamp) < max_timestamp\n",
                "#                 ) %>%\n",
                "#             mutate(count.satisfied = satisfied_count / total) %>%\n",
                "#             mutate(count.acceptable = acceptable_count / total) %>%\n",
                "#             mutate(count.alt2 = alt_satisfied_count2 / total) %>%\n",
                "#             mutate(count.alt = alt_satisfied_count / total)\n",
                "#     }\n",
                "\n",
                "#     respected_sla.nb <- bind_rows(respected_sla.nb)\n",
                "#     respected_sla.nb %>% write.csv(.,file = \"./respected_sla.nb.csv\")\n",
                "# }\n",
                "\n",
                "# gc()\n",
                "# respected_sla.nb <- read.csv(\"./respected_sla.nb.csv\")"
            ]
        },
        {
            "cell_type": "code",
            "execution_count": null,
            "id": "ca362950",
            "metadata": {
                "vscode": {
                    "languageId": "r"
                }
            },
            "outputs": [],
            "source": [
                "respected_sla.header.nb %>% filter(measured_latency > 0) %>% group_by(folder) %>% count()"
            ]
        },
        {
            "cell_type": "code",
            "execution_count": null,
            "id": "dbf64645",
            "metadata": {
                "vscode": {
                    "languageId": "r"
                }
            },
            "outputs": [],
            "source": [
                "# respected_sla.header.nb %>%\n",
                "#     left_join(respected_sla.nb %>%\n",
                "#         select(sla_id, folder, measured_latency) %>%\n",
                "#         rename(og_measured_latency = measured_latency)) %>%\n",
                "#     extract_function_name_info() %>%\n",
                "#     mutate(measured_latency = (og_measured_latency - abs(measured_latency)) * 1000) %>%\n",
                "#     left_join(raw.nb_functions.total.full %>% rename(total_func = total)) %>%\n",
                "#     left_join(raw.nb_functions.total.ll %>% rename(total_func_ll = total)) %>%\n",
                "#     rowwise() %>%\n",
                "#     mutate(ratio_func_ll = total_func_ll / total_func) %>%\n",
                "#     group_by(folder, metric_group, latency_type, load_type) %>%\n",
                "#     summarise(sd= sd(measured_latency), measured_latency = mean(measured_latency))"
            ]
        },
        {
            "cell_type": "code",
            "execution_count": null,
            "id": "f6edaf9b",
            "metadata": {
                "vscode": {
                    "languageId": "r"
                }
            },
            "outputs": [],
            "source": [
                "slice_sample(respected_sla.header.nb %>% filter(metric_group == \"auction\"), n = 2)"
            ]
        },
        {
            "cell_type": "code",
            "execution_count": null,
            "id": "c40dc8f0",
            "metadata": {
                "vscode": {
                    "languageId": "r"
                }
            },
            "outputs": [],
            "source": [
                "colnames(respected_sla.header.nb)"
            ]
        },
        {
            "cell_type": "code",
            "execution_count": null,
            "id": "6d50dd15",
            "metadata": {
                "vscode": {
                    "languageId": "r"
                }
            },
            "outputs": [],
            "source": [
                "node_levels %>% group_by(folder) %>% summarise(nb_nodes = n())"
            ]
        },
        {
            "cell_type": "code",
            "execution_count": null,
            "id": "76e92738",
            "metadata": {
                "vscode": {
                    "languageId": "r"
                }
            },
            "outputs": [],
            "source": [
                "slice_sample(raw.nb_functions)"
            ]
        },
        {
            "cell_type": "code",
            "execution_count": null,
            "id": "ead3f2bf",
            "metadata": {
                "vscode": {
                    "languageId": "r"
                }
            },
            "outputs": [],
            "source": [
                "plots.nb_deployed.data <- respected_sla.header.nb %>%\n",
                "    extract_function_name_info() %>%\n",
                "    left_join(raw.nb_functions) %>%\n",
                "    left_join(node_levels %>% group_by(folder) %>% summarise(nb_nodes = n())) %>%\n",
                "    # mutate(nb_nodes_group = case_when(\n",
                "    #     nb_nodes < 19 ~ \"Danger zone 1\",\n",
                "    #     nb_nodes <= 34 ~ \"$19 \\\\le n < 34$\",\n",
                "    #     nb_nodes < 112 ~ \"Danger zone 2\",\n",
                "    #     nb_nodes <= 119 ~ \"$112 \\\\le n \\\\le 119$\",\n",
                "    #     TRUE ~ \"Danger zone 3\",\n",
                "    # )) %>%\n",
                "    rename(nb_nodes_group = nb_nodes) %>%\n",
                "    group_by(folder, metric_group, nb_nodes_group, nb_functions_requested_total) %>%\n",
                "    summarise(funcs = n()) %>%\n",
                "    mutate(nb_functions = funcs / nb_functions_requested_total) %>%\n",
                "    correct_names()\n",
                "\n",
                "plots.nb_deployed.data\n",
                "\n",
                "plots.nb_deployed.h <- GRAPH_ONE_COLUMN_HEIGHT\n",
                "plots.nb_deployed.w <- GRAPH_ONE_COLUMN_WIDTH"
            ]
        },
        {
            "cell_type": "code",
            "execution_count": null,
            "id": "500cd915",
            "metadata": {
                "vscode": {
                    "languageId": "r"
                }
            },
            "outputs": [],
            "source": [
                "raw.deployment_times %>% \n",
                "    select(folder, function_name) %>%\n",
                "    distinct() %>%\n",
                "    anti_join(respected_sla.header.nb %>% select(folder, function_name) %>% distinct())\n",
                "    "
            ]
        },
        {
            "cell_type": "code",
            "execution_count": null,
            "id": "03f8021d",
            "metadata": {
                "vscode": {
                    "languageId": "r"
                }
            },
            "outputs": [],
            "source": [
                "plots.respected_sla.data <- respected_sla.header.nb %>%\n",
                "    extract_function_name_info() %>%\n",
                "    # left_join(raw.nb_functions.total.full %>% rename(total_func = total)) %>%\n",
                "    # left_join(raw.nb_functions.total.ll %>% rename(total_func_ll = total)) %>%\n",
                "    rowwise() %>%\n",
                "    # mutate(ratio_func_ll = total_func_ll / total_func) %>%\n",
                "    # mutate(satisfied_count = count.acceptable) %>%\n",
                "    mutate(satisfied_count = abs(measured_latency - latency) / latency) %>%\n",
                "    mutate(measured_latency = abs(measured_latency) / latency) %>%\n",
                "    # mutate(ratio_func_ll = sprintf(\"%.1f%% low-latency ƒ\", ratio_func_ll *100))  %>%\n",
                "    correct_names() %>% \n",
                "    mutate(toto = \"toto\")\n",
                "    # mutate(group = sprintf(\"%s\\n%s\\n%s\", latency_type, load_type, ratio_func_ll))\n",
                "    # mutate(group = latency_type)\n"
            ]
        },
        {
            "cell_type": "code",
            "execution_count": null,
            "id": "ecd4346e",
            "metadata": {
                "vscode": {
                    "languageId": "r"
                }
            },
            "outputs": [],
            "source": [
                "generate_label_df <- function(TUKEY, variable){ \n",
                "     # Extract labels and factor levels from Tukey post-hoc \n",
                "     Tukey.levels <- TUKEY[[variable]][,4]\n",
                "     Tukey.labels <- data.frame(multcompLetters(Tukey.levels)['Letters'])\n",
                "     \n",
                "     #I need to put the labels in the same order as in the boxplot :\n",
                "     Tukey.labels$class_x=rownames(Tukey.labels)\n",
                "     Tukey.labels=Tukey.labels[order(Tukey.labels$class_x) , ]\n",
                "     return(Tukey.labels)\n",
                "     }\n",
                "\n",
                "anova_boxplot <- function(p, df, x, y, facet, mean_cb, outliers = c()){\n",
                "     xvar <- rlang::sym(x)\n",
                "     yvar <- rlang::sym(y)\n",
                "     facetvar <- rlang::sym(facet)\n",
                "\n",
                "     df <- df %>% \n",
                "          rename(value_y = !!y) %>%\n",
                "          rename(class_x = !!x) %>%\n",
                "          rename(var_facet = !!facetvar) %>%\n",
                "          select(class_x, value_y, var_facet)\n",
                "\n",
                "     max_yvalue <- max(df$value_y)\n",
                "     min_yvalue <- min(df$value_y)\n",
                "\n",
                "     min_mean <- df %>%\n",
                "          group_by(var_facet, class_x) %>%\n",
                "          summarise(mean = mean(value_y))\n",
                "     min_mean <- min(min_mean$mean)/2\n",
                "     max_pt <- max(df$value_y)\n",
                "\n",
                "     for (facetk in as.character(unique(df$var_facet))) {   \n",
                "          subdf.raw <- subset(df, var_facet==facetk)\n",
                "          display(print(subdf.raw %>% filter(row_number() %in% outliers)))\n",
                "          subdf <- subdf.raw %>% \n",
                "               select(-var_facet) %>%\n",
                "               filter(!row_number() %in% outliers)\n",
                "\n",
                "          ANOVA=aov(subdf$value_y ~ subdf$class_x)\n",
                "          TUKEY <- TukeyHSD(x=ANOVA, 'subdf$class_x', conf.level=0.95)\n",
                "          \n",
                "          tryCatch(\n",
                "               {\n",
                "                    print(\"Shapiro (p should be ns)\")\n",
                "                    # Extract the residuals\n",
                "                    aov_residuals <- residuals(object = ANOVA)\n",
                "                    # Run Shapiro-Wilk test\n",
                "                    print(shapiro.test(x = aov_residuals))\n",
                "                    print(\"ANOVA\")\n",
                "                    display(summary(ANOVA))\n",
                "                    print(\"TUKEY\")\n",
                "                    print(TUKEY)\n",
                "                    display(plot(ANOVA, 1))\n",
                "                    display(plot(ANOVA, 2))\n",
                "               },\n",
                "               error = function(e){\n",
                "                    message(\"An error occured with the anova pre checks\")\n",
                "                    print(e)\n",
                "               },\n",
                "               warning = function(e){\n",
                "                    message(\"A warning occured with the anova pre checks\")\n",
                "                    print(e)\n",
                "                    return(NA)\n",
                "               }\n",
                "          )\n",
                "\n",
                "          display_labels <- FALSE\n",
                "          final.text <- NULL\n",
                "          final.box <- tryCatch({\n",
                "               labels <- generate_label_df(TUKEY , 'subdf$class_x')\n",
                "               names(labels) <- c('Letters','class_x')\n",
                "               yvalue <- aggregate(.~class_x, data=subdf, quantile, probs=.75)  \n",
                "               display_labels <- summary(ANOVA)[[1]][[\"Pr(>F)\"]][1] <= 0.05\n",
                "               return(subdf.raw %>% inner_join(labels))\n",
                "               },\n",
                "               error = function(e){\n",
                "                    return(subdf.raw)\n",
                "               })\n",
                "\n",
                "          print(final.box)\n",
                "          \n",
                "          if (display_labels){\n",
                "               final.text <- merge(labels, yvalue)\n",
                "               final.text$var_facet <- facetk\n",
                "               final.text <- final.text %>% inner_join(subdf %>% group_by(class_x) %>% summarise(mean = mean(value_y)))\n",
                "               p <- p + \n",
                "                    stat_summary(data = final.box, fun = mean, geom = \"col\", mapping = aes(x=class_x, y=value_y, fill = Letters)) +\n",
                "                    geom_beeswarm(data = final.box, aes(x=class_x, y=value_y, fill=Letters, color = Letters)) +\n",
                "                    geom_boxplot(data = final.box, aes(x=class_x, y=value_y, fill=Letters, color = Letters), outlier.shape = NA) +\n",
                "                    geom_text(data = final.text,  alpha= 1, aes(x=class_x, y=min_mean, label=mean_cb(Letters, mean))) #vjust=-1.5, hjust=-.5\n",
                "\n",
                "          }else{\n",
                "               p <- p + \n",
                "                    stat_summary(data = final.box, fun = mean, geom = \"col\", mapping = aes(x=class_x, y=value_y)) +\n",
                "                    geom_beeswarm(data = final.box, aes(x=class_x, y=value_y)) +\n",
                "                    geom_boxplot(data = final.box, aes(x=class_x, y=value_y), outlier.shape = NA)\n",
                "                    # geom_text(data = final.text,  alpha= 1, aes(x=class_x, y=min_mean, label=mean_cb(\"\\\\dash{}\", mean) )) #vjust=-1.5, hjust=-.5\n",
                "          }\n",
                "\n",
                "          display(head(final.text))\n",
                "\n",
                "          sumup.F <- summary(ANOVA)[[1]][[\"F value\"]][1]\n",
                "          sumup.p <- summary(ANOVA)[[1]][[\"Pr(>F)\"]][1]\n",
                "          sumup.p <- case_when(\n",
                "               sumup.p < 0.001 ~ \"$p<0.001$\",\n",
                "               sumup.p < 0.01 ~ \"$p<0.01$\",\n",
                "               sumup.p < 0.05 ~ \"$p<0.05$\",\n",
                "               # sumup.p < 0.1 ~ \"$p<0.1$\",\n",
                "               TRUE ~ \"$p$ is ns\"\n",
                "               )\n",
                "\n",
                "          if (!is.null(final.text)){\n",
                "               final.text <- final.text %>% filter(class_x == subdf$class_x[[1]]) %>% mutate(y = max_pt)\n",
                "\n",
                "               p <- p + \n",
                "                    # geom_text(data = final.text,  alpha= 1, aes(x=class_x, y=min_yvalue, label=sprintf(\"\\\\footnotesize{$\\\\mu=%.1f%%$}\",mean*100))) +\n",
                "                    # geom_text(data = final.text,  alpha= 1, aes(x=class_x, y=min_yvalue, label=sprintf(\"%.1f%%\",mean*100))) +\n",
                "                    # stat_anova_test(data= final.box, mapping=aes(x=class_x, y=value_y))\n",
                "                    # annotate(data=final.box, geom = \"text\", color=\"black\", x= subdf$class_x[[1]], y = max_mean * 1.01, label=sprintf(\"\\\\footnotesize{Anova $F=%.1f$, %s}\", sumup.F, sumup.p))\n",
                "                    geom_text(data=final.text, aes(x= class_x, y = y * 1.01),hjust = 0, color = \"black\", label=sprintf(\"\\\\footnotesize{Anova $F=%.1f$, %s}\", sumup.F, sumup.p))\n",
                "          }\n",
                "\n",
                "     }\n",
                "\n",
                "     return(p)\n",
                "}\n"
            ]
        },
        {
            "cell_type": "code",
            "execution_count": null,
            "id": "93f23cac",
            "metadata": {
                "vscode": {
                    "languageId": "r"
                }
            },
            "outputs": [],
            "source": [
                "df <- plots.respected_sla.data %>%\n",
                "    group_by(folder, `Placement method`, toto) %>%\n",
                "    summarise(satisfied_count = mean(count.acceptable)) %>%\n",
                "    ungroup()\n",
                "\n",
                "p <- ggplot(data=df, aes(alpha=1)) +  \n",
                "    #  facet_grid(~var_facet) +\n",
                "     theme( legend.background = element_rect(fill=alpha(\"white\", .7),\n",
                "                                  size=0.2, color = alpha(\"white\", .7))) +\n",
                "        theme(legend.spacing.y = unit(0, 'cm'),      legend.margin=margin(0,0,0,0),         legend.box.margin=margin(-10,-10,-10,-10),)+\n",
                "        theme(axis.text.x = element_text(angle = 15, vjust = 1, hjust=1)) +\n",
                "    theme(legend.position = \"none\") +\n",
                "    scale_color_viridis(discrete = T) +\n",
                "    scale_fill_viridis(discrete = T) +\n",
                "    scale_y_continuous(labels = scales::percent) +\n",
                "    labs(\n",
                "        x = \"Placement method\",\n",
                "        y = \"Mean satisfaction rate\")\n",
                "\n",
                "fig(10, 10)\n",
                "plots.respected_sla.w <- GRAPH_ONE_COLUMN_WIDTH\n",
                "plots.respected_sla.h <- GRAPH_ONE_COLUMN_HEIGHT\n",
                "plots.respected_sla.caption <- \"Mean satisfaction rate\"\n",
                "mean_cb <- function(Letters, mean){\n",
                "    return(sprintf(\"%s\\n\\\\footnotesize{$\\\\mu=%.1f%%$}\",Letters, mean*100))\n",
                "}\n",
                "plots.respected_sla <- anova_boxplot(p, df, \"Placement method\", \"satisfied_count\", \"toto\", mean_cb, c(11))\n",
                "plots.respected_sla + labs(title = plots.respected_sla.caption)"
            ]
        },
        {
            "cell_type": "code",
            "execution_count": null,
            "id": "93acc20f",
            "metadata": {
                "vscode": {
                    "languageId": "r"
                }
            },
            "outputs": [],
            "source": [
                "df <- plots.nb_deployed.data %>% ungroup()\n",
                "\n",
                "fig(10, 10)\n",
                "\n",
                "plots.nb_deployed.h <- GRAPH_ONE_COLUMN_HEIGHT\n",
                "plots.nb_deployed.w <- GRAPH_ONE_COLUMN_WIDTH\n",
                "plots.nb_deployed.caption = \"Ratio of deployed functions\"\n",
                "# mean_cb <- function(Letters, mean){\n",
                "#     return(sprintf(\"%s\\n\\\\footnotesize{$\\\\mu=%.1f%%$}\",Letters, mean*100))\n",
                "# }\n",
                "# plots.nb_deployed <- anova_boxplot(p, df , \"Placement method\", \"nb_functions\", \"nb_nodes_group\", mean_cb, c(13))\n",
                "# plots.nb_deployed + labs(title = plots.nb_deployed.caption)\n",
                "\n",
                "# generate_label_df2 <- function(TUKEY, variable){\n",
                " \n",
                "#      # Extract labels and factor levels from Tukey post-hoc \n",
                "#      Tukey.levels <- TUKEY[[variable]][,4]\n",
                "#      Tukey.labels <- data.frame(multcompLetters(Tukey.levels)['Letters'])\n",
                "     \n",
                "#      #I need to put the labels in the same order as in the boxplot :\n",
                "#      Tukey.labels$toto=rownames(Tukey.labels)\n",
                "#      Tukey.labels=Tukey.labels[order(Tukey.labels$toto) , ]\n",
                "#      return(Tukey.labels)\n",
                "#      }\n",
                "\n",
                "outliers = c(7,25,23)\n",
                "\n",
                "df <- df %>% \n",
                "    rename(value_y = nb_functions) %>%\n",
                "    rename(class_x = `Placement method`) %>%\n",
                "    rename(var_facet = nb_nodes_group) %>%\n",
                "    select(class_x, value_y, var_facet) %>%\n",
                "    filter(!row_number() %in% outliers) %>%\n",
                "    arrange(as.factor(var_facet))\n",
                "\n",
                "\n",
                "max_yvalue <- max(df$value_y)\n",
                "min_yvalue <- min(df$value_y)\n",
                "\n",
                "min_mean <- df %>%\n",
                "    group_by(var_facet, class_x) %>%\n",
                "    summarise(mean = mean(value_y))\n",
                "min_mean <- min(min_mean$mean)/2\n",
                "max_pt <- max(df$value_y)\n",
                "\n",
                "ANOVA=aov(value_y ~ class_x * var_facet, data = df)\n",
                "TUKEY <- TukeyHSD(x=ANOVA, conf.level=0.95)\n",
                "\n",
                "print(\"Shapiro (p should be ns)\")\n",
                "# Extract the residuals\n",
                "aov_residuals <- residuals(object = ANOVA)\n",
                "# Run Shapiro-Wilk test\n",
                "print(shapiro.test(x = aov_residuals))\n",
                "print(\"ANOVA\")\n",
                "display(summary(ANOVA))\n",
                "print(\"TUKEY\")\n",
                "print(TUKEY)\n",
                "display(plot(ANOVA, 1))\n",
                "display(plot(ANOVA, 2))\n",
                "        \n",
                "labels <- generate_label_df(TUKEY , 'class_x:var_facet')\n",
                "names(labels) <- c('Letters','cat')\n",
                "labels <- labels %>% \n",
                "    rowwise() %>%\n",
                "    mutate(cat = strsplit(cat, \":\")) %>%\n",
                "    mutate(class_x = cat[1]) %>%\n",
                "    mutate(var_facet = cat[2])\n",
                "\n",
                "df <- df %>%\n",
                "    left_join(labels)\n",
                "\n",
                "final.text <- df %>%\n",
                "    group_by(var_facet, class_x, Letters) %>%\n",
                "    summarise(mean = mean(value_y)) %>%\n",
                "    mutate(value_y = min_mean) %>%\n",
                "    arrange(class_x)\n",
                "\n",
                "p <- df %>%\n",
                "    ggplot(aes(x= class_x, y = value_y, alpha=1, fill = Letters)) +  \n",
                "    facet_grid(cols = vars(factor(var_facet, levels = c(\"$19 \\\\le n < 34$\", \"$112 \\\\le n \\\\le 119$\")))) +\n",
                "    # facet_grid(cols = vars(var_facet)) +\n",
                "     labs(\n",
                "        x = \"Placement method\",\n",
                "        y = \"Jain's index\"\n",
                "    ) +\n",
                "   scale_y_continuous(label = scales::percent) +\n",
                "    scale_alpha_continuous(guide = \"none\") +\n",
                "    labs(\n",
                "        x = \"Placement method\",\n",
                "        y = \"% of functions placed\",\n",
                "    ) +\n",
                "    theme( legend.background = element_rect(fill=alpha(\"white\", .7),\n",
                "                                  size=0.2, color = alpha(\"white\", .7))) +\n",
                "    theme(legend.spacing.y = unit(0, 'cm'),      legend.margin=margin(0,0,0,0),         legend.box.margin=margin(-10,-10,-10,-10),)+\n",
                "    theme(axis.text.x = element_text(angle = 15, vjust = 1, hjust=1)) +\n",
                "    guides(colour = guide_legend(nrow = 1)) +\n",
                "    theme(legend.position = \"none\") +\n",
                "    scale_color_viridis(discrete = T) +\n",
                "    scale_fill_viridis(discrete = T) +\n",
                "    stat_summary(fun = mean, geom = \"col\", aes(color=Letters)) +\n",
                "    geom_beeswarm(aes(color = Letters)) +\n",
                "    geom_boxplot(aes(color = Letters), outlier.shape = NA) +\n",
                "    geom_text(data = final.text, alpha= 1, aes(x=class_x, y=min_mean, label=sprintf(\"%s\\n\\\\footnotesize{$\\\\mu=%.1f%%$}\",Letters, mean*100)))\n",
                "\n",
                "\n",
                "sumup.F <- summary(ANOVA)[[1]][[\"F value\"]][1]\n",
                "sumup.p <- summary(ANOVA)[[1]][[\"Pr(>F)\"]][1]\n",
                "sumup.p <- case_when(\n",
                "    sumup.p < 0.001 ~ \"$p<0.001$\",\n",
                "    sumup.p < 0.01 ~ \"$p<0.01$\",\n",
                "    sumup.p < 0.05 ~ \"$p<0.05$\",\n",
                "    TRUE ~ \"$p$ is ns\"\n",
                "    )\n",
                "\n",
                "p <- p +\n",
                "    geom_text(data=final.text[2,] %>% mutate(value_y = max_yvalue), aes(x= class_x, y = value_y), color = \"black\", label=sprintf(\"\\\\footnotesize{Anova $F=%.1f$, %s}\", sumup.F, sumup.p))\n",
                "\n",
                "p"
            ]
        },
        {
            "cell_type": "code",
            "execution_count": null,
            "id": "eb9de127",
            "metadata": {
                "vscode": {
                    "languageId": "r"
                }
            },
            "outputs": [],
            "source": [
                "df <- earnings.jains.plot.data.raw %>% mutate(toto = \"toto\") %>% ungroup()\n",
                "p <- ggplot(data= df, aes(alpha=1)) +\n",
                "     labs(\n",
                "        x = \"Placement method\",\n",
                "        y = \"Jain's index\"\n",
                "    ) +\n",
                "    scale_alpha_continuous(guide = \"none\") +\n",
                "    guides(color = guide_legend(nrow = 1), shape = guide_legend(nrow = 1), size = guide_legend(nrow = 1)) +\n",
                "    theme(legend.background = element_rect(\n",
                "        fill = alpha(\"white\", .7),\n",
                "        size = 0.2, color = \"white\"),\n",
                "        axis.text.x = element_text(angle = 15, vjust = 1, hjust=1)\n",
                "    ) +\n",
                "    theme(legend.position = \"none\") +\n",
                "    # theme(legend.position = \"top\", legend.box = \"vertical\") +\n",
                "    scale_color_viridis(discrete = T) +\n",
                "    scale_fill_viridis(discrete = T)+\n",
                "    theme(legend.spacing.y = unit(0, \"cm\"), legend.margin = margin(0, 0, 0, 0), legend.box.margin = margin(0, -10, -10, -10), )\n",
                "\n",
                "fig(10, 10)\n",
                "plots.jains.w <- GRAPH_ONE_COLUMN_WIDTH\n",
                "plots.jains.h <- GRAPH_ONE_COLUMN_HEIGHT\n",
                "plots.jains.caption <- \"Jain's index at different ratio of low level latencies\"\n",
                "mean_cb <- function(Letters, mean){\n",
                "    return(sprintf(\"%s\\n\\\\footnotesize{$\\\\mu=%.1f$}\",Letters, mean))\n",
                "}\n",
                "plots.jains <- anova_boxplot(p, df , \"Placement method\", \"score\", \"toto\", mean_cb)\n",
                "plots.jains + labs(title = plots.jains.caption)"
            ]
        },
        {
            "cell_type": "code",
            "execution_count": null,
            "id": "17b53172",
            "metadata": {
                "vscode": {
                    "languageId": "r"
                }
            },
            "outputs": [],
            "source": [
                "\n",
                "# plots.respected_sla.w <- GRAPH_TWO_COLUMN_WIDTH\n",
                "# plots.respected_sla.h <- GRAPH_ONE_COLUMN_HEIGHT\n",
                "# plots.respected_sla.caption <- \"Mean of ratio of satisfied responses from functions per ratio of deployed low latency functions\"\n",
                "# fig(plots.respected_sla.w, plots.respected_sla.h)\n",
                "\n",
                "# fig (15, 15)\n",
                "# plots.respected_sla.raw <- plots.respected_sla.data %>% \n",
                "#     # mutate(group = sprintf(\"%s\\n%s\\n%s\", latency_type, load_type, ratio_func_ll)) %>%\n",
                "#     group_by(folder, `Placement method`, group) %>%\n",
                "#     # mutate(satisfied_count = satisfied_count / total) %>%\n",
                "#     # summarise(satisfied_count = mean(satisfied_count / total)) %>%\n",
                "#     summarise(satisfied_count = mean(count.satisfied)) %>%\n",
                "#     # mutate(satisfied_count = alt_satisfied_count / total) %>%\n",
                "#     # summarise(satisfied_count = mean(alt_satisfied_count / total), measured_latency = mean(measured_latency)) %>%\n",
                "#     ggplot(aes(alpha=  1, x = `Placement method`, y = satisfied_count, color = `Placement method`)) +\n",
                "#     facet_grid(cols = vars(group))+\n",
                "#     stat_summary(fun = mean, geom = \"col\", mapping = aes(fill =`Placement method`)) +\n",
                "#     geom_boxplot() +\n",
                "#     geom_beeswarm() +\n",
                "#     # stat_anova_test() +\n",
                "#     # geom_text(data = generate_label_df(tHSD, 'lev'), aes(x = plot.labels, y = V1, label = labels)) +\n",
                "#     # stat_compare_means(comparisons = my_comparisons, label = \"p.signif\") +\n",
                "#     stat_summary(fun = mean, geom = \"text\", mapping = aes(label=sprintf(\"\\\\footnotesize{$\\\\mu=%.1f%%$}\",..y..*100)), position = position_stack(vjust = .5, reverse = T), color = \"black\") +\n",
                "#     scale_alpha_continuous(guide = \"none\") +\n",
                "#     theme(\n",
                "#         axis.text.x = element_text(angle = 90, vjust = 0.5, hjust=1)\n",
                "#     ) +\n",
                "#      theme( legend.background = element_rect(fill=alpha(\"white\", .7),\n",
                "#                                   size=0.2, color = alpha(\"white\", .7))) +\n",
                "#         theme(legend.spacing.y = unit(0, 'cm'),      legend.margin=margin(0,0,0,0),         legend.box.margin=margin(-10,-10,-10,-10),)+\n",
                "#         theme(axis.text.x = element_text(angle = 15, vjust = 1, hjust=1)) +\n",
                "#     theme(legend.position = \"top\") +\n",
                "#     scale_color_viridis(discrete = T) +\n",
                "#     scale_fill_viridis(discrete = T)+\n",
                "#     scale_y_continuous(labels = scales::percent) +\n",
                "#     labs(\n",
                "#         x = \"Placement method\",\n",
                "#         y = \"Mean of mean of responses under $SLA_{max\\\\_latency}$\")\n",
                "\n",
                "# plots.respected_sla.raw + labs(title = plots.respected_sla.caption)"
            ]
        },
        {
            "cell_type": "code",
            "execution_count": null,
            "id": "ccbe68a7",
            "metadata": {
                "vscode": {
                    "languageId": "r"
                }
            },
            "outputs": [],
            "source": [
                "\n",
                "# my_comparisons = combn(unique(plots.respected_sla.data$`Placement method`), 2)\n",
                "# my_comparisons = apply(my_comparisons, 2, list)\n",
                "# my_comparisons <- lapply(my_comparisons, unlist)\n",
                "\n",
                "# fig(15, 15)\n",
                "# plots.respected_sla.data %>% \n",
                "#     group_by(folder, `Placement method`, latency_type, load_type, ratio_func_ll) %>%\n",
                "#     summarise(measured_latency = mean(measured_latency)) %>%\n",
                "#     ggplot(aes(x = `Placement method`, y = measured_latency, color = `Placement method`)) +\n",
                "#     facet_grid(cols = vars(factor(ratio_func_ll)), rows = vars(sprintf(\"%s\\n%s\", latency_type, load_type))) +\n",
                "#     geom_boxplot() +\n",
                "#     # geom_beeswarm() +\n",
                "#     scale_alpha_continuous(guide = \"none\") +\n",
                "#     stat_compare_means(method = \"t.test\",  comparisons = my_comparisons, label = \"p.signif\") +\n",
                "#      theme( legend.background = element_rect(fill=alpha(\"white\", .7),\n",
                "#                                   size=0.2, color = alpha(\"white\", .7))) +\n",
                "#         theme(legend.spacing.y = unit(0, 'cm'),      legend.margin=margin(0,0,0,0),         legend.box.margin=margin(-10,-10,-10,-10),)+\n",
                "#         theme(axis.text.x = element_text(angle = 90, vjust = 0.5, hjust=1)) +\n",
                "#     theme(legend.position = \"top\") +\n",
                "#     scale_color_viridis(discrete = T) +\n",
                "#     scale_fill_viridis(discrete = T)+\n",
                "#     labs(title = \"mean of mean of latencies\")\n"
            ]
        },
        {
            "cell_type": "code",
            "execution_count": null,
            "id": "28e1bfeb",
            "metadata": {
                "vscode": {
                    "languageId": "r"
                }
            },
            "outputs": [],
            "source": [
                "# # colnames(earnings.jain)\n",
                "\n",
                "# center_reduction <- function(data, colvar) {\n",
                "#     colvar <- rlang::sym(colvar)\n",
                "#     data %>%\n",
                "#         inner_join(data %>% summarise(mean = mean(!!colvar), sd = sd(!!colvar))) %>%\n",
                "#         mutate(!!colvar := (!!colvar - mean)/sd) %>%\n",
                "#         select(-c(\"sd\", \"mean\"))\n",
                "# }\n",
                "\n",
                "# colnames(raw.deployment_times)\n",
                "\n",
                "# raw.deployment_times.plot.data <- raw.deployment_times %>%\n",
                "#     inner_join(raw.function_low_latency_load_category) %>%\n",
                "#     mutate(fn_category = sprintf(\"%s %s\", latency_type, load_type)) %>%\n",
                "#     mutate(value = value / 1000)\n",
                "\n",
                "# plots.deployment_times.w = 15\n",
                "# plots.deployment_times.h = 4\n",
                "plots.deployment_times.caption = \"Deployment times per function category\"\n",
                "# fig(plots.deployment_times.w, plots.deployment_times.h)\n",
                "\n",
                "# plots.deployment_times <- raw.deployment_times.plot.data %>% \n",
                "#     correct_names() %>%\n",
                "#     ggplot(aes(alpha=0, x = factor(fn_category), y = value, group = `Placement method`, color = `Placement method`, fill = `Placement method`)) +\n",
                "#     stat_cdfinterval(position = \"dodge\") +\n",
                "#     scale_y_continuous(trans = \"log10\") +\n",
                "#     scale_alpha_continuous(guide = \"none\") +\n",
                "#     labs(subtitle = \"Secondary graph is the CDF\",\n",
                "#     x = \"Function category\",\n",
                "#     y = \"Deployment time (s)\"\n",
                "#     ) +\n",
                "#     theme( legend.background = element_rect(fill=alpha(\"white\", .7),\n",
                "#                                   size=0.2, color = alpha(\"white\", .7))) +\n",
                "#         theme(legend.spacing.y = unit(0, 'cm'),      legend.margin=margin(0,0,0,0),         legend.box.margin=margin(-10,-10,-10,-10),)+\n",
                "#     theme(legend.position = c(.5, .90)) +\n",
                "#     guides(colour = guide_legend(nrow = 1))\n",
                "\n",
                "# plots.deployment_times    "
            ]
        },
        {
            "cell_type": "code",
            "execution_count": null,
            "id": "7491c574",
            "metadata": {
                "vscode": {
                    "languageId": "r"
                }
            },
            "outputs": [],
            "source": [
                "colnames(raw.deployment_times)\n",
                "\n",
                "slice_sample(raw.deployment_times %>% select(instance, everything()), n = 5)"
            ]
        },
        {
            "cell_type": "code",
            "execution_count": null,
            "id": "473c878d",
            "metadata": {
                "vscode": {
                    "languageId": "r"
                }
            },
            "outputs": [],
            "source": [
                "plots.deploymenttimes.w <- GRAPH_ONE_COLUMN_WIDTH\n",
                "plots.deploymenttimes.h <- 5\n",
                "plots.deploymenttimes.caption = \"Time to find a fog node for a function\"\n",
                "fig(plots.deploymenttimes.w, plots.deploymenttimes.h)\n",
                "fig(15, 15)\n",
                "# my_comparisons = combn(unique(plots.respected_sla.data$`Placement method`), 2)\n",
                "# my_comparisons = apply(my_comparisons, 2, list)\n",
                "# my_comparisons <- lapply(my_comparisons, unlist)\n",
                "\n",
                "# plots.deploymenttimes.raw <- raw.deployment_times %>% \n",
                "#     group_by(folder, metric_group, latency_type) %>%\n",
                "#     summarise(value = mean(value)) %>%\n",
                "#     correct_names() %>%\n",
                "#     ggplot(aes(alpha=0, y = value, x = `Placement method`, color = `Placement method`, shape = `Placement method`)) +\n",
                "#     stat_summary(fun = mean, geom = \"col\", mapping = aes(fill =`Placement method`)) +\n",
                "#     geom_boxplot() +\n",
                "#     geom_beeswarm() +\n",
                "#     stat_compare_means(comparisons = my_comparisons, label = \"p.signif\") +\n",
                "#     stat_summary(fun = mean, geom = \"text\", mapping = aes(label=sprintf(\"\\\\footnotesize{$\\\\mu=%.1fs$}\",..y..)), position = position_stack(vjust = .5, reverse = T), color = \"black\") +\n",
                "#     scale_alpha_continuous(guide = \"none\") +\n",
                "#     labs(\n",
                "#     y = \"Mean time to deploy (s)\",\n",
                "#     x = \"Placement method\",\n",
                "#     ) +\n",
                "#        theme( legend.background = element_rect(fill=alpha(\"white\", .7),\n",
                "#                                   size=0.2, color = alpha(\"white\", .7)),\n",
                "#         axis.text.x = element_text(angle = 15, vjust = 1, hjust=1)\n",
                "\n",
                "#                                   ) +\n",
                "#         theme(legend.spacing.y = unit(0, 'cm'),      legend.margin=margin(0,0,0,0),         legend.box.margin=margin(-10,-10,-10,-10),)+\n",
                "#     theme(legend.position = c(.8, .5)) +\n",
                "#     guides(colour = guide_legend(ncol = 1)) +\n",
                "#     scale_color_viridis(discrete = T) +\n",
                "#     scale_fill_viridis(discrete = T)+\n",
                "#     facet_wrap(vars(latency_type))\n",
                "\n",
                "# plots.deploymenttimes.raw + labs(title = plots.deployment_times.caption)"
            ]
        },
        {
            "cell_type": "code",
            "execution_count": null,
            "id": "d817e83c",
            "metadata": {
                "vscode": {
                    "languageId": "r"
                }
            },
            "outputs": [],
            "source": [
                "df <- raw.deployment_times %>% \n",
                "    group_by(folder, metric_group) %>%\n",
                "    summarise(value = mean(value)) %>%\n",
                "    correct_names() %>% \n",
                "    mutate(group = \"sdlkfjh\") %>%\n",
                "    ungroup()\n",
                "\n",
                "p <- ggplot(data= df, aes(alpha=1)) +  \n",
                "    #  facet_grid(~var_facet) +\n",
                "     theme(legend.position=\"none\") +scale_alpha_continuous(guide = \"none\") +\n",
                "    labs(\n",
                "    y = \"Mean time to deploy (s)\",\n",
                "    x = \"Placement method\",\n",
                "    ) +\n",
                "       theme( legend.background = element_rect(fill=alpha(\"white\", .7),\n",
                "                                  size=0.2, color = alpha(\"white\", .7)),\n",
                "        axis.text.x = element_text(angle = 15, vjust = 1, hjust=1)\n",
                "\n",
                "                                  ) +\n",
                "        theme(legend.spacing.y = unit(0, 'cm'),      legend.margin=margin(0,0,0,0),         legend.box.margin=margin(-10,-10,-10,-10),)+\n",
                "    # theme(legend.position = c(.8, .5)) +\n",
                "    guides(colour = guide_legend(ncol = 1)) +\n",
                "    scale_color_viridis(discrete = T) +\n",
                "    scale_fill_viridis(discrete = T)\n",
                "fig(10, 10)\n",
                "plots.deploymenttimes.w <- GRAPH_ONE_COLUMN_WIDTH\n",
                "plots.deploymenttimes.h <- GRAPH_ONE_COLUMN_HEIGHT\n",
                "plots.deploymenttimes.caption = \"Time to find a fog node for a function\"\n",
                "mean_cb <- function(Letters, mean){\n",
                "    return(sprintf(\"%s\\n\\\\footnotesize{$\\\\mu=%.1fs$}\",Letters, mean))\n",
                "}\n",
                "plots.deploymenttimes <- anova_boxplot(p, df , \"Placement method\", \"value\", \"group\", mean_cb, c(4,6,19))\n",
                "plots.deploymenttimes + labs(title = plots.deployment_times.caption)"
            ]
        },
        {
            "cell_type": "code",
            "execution_count": null,
            "id": "0d54943c",
            "metadata": {
                "vscode": {
                    "languageId": "r"
                }
            },
            "outputs": [],
            "source": [
                "# plots.skew.data <- bids_won_function %>% \n",
                "#     extract_function_name_info() %>%\n",
                "#     left_join(raw.nb_functions.total.full %>% rename(total_func = total)) %>%\n",
                "#     left_join(raw.nb_functions.total.ll %>% rename(total_func_ll = total)) %>%\n",
                "#     mutate(ratio_func_ll = total_func_ll / total_func) %>%\n",
                "#     mutate(ratio_func_ll = sprintf(\"%.1f%% ll ƒ\", ratio_func_ll *100)) %>% \n",
                "#     group_by(folder, metric_group, load_type, latency_type) %>%\n",
                "#     summarise(spending = (mean(cost) - median(cost)) / sd(cost)) %>%\n",
                "#     mutate(fn_category = sprintf(\"%s\\n%s\", latency_type, load_type)) %>%\n",
                "#     correct_names()\n",
                "\n",
                "# my_comparisons = combn(unique(plots.skew.data$`Placement method`), 2)\n",
                "# my_comparisons = apply(my_comparisons, 2, list)\n",
                "# my_comparisons <- lapply(my_comparisons, unlist)\n",
                "\n",
                "# plots.skew.caption <- \"Nonparametric skew of a client's spending by function type\"\n",
                "# plots.skew.w <- GRAPH_TWO_COLUMN_WIDTH\n",
                "# plots.skew.h <- GRAPH_ONE_COLUMN_HEIGHT\n",
                "\n",
                "# fig(plots.skew.w, plots.skew.h)\n",
                "\n",
                "# plots.skew <- plots.skew.data %>%\n",
                "#     # summarySE(\"cost\", c(\"metric_group\", \"requests\", \"fn_category\", \"level_value\"), conf.interval = .95) %>%\n",
                "#     # correct_names() %>%\n",
                "#     ggplot(aes(alpha=0, x = `Placement method`, y = spending, shape = `Placement method`, color = `Placement method`, fill = `Placement method`)) +\n",
                "#     # facet_grid(cols = vars(ratio_func_ll), rows= vars(fn_category), scales = \"free\")+\n",
                "#     facet_grid(cols = vars(fn_category))+\n",
                "#     geom_boxplot()+\n",
                "#     geom_beeswarm()+\n",
                "#     stat_compare_means(comparisons = my_comparisons, label = \"p.signif\") +\n",
                "#     # geom_hline(yintercept=1) +\n",
                "#     scale_alpha_continuous(guide = \"none\") +\n",
                "#     labs(\n",
                "#         subtitle = \"A positive skew indicates a tendency of\\nthe spending distribution to be on the high side\",\n",
                "#         y = \"Skew\",\n",
                "#         x = \"Placement method\",\n",
                "#     ) +\n",
                "#     theme( legend.background = element_rect(fill=alpha(\"white\", .7),\n",
                "#                                 size=0.2, color = alpha(\"white\", .7))) +\n",
                "#     theme(legend.spacing.y = unit(0, 'cm'),\n",
                "#         legend.margin=margin(0,0,0,0), \n",
                "#         legend.box.margin=margin(-10,-10,-10,-10),\n",
                "#         axis.text.x = element_text(angle = 15, vjust = 1, hjust=1)\n",
                "#         )+\n",
                "#     # scale_x_discrete(guide = guide_axis(n.dodge = 2)) +\n",
                "#     # theme(legend.position = c(.5, .93)) +\n",
                "#     theme(legend.position = \"top\") +\n",
                "#     scale_color_viridis(discrete = T) +\n",
                "#     scale_fill_viridis(discrete = T)+\n",
                "#     guides(colour = guide_legend(nrow = 1))\n",
                "    \n",
                "\n",
                "# plots.skew + labs(title = plots.skew.caption)"
            ]
        },
        {
            "cell_type": "code",
            "execution_count": null,
            "id": "08adc480",
            "metadata": {
                "vscode": {
                    "languageId": "r"
                }
            },
            "outputs": [],
            "source": [
                "plots.spending.data <- bids_won_function %>% \n",
                "    extract_function_name_info() %>%\n",
                "    # left_join(raw.nb_functions) %>%\n",
                "    # mutate(ratio_func_ll = total_func_ll / total_func) %>%\n",
                "    # mutate(ratio_func_ll = sprintf(\"%.1f%% ll ƒ\", ratio_func_ll *100)) %>% \n",
                "    group_by(folder, metric_group) %>%\n",
                "    summarise(spending = mean(cost)) %>%\n",
                "    # mutate(fn_category = sprintf(\"%s\\n%s\", latency_type, load_type)) %>%\n",
                "    correct_names()\n",
                "\n",
                "# plots.spending.data %>% \n",
                "#     group_by(metric_group) %>% \n",
                "#     summarise(spending = mean(spending))\n",
                "\n",
                "# my_comparisons = combn(unique(plots.spending.data$`Placement method`), 2)\n",
                "# my_comparisons = apply(my_comparisons, 2, list)\n",
                "# my_comparisons <- lapply(my_comparisons, unlist)\n",
                "\n",
                "plots.spending.caption <- \"Mean cost of a function by type\"\n",
                "plots.spending.w <- GRAPH_TWO_COLUMN_WIDTH\n",
                "plots.spending.h <- GRAPH_ONE_COLUMN_HEIGHT\n",
                "\n",
                "# fig(plots.spending.w, plots.spending.h)\n",
                "# fig(15, 15)\n",
                "# plots.spending.raw <- plots.spending.data %>%\n",
                "#     # summarySE(\"cost\", c(\"metric_group\", \"requests\", \"fn_category\", \"level_value\"), conf.interval = .95) %>%\n",
                "#     # correct_names() %>%\n",
                "#     ggplot(aes(alpha=0, x = `Placement method`, y = spending, shape = `Placement method`, color = `Placement method`)) +\n",
                "#     # facet_grid(cols = vars(ratio_func_ll), rows= vars(fn_category), scales = \"free\")+\n",
                "#     facet_grid(cols=vars(fn_category))+\n",
                "#     stat_summary(fun = mean, geom = \"col\", mapping = aes(fill =`Placement method`)) +\n",
                "#     geom_boxplot()+\n",
                "#     geom_beeswarm()+\n",
                "#     stat_compare_means(comparisons = my_comparisons, label = \"p.signif\") +\n",
                "#     stat_summary(fun = mean, geom = \"text\", mapping = aes(label=sprintf(\"\\\\footnotesize{$\\\\mu=%.1f$}\",..y..)), position = position_stack(vjust = .5, reverse = T), color = \"black\") +\n",
                "#     # geom_hline(yintercept=1) +\n",
                "#     scale_alpha_continuous(guide = \"none\") +\n",
                "#     labs(\n",
                "#         y = \"Function cost (\\\\$/millicpu)\",\n",
                "#         x = \"Placement method\",\n",
                "#     ) +\n",
                "#     theme( legend.background = element_rect(fill=alpha(\"white\", .7),\n",
                "#                                 size=0.2, color = alpha(\"white\", .7))) +\n",
                "#     theme(legend.spacing.y = unit(0, 'cm'),\n",
                "#         legend.margin=margin(0,0,0,0), \n",
                "#         legend.box.margin=margin(-10,-10,-10,-10),\n",
                "#         axis.text.x = element_text(angle = 15, vjust = 1, hjust=1)\n",
                "#         )+\n",
                "#     # scale_x_discrete(guide = guide_axis(n.dodge = 2)) +\n",
                "#     # theme(legend.position = c(.5, .93)) +\n",
                "#     theme(legend.position = \"top\") +\n",
                "#     scale_color_viridis(discrete = T) +\n",
                "#     scale_fill_viridis(discrete = T)+\n",
                "#     guides(colour = guide_legend(nrow = 1))\n",
                "    \n",
                "\n",
                "# plots.spending.raw + labs(title = plots.spending.caption)"
            ]
        },
        {
            "cell_type": "code",
            "execution_count": null,
            "id": "fbd776eb",
            "metadata": {
                "vscode": {
                    "languageId": "r"
                }
            },
            "outputs": [],
            "source": [
                "df <- plots.spending.data %>% \n",
                "    mutate(group = \"toto\") %>%\n",
                "    ungroup()\n",
                "\n",
                "p <- ggplot(data= df, aes(alpha=1)) +  \n",
                "    #  facet_grid(~var_facet) +\n",
                "     theme(legend.position=\"none\") +\n",
                "     scale_alpha_continuous(guide = \"none\") +\n",
                "    labs(\n",
                "        y = \"Function cost\",\n",
                "        x = \"Placement method\",\n",
                "    ) +\n",
                "    theme( legend.background = element_rect(fill=alpha(\"white\", .7),\n",
                "                                size=0.2, color = alpha(\"white\", .7))) +\n",
                "    theme(legend.spacing.y = unit(0, 'cm'),\n",
                "        legend.margin=margin(0,0,0,0), \n",
                "        legend.box.margin=margin(-10,-10,-10,-10),\n",
                "        axis.text.x = element_text(angle = 15, vjust = 1, hjust=1)\n",
                "        )+\n",
                "    # scale_x_discrete(guide = guide_axis(n.dodge = 2)) +\n",
                "    # theme(legend.position = c(.5, .93)) +\n",
                "    scale_color_viridis(discrete = T) +\n",
                "    scale_fill_viridis(discrete = T)+\n",
                "    guides(colour = guide_legend(nrow = 1))\n",
                "\n",
                "fig(10, 10)\n",
                "mean_cb <- function(Letters, mean){\n",
                "    return(sprintf(\"%s\\n\\\\footnotesize{$\\\\mu=%.1f$}\",Letters, mean))\n",
                "}\n",
                "plots.spending <- anova_boxplot(p, df , \"Placement method\", \"spending\", \"group\", mean_cb)\n",
                "plots.spending + labs(title = plots.spending.caption)"
            ]
        },
        {
            "cell_type": "code",
            "execution_count": null,
            "id": "8d43a9c8",
            "metadata": {
                "vscode": {
                    "languageId": "r"
                }
            },
            "outputs": [],
            "source": [
                "# plots.nb_functions.data <- load_csv(\"provisioned_functions.csv\") %>%\n",
                "#     prepare() %>%\n",
                "#     extract_function_name_info() %>%\n",
                "#     group_by(folder, latency_type, load_type) %>%\n",
                "#     summarise(provisioned = sum(value)) %>%\n",
                "#     inner_join(raw.nb_functions.total %>% rename(target = total)) %>%\n",
                "#     inner_join(raw.function_low_latency_load_category) %>%\n",
                "#     mutate(ratio_deployed = provisioned / target) %>%\n",
                "#     mutate(fn_category = sprintf(\"%s %s\", latency_type, load_type)) \n",
                "plots.nb_functions.data <- raw.nb_functions %>%\n",
                "    rowwise() %>%\n",
                "    rename(ratio_deployed = nb_functions)"
            ]
        },
        {
            "cell_type": "code",
            "execution_count": null,
            "id": "0efb7bb1",
            "metadata": {
                "vscode": {
                    "languageId": "r"
                }
            },
            "outputs": [],
            "source": [
                "slice_sample(plots.nb_functions.data %>% ungroup(), n= 5)"
            ]
        },
        {
            "cell_type": "code",
            "execution_count": null,
            "id": "ae62a6fa",
            "metadata": {
                "vscode": {
                    "languageId": "r"
                }
            },
            "outputs": [],
            "source": [
                "# fig(7, 7)\n",
                "# colnames(node_levels)\n",
                "# plots.nb_functions.line.data <- load_csv(\"provisioned_functions.csv\") %>%\n",
                "#     prepare() %>%\n",
                "#     extract_function_name_info() %>%\n",
                "#     inner_join(bids_won_function) %>%\n",
                "#     group_by(folder, latency_type, load_type, winner) %>%\n",
                "#     summarise(provisioned = sum(value)) %>%\n",
                "#     inner_join(raw.nb_functions.total %>% rename(target = total))  %>%\n",
                "#     inner_join(raw.function_low_latency_load_category) %>%\n",
                "#     left_join(node_levels %>% rename(winner = name)) %>%\n",
                "#     mutate(ratio_deployed = provisioned / target) %>%\n",
                "#     mutate(fn_category = sprintf(\"%s %s\", latency_type, load_type)) %>%\n",
                "#     summarySE(\"ratio_deployed\", c(\"metric_group\", \"fn_category\", \"level_value\"))"
            ]
        },
        {
            "cell_type": "code",
            "execution_count": null,
            "id": "b52dc234",
            "metadata": {
                "vscode": {
                    "languageId": "r"
                }
            },
            "outputs": [],
            "source": [
                "# plots.nb_functions.data = load_csv(\"provisioned_functions.csv\") %>%\n",
                "#     prepare() %>%\n",
                "#     extract_function_name_info() %>%\n",
                "#     inner_join(bids_won_function) %>%\n",
                "#     group_by(folder, latency_type, load_type, winner) %>%\n",
                "#     summarise(provisioned = sum(value)) %>%\n",
                "#     inner_join(raw.nb_functions.total %>% rename(target = total))  %>%\n",
                "#     inner_join(raw.function_low_latency_load_category) %>%\n",
                "#     left_join(node_levels %>% rename(winner = name)) %>%\n",
                "#     mutate(ratio_deployed = provisioned / target) %>%\n",
                "#     mutate(fn_category = sprintf(\"%s\\n%s\", latency_type, load_type))"
            ]
        },
        {
            "cell_type": "code",
            "execution_count": null,
            "id": "ae5408f8",
            "metadata": {
                "vscode": {
                    "languageId": "r"
                }
            },
            "outputs": [],
            "source": [
                "# colnames(plots.nb_functions.data)\n",
                "\n",
                "# plots.nb_functions.data.processed = plots.nb_functions.data %>%\n",
                "#     group_by(folder, metric_group, level_value, target) %>%\n",
                "#     summarise(provisioned = sum(provisioned)) %>%\n",
                "#     mutate(ratio_deployed = provisioned / target)\n",
                "\n",
                "# slice_sample(plots.nb_functions.data.processed %>% ungroup(), n = 5)"
            ]
        },
        {
            "cell_type": "code",
            "execution_count": null,
            "id": "7aeb7ddd-10c4-495d-b2f1-9963ca2fdf77",
            "metadata": {
                "tags": [],
                "vscode": {
                    "languageId": "r"
                }
            },
            "outputs": [],
            "source": [
                "escape_latex_special_chars <- function(text) {\n",
                "  # Define special characters to escape\n",
                "  special_chars <- c(\"%\", \"&\", \"#\", \"_\", \"\\\\$\", \"\\\\{\", \"\\\\}\", \"\\\\^\", \"\\\\~\")\n",
                "\n",
                "  # Escape each special character with a backslash\n",
                "  for (char in special_chars) {\n",
                "    text <- gsub(char, paste0(\"\\\\\", substring(char, nchar(char), nchar(char))), text, fixed = TRUE)\n",
                "  }\n",
                "\n",
                "  return(text)\n",
                "}\n",
                "\n",
                "\n",
                "tibble_to_latex_tabular <- function(data, file) {\n",
                "  cat(\"\\\\begin{tabular}{\", paste0(rep(\"c\", ncol(data)), collapse = \" \"), \"}\\n\", file = file)\n",
                "  cat(\"\\\\hline\\n\", file = file, append = TRUE)\n",
                "\n",
                "  # Print column names with escaped special characters\n",
                "  cat(paste0(escape_latex_special_chars(colnames(data)), collapse = \" & \"), \" \\\\\\\\\\n\", file = file, append = TRUE)\n",
                "  cat(\"\\\\hline\\n\", file = file, append = TRUE)\n",
                "\n",
                "  # Print rows with escaped special characters\n",
                "  for (i in 1:nrow(data)) {\n",
                "    cat(paste0(escape_latex_special_chars(as.character(data[i, ])), collapse = \" & \"), \" \\\\\\\\\\n\", file = file, append = TRUE)\n",
                "  }\n",
                "\n",
                "  cat(\"\\\\hline\\n\", file = file, append = TRUE)\n",
                "  cat(\"\\\\end{tabular}\", file = file, append = TRUE)\n",
                "}\n"
            ]
        },
        {
            "cell_type": "code",
            "execution_count": null,
            "id": "1ce437c5-d292-4f29-a192-498d8c4dc94d",
            "metadata": {
                "tags": [],
                "vscode": {
                    "languageId": "r"
                }
            },
            "outputs": [],
            "source": [
                "if (length(find.package(\"tikzDevice\", quiet = TRUE))) {\n",
                "    library(tikzDevice)\n",
                "    options(tikzDefaultEngine = \"xetex\")\n",
                "    options(\n",
                "        tikzSanitizeCharacters = c(\"%\", \"&\", \"#\", \"\\\\$\", \"\\\\{\", \"\\\\}\", \"\\\\^\", \"\\\\~\", \"ƒ\"),\n",
                "        tikzReplacementCharacters = c(\"\\\\%\", \"\\\\&\", \"\\\\#\", \"\\\\\\\\$\", \"\\\\\\\\{\", \"\\\\\\\\}\", \"\\\\\\\\^\", \"\\\\\\\\~\", \"$f$\")\n",
                "    )\n",
                "    options(tikzXelatexPackages = c(\n",
                "        \"\\\\usepackage{tikz}\\n\",\n",
                "        \"\\\\usepackage[active,tightpage,xetex]{preview}\\n\",\n",
                "        \"\\\\usepackage{fontspec,xunicode}\\n\",\n",
                "        \"\\\\PreviewEnvironment{pgfpicture}\\n\",\n",
                "        \"\\\\setlength\\\\PreviewBorder{0pt}\\n\",\n",
                "        \"\\\\newcommand{\\\\dash}{-}\\n\"\n",
                "    ))\n",
                "    options(\n",
                "        tikzMetricPackages = c(\n",
                "        \"\\\\usepackage[T1]{fontenc}\\n\",\n",
                "        \"\\\\usetikzlibrary{calc}\\n\"\n",
                "        ),\n",
                "        tikzUnicodeMetricPackages = c(\n",
                "        \"\\\\usepackage[T1]{fontenc}\\n\",\n",
                "        \"\\\\usetikzlibrary{calc}\\n\",\n",
                "        \"\\\\usepackage{fontspec,xunicode}\\n\"\n",
                "        )\n",
                "        )\n",
                "    # options(tikzMetricPackages = c(\"\\\\usepackage{preview}\", \"\\\\usepackage{pgf}\", \"\\\\usepackage{xcolor}\"))\n",
                "\n",
                "    tikzDevice::tikzTest()\n",
                "\n",
                "    column_width = 7\n",
                "\n",
                "    export_graph <- function(name, plot, width, height, caption) {\n",
                "        tikzDevice::tikz(name, width = width, height = height, standAlone = FALSE, sanitize = TRUE) # , standAlone = TRUE)\n",
                "        print(plot)\n",
                "        dev.off()\n",
                "\n",
                "        # read the existing content of the file\n",
                "        existing_content <- readLines(name)\n",
                "\n",
                "        tex_width = 1\n",
                "        if (width > GRAPH_ONE_COLUMN_WIDTH) {\n",
                "           tex_width = 2\n",
                "        }\n",
                "\n",
                "        new_content <- c( \n",
                "            sprintf(\"\\\\newcommand{\\\\dash}{-}\\n\\\\resizebox{%s\\\\columnwidth}{!}{\", tex_width),\n",
                "            existing_content,\n",
                "            \"}\",\n",
                "            sprintf(\"\\\\caption{%s}\", caption)\n",
                "            )\n",
                "\n",
                "        # write the new content to the file\n",
                "        writeLines(new_content, name)\n",
                "\n",
                "        fig(width, height)\n",
                "        print(plot + labs (title = caption))\n",
                "\n",
                "    }\n",
                "\n",
                "\n",
                "    # tikzDevice::tikz(\"./nodes.tex\", width = 15, height = 5, standAlone = FALSE, sanitize = TRUE) # , standAlone = TRUE)\n",
                "    # plot(net_connected, layout = coords, asp = 0.22, margin = -0, edge.label = E(net_connected)$weight, edge.width = 1, vertex.size = 5, vertex.label.cex = 1, vertex.dist = 20, edge.arrow.size = 0.5, edge.label.cex = 0.8, edge.label.dist = 1.5)\n",
                "    # dev.off()\n",
                "\n",
                "    export_graph(\"./jain.tex\", plots.jains, plots.jains.w, plots.jains.h, plots.jains.caption)\n",
                "    export_graph(\"./nb_deployed.tex\", plots.nb_deployed, plots.nb_deployed.w, plots.nb_deployed.h, plots.nb_deployed.caption)\n",
                "    export_graph(\"./respected_sla.tex\", plots.respected_sla, plots.respected_sla.w, plots.respected_sla.h, plots.respected_sla.caption)\n",
                "    # export_graph(\"./skew.tex\", plots.skew, plots.skew.w, plots.skew.h, plots.skew.caption)\n",
                "    export_graph(\"./spending.tex\", plots.spending, plots.spending.w, plots.spending.h, plots.spending.caption)\n",
                "    export_graph(\"./deploymenttimes.tex\", plots.deploymenttimes, plots.deploymenttimes.w, plots.deploymenttimes.h, plots.deploymenttimes.caption)\n",
                "\n",
                "    # output_file <- \"nb_experiences_per_categories.tex\"\n",
                "    # tibble_to_latex_tabular(nb_experiences_per_categories, output_file)\n",
                "}\n",
                "\n"
            ]
        }
    ],
    "metadata": {
        "jupytext": {
            "cell_metadata_filter": "-all",
            "main_language": "R",
            "notebook_metadata_filter": "-all"
        },
        "kernelspec": {
            "display_name": "giraff",
            "language": "r",
            "name": "giraff"
        },
        "language_info": {
            "codemirror_mode": "r",
            "file_extension": ".r",
            "mimetype": "text/x-r-source",
            "name": "R",
            "pygments_lexer": "r",
            "version": "4.2.2"
        }
    },
    "nbformat": 4,
    "nbformat_minor": 5
}
